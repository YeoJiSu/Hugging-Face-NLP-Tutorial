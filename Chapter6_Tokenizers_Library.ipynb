{
  "nbformat": 4,
  "nbformat_minor": 0,
  "metadata": {
    "colab": {
      "provenance": [],
      "collapsed_sections": [
        "zg6zpDJfJvBA",
        "2hbvQFUhJ9M0",
        "ciITf1lXJx08",
        "gfT-vRg9b20c",
        "rI1EWyl8covi",
        "ItTPZjU_ZLo5",
        "LMbeJcmJZNWB",
        "fn_s378UZQI6",
        "8WH67EjMZS1X",
        "MnxPVETwptK6",
        "XBe-y6PlpvsJ"
      ]
    },
    "kernelspec": {
      "name": "python3",
      "display_name": "Python 3"
    },
    "language_info": {
      "name": "python"
    },
    "widgets": {
      "application/vnd.jupyter.widget-state+json": {
        "383e33e5719b46fdb0fdbf60f1b0b1de": {
          "model_module": "@jupyter-widgets/controls",
          "model_name": "HBoxModel",
          "model_module_version": "1.5.0",
          "state": {
            "_dom_classes": [],
            "_model_module": "@jupyter-widgets/controls",
            "_model_module_version": "1.5.0",
            "_model_name": "HBoxModel",
            "_view_count": null,
            "_view_module": "@jupyter-widgets/controls",
            "_view_module_version": "1.5.0",
            "_view_name": "HBoxView",
            "box_style": "",
            "children": [
              "IPY_MODEL_4ffcb42207d7481f93ba77045e9d8a6d",
              "IPY_MODEL_2b0da82c17744b97a9ccd075f7b25125",
              "IPY_MODEL_c6e09252b2ea465d852882ada8787abb"
            ],
            "layout": "IPY_MODEL_17b43e30ed934b379607ea0b78167582"
          }
        },
        "4ffcb42207d7481f93ba77045e9d8a6d": {
          "model_module": "@jupyter-widgets/controls",
          "model_name": "HTMLModel",
          "model_module_version": "1.5.0",
          "state": {
            "_dom_classes": [],
            "_model_module": "@jupyter-widgets/controls",
            "_model_module_version": "1.5.0",
            "_model_name": "HTMLModel",
            "_view_count": null,
            "_view_module": "@jupyter-widgets/controls",
            "_view_module_version": "1.5.0",
            "_view_name": "HTMLView",
            "description": "",
            "description_tooltip": null,
            "layout": "IPY_MODEL_2dbad8c018444cdabc01ad38715fddf5",
            "placeholder": "​",
            "style": "IPY_MODEL_a00a6db8b3da4b6a942c0745e44bddc4",
            "value": "tokenizer_config.json: 100%"
          }
        },
        "2b0da82c17744b97a9ccd075f7b25125": {
          "model_module": "@jupyter-widgets/controls",
          "model_name": "FloatProgressModel",
          "model_module_version": "1.5.0",
          "state": {
            "_dom_classes": [],
            "_model_module": "@jupyter-widgets/controls",
            "_model_module_version": "1.5.0",
            "_model_name": "FloatProgressModel",
            "_view_count": null,
            "_view_module": "@jupyter-widgets/controls",
            "_view_module_version": "1.5.0",
            "_view_name": "ProgressView",
            "bar_style": "success",
            "description": "",
            "description_tooltip": null,
            "layout": "IPY_MODEL_c0e7de52882e425fae9aa8340fdd85a2",
            "max": 28,
            "min": 0,
            "orientation": "horizontal",
            "style": "IPY_MODEL_6cb541e978264cc7a90a9595ac65ca01",
            "value": 28
          }
        },
        "c6e09252b2ea465d852882ada8787abb": {
          "model_module": "@jupyter-widgets/controls",
          "model_name": "HTMLModel",
          "model_module_version": "1.5.0",
          "state": {
            "_dom_classes": [],
            "_model_module": "@jupyter-widgets/controls",
            "_model_module_version": "1.5.0",
            "_model_name": "HTMLModel",
            "_view_count": null,
            "_view_module": "@jupyter-widgets/controls",
            "_view_module_version": "1.5.0",
            "_view_name": "HTMLView",
            "description": "",
            "description_tooltip": null,
            "layout": "IPY_MODEL_207627692bc04a04baebe0451d9c08b8",
            "placeholder": "​",
            "style": "IPY_MODEL_80ea506cfcd34c60bf338de556df78eb",
            "value": " 28.0/28.0 [00:00&lt;00:00, 551B/s]"
          }
        },
        "17b43e30ed934b379607ea0b78167582": {
          "model_module": "@jupyter-widgets/base",
          "model_name": "LayoutModel",
          "model_module_version": "1.2.0",
          "state": {
            "_model_module": "@jupyter-widgets/base",
            "_model_module_version": "1.2.0",
            "_model_name": "LayoutModel",
            "_view_count": null,
            "_view_module": "@jupyter-widgets/base",
            "_view_module_version": "1.2.0",
            "_view_name": "LayoutView",
            "align_content": null,
            "align_items": null,
            "align_self": null,
            "border": null,
            "bottom": null,
            "display": null,
            "flex": null,
            "flex_flow": null,
            "grid_area": null,
            "grid_auto_columns": null,
            "grid_auto_flow": null,
            "grid_auto_rows": null,
            "grid_column": null,
            "grid_gap": null,
            "grid_row": null,
            "grid_template_areas": null,
            "grid_template_columns": null,
            "grid_template_rows": null,
            "height": null,
            "justify_content": null,
            "justify_items": null,
            "left": null,
            "margin": null,
            "max_height": null,
            "max_width": null,
            "min_height": null,
            "min_width": null,
            "object_fit": null,
            "object_position": null,
            "order": null,
            "overflow": null,
            "overflow_x": null,
            "overflow_y": null,
            "padding": null,
            "right": null,
            "top": null,
            "visibility": null,
            "width": null
          }
        },
        "2dbad8c018444cdabc01ad38715fddf5": {
          "model_module": "@jupyter-widgets/base",
          "model_name": "LayoutModel",
          "model_module_version": "1.2.0",
          "state": {
            "_model_module": "@jupyter-widgets/base",
            "_model_module_version": "1.2.0",
            "_model_name": "LayoutModel",
            "_view_count": null,
            "_view_module": "@jupyter-widgets/base",
            "_view_module_version": "1.2.0",
            "_view_name": "LayoutView",
            "align_content": null,
            "align_items": null,
            "align_self": null,
            "border": null,
            "bottom": null,
            "display": null,
            "flex": null,
            "flex_flow": null,
            "grid_area": null,
            "grid_auto_columns": null,
            "grid_auto_flow": null,
            "grid_auto_rows": null,
            "grid_column": null,
            "grid_gap": null,
            "grid_row": null,
            "grid_template_areas": null,
            "grid_template_columns": null,
            "grid_template_rows": null,
            "height": null,
            "justify_content": null,
            "justify_items": null,
            "left": null,
            "margin": null,
            "max_height": null,
            "max_width": null,
            "min_height": null,
            "min_width": null,
            "object_fit": null,
            "object_position": null,
            "order": null,
            "overflow": null,
            "overflow_x": null,
            "overflow_y": null,
            "padding": null,
            "right": null,
            "top": null,
            "visibility": null,
            "width": null
          }
        },
        "a00a6db8b3da4b6a942c0745e44bddc4": {
          "model_module": "@jupyter-widgets/controls",
          "model_name": "DescriptionStyleModel",
          "model_module_version": "1.5.0",
          "state": {
            "_model_module": "@jupyter-widgets/controls",
            "_model_module_version": "1.5.0",
            "_model_name": "DescriptionStyleModel",
            "_view_count": null,
            "_view_module": "@jupyter-widgets/base",
            "_view_module_version": "1.2.0",
            "_view_name": "StyleView",
            "description_width": ""
          }
        },
        "c0e7de52882e425fae9aa8340fdd85a2": {
          "model_module": "@jupyter-widgets/base",
          "model_name": "LayoutModel",
          "model_module_version": "1.2.0",
          "state": {
            "_model_module": "@jupyter-widgets/base",
            "_model_module_version": "1.2.0",
            "_model_name": "LayoutModel",
            "_view_count": null,
            "_view_module": "@jupyter-widgets/base",
            "_view_module_version": "1.2.0",
            "_view_name": "LayoutView",
            "align_content": null,
            "align_items": null,
            "align_self": null,
            "border": null,
            "bottom": null,
            "display": null,
            "flex": null,
            "flex_flow": null,
            "grid_area": null,
            "grid_auto_columns": null,
            "grid_auto_flow": null,
            "grid_auto_rows": null,
            "grid_column": null,
            "grid_gap": null,
            "grid_row": null,
            "grid_template_areas": null,
            "grid_template_columns": null,
            "grid_template_rows": null,
            "height": null,
            "justify_content": null,
            "justify_items": null,
            "left": null,
            "margin": null,
            "max_height": null,
            "max_width": null,
            "min_height": null,
            "min_width": null,
            "object_fit": null,
            "object_position": null,
            "order": null,
            "overflow": null,
            "overflow_x": null,
            "overflow_y": null,
            "padding": null,
            "right": null,
            "top": null,
            "visibility": null,
            "width": null
          }
        },
        "6cb541e978264cc7a90a9595ac65ca01": {
          "model_module": "@jupyter-widgets/controls",
          "model_name": "ProgressStyleModel",
          "model_module_version": "1.5.0",
          "state": {
            "_model_module": "@jupyter-widgets/controls",
            "_model_module_version": "1.5.0",
            "_model_name": "ProgressStyleModel",
            "_view_count": null,
            "_view_module": "@jupyter-widgets/base",
            "_view_module_version": "1.2.0",
            "_view_name": "StyleView",
            "bar_color": null,
            "description_width": ""
          }
        },
        "207627692bc04a04baebe0451d9c08b8": {
          "model_module": "@jupyter-widgets/base",
          "model_name": "LayoutModel",
          "model_module_version": "1.2.0",
          "state": {
            "_model_module": "@jupyter-widgets/base",
            "_model_module_version": "1.2.0",
            "_model_name": "LayoutModel",
            "_view_count": null,
            "_view_module": "@jupyter-widgets/base",
            "_view_module_version": "1.2.0",
            "_view_name": "LayoutView",
            "align_content": null,
            "align_items": null,
            "align_self": null,
            "border": null,
            "bottom": null,
            "display": null,
            "flex": null,
            "flex_flow": null,
            "grid_area": null,
            "grid_auto_columns": null,
            "grid_auto_flow": null,
            "grid_auto_rows": null,
            "grid_column": null,
            "grid_gap": null,
            "grid_row": null,
            "grid_template_areas": null,
            "grid_template_columns": null,
            "grid_template_rows": null,
            "height": null,
            "justify_content": null,
            "justify_items": null,
            "left": null,
            "margin": null,
            "max_height": null,
            "max_width": null,
            "min_height": null,
            "min_width": null,
            "object_fit": null,
            "object_position": null,
            "order": null,
            "overflow": null,
            "overflow_x": null,
            "overflow_y": null,
            "padding": null,
            "right": null,
            "top": null,
            "visibility": null,
            "width": null
          }
        },
        "80ea506cfcd34c60bf338de556df78eb": {
          "model_module": "@jupyter-widgets/controls",
          "model_name": "DescriptionStyleModel",
          "model_module_version": "1.5.0",
          "state": {
            "_model_module": "@jupyter-widgets/controls",
            "_model_module_version": "1.5.0",
            "_model_name": "DescriptionStyleModel",
            "_view_count": null,
            "_view_module": "@jupyter-widgets/base",
            "_view_module_version": "1.2.0",
            "_view_name": "StyleView",
            "description_width": ""
          }
        },
        "266508f3596b4904923208cad6b74ed9": {
          "model_module": "@jupyter-widgets/controls",
          "model_name": "HBoxModel",
          "model_module_version": "1.5.0",
          "state": {
            "_dom_classes": [],
            "_model_module": "@jupyter-widgets/controls",
            "_model_module_version": "1.5.0",
            "_model_name": "HBoxModel",
            "_view_count": null,
            "_view_module": "@jupyter-widgets/controls",
            "_view_module_version": "1.5.0",
            "_view_name": "HBoxView",
            "box_style": "",
            "children": [
              "IPY_MODEL_683091e21065472ca9a73d7ea9bebd29",
              "IPY_MODEL_e0b8d57fa0614eb8b4d7db2665be64a5",
              "IPY_MODEL_343e57c5ebfc490b9af01c5244c5247f"
            ],
            "layout": "IPY_MODEL_8a59d7f9e0fa4d0b93d6a2d7ae9f5096"
          }
        },
        "683091e21065472ca9a73d7ea9bebd29": {
          "model_module": "@jupyter-widgets/controls",
          "model_name": "HTMLModel",
          "model_module_version": "1.5.0",
          "state": {
            "_dom_classes": [],
            "_model_module": "@jupyter-widgets/controls",
            "_model_module_version": "1.5.0",
            "_model_name": "HTMLModel",
            "_view_count": null,
            "_view_module": "@jupyter-widgets/controls",
            "_view_module_version": "1.5.0",
            "_view_name": "HTMLView",
            "description": "",
            "description_tooltip": null,
            "layout": "IPY_MODEL_763d5b7c8879431381ead2cfcd2acf75",
            "placeholder": "​",
            "style": "IPY_MODEL_2b724a9b37b04d46b94fa7dcfe030b88",
            "value": "config.json: 100%"
          }
        },
        "e0b8d57fa0614eb8b4d7db2665be64a5": {
          "model_module": "@jupyter-widgets/controls",
          "model_name": "FloatProgressModel",
          "model_module_version": "1.5.0",
          "state": {
            "_dom_classes": [],
            "_model_module": "@jupyter-widgets/controls",
            "_model_module_version": "1.5.0",
            "_model_name": "FloatProgressModel",
            "_view_count": null,
            "_view_module": "@jupyter-widgets/controls",
            "_view_module_version": "1.5.0",
            "_view_name": "ProgressView",
            "bar_style": "success",
            "description": "",
            "description_tooltip": null,
            "layout": "IPY_MODEL_a3862160642a4bfda8d1d45cd4ea8161",
            "max": 570,
            "min": 0,
            "orientation": "horizontal",
            "style": "IPY_MODEL_0f9730e687874464808e914592a1ac90",
            "value": 570
          }
        },
        "343e57c5ebfc490b9af01c5244c5247f": {
          "model_module": "@jupyter-widgets/controls",
          "model_name": "HTMLModel",
          "model_module_version": "1.5.0",
          "state": {
            "_dom_classes": [],
            "_model_module": "@jupyter-widgets/controls",
            "_model_module_version": "1.5.0",
            "_model_name": "HTMLModel",
            "_view_count": null,
            "_view_module": "@jupyter-widgets/controls",
            "_view_module_version": "1.5.0",
            "_view_name": "HTMLView",
            "description": "",
            "description_tooltip": null,
            "layout": "IPY_MODEL_2c20bc3f1b86421a80f383917b0b0584",
            "placeholder": "​",
            "style": "IPY_MODEL_fabf3d95c99e4e909e4a452625ac3d11",
            "value": " 570/570 [00:00&lt;00:00, 12.7kB/s]"
          }
        },
        "8a59d7f9e0fa4d0b93d6a2d7ae9f5096": {
          "model_module": "@jupyter-widgets/base",
          "model_name": "LayoutModel",
          "model_module_version": "1.2.0",
          "state": {
            "_model_module": "@jupyter-widgets/base",
            "_model_module_version": "1.2.0",
            "_model_name": "LayoutModel",
            "_view_count": null,
            "_view_module": "@jupyter-widgets/base",
            "_view_module_version": "1.2.0",
            "_view_name": "LayoutView",
            "align_content": null,
            "align_items": null,
            "align_self": null,
            "border": null,
            "bottom": null,
            "display": null,
            "flex": null,
            "flex_flow": null,
            "grid_area": null,
            "grid_auto_columns": null,
            "grid_auto_flow": null,
            "grid_auto_rows": null,
            "grid_column": null,
            "grid_gap": null,
            "grid_row": null,
            "grid_template_areas": null,
            "grid_template_columns": null,
            "grid_template_rows": null,
            "height": null,
            "justify_content": null,
            "justify_items": null,
            "left": null,
            "margin": null,
            "max_height": null,
            "max_width": null,
            "min_height": null,
            "min_width": null,
            "object_fit": null,
            "object_position": null,
            "order": null,
            "overflow": null,
            "overflow_x": null,
            "overflow_y": null,
            "padding": null,
            "right": null,
            "top": null,
            "visibility": null,
            "width": null
          }
        },
        "763d5b7c8879431381ead2cfcd2acf75": {
          "model_module": "@jupyter-widgets/base",
          "model_name": "LayoutModel",
          "model_module_version": "1.2.0",
          "state": {
            "_model_module": "@jupyter-widgets/base",
            "_model_module_version": "1.2.0",
            "_model_name": "LayoutModel",
            "_view_count": null,
            "_view_module": "@jupyter-widgets/base",
            "_view_module_version": "1.2.0",
            "_view_name": "LayoutView",
            "align_content": null,
            "align_items": null,
            "align_self": null,
            "border": null,
            "bottom": null,
            "display": null,
            "flex": null,
            "flex_flow": null,
            "grid_area": null,
            "grid_auto_columns": null,
            "grid_auto_flow": null,
            "grid_auto_rows": null,
            "grid_column": null,
            "grid_gap": null,
            "grid_row": null,
            "grid_template_areas": null,
            "grid_template_columns": null,
            "grid_template_rows": null,
            "height": null,
            "justify_content": null,
            "justify_items": null,
            "left": null,
            "margin": null,
            "max_height": null,
            "max_width": null,
            "min_height": null,
            "min_width": null,
            "object_fit": null,
            "object_position": null,
            "order": null,
            "overflow": null,
            "overflow_x": null,
            "overflow_y": null,
            "padding": null,
            "right": null,
            "top": null,
            "visibility": null,
            "width": null
          }
        },
        "2b724a9b37b04d46b94fa7dcfe030b88": {
          "model_module": "@jupyter-widgets/controls",
          "model_name": "DescriptionStyleModel",
          "model_module_version": "1.5.0",
          "state": {
            "_model_module": "@jupyter-widgets/controls",
            "_model_module_version": "1.5.0",
            "_model_name": "DescriptionStyleModel",
            "_view_count": null,
            "_view_module": "@jupyter-widgets/base",
            "_view_module_version": "1.2.0",
            "_view_name": "StyleView",
            "description_width": ""
          }
        },
        "a3862160642a4bfda8d1d45cd4ea8161": {
          "model_module": "@jupyter-widgets/base",
          "model_name": "LayoutModel",
          "model_module_version": "1.2.0",
          "state": {
            "_model_module": "@jupyter-widgets/base",
            "_model_module_version": "1.2.0",
            "_model_name": "LayoutModel",
            "_view_count": null,
            "_view_module": "@jupyter-widgets/base",
            "_view_module_version": "1.2.0",
            "_view_name": "LayoutView",
            "align_content": null,
            "align_items": null,
            "align_self": null,
            "border": null,
            "bottom": null,
            "display": null,
            "flex": null,
            "flex_flow": null,
            "grid_area": null,
            "grid_auto_columns": null,
            "grid_auto_flow": null,
            "grid_auto_rows": null,
            "grid_column": null,
            "grid_gap": null,
            "grid_row": null,
            "grid_template_areas": null,
            "grid_template_columns": null,
            "grid_template_rows": null,
            "height": null,
            "justify_content": null,
            "justify_items": null,
            "left": null,
            "margin": null,
            "max_height": null,
            "max_width": null,
            "min_height": null,
            "min_width": null,
            "object_fit": null,
            "object_position": null,
            "order": null,
            "overflow": null,
            "overflow_x": null,
            "overflow_y": null,
            "padding": null,
            "right": null,
            "top": null,
            "visibility": null,
            "width": null
          }
        },
        "0f9730e687874464808e914592a1ac90": {
          "model_module": "@jupyter-widgets/controls",
          "model_name": "ProgressStyleModel",
          "model_module_version": "1.5.0",
          "state": {
            "_model_module": "@jupyter-widgets/controls",
            "_model_module_version": "1.5.0",
            "_model_name": "ProgressStyleModel",
            "_view_count": null,
            "_view_module": "@jupyter-widgets/base",
            "_view_module_version": "1.2.0",
            "_view_name": "StyleView",
            "bar_color": null,
            "description_width": ""
          }
        },
        "2c20bc3f1b86421a80f383917b0b0584": {
          "model_module": "@jupyter-widgets/base",
          "model_name": "LayoutModel",
          "model_module_version": "1.2.0",
          "state": {
            "_model_module": "@jupyter-widgets/base",
            "_model_module_version": "1.2.0",
            "_model_name": "LayoutModel",
            "_view_count": null,
            "_view_module": "@jupyter-widgets/base",
            "_view_module_version": "1.2.0",
            "_view_name": "LayoutView",
            "align_content": null,
            "align_items": null,
            "align_self": null,
            "border": null,
            "bottom": null,
            "display": null,
            "flex": null,
            "flex_flow": null,
            "grid_area": null,
            "grid_auto_columns": null,
            "grid_auto_flow": null,
            "grid_auto_rows": null,
            "grid_column": null,
            "grid_gap": null,
            "grid_row": null,
            "grid_template_areas": null,
            "grid_template_columns": null,
            "grid_template_rows": null,
            "height": null,
            "justify_content": null,
            "justify_items": null,
            "left": null,
            "margin": null,
            "max_height": null,
            "max_width": null,
            "min_height": null,
            "min_width": null,
            "object_fit": null,
            "object_position": null,
            "order": null,
            "overflow": null,
            "overflow_x": null,
            "overflow_y": null,
            "padding": null,
            "right": null,
            "top": null,
            "visibility": null,
            "width": null
          }
        },
        "fabf3d95c99e4e909e4a452625ac3d11": {
          "model_module": "@jupyter-widgets/controls",
          "model_name": "DescriptionStyleModel",
          "model_module_version": "1.5.0",
          "state": {
            "_model_module": "@jupyter-widgets/controls",
            "_model_module_version": "1.5.0",
            "_model_name": "DescriptionStyleModel",
            "_view_count": null,
            "_view_module": "@jupyter-widgets/base",
            "_view_module_version": "1.2.0",
            "_view_name": "StyleView",
            "description_width": ""
          }
        },
        "9c7792e12af84856900295253402e0c8": {
          "model_module": "@jupyter-widgets/controls",
          "model_name": "HBoxModel",
          "model_module_version": "1.5.0",
          "state": {
            "_dom_classes": [],
            "_model_module": "@jupyter-widgets/controls",
            "_model_module_version": "1.5.0",
            "_model_name": "HBoxModel",
            "_view_count": null,
            "_view_module": "@jupyter-widgets/controls",
            "_view_module_version": "1.5.0",
            "_view_name": "HBoxView",
            "box_style": "",
            "children": [
              "IPY_MODEL_b65aed28be084488971aea346815f0e5",
              "IPY_MODEL_7cbe374250704bc6b808eb82bd55fae1",
              "IPY_MODEL_cfcc67195ee44960b761cf56f26c1a52"
            ],
            "layout": "IPY_MODEL_e6fa7df923c5487b8fd16197a0ce0865"
          }
        },
        "b65aed28be084488971aea346815f0e5": {
          "model_module": "@jupyter-widgets/controls",
          "model_name": "HTMLModel",
          "model_module_version": "1.5.0",
          "state": {
            "_dom_classes": [],
            "_model_module": "@jupyter-widgets/controls",
            "_model_module_version": "1.5.0",
            "_model_name": "HTMLModel",
            "_view_count": null,
            "_view_module": "@jupyter-widgets/controls",
            "_view_module_version": "1.5.0",
            "_view_name": "HTMLView",
            "description": "",
            "description_tooltip": null,
            "layout": "IPY_MODEL_5e1c08a79f734584b0112a83122dbd9e",
            "placeholder": "​",
            "style": "IPY_MODEL_6ba2cccc0574410ba54fcabb61591d62",
            "value": "vocab.txt: 100%"
          }
        },
        "7cbe374250704bc6b808eb82bd55fae1": {
          "model_module": "@jupyter-widgets/controls",
          "model_name": "FloatProgressModel",
          "model_module_version": "1.5.0",
          "state": {
            "_dom_classes": [],
            "_model_module": "@jupyter-widgets/controls",
            "_model_module_version": "1.5.0",
            "_model_name": "FloatProgressModel",
            "_view_count": null,
            "_view_module": "@jupyter-widgets/controls",
            "_view_module_version": "1.5.0",
            "_view_name": "ProgressView",
            "bar_style": "success",
            "description": "",
            "description_tooltip": null,
            "layout": "IPY_MODEL_4a728de84efe442e8a8e0e8babfd1a38",
            "max": 231508,
            "min": 0,
            "orientation": "horizontal",
            "style": "IPY_MODEL_57c1f1fd2c0e45a5b45e0938442a3b39",
            "value": 231508
          }
        },
        "cfcc67195ee44960b761cf56f26c1a52": {
          "model_module": "@jupyter-widgets/controls",
          "model_name": "HTMLModel",
          "model_module_version": "1.5.0",
          "state": {
            "_dom_classes": [],
            "_model_module": "@jupyter-widgets/controls",
            "_model_module_version": "1.5.0",
            "_model_name": "HTMLModel",
            "_view_count": null,
            "_view_module": "@jupyter-widgets/controls",
            "_view_module_version": "1.5.0",
            "_view_name": "HTMLView",
            "description": "",
            "description_tooltip": null,
            "layout": "IPY_MODEL_0d562bb14b934888800f5cc0b1776749",
            "placeholder": "​",
            "style": "IPY_MODEL_4bf3984ea38942ee9e0f6dc9cfea84b8",
            "value": " 232k/232k [00:00&lt;00:00, 2.48MB/s]"
          }
        },
        "e6fa7df923c5487b8fd16197a0ce0865": {
          "model_module": "@jupyter-widgets/base",
          "model_name": "LayoutModel",
          "model_module_version": "1.2.0",
          "state": {
            "_model_module": "@jupyter-widgets/base",
            "_model_module_version": "1.2.0",
            "_model_name": "LayoutModel",
            "_view_count": null,
            "_view_module": "@jupyter-widgets/base",
            "_view_module_version": "1.2.0",
            "_view_name": "LayoutView",
            "align_content": null,
            "align_items": null,
            "align_self": null,
            "border": null,
            "bottom": null,
            "display": null,
            "flex": null,
            "flex_flow": null,
            "grid_area": null,
            "grid_auto_columns": null,
            "grid_auto_flow": null,
            "grid_auto_rows": null,
            "grid_column": null,
            "grid_gap": null,
            "grid_row": null,
            "grid_template_areas": null,
            "grid_template_columns": null,
            "grid_template_rows": null,
            "height": null,
            "justify_content": null,
            "justify_items": null,
            "left": null,
            "margin": null,
            "max_height": null,
            "max_width": null,
            "min_height": null,
            "min_width": null,
            "object_fit": null,
            "object_position": null,
            "order": null,
            "overflow": null,
            "overflow_x": null,
            "overflow_y": null,
            "padding": null,
            "right": null,
            "top": null,
            "visibility": null,
            "width": null
          }
        },
        "5e1c08a79f734584b0112a83122dbd9e": {
          "model_module": "@jupyter-widgets/base",
          "model_name": "LayoutModel",
          "model_module_version": "1.2.0",
          "state": {
            "_model_module": "@jupyter-widgets/base",
            "_model_module_version": "1.2.0",
            "_model_name": "LayoutModel",
            "_view_count": null,
            "_view_module": "@jupyter-widgets/base",
            "_view_module_version": "1.2.0",
            "_view_name": "LayoutView",
            "align_content": null,
            "align_items": null,
            "align_self": null,
            "border": null,
            "bottom": null,
            "display": null,
            "flex": null,
            "flex_flow": null,
            "grid_area": null,
            "grid_auto_columns": null,
            "grid_auto_flow": null,
            "grid_auto_rows": null,
            "grid_column": null,
            "grid_gap": null,
            "grid_row": null,
            "grid_template_areas": null,
            "grid_template_columns": null,
            "grid_template_rows": null,
            "height": null,
            "justify_content": null,
            "justify_items": null,
            "left": null,
            "margin": null,
            "max_height": null,
            "max_width": null,
            "min_height": null,
            "min_width": null,
            "object_fit": null,
            "object_position": null,
            "order": null,
            "overflow": null,
            "overflow_x": null,
            "overflow_y": null,
            "padding": null,
            "right": null,
            "top": null,
            "visibility": null,
            "width": null
          }
        },
        "6ba2cccc0574410ba54fcabb61591d62": {
          "model_module": "@jupyter-widgets/controls",
          "model_name": "DescriptionStyleModel",
          "model_module_version": "1.5.0",
          "state": {
            "_model_module": "@jupyter-widgets/controls",
            "_model_module_version": "1.5.0",
            "_model_name": "DescriptionStyleModel",
            "_view_count": null,
            "_view_module": "@jupyter-widgets/base",
            "_view_module_version": "1.2.0",
            "_view_name": "StyleView",
            "description_width": ""
          }
        },
        "4a728de84efe442e8a8e0e8babfd1a38": {
          "model_module": "@jupyter-widgets/base",
          "model_name": "LayoutModel",
          "model_module_version": "1.2.0",
          "state": {
            "_model_module": "@jupyter-widgets/base",
            "_model_module_version": "1.2.0",
            "_model_name": "LayoutModel",
            "_view_count": null,
            "_view_module": "@jupyter-widgets/base",
            "_view_module_version": "1.2.0",
            "_view_name": "LayoutView",
            "align_content": null,
            "align_items": null,
            "align_self": null,
            "border": null,
            "bottom": null,
            "display": null,
            "flex": null,
            "flex_flow": null,
            "grid_area": null,
            "grid_auto_columns": null,
            "grid_auto_flow": null,
            "grid_auto_rows": null,
            "grid_column": null,
            "grid_gap": null,
            "grid_row": null,
            "grid_template_areas": null,
            "grid_template_columns": null,
            "grid_template_rows": null,
            "height": null,
            "justify_content": null,
            "justify_items": null,
            "left": null,
            "margin": null,
            "max_height": null,
            "max_width": null,
            "min_height": null,
            "min_width": null,
            "object_fit": null,
            "object_position": null,
            "order": null,
            "overflow": null,
            "overflow_x": null,
            "overflow_y": null,
            "padding": null,
            "right": null,
            "top": null,
            "visibility": null,
            "width": null
          }
        },
        "57c1f1fd2c0e45a5b45e0938442a3b39": {
          "model_module": "@jupyter-widgets/controls",
          "model_name": "ProgressStyleModel",
          "model_module_version": "1.5.0",
          "state": {
            "_model_module": "@jupyter-widgets/controls",
            "_model_module_version": "1.5.0",
            "_model_name": "ProgressStyleModel",
            "_view_count": null,
            "_view_module": "@jupyter-widgets/base",
            "_view_module_version": "1.2.0",
            "_view_name": "StyleView",
            "bar_color": null,
            "description_width": ""
          }
        },
        "0d562bb14b934888800f5cc0b1776749": {
          "model_module": "@jupyter-widgets/base",
          "model_name": "LayoutModel",
          "model_module_version": "1.2.0",
          "state": {
            "_model_module": "@jupyter-widgets/base",
            "_model_module_version": "1.2.0",
            "_model_name": "LayoutModel",
            "_view_count": null,
            "_view_module": "@jupyter-widgets/base",
            "_view_module_version": "1.2.0",
            "_view_name": "LayoutView",
            "align_content": null,
            "align_items": null,
            "align_self": null,
            "border": null,
            "bottom": null,
            "display": null,
            "flex": null,
            "flex_flow": null,
            "grid_area": null,
            "grid_auto_columns": null,
            "grid_auto_flow": null,
            "grid_auto_rows": null,
            "grid_column": null,
            "grid_gap": null,
            "grid_row": null,
            "grid_template_areas": null,
            "grid_template_columns": null,
            "grid_template_rows": null,
            "height": null,
            "justify_content": null,
            "justify_items": null,
            "left": null,
            "margin": null,
            "max_height": null,
            "max_width": null,
            "min_height": null,
            "min_width": null,
            "object_fit": null,
            "object_position": null,
            "order": null,
            "overflow": null,
            "overflow_x": null,
            "overflow_y": null,
            "padding": null,
            "right": null,
            "top": null,
            "visibility": null,
            "width": null
          }
        },
        "4bf3984ea38942ee9e0f6dc9cfea84b8": {
          "model_module": "@jupyter-widgets/controls",
          "model_name": "DescriptionStyleModel",
          "model_module_version": "1.5.0",
          "state": {
            "_model_module": "@jupyter-widgets/controls",
            "_model_module_version": "1.5.0",
            "_model_name": "DescriptionStyleModel",
            "_view_count": null,
            "_view_module": "@jupyter-widgets/base",
            "_view_module_version": "1.2.0",
            "_view_name": "StyleView",
            "description_width": ""
          }
        },
        "e48a82f5b63c4ab9be284965f4dd6a50": {
          "model_module": "@jupyter-widgets/controls",
          "model_name": "HBoxModel",
          "model_module_version": "1.5.0",
          "state": {
            "_dom_classes": [],
            "_model_module": "@jupyter-widgets/controls",
            "_model_module_version": "1.5.0",
            "_model_name": "HBoxModel",
            "_view_count": null,
            "_view_module": "@jupyter-widgets/controls",
            "_view_module_version": "1.5.0",
            "_view_name": "HBoxView",
            "box_style": "",
            "children": [
              "IPY_MODEL_f233d9088522491185b05da4ec1c1e0e",
              "IPY_MODEL_a59a4318f0894160b0383da633a0d45a",
              "IPY_MODEL_b3ac1b2833124279b2e0667b52c5ad29"
            ],
            "layout": "IPY_MODEL_61e4e7414f1b4304a18377cf61d122d1"
          }
        },
        "f233d9088522491185b05da4ec1c1e0e": {
          "model_module": "@jupyter-widgets/controls",
          "model_name": "HTMLModel",
          "model_module_version": "1.5.0",
          "state": {
            "_dom_classes": [],
            "_model_module": "@jupyter-widgets/controls",
            "_model_module_version": "1.5.0",
            "_model_name": "HTMLModel",
            "_view_count": null,
            "_view_module": "@jupyter-widgets/controls",
            "_view_module_version": "1.5.0",
            "_view_name": "HTMLView",
            "description": "",
            "description_tooltip": null,
            "layout": "IPY_MODEL_08f8de467dd043e9954a7928f1ce3cba",
            "placeholder": "​",
            "style": "IPY_MODEL_a51825e5e2f94b9582772e757d0101f5",
            "value": "tokenizer.json: 100%"
          }
        },
        "a59a4318f0894160b0383da633a0d45a": {
          "model_module": "@jupyter-widgets/controls",
          "model_name": "FloatProgressModel",
          "model_module_version": "1.5.0",
          "state": {
            "_dom_classes": [],
            "_model_module": "@jupyter-widgets/controls",
            "_model_module_version": "1.5.0",
            "_model_name": "FloatProgressModel",
            "_view_count": null,
            "_view_module": "@jupyter-widgets/controls",
            "_view_module_version": "1.5.0",
            "_view_name": "ProgressView",
            "bar_style": "success",
            "description": "",
            "description_tooltip": null,
            "layout": "IPY_MODEL_19c262a160234b4486712acb85e625b9",
            "max": 466062,
            "min": 0,
            "orientation": "horizontal",
            "style": "IPY_MODEL_47f23d9b4e5b43888b65318139b06aac",
            "value": 466062
          }
        },
        "b3ac1b2833124279b2e0667b52c5ad29": {
          "model_module": "@jupyter-widgets/controls",
          "model_name": "HTMLModel",
          "model_module_version": "1.5.0",
          "state": {
            "_dom_classes": [],
            "_model_module": "@jupyter-widgets/controls",
            "_model_module_version": "1.5.0",
            "_model_name": "HTMLModel",
            "_view_count": null,
            "_view_module": "@jupyter-widgets/controls",
            "_view_module_version": "1.5.0",
            "_view_name": "HTMLView",
            "description": "",
            "description_tooltip": null,
            "layout": "IPY_MODEL_0fb6e96dabac4fa7bc7b30ff413a9499",
            "placeholder": "​",
            "style": "IPY_MODEL_0965becf7165494fbbdae1a2a8869670",
            "value": " 466k/466k [00:00&lt;00:00, 4.83MB/s]"
          }
        },
        "61e4e7414f1b4304a18377cf61d122d1": {
          "model_module": "@jupyter-widgets/base",
          "model_name": "LayoutModel",
          "model_module_version": "1.2.0",
          "state": {
            "_model_module": "@jupyter-widgets/base",
            "_model_module_version": "1.2.0",
            "_model_name": "LayoutModel",
            "_view_count": null,
            "_view_module": "@jupyter-widgets/base",
            "_view_module_version": "1.2.0",
            "_view_name": "LayoutView",
            "align_content": null,
            "align_items": null,
            "align_self": null,
            "border": null,
            "bottom": null,
            "display": null,
            "flex": null,
            "flex_flow": null,
            "grid_area": null,
            "grid_auto_columns": null,
            "grid_auto_flow": null,
            "grid_auto_rows": null,
            "grid_column": null,
            "grid_gap": null,
            "grid_row": null,
            "grid_template_areas": null,
            "grid_template_columns": null,
            "grid_template_rows": null,
            "height": null,
            "justify_content": null,
            "justify_items": null,
            "left": null,
            "margin": null,
            "max_height": null,
            "max_width": null,
            "min_height": null,
            "min_width": null,
            "object_fit": null,
            "object_position": null,
            "order": null,
            "overflow": null,
            "overflow_x": null,
            "overflow_y": null,
            "padding": null,
            "right": null,
            "top": null,
            "visibility": null,
            "width": null
          }
        },
        "08f8de467dd043e9954a7928f1ce3cba": {
          "model_module": "@jupyter-widgets/base",
          "model_name": "LayoutModel",
          "model_module_version": "1.2.0",
          "state": {
            "_model_module": "@jupyter-widgets/base",
            "_model_module_version": "1.2.0",
            "_model_name": "LayoutModel",
            "_view_count": null,
            "_view_module": "@jupyter-widgets/base",
            "_view_module_version": "1.2.0",
            "_view_name": "LayoutView",
            "align_content": null,
            "align_items": null,
            "align_self": null,
            "border": null,
            "bottom": null,
            "display": null,
            "flex": null,
            "flex_flow": null,
            "grid_area": null,
            "grid_auto_columns": null,
            "grid_auto_flow": null,
            "grid_auto_rows": null,
            "grid_column": null,
            "grid_gap": null,
            "grid_row": null,
            "grid_template_areas": null,
            "grid_template_columns": null,
            "grid_template_rows": null,
            "height": null,
            "justify_content": null,
            "justify_items": null,
            "left": null,
            "margin": null,
            "max_height": null,
            "max_width": null,
            "min_height": null,
            "min_width": null,
            "object_fit": null,
            "object_position": null,
            "order": null,
            "overflow": null,
            "overflow_x": null,
            "overflow_y": null,
            "padding": null,
            "right": null,
            "top": null,
            "visibility": null,
            "width": null
          }
        },
        "a51825e5e2f94b9582772e757d0101f5": {
          "model_module": "@jupyter-widgets/controls",
          "model_name": "DescriptionStyleModel",
          "model_module_version": "1.5.0",
          "state": {
            "_model_module": "@jupyter-widgets/controls",
            "_model_module_version": "1.5.0",
            "_model_name": "DescriptionStyleModel",
            "_view_count": null,
            "_view_module": "@jupyter-widgets/base",
            "_view_module_version": "1.2.0",
            "_view_name": "StyleView",
            "description_width": ""
          }
        },
        "19c262a160234b4486712acb85e625b9": {
          "model_module": "@jupyter-widgets/base",
          "model_name": "LayoutModel",
          "model_module_version": "1.2.0",
          "state": {
            "_model_module": "@jupyter-widgets/base",
            "_model_module_version": "1.2.0",
            "_model_name": "LayoutModel",
            "_view_count": null,
            "_view_module": "@jupyter-widgets/base",
            "_view_module_version": "1.2.0",
            "_view_name": "LayoutView",
            "align_content": null,
            "align_items": null,
            "align_self": null,
            "border": null,
            "bottom": null,
            "display": null,
            "flex": null,
            "flex_flow": null,
            "grid_area": null,
            "grid_auto_columns": null,
            "grid_auto_flow": null,
            "grid_auto_rows": null,
            "grid_column": null,
            "grid_gap": null,
            "grid_row": null,
            "grid_template_areas": null,
            "grid_template_columns": null,
            "grid_template_rows": null,
            "height": null,
            "justify_content": null,
            "justify_items": null,
            "left": null,
            "margin": null,
            "max_height": null,
            "max_width": null,
            "min_height": null,
            "min_width": null,
            "object_fit": null,
            "object_position": null,
            "order": null,
            "overflow": null,
            "overflow_x": null,
            "overflow_y": null,
            "padding": null,
            "right": null,
            "top": null,
            "visibility": null,
            "width": null
          }
        },
        "47f23d9b4e5b43888b65318139b06aac": {
          "model_module": "@jupyter-widgets/controls",
          "model_name": "ProgressStyleModel",
          "model_module_version": "1.5.0",
          "state": {
            "_model_module": "@jupyter-widgets/controls",
            "_model_module_version": "1.5.0",
            "_model_name": "ProgressStyleModel",
            "_view_count": null,
            "_view_module": "@jupyter-widgets/base",
            "_view_module_version": "1.2.0",
            "_view_name": "StyleView",
            "bar_color": null,
            "description_width": ""
          }
        },
        "0fb6e96dabac4fa7bc7b30ff413a9499": {
          "model_module": "@jupyter-widgets/base",
          "model_name": "LayoutModel",
          "model_module_version": "1.2.0",
          "state": {
            "_model_module": "@jupyter-widgets/base",
            "_model_module_version": "1.2.0",
            "_model_name": "LayoutModel",
            "_view_count": null,
            "_view_module": "@jupyter-widgets/base",
            "_view_module_version": "1.2.0",
            "_view_name": "LayoutView",
            "align_content": null,
            "align_items": null,
            "align_self": null,
            "border": null,
            "bottom": null,
            "display": null,
            "flex": null,
            "flex_flow": null,
            "grid_area": null,
            "grid_auto_columns": null,
            "grid_auto_flow": null,
            "grid_auto_rows": null,
            "grid_column": null,
            "grid_gap": null,
            "grid_row": null,
            "grid_template_areas": null,
            "grid_template_columns": null,
            "grid_template_rows": null,
            "height": null,
            "justify_content": null,
            "justify_items": null,
            "left": null,
            "margin": null,
            "max_height": null,
            "max_width": null,
            "min_height": null,
            "min_width": null,
            "object_fit": null,
            "object_position": null,
            "order": null,
            "overflow": null,
            "overflow_x": null,
            "overflow_y": null,
            "padding": null,
            "right": null,
            "top": null,
            "visibility": null,
            "width": null
          }
        },
        "0965becf7165494fbbdae1a2a8869670": {
          "model_module": "@jupyter-widgets/controls",
          "model_name": "DescriptionStyleModel",
          "model_module_version": "1.5.0",
          "state": {
            "_model_module": "@jupyter-widgets/controls",
            "_model_module_version": "1.5.0",
            "_model_name": "DescriptionStyleModel",
            "_view_count": null,
            "_view_module": "@jupyter-widgets/base",
            "_view_module_version": "1.2.0",
            "_view_name": "StyleView",
            "description_width": ""
          }
        },
        "f03ef8c361df4bb2aba087fd6123315b": {
          "model_module": "@jupyter-widgets/controls",
          "model_name": "HBoxModel",
          "model_module_version": "1.5.0",
          "state": {
            "_dom_classes": [],
            "_model_module": "@jupyter-widgets/controls",
            "_model_module_version": "1.5.0",
            "_model_name": "HBoxModel",
            "_view_count": null,
            "_view_module": "@jupyter-widgets/controls",
            "_view_module_version": "1.5.0",
            "_view_name": "HBoxView",
            "box_style": "",
            "children": [
              "IPY_MODEL_0f75842e19ee40b3b77fbfd4401a512b",
              "IPY_MODEL_1cb93111329342a2b4957656cdda0691",
              "IPY_MODEL_59008be51b194ac5a46ce2fd7af24e4f"
            ],
            "layout": "IPY_MODEL_3bf876c7499a45aa98b85183bcd74354"
          }
        },
        "0f75842e19ee40b3b77fbfd4401a512b": {
          "model_module": "@jupyter-widgets/controls",
          "model_name": "HTMLModel",
          "model_module_version": "1.5.0",
          "state": {
            "_dom_classes": [],
            "_model_module": "@jupyter-widgets/controls",
            "_model_module_version": "1.5.0",
            "_model_name": "HTMLModel",
            "_view_count": null,
            "_view_module": "@jupyter-widgets/controls",
            "_view_module_version": "1.5.0",
            "_view_name": "HTMLView",
            "description": "",
            "description_tooltip": null,
            "layout": "IPY_MODEL_651892c285684ba494f9682f6f2d92b6",
            "placeholder": "​",
            "style": "IPY_MODEL_af9f6b4f6fb14da8b4a9a1d6b96d63b3",
            "value": "config.json: 100%"
          }
        },
        "1cb93111329342a2b4957656cdda0691": {
          "model_module": "@jupyter-widgets/controls",
          "model_name": "FloatProgressModel",
          "model_module_version": "1.5.0",
          "state": {
            "_dom_classes": [],
            "_model_module": "@jupyter-widgets/controls",
            "_model_module_version": "1.5.0",
            "_model_name": "FloatProgressModel",
            "_view_count": null,
            "_view_module": "@jupyter-widgets/controls",
            "_view_module_version": "1.5.0",
            "_view_name": "ProgressView",
            "bar_style": "success",
            "description": "",
            "description_tooltip": null,
            "layout": "IPY_MODEL_70f33ed7f4564311ad8421e964210e3f",
            "max": 665,
            "min": 0,
            "orientation": "horizontal",
            "style": "IPY_MODEL_3865fd2a17db4f978f0074296896f813",
            "value": 665
          }
        },
        "59008be51b194ac5a46ce2fd7af24e4f": {
          "model_module": "@jupyter-widgets/controls",
          "model_name": "HTMLModel",
          "model_module_version": "1.5.0",
          "state": {
            "_dom_classes": [],
            "_model_module": "@jupyter-widgets/controls",
            "_model_module_version": "1.5.0",
            "_model_name": "HTMLModel",
            "_view_count": null,
            "_view_module": "@jupyter-widgets/controls",
            "_view_module_version": "1.5.0",
            "_view_name": "HTMLView",
            "description": "",
            "description_tooltip": null,
            "layout": "IPY_MODEL_8e8edd884b684b71aaaead6bae560a10",
            "placeholder": "​",
            "style": "IPY_MODEL_36fdf148a09e4de6b9204a0d948f71ce",
            "value": " 665/665 [00:00&lt;00:00, 24.9kB/s]"
          }
        },
        "3bf876c7499a45aa98b85183bcd74354": {
          "model_module": "@jupyter-widgets/base",
          "model_name": "LayoutModel",
          "model_module_version": "1.2.0",
          "state": {
            "_model_module": "@jupyter-widgets/base",
            "_model_module_version": "1.2.0",
            "_model_name": "LayoutModel",
            "_view_count": null,
            "_view_module": "@jupyter-widgets/base",
            "_view_module_version": "1.2.0",
            "_view_name": "LayoutView",
            "align_content": null,
            "align_items": null,
            "align_self": null,
            "border": null,
            "bottom": null,
            "display": null,
            "flex": null,
            "flex_flow": null,
            "grid_area": null,
            "grid_auto_columns": null,
            "grid_auto_flow": null,
            "grid_auto_rows": null,
            "grid_column": null,
            "grid_gap": null,
            "grid_row": null,
            "grid_template_areas": null,
            "grid_template_columns": null,
            "grid_template_rows": null,
            "height": null,
            "justify_content": null,
            "justify_items": null,
            "left": null,
            "margin": null,
            "max_height": null,
            "max_width": null,
            "min_height": null,
            "min_width": null,
            "object_fit": null,
            "object_position": null,
            "order": null,
            "overflow": null,
            "overflow_x": null,
            "overflow_y": null,
            "padding": null,
            "right": null,
            "top": null,
            "visibility": null,
            "width": null
          }
        },
        "651892c285684ba494f9682f6f2d92b6": {
          "model_module": "@jupyter-widgets/base",
          "model_name": "LayoutModel",
          "model_module_version": "1.2.0",
          "state": {
            "_model_module": "@jupyter-widgets/base",
            "_model_module_version": "1.2.0",
            "_model_name": "LayoutModel",
            "_view_count": null,
            "_view_module": "@jupyter-widgets/base",
            "_view_module_version": "1.2.0",
            "_view_name": "LayoutView",
            "align_content": null,
            "align_items": null,
            "align_self": null,
            "border": null,
            "bottom": null,
            "display": null,
            "flex": null,
            "flex_flow": null,
            "grid_area": null,
            "grid_auto_columns": null,
            "grid_auto_flow": null,
            "grid_auto_rows": null,
            "grid_column": null,
            "grid_gap": null,
            "grid_row": null,
            "grid_template_areas": null,
            "grid_template_columns": null,
            "grid_template_rows": null,
            "height": null,
            "justify_content": null,
            "justify_items": null,
            "left": null,
            "margin": null,
            "max_height": null,
            "max_width": null,
            "min_height": null,
            "min_width": null,
            "object_fit": null,
            "object_position": null,
            "order": null,
            "overflow": null,
            "overflow_x": null,
            "overflow_y": null,
            "padding": null,
            "right": null,
            "top": null,
            "visibility": null,
            "width": null
          }
        },
        "af9f6b4f6fb14da8b4a9a1d6b96d63b3": {
          "model_module": "@jupyter-widgets/controls",
          "model_name": "DescriptionStyleModel",
          "model_module_version": "1.5.0",
          "state": {
            "_model_module": "@jupyter-widgets/controls",
            "_model_module_version": "1.5.0",
            "_model_name": "DescriptionStyleModel",
            "_view_count": null,
            "_view_module": "@jupyter-widgets/base",
            "_view_module_version": "1.2.0",
            "_view_name": "StyleView",
            "description_width": ""
          }
        },
        "70f33ed7f4564311ad8421e964210e3f": {
          "model_module": "@jupyter-widgets/base",
          "model_name": "LayoutModel",
          "model_module_version": "1.2.0",
          "state": {
            "_model_module": "@jupyter-widgets/base",
            "_model_module_version": "1.2.0",
            "_model_name": "LayoutModel",
            "_view_count": null,
            "_view_module": "@jupyter-widgets/base",
            "_view_module_version": "1.2.0",
            "_view_name": "LayoutView",
            "align_content": null,
            "align_items": null,
            "align_self": null,
            "border": null,
            "bottom": null,
            "display": null,
            "flex": null,
            "flex_flow": null,
            "grid_area": null,
            "grid_auto_columns": null,
            "grid_auto_flow": null,
            "grid_auto_rows": null,
            "grid_column": null,
            "grid_gap": null,
            "grid_row": null,
            "grid_template_areas": null,
            "grid_template_columns": null,
            "grid_template_rows": null,
            "height": null,
            "justify_content": null,
            "justify_items": null,
            "left": null,
            "margin": null,
            "max_height": null,
            "max_width": null,
            "min_height": null,
            "min_width": null,
            "object_fit": null,
            "object_position": null,
            "order": null,
            "overflow": null,
            "overflow_x": null,
            "overflow_y": null,
            "padding": null,
            "right": null,
            "top": null,
            "visibility": null,
            "width": null
          }
        },
        "3865fd2a17db4f978f0074296896f813": {
          "model_module": "@jupyter-widgets/controls",
          "model_name": "ProgressStyleModel",
          "model_module_version": "1.5.0",
          "state": {
            "_model_module": "@jupyter-widgets/controls",
            "_model_module_version": "1.5.0",
            "_model_name": "ProgressStyleModel",
            "_view_count": null,
            "_view_module": "@jupyter-widgets/base",
            "_view_module_version": "1.2.0",
            "_view_name": "StyleView",
            "bar_color": null,
            "description_width": ""
          }
        },
        "8e8edd884b684b71aaaead6bae560a10": {
          "model_module": "@jupyter-widgets/base",
          "model_name": "LayoutModel",
          "model_module_version": "1.2.0",
          "state": {
            "_model_module": "@jupyter-widgets/base",
            "_model_module_version": "1.2.0",
            "_model_name": "LayoutModel",
            "_view_count": null,
            "_view_module": "@jupyter-widgets/base",
            "_view_module_version": "1.2.0",
            "_view_name": "LayoutView",
            "align_content": null,
            "align_items": null,
            "align_self": null,
            "border": null,
            "bottom": null,
            "display": null,
            "flex": null,
            "flex_flow": null,
            "grid_area": null,
            "grid_auto_columns": null,
            "grid_auto_flow": null,
            "grid_auto_rows": null,
            "grid_column": null,
            "grid_gap": null,
            "grid_row": null,
            "grid_template_areas": null,
            "grid_template_columns": null,
            "grid_template_rows": null,
            "height": null,
            "justify_content": null,
            "justify_items": null,
            "left": null,
            "margin": null,
            "max_height": null,
            "max_width": null,
            "min_height": null,
            "min_width": null,
            "object_fit": null,
            "object_position": null,
            "order": null,
            "overflow": null,
            "overflow_x": null,
            "overflow_y": null,
            "padding": null,
            "right": null,
            "top": null,
            "visibility": null,
            "width": null
          }
        },
        "36fdf148a09e4de6b9204a0d948f71ce": {
          "model_module": "@jupyter-widgets/controls",
          "model_name": "DescriptionStyleModel",
          "model_module_version": "1.5.0",
          "state": {
            "_model_module": "@jupyter-widgets/controls",
            "_model_module_version": "1.5.0",
            "_model_name": "DescriptionStyleModel",
            "_view_count": null,
            "_view_module": "@jupyter-widgets/base",
            "_view_module_version": "1.2.0",
            "_view_name": "StyleView",
            "description_width": ""
          }
        },
        "9b0fdf6f2b9d43f4af0a31c7c0596104": {
          "model_module": "@jupyter-widgets/controls",
          "model_name": "HBoxModel",
          "model_module_version": "1.5.0",
          "state": {
            "_dom_classes": [],
            "_model_module": "@jupyter-widgets/controls",
            "_model_module_version": "1.5.0",
            "_model_name": "HBoxModel",
            "_view_count": null,
            "_view_module": "@jupyter-widgets/controls",
            "_view_module_version": "1.5.0",
            "_view_name": "HBoxView",
            "box_style": "",
            "children": [
              "IPY_MODEL_7bc7f4352cdc4354b46e68695b424a44",
              "IPY_MODEL_11afb6d92ddb4e6a955696e6c1c113a4",
              "IPY_MODEL_1907ba3d6445434cbdbee163bc089d73"
            ],
            "layout": "IPY_MODEL_e2eac6ba9c9b45eb9dc398bb53ead7f9"
          }
        },
        "7bc7f4352cdc4354b46e68695b424a44": {
          "model_module": "@jupyter-widgets/controls",
          "model_name": "HTMLModel",
          "model_module_version": "1.5.0",
          "state": {
            "_dom_classes": [],
            "_model_module": "@jupyter-widgets/controls",
            "_model_module_version": "1.5.0",
            "_model_name": "HTMLModel",
            "_view_count": null,
            "_view_module": "@jupyter-widgets/controls",
            "_view_module_version": "1.5.0",
            "_view_name": "HTMLView",
            "description": "",
            "description_tooltip": null,
            "layout": "IPY_MODEL_82c3c37466fd4b92afc166dc70839e4a",
            "placeholder": "​",
            "style": "IPY_MODEL_909a096b696743a69efc29af22b438f9",
            "value": "vocab.json: 100%"
          }
        },
        "11afb6d92ddb4e6a955696e6c1c113a4": {
          "model_module": "@jupyter-widgets/controls",
          "model_name": "FloatProgressModel",
          "model_module_version": "1.5.0",
          "state": {
            "_dom_classes": [],
            "_model_module": "@jupyter-widgets/controls",
            "_model_module_version": "1.5.0",
            "_model_name": "FloatProgressModel",
            "_view_count": null,
            "_view_module": "@jupyter-widgets/controls",
            "_view_module_version": "1.5.0",
            "_view_name": "ProgressView",
            "bar_style": "success",
            "description": "",
            "description_tooltip": null,
            "layout": "IPY_MODEL_0c7d09ebf7fe43c7bbb8eaa6b28289b9",
            "max": 1042301,
            "min": 0,
            "orientation": "horizontal",
            "style": "IPY_MODEL_15ba4d291cc048da8ce913aceeebaed7",
            "value": 1042301
          }
        },
        "1907ba3d6445434cbdbee163bc089d73": {
          "model_module": "@jupyter-widgets/controls",
          "model_name": "HTMLModel",
          "model_module_version": "1.5.0",
          "state": {
            "_dom_classes": [],
            "_model_module": "@jupyter-widgets/controls",
            "_model_module_version": "1.5.0",
            "_model_name": "HTMLModel",
            "_view_count": null,
            "_view_module": "@jupyter-widgets/controls",
            "_view_module_version": "1.5.0",
            "_view_name": "HTMLView",
            "description": "",
            "description_tooltip": null,
            "layout": "IPY_MODEL_08536e7429a044e1a22bfcb83706ad1a",
            "placeholder": "​",
            "style": "IPY_MODEL_33f060ba95144b19b7d51d1c15453fee",
            "value": " 1.04M/1.04M [00:00&lt;00:00, 5.54MB/s]"
          }
        },
        "e2eac6ba9c9b45eb9dc398bb53ead7f9": {
          "model_module": "@jupyter-widgets/base",
          "model_name": "LayoutModel",
          "model_module_version": "1.2.0",
          "state": {
            "_model_module": "@jupyter-widgets/base",
            "_model_module_version": "1.2.0",
            "_model_name": "LayoutModel",
            "_view_count": null,
            "_view_module": "@jupyter-widgets/base",
            "_view_module_version": "1.2.0",
            "_view_name": "LayoutView",
            "align_content": null,
            "align_items": null,
            "align_self": null,
            "border": null,
            "bottom": null,
            "display": null,
            "flex": null,
            "flex_flow": null,
            "grid_area": null,
            "grid_auto_columns": null,
            "grid_auto_flow": null,
            "grid_auto_rows": null,
            "grid_column": null,
            "grid_gap": null,
            "grid_row": null,
            "grid_template_areas": null,
            "grid_template_columns": null,
            "grid_template_rows": null,
            "height": null,
            "justify_content": null,
            "justify_items": null,
            "left": null,
            "margin": null,
            "max_height": null,
            "max_width": null,
            "min_height": null,
            "min_width": null,
            "object_fit": null,
            "object_position": null,
            "order": null,
            "overflow": null,
            "overflow_x": null,
            "overflow_y": null,
            "padding": null,
            "right": null,
            "top": null,
            "visibility": null,
            "width": null
          }
        },
        "82c3c37466fd4b92afc166dc70839e4a": {
          "model_module": "@jupyter-widgets/base",
          "model_name": "LayoutModel",
          "model_module_version": "1.2.0",
          "state": {
            "_model_module": "@jupyter-widgets/base",
            "_model_module_version": "1.2.0",
            "_model_name": "LayoutModel",
            "_view_count": null,
            "_view_module": "@jupyter-widgets/base",
            "_view_module_version": "1.2.0",
            "_view_name": "LayoutView",
            "align_content": null,
            "align_items": null,
            "align_self": null,
            "border": null,
            "bottom": null,
            "display": null,
            "flex": null,
            "flex_flow": null,
            "grid_area": null,
            "grid_auto_columns": null,
            "grid_auto_flow": null,
            "grid_auto_rows": null,
            "grid_column": null,
            "grid_gap": null,
            "grid_row": null,
            "grid_template_areas": null,
            "grid_template_columns": null,
            "grid_template_rows": null,
            "height": null,
            "justify_content": null,
            "justify_items": null,
            "left": null,
            "margin": null,
            "max_height": null,
            "max_width": null,
            "min_height": null,
            "min_width": null,
            "object_fit": null,
            "object_position": null,
            "order": null,
            "overflow": null,
            "overflow_x": null,
            "overflow_y": null,
            "padding": null,
            "right": null,
            "top": null,
            "visibility": null,
            "width": null
          }
        },
        "909a096b696743a69efc29af22b438f9": {
          "model_module": "@jupyter-widgets/controls",
          "model_name": "DescriptionStyleModel",
          "model_module_version": "1.5.0",
          "state": {
            "_model_module": "@jupyter-widgets/controls",
            "_model_module_version": "1.5.0",
            "_model_name": "DescriptionStyleModel",
            "_view_count": null,
            "_view_module": "@jupyter-widgets/base",
            "_view_module_version": "1.2.0",
            "_view_name": "StyleView",
            "description_width": ""
          }
        },
        "0c7d09ebf7fe43c7bbb8eaa6b28289b9": {
          "model_module": "@jupyter-widgets/base",
          "model_name": "LayoutModel",
          "model_module_version": "1.2.0",
          "state": {
            "_model_module": "@jupyter-widgets/base",
            "_model_module_version": "1.2.0",
            "_model_name": "LayoutModel",
            "_view_count": null,
            "_view_module": "@jupyter-widgets/base",
            "_view_module_version": "1.2.0",
            "_view_name": "LayoutView",
            "align_content": null,
            "align_items": null,
            "align_self": null,
            "border": null,
            "bottom": null,
            "display": null,
            "flex": null,
            "flex_flow": null,
            "grid_area": null,
            "grid_auto_columns": null,
            "grid_auto_flow": null,
            "grid_auto_rows": null,
            "grid_column": null,
            "grid_gap": null,
            "grid_row": null,
            "grid_template_areas": null,
            "grid_template_columns": null,
            "grid_template_rows": null,
            "height": null,
            "justify_content": null,
            "justify_items": null,
            "left": null,
            "margin": null,
            "max_height": null,
            "max_width": null,
            "min_height": null,
            "min_width": null,
            "object_fit": null,
            "object_position": null,
            "order": null,
            "overflow": null,
            "overflow_x": null,
            "overflow_y": null,
            "padding": null,
            "right": null,
            "top": null,
            "visibility": null,
            "width": null
          }
        },
        "15ba4d291cc048da8ce913aceeebaed7": {
          "model_module": "@jupyter-widgets/controls",
          "model_name": "ProgressStyleModel",
          "model_module_version": "1.5.0",
          "state": {
            "_model_module": "@jupyter-widgets/controls",
            "_model_module_version": "1.5.0",
            "_model_name": "ProgressStyleModel",
            "_view_count": null,
            "_view_module": "@jupyter-widgets/base",
            "_view_module_version": "1.2.0",
            "_view_name": "StyleView",
            "bar_color": null,
            "description_width": ""
          }
        },
        "08536e7429a044e1a22bfcb83706ad1a": {
          "model_module": "@jupyter-widgets/base",
          "model_name": "LayoutModel",
          "model_module_version": "1.2.0",
          "state": {
            "_model_module": "@jupyter-widgets/base",
            "_model_module_version": "1.2.0",
            "_model_name": "LayoutModel",
            "_view_count": null,
            "_view_module": "@jupyter-widgets/base",
            "_view_module_version": "1.2.0",
            "_view_name": "LayoutView",
            "align_content": null,
            "align_items": null,
            "align_self": null,
            "border": null,
            "bottom": null,
            "display": null,
            "flex": null,
            "flex_flow": null,
            "grid_area": null,
            "grid_auto_columns": null,
            "grid_auto_flow": null,
            "grid_auto_rows": null,
            "grid_column": null,
            "grid_gap": null,
            "grid_row": null,
            "grid_template_areas": null,
            "grid_template_columns": null,
            "grid_template_rows": null,
            "height": null,
            "justify_content": null,
            "justify_items": null,
            "left": null,
            "margin": null,
            "max_height": null,
            "max_width": null,
            "min_height": null,
            "min_width": null,
            "object_fit": null,
            "object_position": null,
            "order": null,
            "overflow": null,
            "overflow_x": null,
            "overflow_y": null,
            "padding": null,
            "right": null,
            "top": null,
            "visibility": null,
            "width": null
          }
        },
        "33f060ba95144b19b7d51d1c15453fee": {
          "model_module": "@jupyter-widgets/controls",
          "model_name": "DescriptionStyleModel",
          "model_module_version": "1.5.0",
          "state": {
            "_model_module": "@jupyter-widgets/controls",
            "_model_module_version": "1.5.0",
            "_model_name": "DescriptionStyleModel",
            "_view_count": null,
            "_view_module": "@jupyter-widgets/base",
            "_view_module_version": "1.2.0",
            "_view_name": "StyleView",
            "description_width": ""
          }
        },
        "8a4f1a4c9b5141d18c90240d7a5dfb4b": {
          "model_module": "@jupyter-widgets/controls",
          "model_name": "HBoxModel",
          "model_module_version": "1.5.0",
          "state": {
            "_dom_classes": [],
            "_model_module": "@jupyter-widgets/controls",
            "_model_module_version": "1.5.0",
            "_model_name": "HBoxModel",
            "_view_count": null,
            "_view_module": "@jupyter-widgets/controls",
            "_view_module_version": "1.5.0",
            "_view_name": "HBoxView",
            "box_style": "",
            "children": [
              "IPY_MODEL_5c0fe1c175524431a6b19a88f913581c",
              "IPY_MODEL_029bfd4bbe2148f0a8605c85454b10ae",
              "IPY_MODEL_55ef63b9530f4624a2d74d5423be2be4"
            ],
            "layout": "IPY_MODEL_719b994f9a8949df9028ad321ef668a9"
          }
        },
        "5c0fe1c175524431a6b19a88f913581c": {
          "model_module": "@jupyter-widgets/controls",
          "model_name": "HTMLModel",
          "model_module_version": "1.5.0",
          "state": {
            "_dom_classes": [],
            "_model_module": "@jupyter-widgets/controls",
            "_model_module_version": "1.5.0",
            "_model_name": "HTMLModel",
            "_view_count": null,
            "_view_module": "@jupyter-widgets/controls",
            "_view_module_version": "1.5.0",
            "_view_name": "HTMLView",
            "description": "",
            "description_tooltip": null,
            "layout": "IPY_MODEL_ef77d4fdf466429bad1319d7848e9c98",
            "placeholder": "​",
            "style": "IPY_MODEL_6a973bc3df484e3585f487ade716bebb",
            "value": "merges.txt: 100%"
          }
        },
        "029bfd4bbe2148f0a8605c85454b10ae": {
          "model_module": "@jupyter-widgets/controls",
          "model_name": "FloatProgressModel",
          "model_module_version": "1.5.0",
          "state": {
            "_dom_classes": [],
            "_model_module": "@jupyter-widgets/controls",
            "_model_module_version": "1.5.0",
            "_model_name": "FloatProgressModel",
            "_view_count": null,
            "_view_module": "@jupyter-widgets/controls",
            "_view_module_version": "1.5.0",
            "_view_name": "ProgressView",
            "bar_style": "success",
            "description": "",
            "description_tooltip": null,
            "layout": "IPY_MODEL_d07f9fea208f4070b20da15166b1a393",
            "max": 456318,
            "min": 0,
            "orientation": "horizontal",
            "style": "IPY_MODEL_7d9c148ad5a143f9a51de94fc90c52d6",
            "value": 456318
          }
        },
        "55ef63b9530f4624a2d74d5423be2be4": {
          "model_module": "@jupyter-widgets/controls",
          "model_name": "HTMLModel",
          "model_module_version": "1.5.0",
          "state": {
            "_dom_classes": [],
            "_model_module": "@jupyter-widgets/controls",
            "_model_module_version": "1.5.0",
            "_model_name": "HTMLModel",
            "_view_count": null,
            "_view_module": "@jupyter-widgets/controls",
            "_view_module_version": "1.5.0",
            "_view_name": "HTMLView",
            "description": "",
            "description_tooltip": null,
            "layout": "IPY_MODEL_2e7255c120dd463d915370884641adc4",
            "placeholder": "​",
            "style": "IPY_MODEL_e9921a651ce34fcbb95ea3842e003166",
            "value": " 456k/456k [00:00&lt;00:00, 3.44MB/s]"
          }
        },
        "719b994f9a8949df9028ad321ef668a9": {
          "model_module": "@jupyter-widgets/base",
          "model_name": "LayoutModel",
          "model_module_version": "1.2.0",
          "state": {
            "_model_module": "@jupyter-widgets/base",
            "_model_module_version": "1.2.0",
            "_model_name": "LayoutModel",
            "_view_count": null,
            "_view_module": "@jupyter-widgets/base",
            "_view_module_version": "1.2.0",
            "_view_name": "LayoutView",
            "align_content": null,
            "align_items": null,
            "align_self": null,
            "border": null,
            "bottom": null,
            "display": null,
            "flex": null,
            "flex_flow": null,
            "grid_area": null,
            "grid_auto_columns": null,
            "grid_auto_flow": null,
            "grid_auto_rows": null,
            "grid_column": null,
            "grid_gap": null,
            "grid_row": null,
            "grid_template_areas": null,
            "grid_template_columns": null,
            "grid_template_rows": null,
            "height": null,
            "justify_content": null,
            "justify_items": null,
            "left": null,
            "margin": null,
            "max_height": null,
            "max_width": null,
            "min_height": null,
            "min_width": null,
            "object_fit": null,
            "object_position": null,
            "order": null,
            "overflow": null,
            "overflow_x": null,
            "overflow_y": null,
            "padding": null,
            "right": null,
            "top": null,
            "visibility": null,
            "width": null
          }
        },
        "ef77d4fdf466429bad1319d7848e9c98": {
          "model_module": "@jupyter-widgets/base",
          "model_name": "LayoutModel",
          "model_module_version": "1.2.0",
          "state": {
            "_model_module": "@jupyter-widgets/base",
            "_model_module_version": "1.2.0",
            "_model_name": "LayoutModel",
            "_view_count": null,
            "_view_module": "@jupyter-widgets/base",
            "_view_module_version": "1.2.0",
            "_view_name": "LayoutView",
            "align_content": null,
            "align_items": null,
            "align_self": null,
            "border": null,
            "bottom": null,
            "display": null,
            "flex": null,
            "flex_flow": null,
            "grid_area": null,
            "grid_auto_columns": null,
            "grid_auto_flow": null,
            "grid_auto_rows": null,
            "grid_column": null,
            "grid_gap": null,
            "grid_row": null,
            "grid_template_areas": null,
            "grid_template_columns": null,
            "grid_template_rows": null,
            "height": null,
            "justify_content": null,
            "justify_items": null,
            "left": null,
            "margin": null,
            "max_height": null,
            "max_width": null,
            "min_height": null,
            "min_width": null,
            "object_fit": null,
            "object_position": null,
            "order": null,
            "overflow": null,
            "overflow_x": null,
            "overflow_y": null,
            "padding": null,
            "right": null,
            "top": null,
            "visibility": null,
            "width": null
          }
        },
        "6a973bc3df484e3585f487ade716bebb": {
          "model_module": "@jupyter-widgets/controls",
          "model_name": "DescriptionStyleModel",
          "model_module_version": "1.5.0",
          "state": {
            "_model_module": "@jupyter-widgets/controls",
            "_model_module_version": "1.5.0",
            "_model_name": "DescriptionStyleModel",
            "_view_count": null,
            "_view_module": "@jupyter-widgets/base",
            "_view_module_version": "1.2.0",
            "_view_name": "StyleView",
            "description_width": ""
          }
        },
        "d07f9fea208f4070b20da15166b1a393": {
          "model_module": "@jupyter-widgets/base",
          "model_name": "LayoutModel",
          "model_module_version": "1.2.0",
          "state": {
            "_model_module": "@jupyter-widgets/base",
            "_model_module_version": "1.2.0",
            "_model_name": "LayoutModel",
            "_view_count": null,
            "_view_module": "@jupyter-widgets/base",
            "_view_module_version": "1.2.0",
            "_view_name": "LayoutView",
            "align_content": null,
            "align_items": null,
            "align_self": null,
            "border": null,
            "bottom": null,
            "display": null,
            "flex": null,
            "flex_flow": null,
            "grid_area": null,
            "grid_auto_columns": null,
            "grid_auto_flow": null,
            "grid_auto_rows": null,
            "grid_column": null,
            "grid_gap": null,
            "grid_row": null,
            "grid_template_areas": null,
            "grid_template_columns": null,
            "grid_template_rows": null,
            "height": null,
            "justify_content": null,
            "justify_items": null,
            "left": null,
            "margin": null,
            "max_height": null,
            "max_width": null,
            "min_height": null,
            "min_width": null,
            "object_fit": null,
            "object_position": null,
            "order": null,
            "overflow": null,
            "overflow_x": null,
            "overflow_y": null,
            "padding": null,
            "right": null,
            "top": null,
            "visibility": null,
            "width": null
          }
        },
        "7d9c148ad5a143f9a51de94fc90c52d6": {
          "model_module": "@jupyter-widgets/controls",
          "model_name": "ProgressStyleModel",
          "model_module_version": "1.5.0",
          "state": {
            "_model_module": "@jupyter-widgets/controls",
            "_model_module_version": "1.5.0",
            "_model_name": "ProgressStyleModel",
            "_view_count": null,
            "_view_module": "@jupyter-widgets/base",
            "_view_module_version": "1.2.0",
            "_view_name": "StyleView",
            "bar_color": null,
            "description_width": ""
          }
        },
        "2e7255c120dd463d915370884641adc4": {
          "model_module": "@jupyter-widgets/base",
          "model_name": "LayoutModel",
          "model_module_version": "1.2.0",
          "state": {
            "_model_module": "@jupyter-widgets/base",
            "_model_module_version": "1.2.0",
            "_model_name": "LayoutModel",
            "_view_count": null,
            "_view_module": "@jupyter-widgets/base",
            "_view_module_version": "1.2.0",
            "_view_name": "LayoutView",
            "align_content": null,
            "align_items": null,
            "align_self": null,
            "border": null,
            "bottom": null,
            "display": null,
            "flex": null,
            "flex_flow": null,
            "grid_area": null,
            "grid_auto_columns": null,
            "grid_auto_flow": null,
            "grid_auto_rows": null,
            "grid_column": null,
            "grid_gap": null,
            "grid_row": null,
            "grid_template_areas": null,
            "grid_template_columns": null,
            "grid_template_rows": null,
            "height": null,
            "justify_content": null,
            "justify_items": null,
            "left": null,
            "margin": null,
            "max_height": null,
            "max_width": null,
            "min_height": null,
            "min_width": null,
            "object_fit": null,
            "object_position": null,
            "order": null,
            "overflow": null,
            "overflow_x": null,
            "overflow_y": null,
            "padding": null,
            "right": null,
            "top": null,
            "visibility": null,
            "width": null
          }
        },
        "e9921a651ce34fcbb95ea3842e003166": {
          "model_module": "@jupyter-widgets/controls",
          "model_name": "DescriptionStyleModel",
          "model_module_version": "1.5.0",
          "state": {
            "_model_module": "@jupyter-widgets/controls",
            "_model_module_version": "1.5.0",
            "_model_name": "DescriptionStyleModel",
            "_view_count": null,
            "_view_module": "@jupyter-widgets/base",
            "_view_module_version": "1.2.0",
            "_view_name": "StyleView",
            "description_width": ""
          }
        },
        "ea580c336ec742a38251369a12da3350": {
          "model_module": "@jupyter-widgets/controls",
          "model_name": "HBoxModel",
          "model_module_version": "1.5.0",
          "state": {
            "_dom_classes": [],
            "_model_module": "@jupyter-widgets/controls",
            "_model_module_version": "1.5.0",
            "_model_name": "HBoxModel",
            "_view_count": null,
            "_view_module": "@jupyter-widgets/controls",
            "_view_module_version": "1.5.0",
            "_view_name": "HBoxView",
            "box_style": "",
            "children": [
              "IPY_MODEL_cff0861e4420488ca9fd7a608b23f625",
              "IPY_MODEL_044c034e8a1a4174b1b199ae985f1acb",
              "IPY_MODEL_5f8745b88ae84a8094638b4ba6445c8b"
            ],
            "layout": "IPY_MODEL_5dc1252315094f298a609e461377c31d"
          }
        },
        "cff0861e4420488ca9fd7a608b23f625": {
          "model_module": "@jupyter-widgets/controls",
          "model_name": "HTMLModel",
          "model_module_version": "1.5.0",
          "state": {
            "_dom_classes": [],
            "_model_module": "@jupyter-widgets/controls",
            "_model_module_version": "1.5.0",
            "_model_name": "HTMLModel",
            "_view_count": null,
            "_view_module": "@jupyter-widgets/controls",
            "_view_module_version": "1.5.0",
            "_view_name": "HTMLView",
            "description": "",
            "description_tooltip": null,
            "layout": "IPY_MODEL_4735f230bb9e4f58a1778c919c73a314",
            "placeholder": "​",
            "style": "IPY_MODEL_e5ac18593fb14ae08ef3cc7e1f0f9e87",
            "value": "tokenizer.json: 100%"
          }
        },
        "044c034e8a1a4174b1b199ae985f1acb": {
          "model_module": "@jupyter-widgets/controls",
          "model_name": "FloatProgressModel",
          "model_module_version": "1.5.0",
          "state": {
            "_dom_classes": [],
            "_model_module": "@jupyter-widgets/controls",
            "_model_module_version": "1.5.0",
            "_model_name": "FloatProgressModel",
            "_view_count": null,
            "_view_module": "@jupyter-widgets/controls",
            "_view_module_version": "1.5.0",
            "_view_name": "ProgressView",
            "bar_style": "success",
            "description": "",
            "description_tooltip": null,
            "layout": "IPY_MODEL_f34a6e4c6b6f4a3fa983407b390b027d",
            "max": 1355256,
            "min": 0,
            "orientation": "horizontal",
            "style": "IPY_MODEL_c6ddd5afbdb34fe7b67faa72c8cbf47e",
            "value": 1355256
          }
        },
        "5f8745b88ae84a8094638b4ba6445c8b": {
          "model_module": "@jupyter-widgets/controls",
          "model_name": "HTMLModel",
          "model_module_version": "1.5.0",
          "state": {
            "_dom_classes": [],
            "_model_module": "@jupyter-widgets/controls",
            "_model_module_version": "1.5.0",
            "_model_name": "HTMLModel",
            "_view_count": null,
            "_view_module": "@jupyter-widgets/controls",
            "_view_module_version": "1.5.0",
            "_view_name": "HTMLView",
            "description": "",
            "description_tooltip": null,
            "layout": "IPY_MODEL_f6a2b7378adb4d46a6393a443acc2c7c",
            "placeholder": "​",
            "style": "IPY_MODEL_b8f5b6d5ea694802b817bcfc6c300842",
            "value": " 1.36M/1.36M [00:00&lt;00:00, 21.8MB/s]"
          }
        },
        "5dc1252315094f298a609e461377c31d": {
          "model_module": "@jupyter-widgets/base",
          "model_name": "LayoutModel",
          "model_module_version": "1.2.0",
          "state": {
            "_model_module": "@jupyter-widgets/base",
            "_model_module_version": "1.2.0",
            "_model_name": "LayoutModel",
            "_view_count": null,
            "_view_module": "@jupyter-widgets/base",
            "_view_module_version": "1.2.0",
            "_view_name": "LayoutView",
            "align_content": null,
            "align_items": null,
            "align_self": null,
            "border": null,
            "bottom": null,
            "display": null,
            "flex": null,
            "flex_flow": null,
            "grid_area": null,
            "grid_auto_columns": null,
            "grid_auto_flow": null,
            "grid_auto_rows": null,
            "grid_column": null,
            "grid_gap": null,
            "grid_row": null,
            "grid_template_areas": null,
            "grid_template_columns": null,
            "grid_template_rows": null,
            "height": null,
            "justify_content": null,
            "justify_items": null,
            "left": null,
            "margin": null,
            "max_height": null,
            "max_width": null,
            "min_height": null,
            "min_width": null,
            "object_fit": null,
            "object_position": null,
            "order": null,
            "overflow": null,
            "overflow_x": null,
            "overflow_y": null,
            "padding": null,
            "right": null,
            "top": null,
            "visibility": null,
            "width": null
          }
        },
        "4735f230bb9e4f58a1778c919c73a314": {
          "model_module": "@jupyter-widgets/base",
          "model_name": "LayoutModel",
          "model_module_version": "1.2.0",
          "state": {
            "_model_module": "@jupyter-widgets/base",
            "_model_module_version": "1.2.0",
            "_model_name": "LayoutModel",
            "_view_count": null,
            "_view_module": "@jupyter-widgets/base",
            "_view_module_version": "1.2.0",
            "_view_name": "LayoutView",
            "align_content": null,
            "align_items": null,
            "align_self": null,
            "border": null,
            "bottom": null,
            "display": null,
            "flex": null,
            "flex_flow": null,
            "grid_area": null,
            "grid_auto_columns": null,
            "grid_auto_flow": null,
            "grid_auto_rows": null,
            "grid_column": null,
            "grid_gap": null,
            "grid_row": null,
            "grid_template_areas": null,
            "grid_template_columns": null,
            "grid_template_rows": null,
            "height": null,
            "justify_content": null,
            "justify_items": null,
            "left": null,
            "margin": null,
            "max_height": null,
            "max_width": null,
            "min_height": null,
            "min_width": null,
            "object_fit": null,
            "object_position": null,
            "order": null,
            "overflow": null,
            "overflow_x": null,
            "overflow_y": null,
            "padding": null,
            "right": null,
            "top": null,
            "visibility": null,
            "width": null
          }
        },
        "e5ac18593fb14ae08ef3cc7e1f0f9e87": {
          "model_module": "@jupyter-widgets/controls",
          "model_name": "DescriptionStyleModel",
          "model_module_version": "1.5.0",
          "state": {
            "_model_module": "@jupyter-widgets/controls",
            "_model_module_version": "1.5.0",
            "_model_name": "DescriptionStyleModel",
            "_view_count": null,
            "_view_module": "@jupyter-widgets/base",
            "_view_module_version": "1.2.0",
            "_view_name": "StyleView",
            "description_width": ""
          }
        },
        "f34a6e4c6b6f4a3fa983407b390b027d": {
          "model_module": "@jupyter-widgets/base",
          "model_name": "LayoutModel",
          "model_module_version": "1.2.0",
          "state": {
            "_model_module": "@jupyter-widgets/base",
            "_model_module_version": "1.2.0",
            "_model_name": "LayoutModel",
            "_view_count": null,
            "_view_module": "@jupyter-widgets/base",
            "_view_module_version": "1.2.0",
            "_view_name": "LayoutView",
            "align_content": null,
            "align_items": null,
            "align_self": null,
            "border": null,
            "bottom": null,
            "display": null,
            "flex": null,
            "flex_flow": null,
            "grid_area": null,
            "grid_auto_columns": null,
            "grid_auto_flow": null,
            "grid_auto_rows": null,
            "grid_column": null,
            "grid_gap": null,
            "grid_row": null,
            "grid_template_areas": null,
            "grid_template_columns": null,
            "grid_template_rows": null,
            "height": null,
            "justify_content": null,
            "justify_items": null,
            "left": null,
            "margin": null,
            "max_height": null,
            "max_width": null,
            "min_height": null,
            "min_width": null,
            "object_fit": null,
            "object_position": null,
            "order": null,
            "overflow": null,
            "overflow_x": null,
            "overflow_y": null,
            "padding": null,
            "right": null,
            "top": null,
            "visibility": null,
            "width": null
          }
        },
        "c6ddd5afbdb34fe7b67faa72c8cbf47e": {
          "model_module": "@jupyter-widgets/controls",
          "model_name": "ProgressStyleModel",
          "model_module_version": "1.5.0",
          "state": {
            "_model_module": "@jupyter-widgets/controls",
            "_model_module_version": "1.5.0",
            "_model_name": "ProgressStyleModel",
            "_view_count": null,
            "_view_module": "@jupyter-widgets/base",
            "_view_module_version": "1.2.0",
            "_view_name": "StyleView",
            "bar_color": null,
            "description_width": ""
          }
        },
        "f6a2b7378adb4d46a6393a443acc2c7c": {
          "model_module": "@jupyter-widgets/base",
          "model_name": "LayoutModel",
          "model_module_version": "1.2.0",
          "state": {
            "_model_module": "@jupyter-widgets/base",
            "_model_module_version": "1.2.0",
            "_model_name": "LayoutModel",
            "_view_count": null,
            "_view_module": "@jupyter-widgets/base",
            "_view_module_version": "1.2.0",
            "_view_name": "LayoutView",
            "align_content": null,
            "align_items": null,
            "align_self": null,
            "border": null,
            "bottom": null,
            "display": null,
            "flex": null,
            "flex_flow": null,
            "grid_area": null,
            "grid_auto_columns": null,
            "grid_auto_flow": null,
            "grid_auto_rows": null,
            "grid_column": null,
            "grid_gap": null,
            "grid_row": null,
            "grid_template_areas": null,
            "grid_template_columns": null,
            "grid_template_rows": null,
            "height": null,
            "justify_content": null,
            "justify_items": null,
            "left": null,
            "margin": null,
            "max_height": null,
            "max_width": null,
            "min_height": null,
            "min_width": null,
            "object_fit": null,
            "object_position": null,
            "order": null,
            "overflow": null,
            "overflow_x": null,
            "overflow_y": null,
            "padding": null,
            "right": null,
            "top": null,
            "visibility": null,
            "width": null
          }
        },
        "b8f5b6d5ea694802b817bcfc6c300842": {
          "model_module": "@jupyter-widgets/controls",
          "model_name": "DescriptionStyleModel",
          "model_module_version": "1.5.0",
          "state": {
            "_model_module": "@jupyter-widgets/controls",
            "_model_module_version": "1.5.0",
            "_model_name": "DescriptionStyleModel",
            "_view_count": null,
            "_view_module": "@jupyter-widgets/base",
            "_view_module_version": "1.2.0",
            "_view_name": "StyleView",
            "description_width": ""
          }
        },
        "9f29d8fc466847ee9e0a926e5634ce19": {
          "model_module": "@jupyter-widgets/controls",
          "model_name": "HBoxModel",
          "model_module_version": "1.5.0",
          "state": {
            "_dom_classes": [],
            "_model_module": "@jupyter-widgets/controls",
            "_model_module_version": "1.5.0",
            "_model_name": "HBoxModel",
            "_view_count": null,
            "_view_module": "@jupyter-widgets/controls",
            "_view_module_version": "1.5.0",
            "_view_name": "HBoxView",
            "box_style": "",
            "children": [
              "IPY_MODEL_c3e63560eb3c4e7fb677b50543114474",
              "IPY_MODEL_0af8c3978e5c4186ad8249ded46d2e0d",
              "IPY_MODEL_cf3a679ecd8547b3857f72491b8dfc29"
            ],
            "layout": "IPY_MODEL_3f85af092b4b46438abe0abd1c3e09e6"
          }
        },
        "c3e63560eb3c4e7fb677b50543114474": {
          "model_module": "@jupyter-widgets/controls",
          "model_name": "HTMLModel",
          "model_module_version": "1.5.0",
          "state": {
            "_dom_classes": [],
            "_model_module": "@jupyter-widgets/controls",
            "_model_module_version": "1.5.0",
            "_model_name": "HTMLModel",
            "_view_count": null,
            "_view_module": "@jupyter-widgets/controls",
            "_view_module_version": "1.5.0",
            "_view_name": "HTMLView",
            "description": "",
            "description_tooltip": null,
            "layout": "IPY_MODEL_3ea55918fe6b40afa04598b037d447e1",
            "placeholder": "​",
            "style": "IPY_MODEL_fe2dff4e5bee46ecaa6ed3976afc748d",
            "value": "tokenizer_config.json: 100%"
          }
        },
        "0af8c3978e5c4186ad8249ded46d2e0d": {
          "model_module": "@jupyter-widgets/controls",
          "model_name": "FloatProgressModel",
          "model_module_version": "1.5.0",
          "state": {
            "_dom_classes": [],
            "_model_module": "@jupyter-widgets/controls",
            "_model_module_version": "1.5.0",
            "_model_name": "FloatProgressModel",
            "_view_count": null,
            "_view_module": "@jupyter-widgets/controls",
            "_view_module_version": "1.5.0",
            "_view_name": "ProgressView",
            "bar_style": "success",
            "description": "",
            "description_tooltip": null,
            "layout": "IPY_MODEL_9240546e6ddf4559a853566afe5e0142",
            "max": 2324,
            "min": 0,
            "orientation": "horizontal",
            "style": "IPY_MODEL_15ef9bce6f0d4a31a8a7770e5471d3b2",
            "value": 2324
          }
        },
        "cf3a679ecd8547b3857f72491b8dfc29": {
          "model_module": "@jupyter-widgets/controls",
          "model_name": "HTMLModel",
          "model_module_version": "1.5.0",
          "state": {
            "_dom_classes": [],
            "_model_module": "@jupyter-widgets/controls",
            "_model_module_version": "1.5.0",
            "_model_name": "HTMLModel",
            "_view_count": null,
            "_view_module": "@jupyter-widgets/controls",
            "_view_module_version": "1.5.0",
            "_view_name": "HTMLView",
            "description": "",
            "description_tooltip": null,
            "layout": "IPY_MODEL_8ca39be5184a4779ac2dc1afe35de36a",
            "placeholder": "​",
            "style": "IPY_MODEL_f6951eed20e54f14b64c0a1f0037e55c",
            "value": " 2.32k/2.32k [00:00&lt;00:00, 124kB/s]"
          }
        },
        "3f85af092b4b46438abe0abd1c3e09e6": {
          "model_module": "@jupyter-widgets/base",
          "model_name": "LayoutModel",
          "model_module_version": "1.2.0",
          "state": {
            "_model_module": "@jupyter-widgets/base",
            "_model_module_version": "1.2.0",
            "_model_name": "LayoutModel",
            "_view_count": null,
            "_view_module": "@jupyter-widgets/base",
            "_view_module_version": "1.2.0",
            "_view_name": "LayoutView",
            "align_content": null,
            "align_items": null,
            "align_self": null,
            "border": null,
            "bottom": null,
            "display": null,
            "flex": null,
            "flex_flow": null,
            "grid_area": null,
            "grid_auto_columns": null,
            "grid_auto_flow": null,
            "grid_auto_rows": null,
            "grid_column": null,
            "grid_gap": null,
            "grid_row": null,
            "grid_template_areas": null,
            "grid_template_columns": null,
            "grid_template_rows": null,
            "height": null,
            "justify_content": null,
            "justify_items": null,
            "left": null,
            "margin": null,
            "max_height": null,
            "max_width": null,
            "min_height": null,
            "min_width": null,
            "object_fit": null,
            "object_position": null,
            "order": null,
            "overflow": null,
            "overflow_x": null,
            "overflow_y": null,
            "padding": null,
            "right": null,
            "top": null,
            "visibility": null,
            "width": null
          }
        },
        "3ea55918fe6b40afa04598b037d447e1": {
          "model_module": "@jupyter-widgets/base",
          "model_name": "LayoutModel",
          "model_module_version": "1.2.0",
          "state": {
            "_model_module": "@jupyter-widgets/base",
            "_model_module_version": "1.2.0",
            "_model_name": "LayoutModel",
            "_view_count": null,
            "_view_module": "@jupyter-widgets/base",
            "_view_module_version": "1.2.0",
            "_view_name": "LayoutView",
            "align_content": null,
            "align_items": null,
            "align_self": null,
            "border": null,
            "bottom": null,
            "display": null,
            "flex": null,
            "flex_flow": null,
            "grid_area": null,
            "grid_auto_columns": null,
            "grid_auto_flow": null,
            "grid_auto_rows": null,
            "grid_column": null,
            "grid_gap": null,
            "grid_row": null,
            "grid_template_areas": null,
            "grid_template_columns": null,
            "grid_template_rows": null,
            "height": null,
            "justify_content": null,
            "justify_items": null,
            "left": null,
            "margin": null,
            "max_height": null,
            "max_width": null,
            "min_height": null,
            "min_width": null,
            "object_fit": null,
            "object_position": null,
            "order": null,
            "overflow": null,
            "overflow_x": null,
            "overflow_y": null,
            "padding": null,
            "right": null,
            "top": null,
            "visibility": null,
            "width": null
          }
        },
        "fe2dff4e5bee46ecaa6ed3976afc748d": {
          "model_module": "@jupyter-widgets/controls",
          "model_name": "DescriptionStyleModel",
          "model_module_version": "1.5.0",
          "state": {
            "_model_module": "@jupyter-widgets/controls",
            "_model_module_version": "1.5.0",
            "_model_name": "DescriptionStyleModel",
            "_view_count": null,
            "_view_module": "@jupyter-widgets/base",
            "_view_module_version": "1.2.0",
            "_view_name": "StyleView",
            "description_width": ""
          }
        },
        "9240546e6ddf4559a853566afe5e0142": {
          "model_module": "@jupyter-widgets/base",
          "model_name": "LayoutModel",
          "model_module_version": "1.2.0",
          "state": {
            "_model_module": "@jupyter-widgets/base",
            "_model_module_version": "1.2.0",
            "_model_name": "LayoutModel",
            "_view_count": null,
            "_view_module": "@jupyter-widgets/base",
            "_view_module_version": "1.2.0",
            "_view_name": "LayoutView",
            "align_content": null,
            "align_items": null,
            "align_self": null,
            "border": null,
            "bottom": null,
            "display": null,
            "flex": null,
            "flex_flow": null,
            "grid_area": null,
            "grid_auto_columns": null,
            "grid_auto_flow": null,
            "grid_auto_rows": null,
            "grid_column": null,
            "grid_gap": null,
            "grid_row": null,
            "grid_template_areas": null,
            "grid_template_columns": null,
            "grid_template_rows": null,
            "height": null,
            "justify_content": null,
            "justify_items": null,
            "left": null,
            "margin": null,
            "max_height": null,
            "max_width": null,
            "min_height": null,
            "min_width": null,
            "object_fit": null,
            "object_position": null,
            "order": null,
            "overflow": null,
            "overflow_x": null,
            "overflow_y": null,
            "padding": null,
            "right": null,
            "top": null,
            "visibility": null,
            "width": null
          }
        },
        "15ef9bce6f0d4a31a8a7770e5471d3b2": {
          "model_module": "@jupyter-widgets/controls",
          "model_name": "ProgressStyleModel",
          "model_module_version": "1.5.0",
          "state": {
            "_model_module": "@jupyter-widgets/controls",
            "_model_module_version": "1.5.0",
            "_model_name": "ProgressStyleModel",
            "_view_count": null,
            "_view_module": "@jupyter-widgets/base",
            "_view_module_version": "1.2.0",
            "_view_name": "StyleView",
            "bar_color": null,
            "description_width": ""
          }
        },
        "8ca39be5184a4779ac2dc1afe35de36a": {
          "model_module": "@jupyter-widgets/base",
          "model_name": "LayoutModel",
          "model_module_version": "1.2.0",
          "state": {
            "_model_module": "@jupyter-widgets/base",
            "_model_module_version": "1.2.0",
            "_model_name": "LayoutModel",
            "_view_count": null,
            "_view_module": "@jupyter-widgets/base",
            "_view_module_version": "1.2.0",
            "_view_name": "LayoutView",
            "align_content": null,
            "align_items": null,
            "align_self": null,
            "border": null,
            "bottom": null,
            "display": null,
            "flex": null,
            "flex_flow": null,
            "grid_area": null,
            "grid_auto_columns": null,
            "grid_auto_flow": null,
            "grid_auto_rows": null,
            "grid_column": null,
            "grid_gap": null,
            "grid_row": null,
            "grid_template_areas": null,
            "grid_template_columns": null,
            "grid_template_rows": null,
            "height": null,
            "justify_content": null,
            "justify_items": null,
            "left": null,
            "margin": null,
            "max_height": null,
            "max_width": null,
            "min_height": null,
            "min_width": null,
            "object_fit": null,
            "object_position": null,
            "order": null,
            "overflow": null,
            "overflow_x": null,
            "overflow_y": null,
            "padding": null,
            "right": null,
            "top": null,
            "visibility": null,
            "width": null
          }
        },
        "f6951eed20e54f14b64c0a1f0037e55c": {
          "model_module": "@jupyter-widgets/controls",
          "model_name": "DescriptionStyleModel",
          "model_module_version": "1.5.0",
          "state": {
            "_model_module": "@jupyter-widgets/controls",
            "_model_module_version": "1.5.0",
            "_model_name": "DescriptionStyleModel",
            "_view_count": null,
            "_view_module": "@jupyter-widgets/base",
            "_view_module_version": "1.2.0",
            "_view_name": "StyleView",
            "description_width": ""
          }
        },
        "305b9f8119374cb3ad6ab5dddd442b1a": {
          "model_module": "@jupyter-widgets/controls",
          "model_name": "HBoxModel",
          "model_module_version": "1.5.0",
          "state": {
            "_dom_classes": [],
            "_model_module": "@jupyter-widgets/controls",
            "_model_module_version": "1.5.0",
            "_model_name": "HBoxModel",
            "_view_count": null,
            "_view_module": "@jupyter-widgets/controls",
            "_view_module_version": "1.5.0",
            "_view_name": "HBoxView",
            "box_style": "",
            "children": [
              "IPY_MODEL_b078803bd4454bfdbcf54c3af8ed9d42",
              "IPY_MODEL_a2567a83d94d489483a5f23caeadd0dd",
              "IPY_MODEL_7b63a43d63504fd7a757521c5906500b"
            ],
            "layout": "IPY_MODEL_c1eddb3e76fc419980f9eb211137042c"
          }
        },
        "b078803bd4454bfdbcf54c3af8ed9d42": {
          "model_module": "@jupyter-widgets/controls",
          "model_name": "HTMLModel",
          "model_module_version": "1.5.0",
          "state": {
            "_dom_classes": [],
            "_model_module": "@jupyter-widgets/controls",
            "_model_module_version": "1.5.0",
            "_model_name": "HTMLModel",
            "_view_count": null,
            "_view_module": "@jupyter-widgets/controls",
            "_view_module_version": "1.5.0",
            "_view_name": "HTMLView",
            "description": "",
            "description_tooltip": null,
            "layout": "IPY_MODEL_f07bfd9250c444e091062d1fa739b875",
            "placeholder": "​",
            "style": "IPY_MODEL_198af579983c4aaa911a26299d1ad9f8",
            "value": "spiece.model: 100%"
          }
        },
        "a2567a83d94d489483a5f23caeadd0dd": {
          "model_module": "@jupyter-widgets/controls",
          "model_name": "FloatProgressModel",
          "model_module_version": "1.5.0",
          "state": {
            "_dom_classes": [],
            "_model_module": "@jupyter-widgets/controls",
            "_model_module_version": "1.5.0",
            "_model_name": "FloatProgressModel",
            "_view_count": null,
            "_view_module": "@jupyter-widgets/controls",
            "_view_module_version": "1.5.0",
            "_view_name": "ProgressView",
            "bar_style": "success",
            "description": "",
            "description_tooltip": null,
            "layout": "IPY_MODEL_014cb665d80041d1b2007179c05ae12b",
            "max": 791656,
            "min": 0,
            "orientation": "horizontal",
            "style": "IPY_MODEL_8ef6a8eb279c44f0ac9411f65ebc1054",
            "value": 791656
          }
        },
        "7b63a43d63504fd7a757521c5906500b": {
          "model_module": "@jupyter-widgets/controls",
          "model_name": "HTMLModel",
          "model_module_version": "1.5.0",
          "state": {
            "_dom_classes": [],
            "_model_module": "@jupyter-widgets/controls",
            "_model_module_version": "1.5.0",
            "_model_name": "HTMLModel",
            "_view_count": null,
            "_view_module": "@jupyter-widgets/controls",
            "_view_module_version": "1.5.0",
            "_view_name": "HTMLView",
            "description": "",
            "description_tooltip": null,
            "layout": "IPY_MODEL_db741d4b7d0e4a39a7d9e8e1ab08cc2f",
            "placeholder": "​",
            "style": "IPY_MODEL_862cf45ae2fe4a97962931cb11534d5a",
            "value": " 792k/792k [00:00&lt;00:00, 16.5MB/s]"
          }
        },
        "c1eddb3e76fc419980f9eb211137042c": {
          "model_module": "@jupyter-widgets/base",
          "model_name": "LayoutModel",
          "model_module_version": "1.2.0",
          "state": {
            "_model_module": "@jupyter-widgets/base",
            "_model_module_version": "1.2.0",
            "_model_name": "LayoutModel",
            "_view_count": null,
            "_view_module": "@jupyter-widgets/base",
            "_view_module_version": "1.2.0",
            "_view_name": "LayoutView",
            "align_content": null,
            "align_items": null,
            "align_self": null,
            "border": null,
            "bottom": null,
            "display": null,
            "flex": null,
            "flex_flow": null,
            "grid_area": null,
            "grid_auto_columns": null,
            "grid_auto_flow": null,
            "grid_auto_rows": null,
            "grid_column": null,
            "grid_gap": null,
            "grid_row": null,
            "grid_template_areas": null,
            "grid_template_columns": null,
            "grid_template_rows": null,
            "height": null,
            "justify_content": null,
            "justify_items": null,
            "left": null,
            "margin": null,
            "max_height": null,
            "max_width": null,
            "min_height": null,
            "min_width": null,
            "object_fit": null,
            "object_position": null,
            "order": null,
            "overflow": null,
            "overflow_x": null,
            "overflow_y": null,
            "padding": null,
            "right": null,
            "top": null,
            "visibility": null,
            "width": null
          }
        },
        "f07bfd9250c444e091062d1fa739b875": {
          "model_module": "@jupyter-widgets/base",
          "model_name": "LayoutModel",
          "model_module_version": "1.2.0",
          "state": {
            "_model_module": "@jupyter-widgets/base",
            "_model_module_version": "1.2.0",
            "_model_name": "LayoutModel",
            "_view_count": null,
            "_view_module": "@jupyter-widgets/base",
            "_view_module_version": "1.2.0",
            "_view_name": "LayoutView",
            "align_content": null,
            "align_items": null,
            "align_self": null,
            "border": null,
            "bottom": null,
            "display": null,
            "flex": null,
            "flex_flow": null,
            "grid_area": null,
            "grid_auto_columns": null,
            "grid_auto_flow": null,
            "grid_auto_rows": null,
            "grid_column": null,
            "grid_gap": null,
            "grid_row": null,
            "grid_template_areas": null,
            "grid_template_columns": null,
            "grid_template_rows": null,
            "height": null,
            "justify_content": null,
            "justify_items": null,
            "left": null,
            "margin": null,
            "max_height": null,
            "max_width": null,
            "min_height": null,
            "min_width": null,
            "object_fit": null,
            "object_position": null,
            "order": null,
            "overflow": null,
            "overflow_x": null,
            "overflow_y": null,
            "padding": null,
            "right": null,
            "top": null,
            "visibility": null,
            "width": null
          }
        },
        "198af579983c4aaa911a26299d1ad9f8": {
          "model_module": "@jupyter-widgets/controls",
          "model_name": "DescriptionStyleModel",
          "model_module_version": "1.5.0",
          "state": {
            "_model_module": "@jupyter-widgets/controls",
            "_model_module_version": "1.5.0",
            "_model_name": "DescriptionStyleModel",
            "_view_count": null,
            "_view_module": "@jupyter-widgets/base",
            "_view_module_version": "1.2.0",
            "_view_name": "StyleView",
            "description_width": ""
          }
        },
        "014cb665d80041d1b2007179c05ae12b": {
          "model_module": "@jupyter-widgets/base",
          "model_name": "LayoutModel",
          "model_module_version": "1.2.0",
          "state": {
            "_model_module": "@jupyter-widgets/base",
            "_model_module_version": "1.2.0",
            "_model_name": "LayoutModel",
            "_view_count": null,
            "_view_module": "@jupyter-widgets/base",
            "_view_module_version": "1.2.0",
            "_view_name": "LayoutView",
            "align_content": null,
            "align_items": null,
            "align_self": null,
            "border": null,
            "bottom": null,
            "display": null,
            "flex": null,
            "flex_flow": null,
            "grid_area": null,
            "grid_auto_columns": null,
            "grid_auto_flow": null,
            "grid_auto_rows": null,
            "grid_column": null,
            "grid_gap": null,
            "grid_row": null,
            "grid_template_areas": null,
            "grid_template_columns": null,
            "grid_template_rows": null,
            "height": null,
            "justify_content": null,
            "justify_items": null,
            "left": null,
            "margin": null,
            "max_height": null,
            "max_width": null,
            "min_height": null,
            "min_width": null,
            "object_fit": null,
            "object_position": null,
            "order": null,
            "overflow": null,
            "overflow_x": null,
            "overflow_y": null,
            "padding": null,
            "right": null,
            "top": null,
            "visibility": null,
            "width": null
          }
        },
        "8ef6a8eb279c44f0ac9411f65ebc1054": {
          "model_module": "@jupyter-widgets/controls",
          "model_name": "ProgressStyleModel",
          "model_module_version": "1.5.0",
          "state": {
            "_model_module": "@jupyter-widgets/controls",
            "_model_module_version": "1.5.0",
            "_model_name": "ProgressStyleModel",
            "_view_count": null,
            "_view_module": "@jupyter-widgets/base",
            "_view_module_version": "1.2.0",
            "_view_name": "StyleView",
            "bar_color": null,
            "description_width": ""
          }
        },
        "db741d4b7d0e4a39a7d9e8e1ab08cc2f": {
          "model_module": "@jupyter-widgets/base",
          "model_name": "LayoutModel",
          "model_module_version": "1.2.0",
          "state": {
            "_model_module": "@jupyter-widgets/base",
            "_model_module_version": "1.2.0",
            "_model_name": "LayoutModel",
            "_view_count": null,
            "_view_module": "@jupyter-widgets/base",
            "_view_module_version": "1.2.0",
            "_view_name": "LayoutView",
            "align_content": null,
            "align_items": null,
            "align_self": null,
            "border": null,
            "bottom": null,
            "display": null,
            "flex": null,
            "flex_flow": null,
            "grid_area": null,
            "grid_auto_columns": null,
            "grid_auto_flow": null,
            "grid_auto_rows": null,
            "grid_column": null,
            "grid_gap": null,
            "grid_row": null,
            "grid_template_areas": null,
            "grid_template_columns": null,
            "grid_template_rows": null,
            "height": null,
            "justify_content": null,
            "justify_items": null,
            "left": null,
            "margin": null,
            "max_height": null,
            "max_width": null,
            "min_height": null,
            "min_width": null,
            "object_fit": null,
            "object_position": null,
            "order": null,
            "overflow": null,
            "overflow_x": null,
            "overflow_y": null,
            "padding": null,
            "right": null,
            "top": null,
            "visibility": null,
            "width": null
          }
        },
        "862cf45ae2fe4a97962931cb11534d5a": {
          "model_module": "@jupyter-widgets/controls",
          "model_name": "DescriptionStyleModel",
          "model_module_version": "1.5.0",
          "state": {
            "_model_module": "@jupyter-widgets/controls",
            "_model_module_version": "1.5.0",
            "_model_name": "DescriptionStyleModel",
            "_view_count": null,
            "_view_module": "@jupyter-widgets/base",
            "_view_module_version": "1.2.0",
            "_view_name": "StyleView",
            "description_width": ""
          }
        },
        "51965644105e46f1a88322092d21e8c3": {
          "model_module": "@jupyter-widgets/controls",
          "model_name": "HBoxModel",
          "model_module_version": "1.5.0",
          "state": {
            "_dom_classes": [],
            "_model_module": "@jupyter-widgets/controls",
            "_model_module_version": "1.5.0",
            "_model_name": "HBoxModel",
            "_view_count": null,
            "_view_module": "@jupyter-widgets/controls",
            "_view_module_version": "1.5.0",
            "_view_name": "HBoxView",
            "box_style": "",
            "children": [
              "IPY_MODEL_3e2407cecec2448589786550bc770e2f",
              "IPY_MODEL_31a69cde697d44e1ad8ad77056d6a56b",
              "IPY_MODEL_0f628fbb54ca4fa8a98749f593b52d75"
            ],
            "layout": "IPY_MODEL_f84beff929654002a112b9ae6411b15a"
          }
        },
        "3e2407cecec2448589786550bc770e2f": {
          "model_module": "@jupyter-widgets/controls",
          "model_name": "HTMLModel",
          "model_module_version": "1.5.0",
          "state": {
            "_dom_classes": [],
            "_model_module": "@jupyter-widgets/controls",
            "_model_module_version": "1.5.0",
            "_model_name": "HTMLModel",
            "_view_count": null,
            "_view_module": "@jupyter-widgets/controls",
            "_view_module_version": "1.5.0",
            "_view_name": "HTMLView",
            "description": "",
            "description_tooltip": null,
            "layout": "IPY_MODEL_0fa442c770cf4fe480fe9576fc4d1082",
            "placeholder": "​",
            "style": "IPY_MODEL_ad5db41e69034538af2fb6c9d73e4f31",
            "value": "tokenizer.json: 100%"
          }
        },
        "31a69cde697d44e1ad8ad77056d6a56b": {
          "model_module": "@jupyter-widgets/controls",
          "model_name": "FloatProgressModel",
          "model_module_version": "1.5.0",
          "state": {
            "_dom_classes": [],
            "_model_module": "@jupyter-widgets/controls",
            "_model_module_version": "1.5.0",
            "_model_name": "FloatProgressModel",
            "_view_count": null,
            "_view_module": "@jupyter-widgets/controls",
            "_view_module_version": "1.5.0",
            "_view_name": "ProgressView",
            "bar_style": "success",
            "description": "",
            "description_tooltip": null,
            "layout": "IPY_MODEL_a09b0784679d4c53905f5bede5dd2dc6",
            "max": 1389353,
            "min": 0,
            "orientation": "horizontal",
            "style": "IPY_MODEL_58a3ef70e0d94890adb9d2b0ec0c9e3a",
            "value": 1389353
          }
        },
        "0f628fbb54ca4fa8a98749f593b52d75": {
          "model_module": "@jupyter-widgets/controls",
          "model_name": "HTMLModel",
          "model_module_version": "1.5.0",
          "state": {
            "_dom_classes": [],
            "_model_module": "@jupyter-widgets/controls",
            "_model_module_version": "1.5.0",
            "_model_name": "HTMLModel",
            "_view_count": null,
            "_view_module": "@jupyter-widgets/controls",
            "_view_module_version": "1.5.0",
            "_view_name": "HTMLView",
            "description": "",
            "description_tooltip": null,
            "layout": "IPY_MODEL_dfa4ccdddc2a410ead5a94ba7932e24a",
            "placeholder": "​",
            "style": "IPY_MODEL_e12f273c8d874bada8740d9b80e2e5be",
            "value": " 1.39M/1.39M [00:00&lt;00:00, 6.39MB/s]"
          }
        },
        "f84beff929654002a112b9ae6411b15a": {
          "model_module": "@jupyter-widgets/base",
          "model_name": "LayoutModel",
          "model_module_version": "1.2.0",
          "state": {
            "_model_module": "@jupyter-widgets/base",
            "_model_module_version": "1.2.0",
            "_model_name": "LayoutModel",
            "_view_count": null,
            "_view_module": "@jupyter-widgets/base",
            "_view_module_version": "1.2.0",
            "_view_name": "LayoutView",
            "align_content": null,
            "align_items": null,
            "align_self": null,
            "border": null,
            "bottom": null,
            "display": null,
            "flex": null,
            "flex_flow": null,
            "grid_area": null,
            "grid_auto_columns": null,
            "grid_auto_flow": null,
            "grid_auto_rows": null,
            "grid_column": null,
            "grid_gap": null,
            "grid_row": null,
            "grid_template_areas": null,
            "grid_template_columns": null,
            "grid_template_rows": null,
            "height": null,
            "justify_content": null,
            "justify_items": null,
            "left": null,
            "margin": null,
            "max_height": null,
            "max_width": null,
            "min_height": null,
            "min_width": null,
            "object_fit": null,
            "object_position": null,
            "order": null,
            "overflow": null,
            "overflow_x": null,
            "overflow_y": null,
            "padding": null,
            "right": null,
            "top": null,
            "visibility": null,
            "width": null
          }
        },
        "0fa442c770cf4fe480fe9576fc4d1082": {
          "model_module": "@jupyter-widgets/base",
          "model_name": "LayoutModel",
          "model_module_version": "1.2.0",
          "state": {
            "_model_module": "@jupyter-widgets/base",
            "_model_module_version": "1.2.0",
            "_model_name": "LayoutModel",
            "_view_count": null,
            "_view_module": "@jupyter-widgets/base",
            "_view_module_version": "1.2.0",
            "_view_name": "LayoutView",
            "align_content": null,
            "align_items": null,
            "align_self": null,
            "border": null,
            "bottom": null,
            "display": null,
            "flex": null,
            "flex_flow": null,
            "grid_area": null,
            "grid_auto_columns": null,
            "grid_auto_flow": null,
            "grid_auto_rows": null,
            "grid_column": null,
            "grid_gap": null,
            "grid_row": null,
            "grid_template_areas": null,
            "grid_template_columns": null,
            "grid_template_rows": null,
            "height": null,
            "justify_content": null,
            "justify_items": null,
            "left": null,
            "margin": null,
            "max_height": null,
            "max_width": null,
            "min_height": null,
            "min_width": null,
            "object_fit": null,
            "object_position": null,
            "order": null,
            "overflow": null,
            "overflow_x": null,
            "overflow_y": null,
            "padding": null,
            "right": null,
            "top": null,
            "visibility": null,
            "width": null
          }
        },
        "ad5db41e69034538af2fb6c9d73e4f31": {
          "model_module": "@jupyter-widgets/controls",
          "model_name": "DescriptionStyleModel",
          "model_module_version": "1.5.0",
          "state": {
            "_model_module": "@jupyter-widgets/controls",
            "_model_module_version": "1.5.0",
            "_model_name": "DescriptionStyleModel",
            "_view_count": null,
            "_view_module": "@jupyter-widgets/base",
            "_view_module_version": "1.2.0",
            "_view_name": "StyleView",
            "description_width": ""
          }
        },
        "a09b0784679d4c53905f5bede5dd2dc6": {
          "model_module": "@jupyter-widgets/base",
          "model_name": "LayoutModel",
          "model_module_version": "1.2.0",
          "state": {
            "_model_module": "@jupyter-widgets/base",
            "_model_module_version": "1.2.0",
            "_model_name": "LayoutModel",
            "_view_count": null,
            "_view_module": "@jupyter-widgets/base",
            "_view_module_version": "1.2.0",
            "_view_name": "LayoutView",
            "align_content": null,
            "align_items": null,
            "align_self": null,
            "border": null,
            "bottom": null,
            "display": null,
            "flex": null,
            "flex_flow": null,
            "grid_area": null,
            "grid_auto_columns": null,
            "grid_auto_flow": null,
            "grid_auto_rows": null,
            "grid_column": null,
            "grid_gap": null,
            "grid_row": null,
            "grid_template_areas": null,
            "grid_template_columns": null,
            "grid_template_rows": null,
            "height": null,
            "justify_content": null,
            "justify_items": null,
            "left": null,
            "margin": null,
            "max_height": null,
            "max_width": null,
            "min_height": null,
            "min_width": null,
            "object_fit": null,
            "object_position": null,
            "order": null,
            "overflow": null,
            "overflow_x": null,
            "overflow_y": null,
            "padding": null,
            "right": null,
            "top": null,
            "visibility": null,
            "width": null
          }
        },
        "58a3ef70e0d94890adb9d2b0ec0c9e3a": {
          "model_module": "@jupyter-widgets/controls",
          "model_name": "ProgressStyleModel",
          "model_module_version": "1.5.0",
          "state": {
            "_model_module": "@jupyter-widgets/controls",
            "_model_module_version": "1.5.0",
            "_model_name": "ProgressStyleModel",
            "_view_count": null,
            "_view_module": "@jupyter-widgets/base",
            "_view_module_version": "1.2.0",
            "_view_name": "StyleView",
            "bar_color": null,
            "description_width": ""
          }
        },
        "dfa4ccdddc2a410ead5a94ba7932e24a": {
          "model_module": "@jupyter-widgets/base",
          "model_name": "LayoutModel",
          "model_module_version": "1.2.0",
          "state": {
            "_model_module": "@jupyter-widgets/base",
            "_model_module_version": "1.2.0",
            "_model_name": "LayoutModel",
            "_view_count": null,
            "_view_module": "@jupyter-widgets/base",
            "_view_module_version": "1.2.0",
            "_view_name": "LayoutView",
            "align_content": null,
            "align_items": null,
            "align_self": null,
            "border": null,
            "bottom": null,
            "display": null,
            "flex": null,
            "flex_flow": null,
            "grid_area": null,
            "grid_auto_columns": null,
            "grid_auto_flow": null,
            "grid_auto_rows": null,
            "grid_column": null,
            "grid_gap": null,
            "grid_row": null,
            "grid_template_areas": null,
            "grid_template_columns": null,
            "grid_template_rows": null,
            "height": null,
            "justify_content": null,
            "justify_items": null,
            "left": null,
            "margin": null,
            "max_height": null,
            "max_width": null,
            "min_height": null,
            "min_width": null,
            "object_fit": null,
            "object_position": null,
            "order": null,
            "overflow": null,
            "overflow_x": null,
            "overflow_y": null,
            "padding": null,
            "right": null,
            "top": null,
            "visibility": null,
            "width": null
          }
        },
        "e12f273c8d874bada8740d9b80e2e5be": {
          "model_module": "@jupyter-widgets/controls",
          "model_name": "DescriptionStyleModel",
          "model_module_version": "1.5.0",
          "state": {
            "_model_module": "@jupyter-widgets/controls",
            "_model_module_version": "1.5.0",
            "_model_name": "DescriptionStyleModel",
            "_view_count": null,
            "_view_module": "@jupyter-widgets/base",
            "_view_module_version": "1.2.0",
            "_view_name": "StyleView",
            "description_width": ""
          }
        },
        "d34b49c593084905b7c1aa23dd406dab": {
          "model_module": "@jupyter-widgets/controls",
          "model_name": "HBoxModel",
          "model_module_version": "1.5.0",
          "state": {
            "_dom_classes": [],
            "_model_module": "@jupyter-widgets/controls",
            "_model_module_version": "1.5.0",
            "_model_name": "HBoxModel",
            "_view_count": null,
            "_view_module": "@jupyter-widgets/controls",
            "_view_module_version": "1.5.0",
            "_view_name": "HBoxView",
            "box_style": "",
            "children": [
              "IPY_MODEL_3f58c488ccae40d8a60665a9aaec3803",
              "IPY_MODEL_29165d4e5bed4f00b8150ab1e796c55d",
              "IPY_MODEL_d2216d338dc54f7782f7724cecda6b35"
            ],
            "layout": "IPY_MODEL_7dff8e10503a4f0891aa7a5e651b82f4"
          }
        },
        "3f58c488ccae40d8a60665a9aaec3803": {
          "model_module": "@jupyter-widgets/controls",
          "model_name": "HTMLModel",
          "model_module_version": "1.5.0",
          "state": {
            "_dom_classes": [],
            "_model_module": "@jupyter-widgets/controls",
            "_model_module_version": "1.5.0",
            "_model_name": "HTMLModel",
            "_view_count": null,
            "_view_module": "@jupyter-widgets/controls",
            "_view_module_version": "1.5.0",
            "_view_name": "HTMLView",
            "description": "",
            "description_tooltip": null,
            "layout": "IPY_MODEL_710c51b971bd4e518b738a5aeed3fa92",
            "placeholder": "​",
            "style": "IPY_MODEL_b010213eab45431c947dab7253d3b4ae",
            "value": "tokenizer_config.json: 100%"
          }
        },
        "29165d4e5bed4f00b8150ab1e796c55d": {
          "model_module": "@jupyter-widgets/controls",
          "model_name": "FloatProgressModel",
          "model_module_version": "1.5.0",
          "state": {
            "_dom_classes": [],
            "_model_module": "@jupyter-widgets/controls",
            "_model_module_version": "1.5.0",
            "_model_name": "FloatProgressModel",
            "_view_count": null,
            "_view_module": "@jupyter-widgets/controls",
            "_view_module_version": "1.5.0",
            "_view_name": "ProgressView",
            "bar_style": "success",
            "description": "",
            "description_tooltip": null,
            "layout": "IPY_MODEL_3ada797852b4415f8c9329f4d3598754",
            "max": 29,
            "min": 0,
            "orientation": "horizontal",
            "style": "IPY_MODEL_7ddc2081732f4e8bbe144e2e134d4f4a",
            "value": 29
          }
        },
        "d2216d338dc54f7782f7724cecda6b35": {
          "model_module": "@jupyter-widgets/controls",
          "model_name": "HTMLModel",
          "model_module_version": "1.5.0",
          "state": {
            "_dom_classes": [],
            "_model_module": "@jupyter-widgets/controls",
            "_model_module_version": "1.5.0",
            "_model_name": "HTMLModel",
            "_view_count": null,
            "_view_module": "@jupyter-widgets/controls",
            "_view_module_version": "1.5.0",
            "_view_name": "HTMLView",
            "description": "",
            "description_tooltip": null,
            "layout": "IPY_MODEL_29d2f0bfeda345499990868e575ea27f",
            "placeholder": "​",
            "style": "IPY_MODEL_d45d3a7f35df4ae19cc00136b976bc22",
            "value": " 29.0/29.0 [00:00&lt;00:00, 511B/s]"
          }
        },
        "7dff8e10503a4f0891aa7a5e651b82f4": {
          "model_module": "@jupyter-widgets/base",
          "model_name": "LayoutModel",
          "model_module_version": "1.2.0",
          "state": {
            "_model_module": "@jupyter-widgets/base",
            "_model_module_version": "1.2.0",
            "_model_name": "LayoutModel",
            "_view_count": null,
            "_view_module": "@jupyter-widgets/base",
            "_view_module_version": "1.2.0",
            "_view_name": "LayoutView",
            "align_content": null,
            "align_items": null,
            "align_self": null,
            "border": null,
            "bottom": null,
            "display": null,
            "flex": null,
            "flex_flow": null,
            "grid_area": null,
            "grid_auto_columns": null,
            "grid_auto_flow": null,
            "grid_auto_rows": null,
            "grid_column": null,
            "grid_gap": null,
            "grid_row": null,
            "grid_template_areas": null,
            "grid_template_columns": null,
            "grid_template_rows": null,
            "height": null,
            "justify_content": null,
            "justify_items": null,
            "left": null,
            "margin": null,
            "max_height": null,
            "max_width": null,
            "min_height": null,
            "min_width": null,
            "object_fit": null,
            "object_position": null,
            "order": null,
            "overflow": null,
            "overflow_x": null,
            "overflow_y": null,
            "padding": null,
            "right": null,
            "top": null,
            "visibility": null,
            "width": null
          }
        },
        "710c51b971bd4e518b738a5aeed3fa92": {
          "model_module": "@jupyter-widgets/base",
          "model_name": "LayoutModel",
          "model_module_version": "1.2.0",
          "state": {
            "_model_module": "@jupyter-widgets/base",
            "_model_module_version": "1.2.0",
            "_model_name": "LayoutModel",
            "_view_count": null,
            "_view_module": "@jupyter-widgets/base",
            "_view_module_version": "1.2.0",
            "_view_name": "LayoutView",
            "align_content": null,
            "align_items": null,
            "align_self": null,
            "border": null,
            "bottom": null,
            "display": null,
            "flex": null,
            "flex_flow": null,
            "grid_area": null,
            "grid_auto_columns": null,
            "grid_auto_flow": null,
            "grid_auto_rows": null,
            "grid_column": null,
            "grid_gap": null,
            "grid_row": null,
            "grid_template_areas": null,
            "grid_template_columns": null,
            "grid_template_rows": null,
            "height": null,
            "justify_content": null,
            "justify_items": null,
            "left": null,
            "margin": null,
            "max_height": null,
            "max_width": null,
            "min_height": null,
            "min_width": null,
            "object_fit": null,
            "object_position": null,
            "order": null,
            "overflow": null,
            "overflow_x": null,
            "overflow_y": null,
            "padding": null,
            "right": null,
            "top": null,
            "visibility": null,
            "width": null
          }
        },
        "b010213eab45431c947dab7253d3b4ae": {
          "model_module": "@jupyter-widgets/controls",
          "model_name": "DescriptionStyleModel",
          "model_module_version": "1.5.0",
          "state": {
            "_model_module": "@jupyter-widgets/controls",
            "_model_module_version": "1.5.0",
            "_model_name": "DescriptionStyleModel",
            "_view_count": null,
            "_view_module": "@jupyter-widgets/base",
            "_view_module_version": "1.2.0",
            "_view_name": "StyleView",
            "description_width": ""
          }
        },
        "3ada797852b4415f8c9329f4d3598754": {
          "model_module": "@jupyter-widgets/base",
          "model_name": "LayoutModel",
          "model_module_version": "1.2.0",
          "state": {
            "_model_module": "@jupyter-widgets/base",
            "_model_module_version": "1.2.0",
            "_model_name": "LayoutModel",
            "_view_count": null,
            "_view_module": "@jupyter-widgets/base",
            "_view_module_version": "1.2.0",
            "_view_name": "LayoutView",
            "align_content": null,
            "align_items": null,
            "align_self": null,
            "border": null,
            "bottom": null,
            "display": null,
            "flex": null,
            "flex_flow": null,
            "grid_area": null,
            "grid_auto_columns": null,
            "grid_auto_flow": null,
            "grid_auto_rows": null,
            "grid_column": null,
            "grid_gap": null,
            "grid_row": null,
            "grid_template_areas": null,
            "grid_template_columns": null,
            "grid_template_rows": null,
            "height": null,
            "justify_content": null,
            "justify_items": null,
            "left": null,
            "margin": null,
            "max_height": null,
            "max_width": null,
            "min_height": null,
            "min_width": null,
            "object_fit": null,
            "object_position": null,
            "order": null,
            "overflow": null,
            "overflow_x": null,
            "overflow_y": null,
            "padding": null,
            "right": null,
            "top": null,
            "visibility": null,
            "width": null
          }
        },
        "7ddc2081732f4e8bbe144e2e134d4f4a": {
          "model_module": "@jupyter-widgets/controls",
          "model_name": "ProgressStyleModel",
          "model_module_version": "1.5.0",
          "state": {
            "_model_module": "@jupyter-widgets/controls",
            "_model_module_version": "1.5.0",
            "_model_name": "ProgressStyleModel",
            "_view_count": null,
            "_view_module": "@jupyter-widgets/base",
            "_view_module_version": "1.2.0",
            "_view_name": "StyleView",
            "bar_color": null,
            "description_width": ""
          }
        },
        "29d2f0bfeda345499990868e575ea27f": {
          "model_module": "@jupyter-widgets/base",
          "model_name": "LayoutModel",
          "model_module_version": "1.2.0",
          "state": {
            "_model_module": "@jupyter-widgets/base",
            "_model_module_version": "1.2.0",
            "_model_name": "LayoutModel",
            "_view_count": null,
            "_view_module": "@jupyter-widgets/base",
            "_view_module_version": "1.2.0",
            "_view_name": "LayoutView",
            "align_content": null,
            "align_items": null,
            "align_self": null,
            "border": null,
            "bottom": null,
            "display": null,
            "flex": null,
            "flex_flow": null,
            "grid_area": null,
            "grid_auto_columns": null,
            "grid_auto_flow": null,
            "grid_auto_rows": null,
            "grid_column": null,
            "grid_gap": null,
            "grid_row": null,
            "grid_template_areas": null,
            "grid_template_columns": null,
            "grid_template_rows": null,
            "height": null,
            "justify_content": null,
            "justify_items": null,
            "left": null,
            "margin": null,
            "max_height": null,
            "max_width": null,
            "min_height": null,
            "min_width": null,
            "object_fit": null,
            "object_position": null,
            "order": null,
            "overflow": null,
            "overflow_x": null,
            "overflow_y": null,
            "padding": null,
            "right": null,
            "top": null,
            "visibility": null,
            "width": null
          }
        },
        "d45d3a7f35df4ae19cc00136b976bc22": {
          "model_module": "@jupyter-widgets/controls",
          "model_name": "DescriptionStyleModel",
          "model_module_version": "1.5.0",
          "state": {
            "_model_module": "@jupyter-widgets/controls",
            "_model_module_version": "1.5.0",
            "_model_name": "DescriptionStyleModel",
            "_view_count": null,
            "_view_module": "@jupyter-widgets/base",
            "_view_module_version": "1.2.0",
            "_view_name": "StyleView",
            "description_width": ""
          }
        },
        "36608c253ff1494dabfa473e8c68b8d7": {
          "model_module": "@jupyter-widgets/controls",
          "model_name": "HBoxModel",
          "model_module_version": "1.5.0",
          "state": {
            "_dom_classes": [],
            "_model_module": "@jupyter-widgets/controls",
            "_model_module_version": "1.5.0",
            "_model_name": "HBoxModel",
            "_view_count": null,
            "_view_module": "@jupyter-widgets/controls",
            "_view_module_version": "1.5.0",
            "_view_name": "HBoxView",
            "box_style": "",
            "children": [
              "IPY_MODEL_80cad2a113a548eea19591e4deab6cef",
              "IPY_MODEL_d22c4f3a449d4ca38621afc6bcb9072c",
              "IPY_MODEL_edbe12937d7443e6b0febe566fd63cd4"
            ],
            "layout": "IPY_MODEL_cc9b0ac79c54423180f0443ead56149c"
          }
        },
        "80cad2a113a548eea19591e4deab6cef": {
          "model_module": "@jupyter-widgets/controls",
          "model_name": "HTMLModel",
          "model_module_version": "1.5.0",
          "state": {
            "_dom_classes": [],
            "_model_module": "@jupyter-widgets/controls",
            "_model_module_version": "1.5.0",
            "_model_name": "HTMLModel",
            "_view_count": null,
            "_view_module": "@jupyter-widgets/controls",
            "_view_module_version": "1.5.0",
            "_view_name": "HTMLView",
            "description": "",
            "description_tooltip": null,
            "layout": "IPY_MODEL_ee36dcacf9d743cabc4b2dce76c33749",
            "placeholder": "​",
            "style": "IPY_MODEL_23f8236ae4ea498d9624369e07e5dab4",
            "value": "config.json: 100%"
          }
        },
        "d22c4f3a449d4ca38621afc6bcb9072c": {
          "model_module": "@jupyter-widgets/controls",
          "model_name": "FloatProgressModel",
          "model_module_version": "1.5.0",
          "state": {
            "_dom_classes": [],
            "_model_module": "@jupyter-widgets/controls",
            "_model_module_version": "1.5.0",
            "_model_name": "FloatProgressModel",
            "_view_count": null,
            "_view_module": "@jupyter-widgets/controls",
            "_view_module_version": "1.5.0",
            "_view_name": "ProgressView",
            "bar_style": "success",
            "description": "",
            "description_tooltip": null,
            "layout": "IPY_MODEL_8f70a573db4b4c7f9e73f72ac50821e8",
            "max": 570,
            "min": 0,
            "orientation": "horizontal",
            "style": "IPY_MODEL_25af33bc8e4e446dae00d8503f97a4a3",
            "value": 570
          }
        },
        "edbe12937d7443e6b0febe566fd63cd4": {
          "model_module": "@jupyter-widgets/controls",
          "model_name": "HTMLModel",
          "model_module_version": "1.5.0",
          "state": {
            "_dom_classes": [],
            "_model_module": "@jupyter-widgets/controls",
            "_model_module_version": "1.5.0",
            "_model_name": "HTMLModel",
            "_view_count": null,
            "_view_module": "@jupyter-widgets/controls",
            "_view_module_version": "1.5.0",
            "_view_name": "HTMLView",
            "description": "",
            "description_tooltip": null,
            "layout": "IPY_MODEL_a56ad1e29b72428c83d2c7579dd1e8aa",
            "placeholder": "​",
            "style": "IPY_MODEL_e38a8b587fe04fbd948461fa94db7fb4",
            "value": " 570/570 [00:00&lt;00:00, 11.0kB/s]"
          }
        },
        "cc9b0ac79c54423180f0443ead56149c": {
          "model_module": "@jupyter-widgets/base",
          "model_name": "LayoutModel",
          "model_module_version": "1.2.0",
          "state": {
            "_model_module": "@jupyter-widgets/base",
            "_model_module_version": "1.2.0",
            "_model_name": "LayoutModel",
            "_view_count": null,
            "_view_module": "@jupyter-widgets/base",
            "_view_module_version": "1.2.0",
            "_view_name": "LayoutView",
            "align_content": null,
            "align_items": null,
            "align_self": null,
            "border": null,
            "bottom": null,
            "display": null,
            "flex": null,
            "flex_flow": null,
            "grid_area": null,
            "grid_auto_columns": null,
            "grid_auto_flow": null,
            "grid_auto_rows": null,
            "grid_column": null,
            "grid_gap": null,
            "grid_row": null,
            "grid_template_areas": null,
            "grid_template_columns": null,
            "grid_template_rows": null,
            "height": null,
            "justify_content": null,
            "justify_items": null,
            "left": null,
            "margin": null,
            "max_height": null,
            "max_width": null,
            "min_height": null,
            "min_width": null,
            "object_fit": null,
            "object_position": null,
            "order": null,
            "overflow": null,
            "overflow_x": null,
            "overflow_y": null,
            "padding": null,
            "right": null,
            "top": null,
            "visibility": null,
            "width": null
          }
        },
        "ee36dcacf9d743cabc4b2dce76c33749": {
          "model_module": "@jupyter-widgets/base",
          "model_name": "LayoutModel",
          "model_module_version": "1.2.0",
          "state": {
            "_model_module": "@jupyter-widgets/base",
            "_model_module_version": "1.2.0",
            "_model_name": "LayoutModel",
            "_view_count": null,
            "_view_module": "@jupyter-widgets/base",
            "_view_module_version": "1.2.0",
            "_view_name": "LayoutView",
            "align_content": null,
            "align_items": null,
            "align_self": null,
            "border": null,
            "bottom": null,
            "display": null,
            "flex": null,
            "flex_flow": null,
            "grid_area": null,
            "grid_auto_columns": null,
            "grid_auto_flow": null,
            "grid_auto_rows": null,
            "grid_column": null,
            "grid_gap": null,
            "grid_row": null,
            "grid_template_areas": null,
            "grid_template_columns": null,
            "grid_template_rows": null,
            "height": null,
            "justify_content": null,
            "justify_items": null,
            "left": null,
            "margin": null,
            "max_height": null,
            "max_width": null,
            "min_height": null,
            "min_width": null,
            "object_fit": null,
            "object_position": null,
            "order": null,
            "overflow": null,
            "overflow_x": null,
            "overflow_y": null,
            "padding": null,
            "right": null,
            "top": null,
            "visibility": null,
            "width": null
          }
        },
        "23f8236ae4ea498d9624369e07e5dab4": {
          "model_module": "@jupyter-widgets/controls",
          "model_name": "DescriptionStyleModel",
          "model_module_version": "1.5.0",
          "state": {
            "_model_module": "@jupyter-widgets/controls",
            "_model_module_version": "1.5.0",
            "_model_name": "DescriptionStyleModel",
            "_view_count": null,
            "_view_module": "@jupyter-widgets/base",
            "_view_module_version": "1.2.0",
            "_view_name": "StyleView",
            "description_width": ""
          }
        },
        "8f70a573db4b4c7f9e73f72ac50821e8": {
          "model_module": "@jupyter-widgets/base",
          "model_name": "LayoutModel",
          "model_module_version": "1.2.0",
          "state": {
            "_model_module": "@jupyter-widgets/base",
            "_model_module_version": "1.2.0",
            "_model_name": "LayoutModel",
            "_view_count": null,
            "_view_module": "@jupyter-widgets/base",
            "_view_module_version": "1.2.0",
            "_view_name": "LayoutView",
            "align_content": null,
            "align_items": null,
            "align_self": null,
            "border": null,
            "bottom": null,
            "display": null,
            "flex": null,
            "flex_flow": null,
            "grid_area": null,
            "grid_auto_columns": null,
            "grid_auto_flow": null,
            "grid_auto_rows": null,
            "grid_column": null,
            "grid_gap": null,
            "grid_row": null,
            "grid_template_areas": null,
            "grid_template_columns": null,
            "grid_template_rows": null,
            "height": null,
            "justify_content": null,
            "justify_items": null,
            "left": null,
            "margin": null,
            "max_height": null,
            "max_width": null,
            "min_height": null,
            "min_width": null,
            "object_fit": null,
            "object_position": null,
            "order": null,
            "overflow": null,
            "overflow_x": null,
            "overflow_y": null,
            "padding": null,
            "right": null,
            "top": null,
            "visibility": null,
            "width": null
          }
        },
        "25af33bc8e4e446dae00d8503f97a4a3": {
          "model_module": "@jupyter-widgets/controls",
          "model_name": "ProgressStyleModel",
          "model_module_version": "1.5.0",
          "state": {
            "_model_module": "@jupyter-widgets/controls",
            "_model_module_version": "1.5.0",
            "_model_name": "ProgressStyleModel",
            "_view_count": null,
            "_view_module": "@jupyter-widgets/base",
            "_view_module_version": "1.2.0",
            "_view_name": "StyleView",
            "bar_color": null,
            "description_width": ""
          }
        },
        "a56ad1e29b72428c83d2c7579dd1e8aa": {
          "model_module": "@jupyter-widgets/base",
          "model_name": "LayoutModel",
          "model_module_version": "1.2.0",
          "state": {
            "_model_module": "@jupyter-widgets/base",
            "_model_module_version": "1.2.0",
            "_model_name": "LayoutModel",
            "_view_count": null,
            "_view_module": "@jupyter-widgets/base",
            "_view_module_version": "1.2.0",
            "_view_name": "LayoutView",
            "align_content": null,
            "align_items": null,
            "align_self": null,
            "border": null,
            "bottom": null,
            "display": null,
            "flex": null,
            "flex_flow": null,
            "grid_area": null,
            "grid_auto_columns": null,
            "grid_auto_flow": null,
            "grid_auto_rows": null,
            "grid_column": null,
            "grid_gap": null,
            "grid_row": null,
            "grid_template_areas": null,
            "grid_template_columns": null,
            "grid_template_rows": null,
            "height": null,
            "justify_content": null,
            "justify_items": null,
            "left": null,
            "margin": null,
            "max_height": null,
            "max_width": null,
            "min_height": null,
            "min_width": null,
            "object_fit": null,
            "object_position": null,
            "order": null,
            "overflow": null,
            "overflow_x": null,
            "overflow_y": null,
            "padding": null,
            "right": null,
            "top": null,
            "visibility": null,
            "width": null
          }
        },
        "e38a8b587fe04fbd948461fa94db7fb4": {
          "model_module": "@jupyter-widgets/controls",
          "model_name": "DescriptionStyleModel",
          "model_module_version": "1.5.0",
          "state": {
            "_model_module": "@jupyter-widgets/controls",
            "_model_module_version": "1.5.0",
            "_model_name": "DescriptionStyleModel",
            "_view_count": null,
            "_view_module": "@jupyter-widgets/base",
            "_view_module_version": "1.2.0",
            "_view_name": "StyleView",
            "description_width": ""
          }
        },
        "31b55f9c192c43a3aa3df01427bf22a8": {
          "model_module": "@jupyter-widgets/controls",
          "model_name": "HBoxModel",
          "model_module_version": "1.5.0",
          "state": {
            "_dom_classes": [],
            "_model_module": "@jupyter-widgets/controls",
            "_model_module_version": "1.5.0",
            "_model_name": "HBoxModel",
            "_view_count": null,
            "_view_module": "@jupyter-widgets/controls",
            "_view_module_version": "1.5.0",
            "_view_name": "HBoxView",
            "box_style": "",
            "children": [
              "IPY_MODEL_7983b63e210b4b0fa5df5d13db62c921",
              "IPY_MODEL_68ce6cbbbeb64743830be974cc07235b",
              "IPY_MODEL_63accb773fc94da7b7d8fa7045387af6"
            ],
            "layout": "IPY_MODEL_13dcc2247e954d30801e28c81b225ccb"
          }
        },
        "7983b63e210b4b0fa5df5d13db62c921": {
          "model_module": "@jupyter-widgets/controls",
          "model_name": "HTMLModel",
          "model_module_version": "1.5.0",
          "state": {
            "_dom_classes": [],
            "_model_module": "@jupyter-widgets/controls",
            "_model_module_version": "1.5.0",
            "_model_name": "HTMLModel",
            "_view_count": null,
            "_view_module": "@jupyter-widgets/controls",
            "_view_module_version": "1.5.0",
            "_view_name": "HTMLView",
            "description": "",
            "description_tooltip": null,
            "layout": "IPY_MODEL_a3b4a708ebcc486ebfaa51d798f6f062",
            "placeholder": "​",
            "style": "IPY_MODEL_631b655c08f8491aa6fb1ffaaedff404",
            "value": "vocab.txt: 100%"
          }
        },
        "68ce6cbbbeb64743830be974cc07235b": {
          "model_module": "@jupyter-widgets/controls",
          "model_name": "FloatProgressModel",
          "model_module_version": "1.5.0",
          "state": {
            "_dom_classes": [],
            "_model_module": "@jupyter-widgets/controls",
            "_model_module_version": "1.5.0",
            "_model_name": "FloatProgressModel",
            "_view_count": null,
            "_view_module": "@jupyter-widgets/controls",
            "_view_module_version": "1.5.0",
            "_view_name": "ProgressView",
            "bar_style": "success",
            "description": "",
            "description_tooltip": null,
            "layout": "IPY_MODEL_0f8e39fcbca34922876284a69e2b69ba",
            "max": 213450,
            "min": 0,
            "orientation": "horizontal",
            "style": "IPY_MODEL_4a6bf2b776c34ab7b9ec41b387ccd0ff",
            "value": 213450
          }
        },
        "63accb773fc94da7b7d8fa7045387af6": {
          "model_module": "@jupyter-widgets/controls",
          "model_name": "HTMLModel",
          "model_module_version": "1.5.0",
          "state": {
            "_dom_classes": [],
            "_model_module": "@jupyter-widgets/controls",
            "_model_module_version": "1.5.0",
            "_model_name": "HTMLModel",
            "_view_count": null,
            "_view_module": "@jupyter-widgets/controls",
            "_view_module_version": "1.5.0",
            "_view_name": "HTMLView",
            "description": "",
            "description_tooltip": null,
            "layout": "IPY_MODEL_6b3801b839bd488db741820d642d53a8",
            "placeholder": "​",
            "style": "IPY_MODEL_ab46105127b84958870bd30a87b0dd99",
            "value": " 213k/213k [00:00&lt;00:00, 3.77MB/s]"
          }
        },
        "13dcc2247e954d30801e28c81b225ccb": {
          "model_module": "@jupyter-widgets/base",
          "model_name": "LayoutModel",
          "model_module_version": "1.2.0",
          "state": {
            "_model_module": "@jupyter-widgets/base",
            "_model_module_version": "1.2.0",
            "_model_name": "LayoutModel",
            "_view_count": null,
            "_view_module": "@jupyter-widgets/base",
            "_view_module_version": "1.2.0",
            "_view_name": "LayoutView",
            "align_content": null,
            "align_items": null,
            "align_self": null,
            "border": null,
            "bottom": null,
            "display": null,
            "flex": null,
            "flex_flow": null,
            "grid_area": null,
            "grid_auto_columns": null,
            "grid_auto_flow": null,
            "grid_auto_rows": null,
            "grid_column": null,
            "grid_gap": null,
            "grid_row": null,
            "grid_template_areas": null,
            "grid_template_columns": null,
            "grid_template_rows": null,
            "height": null,
            "justify_content": null,
            "justify_items": null,
            "left": null,
            "margin": null,
            "max_height": null,
            "max_width": null,
            "min_height": null,
            "min_width": null,
            "object_fit": null,
            "object_position": null,
            "order": null,
            "overflow": null,
            "overflow_x": null,
            "overflow_y": null,
            "padding": null,
            "right": null,
            "top": null,
            "visibility": null,
            "width": null
          }
        },
        "a3b4a708ebcc486ebfaa51d798f6f062": {
          "model_module": "@jupyter-widgets/base",
          "model_name": "LayoutModel",
          "model_module_version": "1.2.0",
          "state": {
            "_model_module": "@jupyter-widgets/base",
            "_model_module_version": "1.2.0",
            "_model_name": "LayoutModel",
            "_view_count": null,
            "_view_module": "@jupyter-widgets/base",
            "_view_module_version": "1.2.0",
            "_view_name": "LayoutView",
            "align_content": null,
            "align_items": null,
            "align_self": null,
            "border": null,
            "bottom": null,
            "display": null,
            "flex": null,
            "flex_flow": null,
            "grid_area": null,
            "grid_auto_columns": null,
            "grid_auto_flow": null,
            "grid_auto_rows": null,
            "grid_column": null,
            "grid_gap": null,
            "grid_row": null,
            "grid_template_areas": null,
            "grid_template_columns": null,
            "grid_template_rows": null,
            "height": null,
            "justify_content": null,
            "justify_items": null,
            "left": null,
            "margin": null,
            "max_height": null,
            "max_width": null,
            "min_height": null,
            "min_width": null,
            "object_fit": null,
            "object_position": null,
            "order": null,
            "overflow": null,
            "overflow_x": null,
            "overflow_y": null,
            "padding": null,
            "right": null,
            "top": null,
            "visibility": null,
            "width": null
          }
        },
        "631b655c08f8491aa6fb1ffaaedff404": {
          "model_module": "@jupyter-widgets/controls",
          "model_name": "DescriptionStyleModel",
          "model_module_version": "1.5.0",
          "state": {
            "_model_module": "@jupyter-widgets/controls",
            "_model_module_version": "1.5.0",
            "_model_name": "DescriptionStyleModel",
            "_view_count": null,
            "_view_module": "@jupyter-widgets/base",
            "_view_module_version": "1.2.0",
            "_view_name": "StyleView",
            "description_width": ""
          }
        },
        "0f8e39fcbca34922876284a69e2b69ba": {
          "model_module": "@jupyter-widgets/base",
          "model_name": "LayoutModel",
          "model_module_version": "1.2.0",
          "state": {
            "_model_module": "@jupyter-widgets/base",
            "_model_module_version": "1.2.0",
            "_model_name": "LayoutModel",
            "_view_count": null,
            "_view_module": "@jupyter-widgets/base",
            "_view_module_version": "1.2.0",
            "_view_name": "LayoutView",
            "align_content": null,
            "align_items": null,
            "align_self": null,
            "border": null,
            "bottom": null,
            "display": null,
            "flex": null,
            "flex_flow": null,
            "grid_area": null,
            "grid_auto_columns": null,
            "grid_auto_flow": null,
            "grid_auto_rows": null,
            "grid_column": null,
            "grid_gap": null,
            "grid_row": null,
            "grid_template_areas": null,
            "grid_template_columns": null,
            "grid_template_rows": null,
            "height": null,
            "justify_content": null,
            "justify_items": null,
            "left": null,
            "margin": null,
            "max_height": null,
            "max_width": null,
            "min_height": null,
            "min_width": null,
            "object_fit": null,
            "object_position": null,
            "order": null,
            "overflow": null,
            "overflow_x": null,
            "overflow_y": null,
            "padding": null,
            "right": null,
            "top": null,
            "visibility": null,
            "width": null
          }
        },
        "4a6bf2b776c34ab7b9ec41b387ccd0ff": {
          "model_module": "@jupyter-widgets/controls",
          "model_name": "ProgressStyleModel",
          "model_module_version": "1.5.0",
          "state": {
            "_model_module": "@jupyter-widgets/controls",
            "_model_module_version": "1.5.0",
            "_model_name": "ProgressStyleModel",
            "_view_count": null,
            "_view_module": "@jupyter-widgets/base",
            "_view_module_version": "1.2.0",
            "_view_name": "StyleView",
            "bar_color": null,
            "description_width": ""
          }
        },
        "6b3801b839bd488db741820d642d53a8": {
          "model_module": "@jupyter-widgets/base",
          "model_name": "LayoutModel",
          "model_module_version": "1.2.0",
          "state": {
            "_model_module": "@jupyter-widgets/base",
            "_model_module_version": "1.2.0",
            "_model_name": "LayoutModel",
            "_view_count": null,
            "_view_module": "@jupyter-widgets/base",
            "_view_module_version": "1.2.0",
            "_view_name": "LayoutView",
            "align_content": null,
            "align_items": null,
            "align_self": null,
            "border": null,
            "bottom": null,
            "display": null,
            "flex": null,
            "flex_flow": null,
            "grid_area": null,
            "grid_auto_columns": null,
            "grid_auto_flow": null,
            "grid_auto_rows": null,
            "grid_column": null,
            "grid_gap": null,
            "grid_row": null,
            "grid_template_areas": null,
            "grid_template_columns": null,
            "grid_template_rows": null,
            "height": null,
            "justify_content": null,
            "justify_items": null,
            "left": null,
            "margin": null,
            "max_height": null,
            "max_width": null,
            "min_height": null,
            "min_width": null,
            "object_fit": null,
            "object_position": null,
            "order": null,
            "overflow": null,
            "overflow_x": null,
            "overflow_y": null,
            "padding": null,
            "right": null,
            "top": null,
            "visibility": null,
            "width": null
          }
        },
        "ab46105127b84958870bd30a87b0dd99": {
          "model_module": "@jupyter-widgets/controls",
          "model_name": "DescriptionStyleModel",
          "model_module_version": "1.5.0",
          "state": {
            "_model_module": "@jupyter-widgets/controls",
            "_model_module_version": "1.5.0",
            "_model_name": "DescriptionStyleModel",
            "_view_count": null,
            "_view_module": "@jupyter-widgets/base",
            "_view_module_version": "1.2.0",
            "_view_name": "StyleView",
            "description_width": ""
          }
        },
        "37f4f4e392af493da94809bb41dfbe71": {
          "model_module": "@jupyter-widgets/controls",
          "model_name": "HBoxModel",
          "model_module_version": "1.5.0",
          "state": {
            "_dom_classes": [],
            "_model_module": "@jupyter-widgets/controls",
            "_model_module_version": "1.5.0",
            "_model_name": "HBoxModel",
            "_view_count": null,
            "_view_module": "@jupyter-widgets/controls",
            "_view_module_version": "1.5.0",
            "_view_name": "HBoxView",
            "box_style": "",
            "children": [
              "IPY_MODEL_beb20f04cfe047c5b8adce6a2ee3f458",
              "IPY_MODEL_70f43917f47f49ccaea1b14191070140",
              "IPY_MODEL_48124921eea64bf6b27afb33132efa5d"
            ],
            "layout": "IPY_MODEL_8e6b2f8b2fb14598b094794ca21515ed"
          }
        },
        "beb20f04cfe047c5b8adce6a2ee3f458": {
          "model_module": "@jupyter-widgets/controls",
          "model_name": "HTMLModel",
          "model_module_version": "1.5.0",
          "state": {
            "_dom_classes": [],
            "_model_module": "@jupyter-widgets/controls",
            "_model_module_version": "1.5.0",
            "_model_name": "HTMLModel",
            "_view_count": null,
            "_view_module": "@jupyter-widgets/controls",
            "_view_module_version": "1.5.0",
            "_view_name": "HTMLView",
            "description": "",
            "description_tooltip": null,
            "layout": "IPY_MODEL_d45eb48efbb646e7843a8f96dfb17cf9",
            "placeholder": "​",
            "style": "IPY_MODEL_6e6ca928ba8946c48529a0eb4645b3fd",
            "value": "tokenizer.json: 100%"
          }
        },
        "70f43917f47f49ccaea1b14191070140": {
          "model_module": "@jupyter-widgets/controls",
          "model_name": "FloatProgressModel",
          "model_module_version": "1.5.0",
          "state": {
            "_dom_classes": [],
            "_model_module": "@jupyter-widgets/controls",
            "_model_module_version": "1.5.0",
            "_model_name": "FloatProgressModel",
            "_view_count": null,
            "_view_module": "@jupyter-widgets/controls",
            "_view_module_version": "1.5.0",
            "_view_name": "ProgressView",
            "bar_style": "success",
            "description": "",
            "description_tooltip": null,
            "layout": "IPY_MODEL_48f6e04f8a074d6cb9f761fee793fa20",
            "max": 435797,
            "min": 0,
            "orientation": "horizontal",
            "style": "IPY_MODEL_095ca2267b654742924b132a7ce27216",
            "value": 435797
          }
        },
        "48124921eea64bf6b27afb33132efa5d": {
          "model_module": "@jupyter-widgets/controls",
          "model_name": "HTMLModel",
          "model_module_version": "1.5.0",
          "state": {
            "_dom_classes": [],
            "_model_module": "@jupyter-widgets/controls",
            "_model_module_version": "1.5.0",
            "_model_name": "HTMLModel",
            "_view_count": null,
            "_view_module": "@jupyter-widgets/controls",
            "_view_module_version": "1.5.0",
            "_view_name": "HTMLView",
            "description": "",
            "description_tooltip": null,
            "layout": "IPY_MODEL_7da37dfe905b4a348231e0a61be10274",
            "placeholder": "​",
            "style": "IPY_MODEL_eb96113352494b1d9d94ce94f25ddaf2",
            "value": " 436k/436k [00:00&lt;00:00, 7.67MB/s]"
          }
        },
        "8e6b2f8b2fb14598b094794ca21515ed": {
          "model_module": "@jupyter-widgets/base",
          "model_name": "LayoutModel",
          "model_module_version": "1.2.0",
          "state": {
            "_model_module": "@jupyter-widgets/base",
            "_model_module_version": "1.2.0",
            "_model_name": "LayoutModel",
            "_view_count": null,
            "_view_module": "@jupyter-widgets/base",
            "_view_module_version": "1.2.0",
            "_view_name": "LayoutView",
            "align_content": null,
            "align_items": null,
            "align_self": null,
            "border": null,
            "bottom": null,
            "display": null,
            "flex": null,
            "flex_flow": null,
            "grid_area": null,
            "grid_auto_columns": null,
            "grid_auto_flow": null,
            "grid_auto_rows": null,
            "grid_column": null,
            "grid_gap": null,
            "grid_row": null,
            "grid_template_areas": null,
            "grid_template_columns": null,
            "grid_template_rows": null,
            "height": null,
            "justify_content": null,
            "justify_items": null,
            "left": null,
            "margin": null,
            "max_height": null,
            "max_width": null,
            "min_height": null,
            "min_width": null,
            "object_fit": null,
            "object_position": null,
            "order": null,
            "overflow": null,
            "overflow_x": null,
            "overflow_y": null,
            "padding": null,
            "right": null,
            "top": null,
            "visibility": null,
            "width": null
          }
        },
        "d45eb48efbb646e7843a8f96dfb17cf9": {
          "model_module": "@jupyter-widgets/base",
          "model_name": "LayoutModel",
          "model_module_version": "1.2.0",
          "state": {
            "_model_module": "@jupyter-widgets/base",
            "_model_module_version": "1.2.0",
            "_model_name": "LayoutModel",
            "_view_count": null,
            "_view_module": "@jupyter-widgets/base",
            "_view_module_version": "1.2.0",
            "_view_name": "LayoutView",
            "align_content": null,
            "align_items": null,
            "align_self": null,
            "border": null,
            "bottom": null,
            "display": null,
            "flex": null,
            "flex_flow": null,
            "grid_area": null,
            "grid_auto_columns": null,
            "grid_auto_flow": null,
            "grid_auto_rows": null,
            "grid_column": null,
            "grid_gap": null,
            "grid_row": null,
            "grid_template_areas": null,
            "grid_template_columns": null,
            "grid_template_rows": null,
            "height": null,
            "justify_content": null,
            "justify_items": null,
            "left": null,
            "margin": null,
            "max_height": null,
            "max_width": null,
            "min_height": null,
            "min_width": null,
            "object_fit": null,
            "object_position": null,
            "order": null,
            "overflow": null,
            "overflow_x": null,
            "overflow_y": null,
            "padding": null,
            "right": null,
            "top": null,
            "visibility": null,
            "width": null
          }
        },
        "6e6ca928ba8946c48529a0eb4645b3fd": {
          "model_module": "@jupyter-widgets/controls",
          "model_name": "DescriptionStyleModel",
          "model_module_version": "1.5.0",
          "state": {
            "_model_module": "@jupyter-widgets/controls",
            "_model_module_version": "1.5.0",
            "_model_name": "DescriptionStyleModel",
            "_view_count": null,
            "_view_module": "@jupyter-widgets/base",
            "_view_module_version": "1.2.0",
            "_view_name": "StyleView",
            "description_width": ""
          }
        },
        "48f6e04f8a074d6cb9f761fee793fa20": {
          "model_module": "@jupyter-widgets/base",
          "model_name": "LayoutModel",
          "model_module_version": "1.2.0",
          "state": {
            "_model_module": "@jupyter-widgets/base",
            "_model_module_version": "1.2.0",
            "_model_name": "LayoutModel",
            "_view_count": null,
            "_view_module": "@jupyter-widgets/base",
            "_view_module_version": "1.2.0",
            "_view_name": "LayoutView",
            "align_content": null,
            "align_items": null,
            "align_self": null,
            "border": null,
            "bottom": null,
            "display": null,
            "flex": null,
            "flex_flow": null,
            "grid_area": null,
            "grid_auto_columns": null,
            "grid_auto_flow": null,
            "grid_auto_rows": null,
            "grid_column": null,
            "grid_gap": null,
            "grid_row": null,
            "grid_template_areas": null,
            "grid_template_columns": null,
            "grid_template_rows": null,
            "height": null,
            "justify_content": null,
            "justify_items": null,
            "left": null,
            "margin": null,
            "max_height": null,
            "max_width": null,
            "min_height": null,
            "min_width": null,
            "object_fit": null,
            "object_position": null,
            "order": null,
            "overflow": null,
            "overflow_x": null,
            "overflow_y": null,
            "padding": null,
            "right": null,
            "top": null,
            "visibility": null,
            "width": null
          }
        },
        "095ca2267b654742924b132a7ce27216": {
          "model_module": "@jupyter-widgets/controls",
          "model_name": "ProgressStyleModel",
          "model_module_version": "1.5.0",
          "state": {
            "_model_module": "@jupyter-widgets/controls",
            "_model_module_version": "1.5.0",
            "_model_name": "ProgressStyleModel",
            "_view_count": null,
            "_view_module": "@jupyter-widgets/base",
            "_view_module_version": "1.2.0",
            "_view_name": "StyleView",
            "bar_color": null,
            "description_width": ""
          }
        },
        "7da37dfe905b4a348231e0a61be10274": {
          "model_module": "@jupyter-widgets/base",
          "model_name": "LayoutModel",
          "model_module_version": "1.2.0",
          "state": {
            "_model_module": "@jupyter-widgets/base",
            "_model_module_version": "1.2.0",
            "_model_name": "LayoutModel",
            "_view_count": null,
            "_view_module": "@jupyter-widgets/base",
            "_view_module_version": "1.2.0",
            "_view_name": "LayoutView",
            "align_content": null,
            "align_items": null,
            "align_self": null,
            "border": null,
            "bottom": null,
            "display": null,
            "flex": null,
            "flex_flow": null,
            "grid_area": null,
            "grid_auto_columns": null,
            "grid_auto_flow": null,
            "grid_auto_rows": null,
            "grid_column": null,
            "grid_gap": null,
            "grid_row": null,
            "grid_template_areas": null,
            "grid_template_columns": null,
            "grid_template_rows": null,
            "height": null,
            "justify_content": null,
            "justify_items": null,
            "left": null,
            "margin": null,
            "max_height": null,
            "max_width": null,
            "min_height": null,
            "min_width": null,
            "object_fit": null,
            "object_position": null,
            "order": null,
            "overflow": null,
            "overflow_x": null,
            "overflow_y": null,
            "padding": null,
            "right": null,
            "top": null,
            "visibility": null,
            "width": null
          }
        },
        "eb96113352494b1d9d94ce94f25ddaf2": {
          "model_module": "@jupyter-widgets/controls",
          "model_name": "DescriptionStyleModel",
          "model_module_version": "1.5.0",
          "state": {
            "_model_module": "@jupyter-widgets/controls",
            "_model_module_version": "1.5.0",
            "_model_name": "DescriptionStyleModel",
            "_view_count": null,
            "_view_module": "@jupyter-widgets/base",
            "_view_module_version": "1.2.0",
            "_view_name": "StyleView",
            "description_width": ""
          }
        },
        "b1814512291f4fcdbb569a9e81f0d6c0": {
          "model_module": "@jupyter-widgets/controls",
          "model_name": "HBoxModel",
          "model_module_version": "1.5.0",
          "state": {
            "_dom_classes": [],
            "_model_module": "@jupyter-widgets/controls",
            "_model_module_version": "1.5.0",
            "_model_name": "HBoxModel",
            "_view_count": null,
            "_view_module": "@jupyter-widgets/controls",
            "_view_module_version": "1.5.0",
            "_view_name": "HBoxView",
            "box_style": "",
            "children": [
              "IPY_MODEL_01f7cb09154e4c2a85f192a2b976a7f8",
              "IPY_MODEL_8fb8f35770c143b3b3b09eb7a03caf77",
              "IPY_MODEL_f6b4e751e3a044b2a0efb4d405e404fd"
            ],
            "layout": "IPY_MODEL_46ba8f2762c74ddf8a851ad77adf5364"
          }
        },
        "01f7cb09154e4c2a85f192a2b976a7f8": {
          "model_module": "@jupyter-widgets/controls",
          "model_name": "HTMLModel",
          "model_module_version": "1.5.0",
          "state": {
            "_dom_classes": [],
            "_model_module": "@jupyter-widgets/controls",
            "_model_module_version": "1.5.0",
            "_model_name": "HTMLModel",
            "_view_count": null,
            "_view_module": "@jupyter-widgets/controls",
            "_view_module_version": "1.5.0",
            "_view_name": "HTMLView",
            "description": "",
            "description_tooltip": null,
            "layout": "IPY_MODEL_0ac451694a2a4cce9b2f5b4f6b283fd9",
            "placeholder": "​",
            "style": "IPY_MODEL_42745ca8b7c347108a3ba291d200179b",
            "value": "config.json: 100%"
          }
        },
        "8fb8f35770c143b3b3b09eb7a03caf77": {
          "model_module": "@jupyter-widgets/controls",
          "model_name": "FloatProgressModel",
          "model_module_version": "1.5.0",
          "state": {
            "_dom_classes": [],
            "_model_module": "@jupyter-widgets/controls",
            "_model_module_version": "1.5.0",
            "_model_name": "FloatProgressModel",
            "_view_count": null,
            "_view_module": "@jupyter-widgets/controls",
            "_view_module_version": "1.5.0",
            "_view_name": "ProgressView",
            "bar_style": "success",
            "description": "",
            "description_tooltip": null,
            "layout": "IPY_MODEL_d19866a03388456982308e8c365634c9",
            "max": 760,
            "min": 0,
            "orientation": "horizontal",
            "style": "IPY_MODEL_9c44f5835fe84c40a824a2d9cee74e85",
            "value": 760
          }
        },
        "f6b4e751e3a044b2a0efb4d405e404fd": {
          "model_module": "@jupyter-widgets/controls",
          "model_name": "HTMLModel",
          "model_module_version": "1.5.0",
          "state": {
            "_dom_classes": [],
            "_model_module": "@jupyter-widgets/controls",
            "_model_module_version": "1.5.0",
            "_model_name": "HTMLModel",
            "_view_count": null,
            "_view_module": "@jupyter-widgets/controls",
            "_view_module_version": "1.5.0",
            "_view_name": "HTMLView",
            "description": "",
            "description_tooltip": null,
            "layout": "IPY_MODEL_d99aad67ae974cea836545528151b0e9",
            "placeholder": "​",
            "style": "IPY_MODEL_be059a5ca1084d8eb4d56d9c222f267e",
            "value": " 760/760 [00:00&lt;00:00, 12.2kB/s]"
          }
        },
        "46ba8f2762c74ddf8a851ad77adf5364": {
          "model_module": "@jupyter-widgets/base",
          "model_name": "LayoutModel",
          "model_module_version": "1.2.0",
          "state": {
            "_model_module": "@jupyter-widgets/base",
            "_model_module_version": "1.2.0",
            "_model_name": "LayoutModel",
            "_view_count": null,
            "_view_module": "@jupyter-widgets/base",
            "_view_module_version": "1.2.0",
            "_view_name": "LayoutView",
            "align_content": null,
            "align_items": null,
            "align_self": null,
            "border": null,
            "bottom": null,
            "display": null,
            "flex": null,
            "flex_flow": null,
            "grid_area": null,
            "grid_auto_columns": null,
            "grid_auto_flow": null,
            "grid_auto_rows": null,
            "grid_column": null,
            "grid_gap": null,
            "grid_row": null,
            "grid_template_areas": null,
            "grid_template_columns": null,
            "grid_template_rows": null,
            "height": null,
            "justify_content": null,
            "justify_items": null,
            "left": null,
            "margin": null,
            "max_height": null,
            "max_width": null,
            "min_height": null,
            "min_width": null,
            "object_fit": null,
            "object_position": null,
            "order": null,
            "overflow": null,
            "overflow_x": null,
            "overflow_y": null,
            "padding": null,
            "right": null,
            "top": null,
            "visibility": null,
            "width": null
          }
        },
        "0ac451694a2a4cce9b2f5b4f6b283fd9": {
          "model_module": "@jupyter-widgets/base",
          "model_name": "LayoutModel",
          "model_module_version": "1.2.0",
          "state": {
            "_model_module": "@jupyter-widgets/base",
            "_model_module_version": "1.2.0",
            "_model_name": "LayoutModel",
            "_view_count": null,
            "_view_module": "@jupyter-widgets/base",
            "_view_module_version": "1.2.0",
            "_view_name": "LayoutView",
            "align_content": null,
            "align_items": null,
            "align_self": null,
            "border": null,
            "bottom": null,
            "display": null,
            "flex": null,
            "flex_flow": null,
            "grid_area": null,
            "grid_auto_columns": null,
            "grid_auto_flow": null,
            "grid_auto_rows": null,
            "grid_column": null,
            "grid_gap": null,
            "grid_row": null,
            "grid_template_areas": null,
            "grid_template_columns": null,
            "grid_template_rows": null,
            "height": null,
            "justify_content": null,
            "justify_items": null,
            "left": null,
            "margin": null,
            "max_height": null,
            "max_width": null,
            "min_height": null,
            "min_width": null,
            "object_fit": null,
            "object_position": null,
            "order": null,
            "overflow": null,
            "overflow_x": null,
            "overflow_y": null,
            "padding": null,
            "right": null,
            "top": null,
            "visibility": null,
            "width": null
          }
        },
        "42745ca8b7c347108a3ba291d200179b": {
          "model_module": "@jupyter-widgets/controls",
          "model_name": "DescriptionStyleModel",
          "model_module_version": "1.5.0",
          "state": {
            "_model_module": "@jupyter-widgets/controls",
            "_model_module_version": "1.5.0",
            "_model_name": "DescriptionStyleModel",
            "_view_count": null,
            "_view_module": "@jupyter-widgets/base",
            "_view_module_version": "1.2.0",
            "_view_name": "StyleView",
            "description_width": ""
          }
        },
        "d19866a03388456982308e8c365634c9": {
          "model_module": "@jupyter-widgets/base",
          "model_name": "LayoutModel",
          "model_module_version": "1.2.0",
          "state": {
            "_model_module": "@jupyter-widgets/base",
            "_model_module_version": "1.2.0",
            "_model_name": "LayoutModel",
            "_view_count": null,
            "_view_module": "@jupyter-widgets/base",
            "_view_module_version": "1.2.0",
            "_view_name": "LayoutView",
            "align_content": null,
            "align_items": null,
            "align_self": null,
            "border": null,
            "bottom": null,
            "display": null,
            "flex": null,
            "flex_flow": null,
            "grid_area": null,
            "grid_auto_columns": null,
            "grid_auto_flow": null,
            "grid_auto_rows": null,
            "grid_column": null,
            "grid_gap": null,
            "grid_row": null,
            "grid_template_areas": null,
            "grid_template_columns": null,
            "grid_template_rows": null,
            "height": null,
            "justify_content": null,
            "justify_items": null,
            "left": null,
            "margin": null,
            "max_height": null,
            "max_width": null,
            "min_height": null,
            "min_width": null,
            "object_fit": null,
            "object_position": null,
            "order": null,
            "overflow": null,
            "overflow_x": null,
            "overflow_y": null,
            "padding": null,
            "right": null,
            "top": null,
            "visibility": null,
            "width": null
          }
        },
        "9c44f5835fe84c40a824a2d9cee74e85": {
          "model_module": "@jupyter-widgets/controls",
          "model_name": "ProgressStyleModel",
          "model_module_version": "1.5.0",
          "state": {
            "_model_module": "@jupyter-widgets/controls",
            "_model_module_version": "1.5.0",
            "_model_name": "ProgressStyleModel",
            "_view_count": null,
            "_view_module": "@jupyter-widgets/base",
            "_view_module_version": "1.2.0",
            "_view_name": "StyleView",
            "bar_color": null,
            "description_width": ""
          }
        },
        "d99aad67ae974cea836545528151b0e9": {
          "model_module": "@jupyter-widgets/base",
          "model_name": "LayoutModel",
          "model_module_version": "1.2.0",
          "state": {
            "_model_module": "@jupyter-widgets/base",
            "_model_module_version": "1.2.0",
            "_model_name": "LayoutModel",
            "_view_count": null,
            "_view_module": "@jupyter-widgets/base",
            "_view_module_version": "1.2.0",
            "_view_name": "LayoutView",
            "align_content": null,
            "align_items": null,
            "align_self": null,
            "border": null,
            "bottom": null,
            "display": null,
            "flex": null,
            "flex_flow": null,
            "grid_area": null,
            "grid_auto_columns": null,
            "grid_auto_flow": null,
            "grid_auto_rows": null,
            "grid_column": null,
            "grid_gap": null,
            "grid_row": null,
            "grid_template_areas": null,
            "grid_template_columns": null,
            "grid_template_rows": null,
            "height": null,
            "justify_content": null,
            "justify_items": null,
            "left": null,
            "margin": null,
            "max_height": null,
            "max_width": null,
            "min_height": null,
            "min_width": null,
            "object_fit": null,
            "object_position": null,
            "order": null,
            "overflow": null,
            "overflow_x": null,
            "overflow_y": null,
            "padding": null,
            "right": null,
            "top": null,
            "visibility": null,
            "width": null
          }
        },
        "be059a5ca1084d8eb4d56d9c222f267e": {
          "model_module": "@jupyter-widgets/controls",
          "model_name": "DescriptionStyleModel",
          "model_module_version": "1.5.0",
          "state": {
            "_model_module": "@jupyter-widgets/controls",
            "_model_module_version": "1.5.0",
            "_model_name": "DescriptionStyleModel",
            "_view_count": null,
            "_view_module": "@jupyter-widgets/base",
            "_view_module_version": "1.2.0",
            "_view_name": "StyleView",
            "description_width": ""
          }
        },
        "725461391c02456db7bdfbba005ccdc7": {
          "model_module": "@jupyter-widgets/controls",
          "model_name": "HBoxModel",
          "model_module_version": "1.5.0",
          "state": {
            "_dom_classes": [],
            "_model_module": "@jupyter-widgets/controls",
            "_model_module_version": "1.5.0",
            "_model_name": "HBoxModel",
            "_view_count": null,
            "_view_module": "@jupyter-widgets/controls",
            "_view_module_version": "1.5.0",
            "_view_name": "HBoxView",
            "box_style": "",
            "children": [
              "IPY_MODEL_d6960d4b734349eda3a46eb70d2551a0",
              "IPY_MODEL_b33778397a344b03a866c1d581fc5310",
              "IPY_MODEL_97a8214a00654b6294f4f015be3f6ec4"
            ],
            "layout": "IPY_MODEL_7e9e283df9544e6193a1be20732b2582"
          }
        },
        "d6960d4b734349eda3a46eb70d2551a0": {
          "model_module": "@jupyter-widgets/controls",
          "model_name": "HTMLModel",
          "model_module_version": "1.5.0",
          "state": {
            "_dom_classes": [],
            "_model_module": "@jupyter-widgets/controls",
            "_model_module_version": "1.5.0",
            "_model_name": "HTMLModel",
            "_view_count": null,
            "_view_module": "@jupyter-widgets/controls",
            "_view_module_version": "1.5.0",
            "_view_name": "HTMLView",
            "description": "",
            "description_tooltip": null,
            "layout": "IPY_MODEL_2c4736870fe44080bcbc1d5f6cf730e1",
            "placeholder": "​",
            "style": "IPY_MODEL_a8cdd4a419e34160885134d87c814eb1",
            "value": "spiece.model: 100%"
          }
        },
        "b33778397a344b03a866c1d581fc5310": {
          "model_module": "@jupyter-widgets/controls",
          "model_name": "FloatProgressModel",
          "model_module_version": "1.5.0",
          "state": {
            "_dom_classes": [],
            "_model_module": "@jupyter-widgets/controls",
            "_model_module_version": "1.5.0",
            "_model_name": "FloatProgressModel",
            "_view_count": null,
            "_view_module": "@jupyter-widgets/controls",
            "_view_module_version": "1.5.0",
            "_view_name": "ProgressView",
            "bar_style": "success",
            "description": "",
            "description_tooltip": null,
            "layout": "IPY_MODEL_02490a06f7d44e6cbde9109c419dad3e",
            "max": 798011,
            "min": 0,
            "orientation": "horizontal",
            "style": "IPY_MODEL_7d9c426e1b054eed9c8c0ba7f2219747",
            "value": 798011
          }
        },
        "97a8214a00654b6294f4f015be3f6ec4": {
          "model_module": "@jupyter-widgets/controls",
          "model_name": "HTMLModel",
          "model_module_version": "1.5.0",
          "state": {
            "_dom_classes": [],
            "_model_module": "@jupyter-widgets/controls",
            "_model_module_version": "1.5.0",
            "_model_name": "HTMLModel",
            "_view_count": null,
            "_view_module": "@jupyter-widgets/controls",
            "_view_module_version": "1.5.0",
            "_view_name": "HTMLView",
            "description": "",
            "description_tooltip": null,
            "layout": "IPY_MODEL_619285b77e5048f08ebff331d82406c0",
            "placeholder": "​",
            "style": "IPY_MODEL_c766f2b915f3498096cc31861ea7def6",
            "value": " 798k/798k [00:00&lt;00:00, 4.62MB/s]"
          }
        },
        "7e9e283df9544e6193a1be20732b2582": {
          "model_module": "@jupyter-widgets/base",
          "model_name": "LayoutModel",
          "model_module_version": "1.2.0",
          "state": {
            "_model_module": "@jupyter-widgets/base",
            "_model_module_version": "1.2.0",
            "_model_name": "LayoutModel",
            "_view_count": null,
            "_view_module": "@jupyter-widgets/base",
            "_view_module_version": "1.2.0",
            "_view_name": "LayoutView",
            "align_content": null,
            "align_items": null,
            "align_self": null,
            "border": null,
            "bottom": null,
            "display": null,
            "flex": null,
            "flex_flow": null,
            "grid_area": null,
            "grid_auto_columns": null,
            "grid_auto_flow": null,
            "grid_auto_rows": null,
            "grid_column": null,
            "grid_gap": null,
            "grid_row": null,
            "grid_template_areas": null,
            "grid_template_columns": null,
            "grid_template_rows": null,
            "height": null,
            "justify_content": null,
            "justify_items": null,
            "left": null,
            "margin": null,
            "max_height": null,
            "max_width": null,
            "min_height": null,
            "min_width": null,
            "object_fit": null,
            "object_position": null,
            "order": null,
            "overflow": null,
            "overflow_x": null,
            "overflow_y": null,
            "padding": null,
            "right": null,
            "top": null,
            "visibility": null,
            "width": null
          }
        },
        "2c4736870fe44080bcbc1d5f6cf730e1": {
          "model_module": "@jupyter-widgets/base",
          "model_name": "LayoutModel",
          "model_module_version": "1.2.0",
          "state": {
            "_model_module": "@jupyter-widgets/base",
            "_model_module_version": "1.2.0",
            "_model_name": "LayoutModel",
            "_view_count": null,
            "_view_module": "@jupyter-widgets/base",
            "_view_module_version": "1.2.0",
            "_view_name": "LayoutView",
            "align_content": null,
            "align_items": null,
            "align_self": null,
            "border": null,
            "bottom": null,
            "display": null,
            "flex": null,
            "flex_flow": null,
            "grid_area": null,
            "grid_auto_columns": null,
            "grid_auto_flow": null,
            "grid_auto_rows": null,
            "grid_column": null,
            "grid_gap": null,
            "grid_row": null,
            "grid_template_areas": null,
            "grid_template_columns": null,
            "grid_template_rows": null,
            "height": null,
            "justify_content": null,
            "justify_items": null,
            "left": null,
            "margin": null,
            "max_height": null,
            "max_width": null,
            "min_height": null,
            "min_width": null,
            "object_fit": null,
            "object_position": null,
            "order": null,
            "overflow": null,
            "overflow_x": null,
            "overflow_y": null,
            "padding": null,
            "right": null,
            "top": null,
            "visibility": null,
            "width": null
          }
        },
        "a8cdd4a419e34160885134d87c814eb1": {
          "model_module": "@jupyter-widgets/controls",
          "model_name": "DescriptionStyleModel",
          "model_module_version": "1.5.0",
          "state": {
            "_model_module": "@jupyter-widgets/controls",
            "_model_module_version": "1.5.0",
            "_model_name": "DescriptionStyleModel",
            "_view_count": null,
            "_view_module": "@jupyter-widgets/base",
            "_view_module_version": "1.2.0",
            "_view_name": "StyleView",
            "description_width": ""
          }
        },
        "02490a06f7d44e6cbde9109c419dad3e": {
          "model_module": "@jupyter-widgets/base",
          "model_name": "LayoutModel",
          "model_module_version": "1.2.0",
          "state": {
            "_model_module": "@jupyter-widgets/base",
            "_model_module_version": "1.2.0",
            "_model_name": "LayoutModel",
            "_view_count": null,
            "_view_module": "@jupyter-widgets/base",
            "_view_module_version": "1.2.0",
            "_view_name": "LayoutView",
            "align_content": null,
            "align_items": null,
            "align_self": null,
            "border": null,
            "bottom": null,
            "display": null,
            "flex": null,
            "flex_flow": null,
            "grid_area": null,
            "grid_auto_columns": null,
            "grid_auto_flow": null,
            "grid_auto_rows": null,
            "grid_column": null,
            "grid_gap": null,
            "grid_row": null,
            "grid_template_areas": null,
            "grid_template_columns": null,
            "grid_template_rows": null,
            "height": null,
            "justify_content": null,
            "justify_items": null,
            "left": null,
            "margin": null,
            "max_height": null,
            "max_width": null,
            "min_height": null,
            "min_width": null,
            "object_fit": null,
            "object_position": null,
            "order": null,
            "overflow": null,
            "overflow_x": null,
            "overflow_y": null,
            "padding": null,
            "right": null,
            "top": null,
            "visibility": null,
            "width": null
          }
        },
        "7d9c426e1b054eed9c8c0ba7f2219747": {
          "model_module": "@jupyter-widgets/controls",
          "model_name": "ProgressStyleModel",
          "model_module_version": "1.5.0",
          "state": {
            "_model_module": "@jupyter-widgets/controls",
            "_model_module_version": "1.5.0",
            "_model_name": "ProgressStyleModel",
            "_view_count": null,
            "_view_module": "@jupyter-widgets/base",
            "_view_module_version": "1.2.0",
            "_view_name": "StyleView",
            "bar_color": null,
            "description_width": ""
          }
        },
        "619285b77e5048f08ebff331d82406c0": {
          "model_module": "@jupyter-widgets/base",
          "model_name": "LayoutModel",
          "model_module_version": "1.2.0",
          "state": {
            "_model_module": "@jupyter-widgets/base",
            "_model_module_version": "1.2.0",
            "_model_name": "LayoutModel",
            "_view_count": null,
            "_view_module": "@jupyter-widgets/base",
            "_view_module_version": "1.2.0",
            "_view_name": "LayoutView",
            "align_content": null,
            "align_items": null,
            "align_self": null,
            "border": null,
            "bottom": null,
            "display": null,
            "flex": null,
            "flex_flow": null,
            "grid_area": null,
            "grid_auto_columns": null,
            "grid_auto_flow": null,
            "grid_auto_rows": null,
            "grid_column": null,
            "grid_gap": null,
            "grid_row": null,
            "grid_template_areas": null,
            "grid_template_columns": null,
            "grid_template_rows": null,
            "height": null,
            "justify_content": null,
            "justify_items": null,
            "left": null,
            "margin": null,
            "max_height": null,
            "max_width": null,
            "min_height": null,
            "min_width": null,
            "object_fit": null,
            "object_position": null,
            "order": null,
            "overflow": null,
            "overflow_x": null,
            "overflow_y": null,
            "padding": null,
            "right": null,
            "top": null,
            "visibility": null,
            "width": null
          }
        },
        "c766f2b915f3498096cc31861ea7def6": {
          "model_module": "@jupyter-widgets/controls",
          "model_name": "DescriptionStyleModel",
          "model_module_version": "1.5.0",
          "state": {
            "_model_module": "@jupyter-widgets/controls",
            "_model_module_version": "1.5.0",
            "_model_name": "DescriptionStyleModel",
            "_view_count": null,
            "_view_module": "@jupyter-widgets/base",
            "_view_module_version": "1.2.0",
            "_view_name": "StyleView",
            "description_width": ""
          }
        },
        "fff83d17fb1f4084b6ebfdef8a58701a": {
          "model_module": "@jupyter-widgets/controls",
          "model_name": "HBoxModel",
          "model_module_version": "1.5.0",
          "state": {
            "_dom_classes": [],
            "_model_module": "@jupyter-widgets/controls",
            "_model_module_version": "1.5.0",
            "_model_name": "HBoxModel",
            "_view_count": null,
            "_view_module": "@jupyter-widgets/controls",
            "_view_module_version": "1.5.0",
            "_view_name": "HBoxView",
            "box_style": "",
            "children": [
              "IPY_MODEL_9a9609ffdc0e4067857bdd821515a993",
              "IPY_MODEL_24a6593640194220bb305ba301456091",
              "IPY_MODEL_a63a663c929047cfb574e10c61f23482"
            ],
            "layout": "IPY_MODEL_23014d94f17e4b75a11f7f52d53b1dfa"
          }
        },
        "9a9609ffdc0e4067857bdd821515a993": {
          "model_module": "@jupyter-widgets/controls",
          "model_name": "HTMLModel",
          "model_module_version": "1.5.0",
          "state": {
            "_dom_classes": [],
            "_model_module": "@jupyter-widgets/controls",
            "_model_module_version": "1.5.0",
            "_model_name": "HTMLModel",
            "_view_count": null,
            "_view_module": "@jupyter-widgets/controls",
            "_view_module_version": "1.5.0",
            "_view_name": "HTMLView",
            "description": "",
            "description_tooltip": null,
            "layout": "IPY_MODEL_07f91a28cd594f58b9ebef41494bdbcb",
            "placeholder": "​",
            "style": "IPY_MODEL_eb7f51da1a694af4b9bfc06f334acff6",
            "value": "tokenizer.json: 100%"
          }
        },
        "24a6593640194220bb305ba301456091": {
          "model_module": "@jupyter-widgets/controls",
          "model_name": "FloatProgressModel",
          "model_module_version": "1.5.0",
          "state": {
            "_dom_classes": [],
            "_model_module": "@jupyter-widgets/controls",
            "_model_module_version": "1.5.0",
            "_model_name": "FloatProgressModel",
            "_view_count": null,
            "_view_module": "@jupyter-widgets/controls",
            "_view_module_version": "1.5.0",
            "_view_name": "ProgressView",
            "bar_style": "success",
            "description": "",
            "description_tooltip": null,
            "layout": "IPY_MODEL_98877229a2a746668537bd6311839a94",
            "max": 1382015,
            "min": 0,
            "orientation": "horizontal",
            "style": "IPY_MODEL_318dc4ee9a3a4ad083b159703ed322eb",
            "value": 1382015
          }
        },
        "a63a663c929047cfb574e10c61f23482": {
          "model_module": "@jupyter-widgets/controls",
          "model_name": "HTMLModel",
          "model_module_version": "1.5.0",
          "state": {
            "_dom_classes": [],
            "_model_module": "@jupyter-widgets/controls",
            "_model_module_version": "1.5.0",
            "_model_name": "HTMLModel",
            "_view_count": null,
            "_view_module": "@jupyter-widgets/controls",
            "_view_module_version": "1.5.0",
            "_view_name": "HTMLView",
            "description": "",
            "description_tooltip": null,
            "layout": "IPY_MODEL_bf6fecce08cd4d14b289c1565ab3cf69",
            "placeholder": "​",
            "style": "IPY_MODEL_368e5ef8f1fa4701a759f2d400966daa",
            "value": " 1.38M/1.38M [00:00&lt;00:00, 15.2MB/s]"
          }
        },
        "23014d94f17e4b75a11f7f52d53b1dfa": {
          "model_module": "@jupyter-widgets/base",
          "model_name": "LayoutModel",
          "model_module_version": "1.2.0",
          "state": {
            "_model_module": "@jupyter-widgets/base",
            "_model_module_version": "1.2.0",
            "_model_name": "LayoutModel",
            "_view_count": null,
            "_view_module": "@jupyter-widgets/base",
            "_view_module_version": "1.2.0",
            "_view_name": "LayoutView",
            "align_content": null,
            "align_items": null,
            "align_self": null,
            "border": null,
            "bottom": null,
            "display": null,
            "flex": null,
            "flex_flow": null,
            "grid_area": null,
            "grid_auto_columns": null,
            "grid_auto_flow": null,
            "grid_auto_rows": null,
            "grid_column": null,
            "grid_gap": null,
            "grid_row": null,
            "grid_template_areas": null,
            "grid_template_columns": null,
            "grid_template_rows": null,
            "height": null,
            "justify_content": null,
            "justify_items": null,
            "left": null,
            "margin": null,
            "max_height": null,
            "max_width": null,
            "min_height": null,
            "min_width": null,
            "object_fit": null,
            "object_position": null,
            "order": null,
            "overflow": null,
            "overflow_x": null,
            "overflow_y": null,
            "padding": null,
            "right": null,
            "top": null,
            "visibility": null,
            "width": null
          }
        },
        "07f91a28cd594f58b9ebef41494bdbcb": {
          "model_module": "@jupyter-widgets/base",
          "model_name": "LayoutModel",
          "model_module_version": "1.2.0",
          "state": {
            "_model_module": "@jupyter-widgets/base",
            "_model_module_version": "1.2.0",
            "_model_name": "LayoutModel",
            "_view_count": null,
            "_view_module": "@jupyter-widgets/base",
            "_view_module_version": "1.2.0",
            "_view_name": "LayoutView",
            "align_content": null,
            "align_items": null,
            "align_self": null,
            "border": null,
            "bottom": null,
            "display": null,
            "flex": null,
            "flex_flow": null,
            "grid_area": null,
            "grid_auto_columns": null,
            "grid_auto_flow": null,
            "grid_auto_rows": null,
            "grid_column": null,
            "grid_gap": null,
            "grid_row": null,
            "grid_template_areas": null,
            "grid_template_columns": null,
            "grid_template_rows": null,
            "height": null,
            "justify_content": null,
            "justify_items": null,
            "left": null,
            "margin": null,
            "max_height": null,
            "max_width": null,
            "min_height": null,
            "min_width": null,
            "object_fit": null,
            "object_position": null,
            "order": null,
            "overflow": null,
            "overflow_x": null,
            "overflow_y": null,
            "padding": null,
            "right": null,
            "top": null,
            "visibility": null,
            "width": null
          }
        },
        "eb7f51da1a694af4b9bfc06f334acff6": {
          "model_module": "@jupyter-widgets/controls",
          "model_name": "DescriptionStyleModel",
          "model_module_version": "1.5.0",
          "state": {
            "_model_module": "@jupyter-widgets/controls",
            "_model_module_version": "1.5.0",
            "_model_name": "DescriptionStyleModel",
            "_view_count": null,
            "_view_module": "@jupyter-widgets/base",
            "_view_module_version": "1.2.0",
            "_view_name": "StyleView",
            "description_width": ""
          }
        },
        "98877229a2a746668537bd6311839a94": {
          "model_module": "@jupyter-widgets/base",
          "model_name": "LayoutModel",
          "model_module_version": "1.2.0",
          "state": {
            "_model_module": "@jupyter-widgets/base",
            "_model_module_version": "1.2.0",
            "_model_name": "LayoutModel",
            "_view_count": null,
            "_view_module": "@jupyter-widgets/base",
            "_view_module_version": "1.2.0",
            "_view_name": "LayoutView",
            "align_content": null,
            "align_items": null,
            "align_self": null,
            "border": null,
            "bottom": null,
            "display": null,
            "flex": null,
            "flex_flow": null,
            "grid_area": null,
            "grid_auto_columns": null,
            "grid_auto_flow": null,
            "grid_auto_rows": null,
            "grid_column": null,
            "grid_gap": null,
            "grid_row": null,
            "grid_template_areas": null,
            "grid_template_columns": null,
            "grid_template_rows": null,
            "height": null,
            "justify_content": null,
            "justify_items": null,
            "left": null,
            "margin": null,
            "max_height": null,
            "max_width": null,
            "min_height": null,
            "min_width": null,
            "object_fit": null,
            "object_position": null,
            "order": null,
            "overflow": null,
            "overflow_x": null,
            "overflow_y": null,
            "padding": null,
            "right": null,
            "top": null,
            "visibility": null,
            "width": null
          }
        },
        "318dc4ee9a3a4ad083b159703ed322eb": {
          "model_module": "@jupyter-widgets/controls",
          "model_name": "ProgressStyleModel",
          "model_module_version": "1.5.0",
          "state": {
            "_model_module": "@jupyter-widgets/controls",
            "_model_module_version": "1.5.0",
            "_model_name": "ProgressStyleModel",
            "_view_count": null,
            "_view_module": "@jupyter-widgets/base",
            "_view_module_version": "1.2.0",
            "_view_name": "StyleView",
            "bar_color": null,
            "description_width": ""
          }
        },
        "bf6fecce08cd4d14b289c1565ab3cf69": {
          "model_module": "@jupyter-widgets/base",
          "model_name": "LayoutModel",
          "model_module_version": "1.2.0",
          "state": {
            "_model_module": "@jupyter-widgets/base",
            "_model_module_version": "1.2.0",
            "_model_name": "LayoutModel",
            "_view_count": null,
            "_view_module": "@jupyter-widgets/base",
            "_view_module_version": "1.2.0",
            "_view_name": "LayoutView",
            "align_content": null,
            "align_items": null,
            "align_self": null,
            "border": null,
            "bottom": null,
            "display": null,
            "flex": null,
            "flex_flow": null,
            "grid_area": null,
            "grid_auto_columns": null,
            "grid_auto_flow": null,
            "grid_auto_rows": null,
            "grid_column": null,
            "grid_gap": null,
            "grid_row": null,
            "grid_template_areas": null,
            "grid_template_columns": null,
            "grid_template_rows": null,
            "height": null,
            "justify_content": null,
            "justify_items": null,
            "left": null,
            "margin": null,
            "max_height": null,
            "max_width": null,
            "min_height": null,
            "min_width": null,
            "object_fit": null,
            "object_position": null,
            "order": null,
            "overflow": null,
            "overflow_x": null,
            "overflow_y": null,
            "padding": null,
            "right": null,
            "top": null,
            "visibility": null,
            "width": null
          }
        },
        "368e5ef8f1fa4701a759f2d400966daa": {
          "model_module": "@jupyter-widgets/controls",
          "model_name": "DescriptionStyleModel",
          "model_module_version": "1.5.0",
          "state": {
            "_model_module": "@jupyter-widgets/controls",
            "_model_module_version": "1.5.0",
            "_model_name": "DescriptionStyleModel",
            "_view_count": null,
            "_view_module": "@jupyter-widgets/base",
            "_view_module_version": "1.2.0",
            "_view_name": "StyleView",
            "description_width": ""
          }
        },
        "eaa401c98bcd4964a3d22b8d93928c12": {
          "model_module": "@jupyter-widgets/controls",
          "model_name": "HBoxModel",
          "model_module_version": "1.5.0",
          "state": {
            "_dom_classes": [],
            "_model_module": "@jupyter-widgets/controls",
            "_model_module_version": "1.5.0",
            "_model_name": "HBoxModel",
            "_view_count": null,
            "_view_module": "@jupyter-widgets/controls",
            "_view_module_version": "1.5.0",
            "_view_name": "HBoxView",
            "box_style": "",
            "children": [
              "IPY_MODEL_6f4ac5d5e3bc44e9b665ef308a9185bd",
              "IPY_MODEL_f60be305dc774a9689af004439c0356c",
              "IPY_MODEL_8dc8ac19cb1d4be19bcec136e1930a7c"
            ],
            "layout": "IPY_MODEL_eec1216bff9240ba875f42370124ac29"
          }
        },
        "6f4ac5d5e3bc44e9b665ef308a9185bd": {
          "model_module": "@jupyter-widgets/controls",
          "model_name": "HTMLModel",
          "model_module_version": "1.5.0",
          "state": {
            "_dom_classes": [],
            "_model_module": "@jupyter-widgets/controls",
            "_model_module_version": "1.5.0",
            "_model_name": "HTMLModel",
            "_view_count": null,
            "_view_module": "@jupyter-widgets/controls",
            "_view_module_version": "1.5.0",
            "_view_name": "HTMLView",
            "description": "",
            "description_tooltip": null,
            "layout": "IPY_MODEL_bdb5275cdf70452baae356070697d1b9",
            "placeholder": "​",
            "style": "IPY_MODEL_5d558f80d39d4ebb9256f80ee7472eed",
            "value": "Downloading readme: 100%"
          }
        },
        "f60be305dc774a9689af004439c0356c": {
          "model_module": "@jupyter-widgets/controls",
          "model_name": "FloatProgressModel",
          "model_module_version": "1.5.0",
          "state": {
            "_dom_classes": [],
            "_model_module": "@jupyter-widgets/controls",
            "_model_module_version": "1.5.0",
            "_model_name": "FloatProgressModel",
            "_view_count": null,
            "_view_module": "@jupyter-widgets/controls",
            "_view_module_version": "1.5.0",
            "_view_name": "ProgressView",
            "bar_style": "success",
            "description": "",
            "description_tooltip": null,
            "layout": "IPY_MODEL_9799f7dcb90d4483ae12d4b8aa53bd67",
            "max": 10464,
            "min": 0,
            "orientation": "horizontal",
            "style": "IPY_MODEL_87a908ec972947e5aeae91c46398d89b",
            "value": 10464
          }
        },
        "8dc8ac19cb1d4be19bcec136e1930a7c": {
          "model_module": "@jupyter-widgets/controls",
          "model_name": "HTMLModel",
          "model_module_version": "1.5.0",
          "state": {
            "_dom_classes": [],
            "_model_module": "@jupyter-widgets/controls",
            "_model_module_version": "1.5.0",
            "_model_name": "HTMLModel",
            "_view_count": null,
            "_view_module": "@jupyter-widgets/controls",
            "_view_module_version": "1.5.0",
            "_view_name": "HTMLView",
            "description": "",
            "description_tooltip": null,
            "layout": "IPY_MODEL_ecae4813fa3840c7b70265eba21c199b",
            "placeholder": "​",
            "style": "IPY_MODEL_9124f6ae154c4d14b7eaebd825325273",
            "value": " 10.5k/10.5k [00:00&lt;00:00, 253kB/s]"
          }
        },
        "eec1216bff9240ba875f42370124ac29": {
          "model_module": "@jupyter-widgets/base",
          "model_name": "LayoutModel",
          "model_module_version": "1.2.0",
          "state": {
            "_model_module": "@jupyter-widgets/base",
            "_model_module_version": "1.2.0",
            "_model_name": "LayoutModel",
            "_view_count": null,
            "_view_module": "@jupyter-widgets/base",
            "_view_module_version": "1.2.0",
            "_view_name": "LayoutView",
            "align_content": null,
            "align_items": null,
            "align_self": null,
            "border": null,
            "bottom": null,
            "display": null,
            "flex": null,
            "flex_flow": null,
            "grid_area": null,
            "grid_auto_columns": null,
            "grid_auto_flow": null,
            "grid_auto_rows": null,
            "grid_column": null,
            "grid_gap": null,
            "grid_row": null,
            "grid_template_areas": null,
            "grid_template_columns": null,
            "grid_template_rows": null,
            "height": null,
            "justify_content": null,
            "justify_items": null,
            "left": null,
            "margin": null,
            "max_height": null,
            "max_width": null,
            "min_height": null,
            "min_width": null,
            "object_fit": null,
            "object_position": null,
            "order": null,
            "overflow": null,
            "overflow_x": null,
            "overflow_y": null,
            "padding": null,
            "right": null,
            "top": null,
            "visibility": null,
            "width": null
          }
        },
        "bdb5275cdf70452baae356070697d1b9": {
          "model_module": "@jupyter-widgets/base",
          "model_name": "LayoutModel",
          "model_module_version": "1.2.0",
          "state": {
            "_model_module": "@jupyter-widgets/base",
            "_model_module_version": "1.2.0",
            "_model_name": "LayoutModel",
            "_view_count": null,
            "_view_module": "@jupyter-widgets/base",
            "_view_module_version": "1.2.0",
            "_view_name": "LayoutView",
            "align_content": null,
            "align_items": null,
            "align_self": null,
            "border": null,
            "bottom": null,
            "display": null,
            "flex": null,
            "flex_flow": null,
            "grid_area": null,
            "grid_auto_columns": null,
            "grid_auto_flow": null,
            "grid_auto_rows": null,
            "grid_column": null,
            "grid_gap": null,
            "grid_row": null,
            "grid_template_areas": null,
            "grid_template_columns": null,
            "grid_template_rows": null,
            "height": null,
            "justify_content": null,
            "justify_items": null,
            "left": null,
            "margin": null,
            "max_height": null,
            "max_width": null,
            "min_height": null,
            "min_width": null,
            "object_fit": null,
            "object_position": null,
            "order": null,
            "overflow": null,
            "overflow_x": null,
            "overflow_y": null,
            "padding": null,
            "right": null,
            "top": null,
            "visibility": null,
            "width": null
          }
        },
        "5d558f80d39d4ebb9256f80ee7472eed": {
          "model_module": "@jupyter-widgets/controls",
          "model_name": "DescriptionStyleModel",
          "model_module_version": "1.5.0",
          "state": {
            "_model_module": "@jupyter-widgets/controls",
            "_model_module_version": "1.5.0",
            "_model_name": "DescriptionStyleModel",
            "_view_count": null,
            "_view_module": "@jupyter-widgets/base",
            "_view_module_version": "1.2.0",
            "_view_name": "StyleView",
            "description_width": ""
          }
        },
        "9799f7dcb90d4483ae12d4b8aa53bd67": {
          "model_module": "@jupyter-widgets/base",
          "model_name": "LayoutModel",
          "model_module_version": "1.2.0",
          "state": {
            "_model_module": "@jupyter-widgets/base",
            "_model_module_version": "1.2.0",
            "_model_name": "LayoutModel",
            "_view_count": null,
            "_view_module": "@jupyter-widgets/base",
            "_view_module_version": "1.2.0",
            "_view_name": "LayoutView",
            "align_content": null,
            "align_items": null,
            "align_self": null,
            "border": null,
            "bottom": null,
            "display": null,
            "flex": null,
            "flex_flow": null,
            "grid_area": null,
            "grid_auto_columns": null,
            "grid_auto_flow": null,
            "grid_auto_rows": null,
            "grid_column": null,
            "grid_gap": null,
            "grid_row": null,
            "grid_template_areas": null,
            "grid_template_columns": null,
            "grid_template_rows": null,
            "height": null,
            "justify_content": null,
            "justify_items": null,
            "left": null,
            "margin": null,
            "max_height": null,
            "max_width": null,
            "min_height": null,
            "min_width": null,
            "object_fit": null,
            "object_position": null,
            "order": null,
            "overflow": null,
            "overflow_x": null,
            "overflow_y": null,
            "padding": null,
            "right": null,
            "top": null,
            "visibility": null,
            "width": null
          }
        },
        "87a908ec972947e5aeae91c46398d89b": {
          "model_module": "@jupyter-widgets/controls",
          "model_name": "ProgressStyleModel",
          "model_module_version": "1.5.0",
          "state": {
            "_model_module": "@jupyter-widgets/controls",
            "_model_module_version": "1.5.0",
            "_model_name": "ProgressStyleModel",
            "_view_count": null,
            "_view_module": "@jupyter-widgets/base",
            "_view_module_version": "1.2.0",
            "_view_name": "StyleView",
            "bar_color": null,
            "description_width": ""
          }
        },
        "ecae4813fa3840c7b70265eba21c199b": {
          "model_module": "@jupyter-widgets/base",
          "model_name": "LayoutModel",
          "model_module_version": "1.2.0",
          "state": {
            "_model_module": "@jupyter-widgets/base",
            "_model_module_version": "1.2.0",
            "_model_name": "LayoutModel",
            "_view_count": null,
            "_view_module": "@jupyter-widgets/base",
            "_view_module_version": "1.2.0",
            "_view_name": "LayoutView",
            "align_content": null,
            "align_items": null,
            "align_self": null,
            "border": null,
            "bottom": null,
            "display": null,
            "flex": null,
            "flex_flow": null,
            "grid_area": null,
            "grid_auto_columns": null,
            "grid_auto_flow": null,
            "grid_auto_rows": null,
            "grid_column": null,
            "grid_gap": null,
            "grid_row": null,
            "grid_template_areas": null,
            "grid_template_columns": null,
            "grid_template_rows": null,
            "height": null,
            "justify_content": null,
            "justify_items": null,
            "left": null,
            "margin": null,
            "max_height": null,
            "max_width": null,
            "min_height": null,
            "min_width": null,
            "object_fit": null,
            "object_position": null,
            "order": null,
            "overflow": null,
            "overflow_x": null,
            "overflow_y": null,
            "padding": null,
            "right": null,
            "top": null,
            "visibility": null,
            "width": null
          }
        },
        "9124f6ae154c4d14b7eaebd825325273": {
          "model_module": "@jupyter-widgets/controls",
          "model_name": "DescriptionStyleModel",
          "model_module_version": "1.5.0",
          "state": {
            "_model_module": "@jupyter-widgets/controls",
            "_model_module_version": "1.5.0",
            "_model_name": "DescriptionStyleModel",
            "_view_count": null,
            "_view_module": "@jupyter-widgets/base",
            "_view_module_version": "1.2.0",
            "_view_name": "StyleView",
            "description_width": ""
          }
        },
        "83d509ba1dda49a0ab07508892f88636": {
          "model_module": "@jupyter-widgets/controls",
          "model_name": "HBoxModel",
          "model_module_version": "1.5.0",
          "state": {
            "_dom_classes": [],
            "_model_module": "@jupyter-widgets/controls",
            "_model_module_version": "1.5.0",
            "_model_name": "HBoxModel",
            "_view_count": null,
            "_view_module": "@jupyter-widgets/controls",
            "_view_module_version": "1.5.0",
            "_view_name": "HBoxView",
            "box_style": "",
            "children": [
              "IPY_MODEL_c0b24ad6e3e24c03948d4605039ec673",
              "IPY_MODEL_ddfddac078fc435b864ed4e216725790",
              "IPY_MODEL_a47f88abab414d5ca1b6599b95423cbc"
            ],
            "layout": "IPY_MODEL_ba26451e71f64586824db3028cce057b"
          }
        },
        "c0b24ad6e3e24c03948d4605039ec673": {
          "model_module": "@jupyter-widgets/controls",
          "model_name": "HTMLModel",
          "model_module_version": "1.5.0",
          "state": {
            "_dom_classes": [],
            "_model_module": "@jupyter-widgets/controls",
            "_model_module_version": "1.5.0",
            "_model_name": "HTMLModel",
            "_view_count": null,
            "_view_module": "@jupyter-widgets/controls",
            "_view_module_version": "1.5.0",
            "_view_name": "HTMLView",
            "description": "",
            "description_tooltip": null,
            "layout": "IPY_MODEL_52db65745009404897515dac0abf384a",
            "placeholder": "​",
            "style": "IPY_MODEL_bb4375db98234236969df23ea147549a",
            "value": "Downloading data: 100%"
          }
        },
        "ddfddac078fc435b864ed4e216725790": {
          "model_module": "@jupyter-widgets/controls",
          "model_name": "FloatProgressModel",
          "model_module_version": "1.5.0",
          "state": {
            "_dom_classes": [],
            "_model_module": "@jupyter-widgets/controls",
            "_model_module_version": "1.5.0",
            "_model_name": "FloatProgressModel",
            "_view_count": null,
            "_view_module": "@jupyter-widgets/controls",
            "_view_module_version": "1.5.0",
            "_view_name": "ProgressView",
            "bar_style": "success",
            "description": "",
            "description_tooltip": null,
            "layout": "IPY_MODEL_9ae2aec6eb564b42a65b2967778d106e",
            "max": 732610,
            "min": 0,
            "orientation": "horizontal",
            "style": "IPY_MODEL_00b251ac5df74c22a1f4e0550e2a1db2",
            "value": 732610
          }
        },
        "a47f88abab414d5ca1b6599b95423cbc": {
          "model_module": "@jupyter-widgets/controls",
          "model_name": "HTMLModel",
          "model_module_version": "1.5.0",
          "state": {
            "_dom_classes": [],
            "_model_module": "@jupyter-widgets/controls",
            "_model_module_version": "1.5.0",
            "_model_name": "HTMLModel",
            "_view_count": null,
            "_view_module": "@jupyter-widgets/controls",
            "_view_module_version": "1.5.0",
            "_view_name": "HTMLView",
            "description": "",
            "description_tooltip": null,
            "layout": "IPY_MODEL_c9360c54d9a0419786e82ddcc3e862d1",
            "placeholder": "​",
            "style": "IPY_MODEL_b21e94b7982140ec9b95d691b21f154a",
            "value": " 733k/733k [00:00&lt;00:00, 1.77MB/s]"
          }
        },
        "ba26451e71f64586824db3028cce057b": {
          "model_module": "@jupyter-widgets/base",
          "model_name": "LayoutModel",
          "model_module_version": "1.2.0",
          "state": {
            "_model_module": "@jupyter-widgets/base",
            "_model_module_version": "1.2.0",
            "_model_name": "LayoutModel",
            "_view_count": null,
            "_view_module": "@jupyter-widgets/base",
            "_view_module_version": "1.2.0",
            "_view_name": "LayoutView",
            "align_content": null,
            "align_items": null,
            "align_self": null,
            "border": null,
            "bottom": null,
            "display": null,
            "flex": null,
            "flex_flow": null,
            "grid_area": null,
            "grid_auto_columns": null,
            "grid_auto_flow": null,
            "grid_auto_rows": null,
            "grid_column": null,
            "grid_gap": null,
            "grid_row": null,
            "grid_template_areas": null,
            "grid_template_columns": null,
            "grid_template_rows": null,
            "height": null,
            "justify_content": null,
            "justify_items": null,
            "left": null,
            "margin": null,
            "max_height": null,
            "max_width": null,
            "min_height": null,
            "min_width": null,
            "object_fit": null,
            "object_position": null,
            "order": null,
            "overflow": null,
            "overflow_x": null,
            "overflow_y": null,
            "padding": null,
            "right": null,
            "top": null,
            "visibility": null,
            "width": null
          }
        },
        "52db65745009404897515dac0abf384a": {
          "model_module": "@jupyter-widgets/base",
          "model_name": "LayoutModel",
          "model_module_version": "1.2.0",
          "state": {
            "_model_module": "@jupyter-widgets/base",
            "_model_module_version": "1.2.0",
            "_model_name": "LayoutModel",
            "_view_count": null,
            "_view_module": "@jupyter-widgets/base",
            "_view_module_version": "1.2.0",
            "_view_name": "LayoutView",
            "align_content": null,
            "align_items": null,
            "align_self": null,
            "border": null,
            "bottom": null,
            "display": null,
            "flex": null,
            "flex_flow": null,
            "grid_area": null,
            "grid_auto_columns": null,
            "grid_auto_flow": null,
            "grid_auto_rows": null,
            "grid_column": null,
            "grid_gap": null,
            "grid_row": null,
            "grid_template_areas": null,
            "grid_template_columns": null,
            "grid_template_rows": null,
            "height": null,
            "justify_content": null,
            "justify_items": null,
            "left": null,
            "margin": null,
            "max_height": null,
            "max_width": null,
            "min_height": null,
            "min_width": null,
            "object_fit": null,
            "object_position": null,
            "order": null,
            "overflow": null,
            "overflow_x": null,
            "overflow_y": null,
            "padding": null,
            "right": null,
            "top": null,
            "visibility": null,
            "width": null
          }
        },
        "bb4375db98234236969df23ea147549a": {
          "model_module": "@jupyter-widgets/controls",
          "model_name": "DescriptionStyleModel",
          "model_module_version": "1.5.0",
          "state": {
            "_model_module": "@jupyter-widgets/controls",
            "_model_module_version": "1.5.0",
            "_model_name": "DescriptionStyleModel",
            "_view_count": null,
            "_view_module": "@jupyter-widgets/base",
            "_view_module_version": "1.2.0",
            "_view_name": "StyleView",
            "description_width": ""
          }
        },
        "9ae2aec6eb564b42a65b2967778d106e": {
          "model_module": "@jupyter-widgets/base",
          "model_name": "LayoutModel",
          "model_module_version": "1.2.0",
          "state": {
            "_model_module": "@jupyter-widgets/base",
            "_model_module_version": "1.2.0",
            "_model_name": "LayoutModel",
            "_view_count": null,
            "_view_module": "@jupyter-widgets/base",
            "_view_module_version": "1.2.0",
            "_view_name": "LayoutView",
            "align_content": null,
            "align_items": null,
            "align_self": null,
            "border": null,
            "bottom": null,
            "display": null,
            "flex": null,
            "flex_flow": null,
            "grid_area": null,
            "grid_auto_columns": null,
            "grid_auto_flow": null,
            "grid_auto_rows": null,
            "grid_column": null,
            "grid_gap": null,
            "grid_row": null,
            "grid_template_areas": null,
            "grid_template_columns": null,
            "grid_template_rows": null,
            "height": null,
            "justify_content": null,
            "justify_items": null,
            "left": null,
            "margin": null,
            "max_height": null,
            "max_width": null,
            "min_height": null,
            "min_width": null,
            "object_fit": null,
            "object_position": null,
            "order": null,
            "overflow": null,
            "overflow_x": null,
            "overflow_y": null,
            "padding": null,
            "right": null,
            "top": null,
            "visibility": null,
            "width": null
          }
        },
        "00b251ac5df74c22a1f4e0550e2a1db2": {
          "model_module": "@jupyter-widgets/controls",
          "model_name": "ProgressStyleModel",
          "model_module_version": "1.5.0",
          "state": {
            "_model_module": "@jupyter-widgets/controls",
            "_model_module_version": "1.5.0",
            "_model_name": "ProgressStyleModel",
            "_view_count": null,
            "_view_module": "@jupyter-widgets/base",
            "_view_module_version": "1.2.0",
            "_view_name": "StyleView",
            "bar_color": null,
            "description_width": ""
          }
        },
        "c9360c54d9a0419786e82ddcc3e862d1": {
          "model_module": "@jupyter-widgets/base",
          "model_name": "LayoutModel",
          "model_module_version": "1.2.0",
          "state": {
            "_model_module": "@jupyter-widgets/base",
            "_model_module_version": "1.2.0",
            "_model_name": "LayoutModel",
            "_view_count": null,
            "_view_module": "@jupyter-widgets/base",
            "_view_module_version": "1.2.0",
            "_view_name": "LayoutView",
            "align_content": null,
            "align_items": null,
            "align_self": null,
            "border": null,
            "bottom": null,
            "display": null,
            "flex": null,
            "flex_flow": null,
            "grid_area": null,
            "grid_auto_columns": null,
            "grid_auto_flow": null,
            "grid_auto_rows": null,
            "grid_column": null,
            "grid_gap": null,
            "grid_row": null,
            "grid_template_areas": null,
            "grid_template_columns": null,
            "grid_template_rows": null,
            "height": null,
            "justify_content": null,
            "justify_items": null,
            "left": null,
            "margin": null,
            "max_height": null,
            "max_width": null,
            "min_height": null,
            "min_width": null,
            "object_fit": null,
            "object_position": null,
            "order": null,
            "overflow": null,
            "overflow_x": null,
            "overflow_y": null,
            "padding": null,
            "right": null,
            "top": null,
            "visibility": null,
            "width": null
          }
        },
        "b21e94b7982140ec9b95d691b21f154a": {
          "model_module": "@jupyter-widgets/controls",
          "model_name": "DescriptionStyleModel",
          "model_module_version": "1.5.0",
          "state": {
            "_model_module": "@jupyter-widgets/controls",
            "_model_module_version": "1.5.0",
            "_model_name": "DescriptionStyleModel",
            "_view_count": null,
            "_view_module": "@jupyter-widgets/base",
            "_view_module_version": "1.2.0",
            "_view_name": "StyleView",
            "description_width": ""
          }
        },
        "5be4dcf7ebb840f6a204967dd33ff52e": {
          "model_module": "@jupyter-widgets/controls",
          "model_name": "HBoxModel",
          "model_module_version": "1.5.0",
          "state": {
            "_dom_classes": [],
            "_model_module": "@jupyter-widgets/controls",
            "_model_module_version": "1.5.0",
            "_model_name": "HBoxModel",
            "_view_count": null,
            "_view_module": "@jupyter-widgets/controls",
            "_view_module_version": "1.5.0",
            "_view_name": "HBoxView",
            "box_style": "",
            "children": [
              "IPY_MODEL_8f470f5005b24dd0a948ef362ca82db6",
              "IPY_MODEL_de14b14682d0484db5334d45de8f27e6",
              "IPY_MODEL_5e0bfd78f3a44a9e863ce0132cbe1927"
            ],
            "layout": "IPY_MODEL_7c272910d6694346bd173559e80bd210"
          }
        },
        "8f470f5005b24dd0a948ef362ca82db6": {
          "model_module": "@jupyter-widgets/controls",
          "model_name": "HTMLModel",
          "model_module_version": "1.5.0",
          "state": {
            "_dom_classes": [],
            "_model_module": "@jupyter-widgets/controls",
            "_model_module_version": "1.5.0",
            "_model_name": "HTMLModel",
            "_view_count": null,
            "_view_module": "@jupyter-widgets/controls",
            "_view_module_version": "1.5.0",
            "_view_name": "HTMLView",
            "description": "",
            "description_tooltip": null,
            "layout": "IPY_MODEL_1996683016fc4bf38a6ba0e9e07a0f0b",
            "placeholder": "​",
            "style": "IPY_MODEL_b8413510b07b4897867fd172529d192c",
            "value": "Downloading data: 100%"
          }
        },
        "de14b14682d0484db5334d45de8f27e6": {
          "model_module": "@jupyter-widgets/controls",
          "model_name": "FloatProgressModel",
          "model_module_version": "1.5.0",
          "state": {
            "_dom_classes": [],
            "_model_module": "@jupyter-widgets/controls",
            "_model_module_version": "1.5.0",
            "_model_name": "FloatProgressModel",
            "_view_count": null,
            "_view_module": "@jupyter-widgets/controls",
            "_view_module_version": "1.5.0",
            "_view_name": "ProgressView",
            "bar_style": "success",
            "description": "",
            "description_tooltip": null,
            "layout": "IPY_MODEL_7eff1a2417014e4ea1abfdbf3e323488",
            "max": 6357543,
            "min": 0,
            "orientation": "horizontal",
            "style": "IPY_MODEL_acb2d6d3212c4463bdc6461bc0e3a696",
            "value": 6357543
          }
        },
        "5e0bfd78f3a44a9e863ce0132cbe1927": {
          "model_module": "@jupyter-widgets/controls",
          "model_name": "HTMLModel",
          "model_module_version": "1.5.0",
          "state": {
            "_dom_classes": [],
            "_model_module": "@jupyter-widgets/controls",
            "_model_module_version": "1.5.0",
            "_model_name": "HTMLModel",
            "_view_count": null,
            "_view_module": "@jupyter-widgets/controls",
            "_view_module_version": "1.5.0",
            "_view_name": "HTMLView",
            "description": "",
            "description_tooltip": null,
            "layout": "IPY_MODEL_bd0d4513d8f942d6a408b53f1f92801d",
            "placeholder": "​",
            "style": "IPY_MODEL_792ae506021c4fbf97642f923ab235c3",
            "value": " 6.36M/6.36M [00:00&lt;00:00, 11.6MB/s]"
          }
        },
        "7c272910d6694346bd173559e80bd210": {
          "model_module": "@jupyter-widgets/base",
          "model_name": "LayoutModel",
          "model_module_version": "1.2.0",
          "state": {
            "_model_module": "@jupyter-widgets/base",
            "_model_module_version": "1.2.0",
            "_model_name": "LayoutModel",
            "_view_count": null,
            "_view_module": "@jupyter-widgets/base",
            "_view_module_version": "1.2.0",
            "_view_name": "LayoutView",
            "align_content": null,
            "align_items": null,
            "align_self": null,
            "border": null,
            "bottom": null,
            "display": null,
            "flex": null,
            "flex_flow": null,
            "grid_area": null,
            "grid_auto_columns": null,
            "grid_auto_flow": null,
            "grid_auto_rows": null,
            "grid_column": null,
            "grid_gap": null,
            "grid_row": null,
            "grid_template_areas": null,
            "grid_template_columns": null,
            "grid_template_rows": null,
            "height": null,
            "justify_content": null,
            "justify_items": null,
            "left": null,
            "margin": null,
            "max_height": null,
            "max_width": null,
            "min_height": null,
            "min_width": null,
            "object_fit": null,
            "object_position": null,
            "order": null,
            "overflow": null,
            "overflow_x": null,
            "overflow_y": null,
            "padding": null,
            "right": null,
            "top": null,
            "visibility": null,
            "width": null
          }
        },
        "1996683016fc4bf38a6ba0e9e07a0f0b": {
          "model_module": "@jupyter-widgets/base",
          "model_name": "LayoutModel",
          "model_module_version": "1.2.0",
          "state": {
            "_model_module": "@jupyter-widgets/base",
            "_model_module_version": "1.2.0",
            "_model_name": "LayoutModel",
            "_view_count": null,
            "_view_module": "@jupyter-widgets/base",
            "_view_module_version": "1.2.0",
            "_view_name": "LayoutView",
            "align_content": null,
            "align_items": null,
            "align_self": null,
            "border": null,
            "bottom": null,
            "display": null,
            "flex": null,
            "flex_flow": null,
            "grid_area": null,
            "grid_auto_columns": null,
            "grid_auto_flow": null,
            "grid_auto_rows": null,
            "grid_column": null,
            "grid_gap": null,
            "grid_row": null,
            "grid_template_areas": null,
            "grid_template_columns": null,
            "grid_template_rows": null,
            "height": null,
            "justify_content": null,
            "justify_items": null,
            "left": null,
            "margin": null,
            "max_height": null,
            "max_width": null,
            "min_height": null,
            "min_width": null,
            "object_fit": null,
            "object_position": null,
            "order": null,
            "overflow": null,
            "overflow_x": null,
            "overflow_y": null,
            "padding": null,
            "right": null,
            "top": null,
            "visibility": null,
            "width": null
          }
        },
        "b8413510b07b4897867fd172529d192c": {
          "model_module": "@jupyter-widgets/controls",
          "model_name": "DescriptionStyleModel",
          "model_module_version": "1.5.0",
          "state": {
            "_model_module": "@jupyter-widgets/controls",
            "_model_module_version": "1.5.0",
            "_model_name": "DescriptionStyleModel",
            "_view_count": null,
            "_view_module": "@jupyter-widgets/base",
            "_view_module_version": "1.2.0",
            "_view_name": "StyleView",
            "description_width": ""
          }
        },
        "7eff1a2417014e4ea1abfdbf3e323488": {
          "model_module": "@jupyter-widgets/base",
          "model_name": "LayoutModel",
          "model_module_version": "1.2.0",
          "state": {
            "_model_module": "@jupyter-widgets/base",
            "_model_module_version": "1.2.0",
            "_model_name": "LayoutModel",
            "_view_count": null,
            "_view_module": "@jupyter-widgets/base",
            "_view_module_version": "1.2.0",
            "_view_name": "LayoutView",
            "align_content": null,
            "align_items": null,
            "align_self": null,
            "border": null,
            "bottom": null,
            "display": null,
            "flex": null,
            "flex_flow": null,
            "grid_area": null,
            "grid_auto_columns": null,
            "grid_auto_flow": null,
            "grid_auto_rows": null,
            "grid_column": null,
            "grid_gap": null,
            "grid_row": null,
            "grid_template_areas": null,
            "grid_template_columns": null,
            "grid_template_rows": null,
            "height": null,
            "justify_content": null,
            "justify_items": null,
            "left": null,
            "margin": null,
            "max_height": null,
            "max_width": null,
            "min_height": null,
            "min_width": null,
            "object_fit": null,
            "object_position": null,
            "order": null,
            "overflow": null,
            "overflow_x": null,
            "overflow_y": null,
            "padding": null,
            "right": null,
            "top": null,
            "visibility": null,
            "width": null
          }
        },
        "acb2d6d3212c4463bdc6461bc0e3a696": {
          "model_module": "@jupyter-widgets/controls",
          "model_name": "ProgressStyleModel",
          "model_module_version": "1.5.0",
          "state": {
            "_model_module": "@jupyter-widgets/controls",
            "_model_module_version": "1.5.0",
            "_model_name": "ProgressStyleModel",
            "_view_count": null,
            "_view_module": "@jupyter-widgets/base",
            "_view_module_version": "1.2.0",
            "_view_name": "StyleView",
            "bar_color": null,
            "description_width": ""
          }
        },
        "bd0d4513d8f942d6a408b53f1f92801d": {
          "model_module": "@jupyter-widgets/base",
          "model_name": "LayoutModel",
          "model_module_version": "1.2.0",
          "state": {
            "_model_module": "@jupyter-widgets/base",
            "_model_module_version": "1.2.0",
            "_model_name": "LayoutModel",
            "_view_count": null,
            "_view_module": "@jupyter-widgets/base",
            "_view_module_version": "1.2.0",
            "_view_name": "LayoutView",
            "align_content": null,
            "align_items": null,
            "align_self": null,
            "border": null,
            "bottom": null,
            "display": null,
            "flex": null,
            "flex_flow": null,
            "grid_area": null,
            "grid_auto_columns": null,
            "grid_auto_flow": null,
            "grid_auto_rows": null,
            "grid_column": null,
            "grid_gap": null,
            "grid_row": null,
            "grid_template_areas": null,
            "grid_template_columns": null,
            "grid_template_rows": null,
            "height": null,
            "justify_content": null,
            "justify_items": null,
            "left": null,
            "margin": null,
            "max_height": null,
            "max_width": null,
            "min_height": null,
            "min_width": null,
            "object_fit": null,
            "object_position": null,
            "order": null,
            "overflow": null,
            "overflow_x": null,
            "overflow_y": null,
            "padding": null,
            "right": null,
            "top": null,
            "visibility": null,
            "width": null
          }
        },
        "792ae506021c4fbf97642f923ab235c3": {
          "model_module": "@jupyter-widgets/controls",
          "model_name": "DescriptionStyleModel",
          "model_module_version": "1.5.0",
          "state": {
            "_model_module": "@jupyter-widgets/controls",
            "_model_module_version": "1.5.0",
            "_model_name": "DescriptionStyleModel",
            "_view_count": null,
            "_view_module": "@jupyter-widgets/base",
            "_view_module_version": "1.2.0",
            "_view_name": "StyleView",
            "description_width": ""
          }
        },
        "35acdbbb83d44f20b33802d8e43109f6": {
          "model_module": "@jupyter-widgets/controls",
          "model_name": "HBoxModel",
          "model_module_version": "1.5.0",
          "state": {
            "_dom_classes": [],
            "_model_module": "@jupyter-widgets/controls",
            "_model_module_version": "1.5.0",
            "_model_name": "HBoxModel",
            "_view_count": null,
            "_view_module": "@jupyter-widgets/controls",
            "_view_module_version": "1.5.0",
            "_view_name": "HBoxView",
            "box_style": "",
            "children": [
              "IPY_MODEL_b21625c015a548989b0be3f5d01b063b",
              "IPY_MODEL_ac297e067f1546e0b7351cf3e0c08a85",
              "IPY_MODEL_c66a7f844ca74bc8998187a8c0184984"
            ],
            "layout": "IPY_MODEL_e4f98b666feb4bd685ca884f333d7eab"
          }
        },
        "b21625c015a548989b0be3f5d01b063b": {
          "model_module": "@jupyter-widgets/controls",
          "model_name": "HTMLModel",
          "model_module_version": "1.5.0",
          "state": {
            "_dom_classes": [],
            "_model_module": "@jupyter-widgets/controls",
            "_model_module_version": "1.5.0",
            "_model_name": "HTMLModel",
            "_view_count": null,
            "_view_module": "@jupyter-widgets/controls",
            "_view_module_version": "1.5.0",
            "_view_name": "HTMLView",
            "description": "",
            "description_tooltip": null,
            "layout": "IPY_MODEL_32377e300fe24d268f0a6be5413a4565",
            "placeholder": "​",
            "style": "IPY_MODEL_7e7a73716f4e45d6b04df3972745d825",
            "value": "Downloading data: 100%"
          }
        },
        "ac297e067f1546e0b7351cf3e0c08a85": {
          "model_module": "@jupyter-widgets/controls",
          "model_name": "FloatProgressModel",
          "model_module_version": "1.5.0",
          "state": {
            "_dom_classes": [],
            "_model_module": "@jupyter-widgets/controls",
            "_model_module_version": "1.5.0",
            "_model_name": "FloatProgressModel",
            "_view_count": null,
            "_view_module": "@jupyter-widgets/controls",
            "_view_module_version": "1.5.0",
            "_view_name": "ProgressView",
            "bar_style": "success",
            "description": "",
            "description_tooltip": null,
            "layout": "IPY_MODEL_5ad36fe861b642c0a21754524554b214",
            "max": 657209,
            "min": 0,
            "orientation": "horizontal",
            "style": "IPY_MODEL_2a29f49c72674043a85bec6441304cd6",
            "value": 657209
          }
        },
        "c66a7f844ca74bc8998187a8c0184984": {
          "model_module": "@jupyter-widgets/controls",
          "model_name": "HTMLModel",
          "model_module_version": "1.5.0",
          "state": {
            "_dom_classes": [],
            "_model_module": "@jupyter-widgets/controls",
            "_model_module_version": "1.5.0",
            "_model_name": "HTMLModel",
            "_view_count": null,
            "_view_module": "@jupyter-widgets/controls",
            "_view_module_version": "1.5.0",
            "_view_name": "HTMLView",
            "description": "",
            "description_tooltip": null,
            "layout": "IPY_MODEL_2ed33207386e412fb18e6552be91a3b6",
            "placeholder": "​",
            "style": "IPY_MODEL_bf8ccc8a48ae4f25a29951546f418d8a",
            "value": " 657k/657k [00:00&lt;00:00, 1.88MB/s]"
          }
        },
        "e4f98b666feb4bd685ca884f333d7eab": {
          "model_module": "@jupyter-widgets/base",
          "model_name": "LayoutModel",
          "model_module_version": "1.2.0",
          "state": {
            "_model_module": "@jupyter-widgets/base",
            "_model_module_version": "1.2.0",
            "_model_name": "LayoutModel",
            "_view_count": null,
            "_view_module": "@jupyter-widgets/base",
            "_view_module_version": "1.2.0",
            "_view_name": "LayoutView",
            "align_content": null,
            "align_items": null,
            "align_self": null,
            "border": null,
            "bottom": null,
            "display": null,
            "flex": null,
            "flex_flow": null,
            "grid_area": null,
            "grid_auto_columns": null,
            "grid_auto_flow": null,
            "grid_auto_rows": null,
            "grid_column": null,
            "grid_gap": null,
            "grid_row": null,
            "grid_template_areas": null,
            "grid_template_columns": null,
            "grid_template_rows": null,
            "height": null,
            "justify_content": null,
            "justify_items": null,
            "left": null,
            "margin": null,
            "max_height": null,
            "max_width": null,
            "min_height": null,
            "min_width": null,
            "object_fit": null,
            "object_position": null,
            "order": null,
            "overflow": null,
            "overflow_x": null,
            "overflow_y": null,
            "padding": null,
            "right": null,
            "top": null,
            "visibility": null,
            "width": null
          }
        },
        "32377e300fe24d268f0a6be5413a4565": {
          "model_module": "@jupyter-widgets/base",
          "model_name": "LayoutModel",
          "model_module_version": "1.2.0",
          "state": {
            "_model_module": "@jupyter-widgets/base",
            "_model_module_version": "1.2.0",
            "_model_name": "LayoutModel",
            "_view_count": null,
            "_view_module": "@jupyter-widgets/base",
            "_view_module_version": "1.2.0",
            "_view_name": "LayoutView",
            "align_content": null,
            "align_items": null,
            "align_self": null,
            "border": null,
            "bottom": null,
            "display": null,
            "flex": null,
            "flex_flow": null,
            "grid_area": null,
            "grid_auto_columns": null,
            "grid_auto_flow": null,
            "grid_auto_rows": null,
            "grid_column": null,
            "grid_gap": null,
            "grid_row": null,
            "grid_template_areas": null,
            "grid_template_columns": null,
            "grid_template_rows": null,
            "height": null,
            "justify_content": null,
            "justify_items": null,
            "left": null,
            "margin": null,
            "max_height": null,
            "max_width": null,
            "min_height": null,
            "min_width": null,
            "object_fit": null,
            "object_position": null,
            "order": null,
            "overflow": null,
            "overflow_x": null,
            "overflow_y": null,
            "padding": null,
            "right": null,
            "top": null,
            "visibility": null,
            "width": null
          }
        },
        "7e7a73716f4e45d6b04df3972745d825": {
          "model_module": "@jupyter-widgets/controls",
          "model_name": "DescriptionStyleModel",
          "model_module_version": "1.5.0",
          "state": {
            "_model_module": "@jupyter-widgets/controls",
            "_model_module_version": "1.5.0",
            "_model_name": "DescriptionStyleModel",
            "_view_count": null,
            "_view_module": "@jupyter-widgets/base",
            "_view_module_version": "1.2.0",
            "_view_name": "StyleView",
            "description_width": ""
          }
        },
        "5ad36fe861b642c0a21754524554b214": {
          "model_module": "@jupyter-widgets/base",
          "model_name": "LayoutModel",
          "model_module_version": "1.2.0",
          "state": {
            "_model_module": "@jupyter-widgets/base",
            "_model_module_version": "1.2.0",
            "_model_name": "LayoutModel",
            "_view_count": null,
            "_view_module": "@jupyter-widgets/base",
            "_view_module_version": "1.2.0",
            "_view_name": "LayoutView",
            "align_content": null,
            "align_items": null,
            "align_self": null,
            "border": null,
            "bottom": null,
            "display": null,
            "flex": null,
            "flex_flow": null,
            "grid_area": null,
            "grid_auto_columns": null,
            "grid_auto_flow": null,
            "grid_auto_rows": null,
            "grid_column": null,
            "grid_gap": null,
            "grid_row": null,
            "grid_template_areas": null,
            "grid_template_columns": null,
            "grid_template_rows": null,
            "height": null,
            "justify_content": null,
            "justify_items": null,
            "left": null,
            "margin": null,
            "max_height": null,
            "max_width": null,
            "min_height": null,
            "min_width": null,
            "object_fit": null,
            "object_position": null,
            "order": null,
            "overflow": null,
            "overflow_x": null,
            "overflow_y": null,
            "padding": null,
            "right": null,
            "top": null,
            "visibility": null,
            "width": null
          }
        },
        "2a29f49c72674043a85bec6441304cd6": {
          "model_module": "@jupyter-widgets/controls",
          "model_name": "ProgressStyleModel",
          "model_module_version": "1.5.0",
          "state": {
            "_model_module": "@jupyter-widgets/controls",
            "_model_module_version": "1.5.0",
            "_model_name": "ProgressStyleModel",
            "_view_count": null,
            "_view_module": "@jupyter-widgets/base",
            "_view_module_version": "1.2.0",
            "_view_name": "StyleView",
            "bar_color": null,
            "description_width": ""
          }
        },
        "2ed33207386e412fb18e6552be91a3b6": {
          "model_module": "@jupyter-widgets/base",
          "model_name": "LayoutModel",
          "model_module_version": "1.2.0",
          "state": {
            "_model_module": "@jupyter-widgets/base",
            "_model_module_version": "1.2.0",
            "_model_name": "LayoutModel",
            "_view_count": null,
            "_view_module": "@jupyter-widgets/base",
            "_view_module_version": "1.2.0",
            "_view_name": "LayoutView",
            "align_content": null,
            "align_items": null,
            "align_self": null,
            "border": null,
            "bottom": null,
            "display": null,
            "flex": null,
            "flex_flow": null,
            "grid_area": null,
            "grid_auto_columns": null,
            "grid_auto_flow": null,
            "grid_auto_rows": null,
            "grid_column": null,
            "grid_gap": null,
            "grid_row": null,
            "grid_template_areas": null,
            "grid_template_columns": null,
            "grid_template_rows": null,
            "height": null,
            "justify_content": null,
            "justify_items": null,
            "left": null,
            "margin": null,
            "max_height": null,
            "max_width": null,
            "min_height": null,
            "min_width": null,
            "object_fit": null,
            "object_position": null,
            "order": null,
            "overflow": null,
            "overflow_x": null,
            "overflow_y": null,
            "padding": null,
            "right": null,
            "top": null,
            "visibility": null,
            "width": null
          }
        },
        "bf8ccc8a48ae4f25a29951546f418d8a": {
          "model_module": "@jupyter-widgets/controls",
          "model_name": "DescriptionStyleModel",
          "model_module_version": "1.5.0",
          "state": {
            "_model_module": "@jupyter-widgets/controls",
            "_model_module_version": "1.5.0",
            "_model_name": "DescriptionStyleModel",
            "_view_count": null,
            "_view_module": "@jupyter-widgets/base",
            "_view_module_version": "1.2.0",
            "_view_name": "StyleView",
            "description_width": ""
          }
        },
        "137906d3e3124a448d94244055c29d51": {
          "model_module": "@jupyter-widgets/controls",
          "model_name": "HBoxModel",
          "model_module_version": "1.5.0",
          "state": {
            "_dom_classes": [],
            "_model_module": "@jupyter-widgets/controls",
            "_model_module_version": "1.5.0",
            "_model_name": "HBoxModel",
            "_view_count": null,
            "_view_module": "@jupyter-widgets/controls",
            "_view_module_version": "1.5.0",
            "_view_name": "HBoxView",
            "box_style": "",
            "children": [
              "IPY_MODEL_2bbbbd2a7e8749659a3e7f8ff1e2622e",
              "IPY_MODEL_d12be5ace0ca4acbbad1744767d43872",
              "IPY_MODEL_607ffa754c3d4bb4a5b2b4d582e83107"
            ],
            "layout": "IPY_MODEL_a181eaee0de24910ac92f7851f18547b"
          }
        },
        "2bbbbd2a7e8749659a3e7f8ff1e2622e": {
          "model_module": "@jupyter-widgets/controls",
          "model_name": "HTMLModel",
          "model_module_version": "1.5.0",
          "state": {
            "_dom_classes": [],
            "_model_module": "@jupyter-widgets/controls",
            "_model_module_version": "1.5.0",
            "_model_name": "HTMLModel",
            "_view_count": null,
            "_view_module": "@jupyter-widgets/controls",
            "_view_module_version": "1.5.0",
            "_view_name": "HTMLView",
            "description": "",
            "description_tooltip": null,
            "layout": "IPY_MODEL_c1f0a2dd7ab74741bce427e22c918bfe",
            "placeholder": "​",
            "style": "IPY_MODEL_e39dd561178f4f6d8f38a51c59f50385",
            "value": "Generating test split: 100%"
          }
        },
        "d12be5ace0ca4acbbad1744767d43872": {
          "model_module": "@jupyter-widgets/controls",
          "model_name": "FloatProgressModel",
          "model_module_version": "1.5.0",
          "state": {
            "_dom_classes": [],
            "_model_module": "@jupyter-widgets/controls",
            "_model_module_version": "1.5.0",
            "_model_name": "FloatProgressModel",
            "_view_count": null,
            "_view_module": "@jupyter-widgets/controls",
            "_view_module_version": "1.5.0",
            "_view_name": "ProgressView",
            "bar_style": "success",
            "description": "",
            "description_tooltip": null,
            "layout": "IPY_MODEL_4ae8e0fe4f2f4901a9836a9aa0fa3778",
            "max": 4358,
            "min": 0,
            "orientation": "horizontal",
            "style": "IPY_MODEL_ff08d0fa97ff4d759adf1537d554bf44",
            "value": 4358
          }
        },
        "607ffa754c3d4bb4a5b2b4d582e83107": {
          "model_module": "@jupyter-widgets/controls",
          "model_name": "HTMLModel",
          "model_module_version": "1.5.0",
          "state": {
            "_dom_classes": [],
            "_model_module": "@jupyter-widgets/controls",
            "_model_module_version": "1.5.0",
            "_model_name": "HTMLModel",
            "_view_count": null,
            "_view_module": "@jupyter-widgets/controls",
            "_view_module_version": "1.5.0",
            "_view_name": "HTMLView",
            "description": "",
            "description_tooltip": null,
            "layout": "IPY_MODEL_94ac08f4492c466f93b1e732a9f9249c",
            "placeholder": "​",
            "style": "IPY_MODEL_c6432e07d360468c94f2d65715138902",
            "value": " 4358/4358 [00:00&lt;00:00, 37938.52 examples/s]"
          }
        },
        "a181eaee0de24910ac92f7851f18547b": {
          "model_module": "@jupyter-widgets/base",
          "model_name": "LayoutModel",
          "model_module_version": "1.2.0",
          "state": {
            "_model_module": "@jupyter-widgets/base",
            "_model_module_version": "1.2.0",
            "_model_name": "LayoutModel",
            "_view_count": null,
            "_view_module": "@jupyter-widgets/base",
            "_view_module_version": "1.2.0",
            "_view_name": "LayoutView",
            "align_content": null,
            "align_items": null,
            "align_self": null,
            "border": null,
            "bottom": null,
            "display": null,
            "flex": null,
            "flex_flow": null,
            "grid_area": null,
            "grid_auto_columns": null,
            "grid_auto_flow": null,
            "grid_auto_rows": null,
            "grid_column": null,
            "grid_gap": null,
            "grid_row": null,
            "grid_template_areas": null,
            "grid_template_columns": null,
            "grid_template_rows": null,
            "height": null,
            "justify_content": null,
            "justify_items": null,
            "left": null,
            "margin": null,
            "max_height": null,
            "max_width": null,
            "min_height": null,
            "min_width": null,
            "object_fit": null,
            "object_position": null,
            "order": null,
            "overflow": null,
            "overflow_x": null,
            "overflow_y": null,
            "padding": null,
            "right": null,
            "top": null,
            "visibility": null,
            "width": null
          }
        },
        "c1f0a2dd7ab74741bce427e22c918bfe": {
          "model_module": "@jupyter-widgets/base",
          "model_name": "LayoutModel",
          "model_module_version": "1.2.0",
          "state": {
            "_model_module": "@jupyter-widgets/base",
            "_model_module_version": "1.2.0",
            "_model_name": "LayoutModel",
            "_view_count": null,
            "_view_module": "@jupyter-widgets/base",
            "_view_module_version": "1.2.0",
            "_view_name": "LayoutView",
            "align_content": null,
            "align_items": null,
            "align_self": null,
            "border": null,
            "bottom": null,
            "display": null,
            "flex": null,
            "flex_flow": null,
            "grid_area": null,
            "grid_auto_columns": null,
            "grid_auto_flow": null,
            "grid_auto_rows": null,
            "grid_column": null,
            "grid_gap": null,
            "grid_row": null,
            "grid_template_areas": null,
            "grid_template_columns": null,
            "grid_template_rows": null,
            "height": null,
            "justify_content": null,
            "justify_items": null,
            "left": null,
            "margin": null,
            "max_height": null,
            "max_width": null,
            "min_height": null,
            "min_width": null,
            "object_fit": null,
            "object_position": null,
            "order": null,
            "overflow": null,
            "overflow_x": null,
            "overflow_y": null,
            "padding": null,
            "right": null,
            "top": null,
            "visibility": null,
            "width": null
          }
        },
        "e39dd561178f4f6d8f38a51c59f50385": {
          "model_module": "@jupyter-widgets/controls",
          "model_name": "DescriptionStyleModel",
          "model_module_version": "1.5.0",
          "state": {
            "_model_module": "@jupyter-widgets/controls",
            "_model_module_version": "1.5.0",
            "_model_name": "DescriptionStyleModel",
            "_view_count": null,
            "_view_module": "@jupyter-widgets/base",
            "_view_module_version": "1.2.0",
            "_view_name": "StyleView",
            "description_width": ""
          }
        },
        "4ae8e0fe4f2f4901a9836a9aa0fa3778": {
          "model_module": "@jupyter-widgets/base",
          "model_name": "LayoutModel",
          "model_module_version": "1.2.0",
          "state": {
            "_model_module": "@jupyter-widgets/base",
            "_model_module_version": "1.2.0",
            "_model_name": "LayoutModel",
            "_view_count": null,
            "_view_module": "@jupyter-widgets/base",
            "_view_module_version": "1.2.0",
            "_view_name": "LayoutView",
            "align_content": null,
            "align_items": null,
            "align_self": null,
            "border": null,
            "bottom": null,
            "display": null,
            "flex": null,
            "flex_flow": null,
            "grid_area": null,
            "grid_auto_columns": null,
            "grid_auto_flow": null,
            "grid_auto_rows": null,
            "grid_column": null,
            "grid_gap": null,
            "grid_row": null,
            "grid_template_areas": null,
            "grid_template_columns": null,
            "grid_template_rows": null,
            "height": null,
            "justify_content": null,
            "justify_items": null,
            "left": null,
            "margin": null,
            "max_height": null,
            "max_width": null,
            "min_height": null,
            "min_width": null,
            "object_fit": null,
            "object_position": null,
            "order": null,
            "overflow": null,
            "overflow_x": null,
            "overflow_y": null,
            "padding": null,
            "right": null,
            "top": null,
            "visibility": null,
            "width": null
          }
        },
        "ff08d0fa97ff4d759adf1537d554bf44": {
          "model_module": "@jupyter-widgets/controls",
          "model_name": "ProgressStyleModel",
          "model_module_version": "1.5.0",
          "state": {
            "_model_module": "@jupyter-widgets/controls",
            "_model_module_version": "1.5.0",
            "_model_name": "ProgressStyleModel",
            "_view_count": null,
            "_view_module": "@jupyter-widgets/base",
            "_view_module_version": "1.2.0",
            "_view_name": "StyleView",
            "bar_color": null,
            "description_width": ""
          }
        },
        "94ac08f4492c466f93b1e732a9f9249c": {
          "model_module": "@jupyter-widgets/base",
          "model_name": "LayoutModel",
          "model_module_version": "1.2.0",
          "state": {
            "_model_module": "@jupyter-widgets/base",
            "_model_module_version": "1.2.0",
            "_model_name": "LayoutModel",
            "_view_count": null,
            "_view_module": "@jupyter-widgets/base",
            "_view_module_version": "1.2.0",
            "_view_name": "LayoutView",
            "align_content": null,
            "align_items": null,
            "align_self": null,
            "border": null,
            "bottom": null,
            "display": null,
            "flex": null,
            "flex_flow": null,
            "grid_area": null,
            "grid_auto_columns": null,
            "grid_auto_flow": null,
            "grid_auto_rows": null,
            "grid_column": null,
            "grid_gap": null,
            "grid_row": null,
            "grid_template_areas": null,
            "grid_template_columns": null,
            "grid_template_rows": null,
            "height": null,
            "justify_content": null,
            "justify_items": null,
            "left": null,
            "margin": null,
            "max_height": null,
            "max_width": null,
            "min_height": null,
            "min_width": null,
            "object_fit": null,
            "object_position": null,
            "order": null,
            "overflow": null,
            "overflow_x": null,
            "overflow_y": null,
            "padding": null,
            "right": null,
            "top": null,
            "visibility": null,
            "width": null
          }
        },
        "c6432e07d360468c94f2d65715138902": {
          "model_module": "@jupyter-widgets/controls",
          "model_name": "DescriptionStyleModel",
          "model_module_version": "1.5.0",
          "state": {
            "_model_module": "@jupyter-widgets/controls",
            "_model_module_version": "1.5.0",
            "_model_name": "DescriptionStyleModel",
            "_view_count": null,
            "_view_module": "@jupyter-widgets/base",
            "_view_module_version": "1.2.0",
            "_view_name": "StyleView",
            "description_width": ""
          }
        },
        "da0112a5d146415fa08727e05efb0b1d": {
          "model_module": "@jupyter-widgets/controls",
          "model_name": "HBoxModel",
          "model_module_version": "1.5.0",
          "state": {
            "_dom_classes": [],
            "_model_module": "@jupyter-widgets/controls",
            "_model_module_version": "1.5.0",
            "_model_name": "HBoxModel",
            "_view_count": null,
            "_view_module": "@jupyter-widgets/controls",
            "_view_module_version": "1.5.0",
            "_view_name": "HBoxView",
            "box_style": "",
            "children": [
              "IPY_MODEL_76c84fd6456e4d87a3aff9dd75fa6e39",
              "IPY_MODEL_fa1f026c83704aad8cfe11e5d1ef1cd9",
              "IPY_MODEL_d83bf18856dc4581bf5b28ada15eca5b"
            ],
            "layout": "IPY_MODEL_8e99d096aec54fbfb45240b4d54e1bd8"
          }
        },
        "76c84fd6456e4d87a3aff9dd75fa6e39": {
          "model_module": "@jupyter-widgets/controls",
          "model_name": "HTMLModel",
          "model_module_version": "1.5.0",
          "state": {
            "_dom_classes": [],
            "_model_module": "@jupyter-widgets/controls",
            "_model_module_version": "1.5.0",
            "_model_name": "HTMLModel",
            "_view_count": null,
            "_view_module": "@jupyter-widgets/controls",
            "_view_module_version": "1.5.0",
            "_view_name": "HTMLView",
            "description": "",
            "description_tooltip": null,
            "layout": "IPY_MODEL_7973250b1f8446459f219b2174963cd3",
            "placeholder": "​",
            "style": "IPY_MODEL_e0a50dd4126944ca8d7a4d3e2c2ad1b6",
            "value": "Generating train split: 100%"
          }
        },
        "fa1f026c83704aad8cfe11e5d1ef1cd9": {
          "model_module": "@jupyter-widgets/controls",
          "model_name": "FloatProgressModel",
          "model_module_version": "1.5.0",
          "state": {
            "_dom_classes": [],
            "_model_module": "@jupyter-widgets/controls",
            "_model_module_version": "1.5.0",
            "_model_name": "FloatProgressModel",
            "_view_count": null,
            "_view_module": "@jupyter-widgets/controls",
            "_view_module_version": "1.5.0",
            "_view_name": "ProgressView",
            "bar_style": "success",
            "description": "",
            "description_tooltip": null,
            "layout": "IPY_MODEL_4ea40014db91460b9078510bf5bdb925",
            "max": 36718,
            "min": 0,
            "orientation": "horizontal",
            "style": "IPY_MODEL_518d3bc60e824f29ae8659a042bf4fc4",
            "value": 36718
          }
        },
        "d83bf18856dc4581bf5b28ada15eca5b": {
          "model_module": "@jupyter-widgets/controls",
          "model_name": "HTMLModel",
          "model_module_version": "1.5.0",
          "state": {
            "_dom_classes": [],
            "_model_module": "@jupyter-widgets/controls",
            "_model_module_version": "1.5.0",
            "_model_name": "HTMLModel",
            "_view_count": null,
            "_view_module": "@jupyter-widgets/controls",
            "_view_module_version": "1.5.0",
            "_view_name": "HTMLView",
            "description": "",
            "description_tooltip": null,
            "layout": "IPY_MODEL_bbafa881d99f4c569d0852ba2a76d1c1",
            "placeholder": "​",
            "style": "IPY_MODEL_65524b5e4c354351aec882377fefd967",
            "value": " 36718/36718 [00:00&lt;00:00, 175922.66 examples/s]"
          }
        },
        "8e99d096aec54fbfb45240b4d54e1bd8": {
          "model_module": "@jupyter-widgets/base",
          "model_name": "LayoutModel",
          "model_module_version": "1.2.0",
          "state": {
            "_model_module": "@jupyter-widgets/base",
            "_model_module_version": "1.2.0",
            "_model_name": "LayoutModel",
            "_view_count": null,
            "_view_module": "@jupyter-widgets/base",
            "_view_module_version": "1.2.0",
            "_view_name": "LayoutView",
            "align_content": null,
            "align_items": null,
            "align_self": null,
            "border": null,
            "bottom": null,
            "display": null,
            "flex": null,
            "flex_flow": null,
            "grid_area": null,
            "grid_auto_columns": null,
            "grid_auto_flow": null,
            "grid_auto_rows": null,
            "grid_column": null,
            "grid_gap": null,
            "grid_row": null,
            "grid_template_areas": null,
            "grid_template_columns": null,
            "grid_template_rows": null,
            "height": null,
            "justify_content": null,
            "justify_items": null,
            "left": null,
            "margin": null,
            "max_height": null,
            "max_width": null,
            "min_height": null,
            "min_width": null,
            "object_fit": null,
            "object_position": null,
            "order": null,
            "overflow": null,
            "overflow_x": null,
            "overflow_y": null,
            "padding": null,
            "right": null,
            "top": null,
            "visibility": null,
            "width": null
          }
        },
        "7973250b1f8446459f219b2174963cd3": {
          "model_module": "@jupyter-widgets/base",
          "model_name": "LayoutModel",
          "model_module_version": "1.2.0",
          "state": {
            "_model_module": "@jupyter-widgets/base",
            "_model_module_version": "1.2.0",
            "_model_name": "LayoutModel",
            "_view_count": null,
            "_view_module": "@jupyter-widgets/base",
            "_view_module_version": "1.2.0",
            "_view_name": "LayoutView",
            "align_content": null,
            "align_items": null,
            "align_self": null,
            "border": null,
            "bottom": null,
            "display": null,
            "flex": null,
            "flex_flow": null,
            "grid_area": null,
            "grid_auto_columns": null,
            "grid_auto_flow": null,
            "grid_auto_rows": null,
            "grid_column": null,
            "grid_gap": null,
            "grid_row": null,
            "grid_template_areas": null,
            "grid_template_columns": null,
            "grid_template_rows": null,
            "height": null,
            "justify_content": null,
            "justify_items": null,
            "left": null,
            "margin": null,
            "max_height": null,
            "max_width": null,
            "min_height": null,
            "min_width": null,
            "object_fit": null,
            "object_position": null,
            "order": null,
            "overflow": null,
            "overflow_x": null,
            "overflow_y": null,
            "padding": null,
            "right": null,
            "top": null,
            "visibility": null,
            "width": null
          }
        },
        "e0a50dd4126944ca8d7a4d3e2c2ad1b6": {
          "model_module": "@jupyter-widgets/controls",
          "model_name": "DescriptionStyleModel",
          "model_module_version": "1.5.0",
          "state": {
            "_model_module": "@jupyter-widgets/controls",
            "_model_module_version": "1.5.0",
            "_model_name": "DescriptionStyleModel",
            "_view_count": null,
            "_view_module": "@jupyter-widgets/base",
            "_view_module_version": "1.2.0",
            "_view_name": "StyleView",
            "description_width": ""
          }
        },
        "4ea40014db91460b9078510bf5bdb925": {
          "model_module": "@jupyter-widgets/base",
          "model_name": "LayoutModel",
          "model_module_version": "1.2.0",
          "state": {
            "_model_module": "@jupyter-widgets/base",
            "_model_module_version": "1.2.0",
            "_model_name": "LayoutModel",
            "_view_count": null,
            "_view_module": "@jupyter-widgets/base",
            "_view_module_version": "1.2.0",
            "_view_name": "LayoutView",
            "align_content": null,
            "align_items": null,
            "align_self": null,
            "border": null,
            "bottom": null,
            "display": null,
            "flex": null,
            "flex_flow": null,
            "grid_area": null,
            "grid_auto_columns": null,
            "grid_auto_flow": null,
            "grid_auto_rows": null,
            "grid_column": null,
            "grid_gap": null,
            "grid_row": null,
            "grid_template_areas": null,
            "grid_template_columns": null,
            "grid_template_rows": null,
            "height": null,
            "justify_content": null,
            "justify_items": null,
            "left": null,
            "margin": null,
            "max_height": null,
            "max_width": null,
            "min_height": null,
            "min_width": null,
            "object_fit": null,
            "object_position": null,
            "order": null,
            "overflow": null,
            "overflow_x": null,
            "overflow_y": null,
            "padding": null,
            "right": null,
            "top": null,
            "visibility": null,
            "width": null
          }
        },
        "518d3bc60e824f29ae8659a042bf4fc4": {
          "model_module": "@jupyter-widgets/controls",
          "model_name": "ProgressStyleModel",
          "model_module_version": "1.5.0",
          "state": {
            "_model_module": "@jupyter-widgets/controls",
            "_model_module_version": "1.5.0",
            "_model_name": "ProgressStyleModel",
            "_view_count": null,
            "_view_module": "@jupyter-widgets/base",
            "_view_module_version": "1.2.0",
            "_view_name": "StyleView",
            "bar_color": null,
            "description_width": ""
          }
        },
        "bbafa881d99f4c569d0852ba2a76d1c1": {
          "model_module": "@jupyter-widgets/base",
          "model_name": "LayoutModel",
          "model_module_version": "1.2.0",
          "state": {
            "_model_module": "@jupyter-widgets/base",
            "_model_module_version": "1.2.0",
            "_model_name": "LayoutModel",
            "_view_count": null,
            "_view_module": "@jupyter-widgets/base",
            "_view_module_version": "1.2.0",
            "_view_name": "LayoutView",
            "align_content": null,
            "align_items": null,
            "align_self": null,
            "border": null,
            "bottom": null,
            "display": null,
            "flex": null,
            "flex_flow": null,
            "grid_area": null,
            "grid_auto_columns": null,
            "grid_auto_flow": null,
            "grid_auto_rows": null,
            "grid_column": null,
            "grid_gap": null,
            "grid_row": null,
            "grid_template_areas": null,
            "grid_template_columns": null,
            "grid_template_rows": null,
            "height": null,
            "justify_content": null,
            "justify_items": null,
            "left": null,
            "margin": null,
            "max_height": null,
            "max_width": null,
            "min_height": null,
            "min_width": null,
            "object_fit": null,
            "object_position": null,
            "order": null,
            "overflow": null,
            "overflow_x": null,
            "overflow_y": null,
            "padding": null,
            "right": null,
            "top": null,
            "visibility": null,
            "width": null
          }
        },
        "65524b5e4c354351aec882377fefd967": {
          "model_module": "@jupyter-widgets/controls",
          "model_name": "DescriptionStyleModel",
          "model_module_version": "1.5.0",
          "state": {
            "_model_module": "@jupyter-widgets/controls",
            "_model_module_version": "1.5.0",
            "_model_name": "DescriptionStyleModel",
            "_view_count": null,
            "_view_module": "@jupyter-widgets/base",
            "_view_module_version": "1.2.0",
            "_view_name": "StyleView",
            "description_width": ""
          }
        },
        "33d4a64e853d4f5885e3a8c38ecc3658": {
          "model_module": "@jupyter-widgets/controls",
          "model_name": "HBoxModel",
          "model_module_version": "1.5.0",
          "state": {
            "_dom_classes": [],
            "_model_module": "@jupyter-widgets/controls",
            "_model_module_version": "1.5.0",
            "_model_name": "HBoxModel",
            "_view_count": null,
            "_view_module": "@jupyter-widgets/controls",
            "_view_module_version": "1.5.0",
            "_view_name": "HBoxView",
            "box_style": "",
            "children": [
              "IPY_MODEL_70075682b04040ebad0f55871b683379",
              "IPY_MODEL_0882d186b7e14712972594167898c2a3",
              "IPY_MODEL_869a4c388b3e402a8d807e05f6d776a9"
            ],
            "layout": "IPY_MODEL_e466f1931b6e46838bca6767d1fc470e"
          }
        },
        "70075682b04040ebad0f55871b683379": {
          "model_module": "@jupyter-widgets/controls",
          "model_name": "HTMLModel",
          "model_module_version": "1.5.0",
          "state": {
            "_dom_classes": [],
            "_model_module": "@jupyter-widgets/controls",
            "_model_module_version": "1.5.0",
            "_model_name": "HTMLModel",
            "_view_count": null,
            "_view_module": "@jupyter-widgets/controls",
            "_view_module_version": "1.5.0",
            "_view_name": "HTMLView",
            "description": "",
            "description_tooltip": null,
            "layout": "IPY_MODEL_4c368420cba947c9aeb4da1594fb1ae5",
            "placeholder": "​",
            "style": "IPY_MODEL_09476df28129418094ea927606a91e17",
            "value": "Generating validation split: 100%"
          }
        },
        "0882d186b7e14712972594167898c2a3": {
          "model_module": "@jupyter-widgets/controls",
          "model_name": "FloatProgressModel",
          "model_module_version": "1.5.0",
          "state": {
            "_dom_classes": [],
            "_model_module": "@jupyter-widgets/controls",
            "_model_module_version": "1.5.0",
            "_model_name": "FloatProgressModel",
            "_view_count": null,
            "_view_module": "@jupyter-widgets/controls",
            "_view_module_version": "1.5.0",
            "_view_name": "ProgressView",
            "bar_style": "success",
            "description": "",
            "description_tooltip": null,
            "layout": "IPY_MODEL_0a0fb87e45d14d19b9054264f366c988",
            "max": 3760,
            "min": 0,
            "orientation": "horizontal",
            "style": "IPY_MODEL_8b2338dc27014f11bf5a63b65347cf5f",
            "value": 3760
          }
        },
        "869a4c388b3e402a8d807e05f6d776a9": {
          "model_module": "@jupyter-widgets/controls",
          "model_name": "HTMLModel",
          "model_module_version": "1.5.0",
          "state": {
            "_dom_classes": [],
            "_model_module": "@jupyter-widgets/controls",
            "_model_module_version": "1.5.0",
            "_model_name": "HTMLModel",
            "_view_count": null,
            "_view_module": "@jupyter-widgets/controls",
            "_view_module_version": "1.5.0",
            "_view_name": "HTMLView",
            "description": "",
            "description_tooltip": null,
            "layout": "IPY_MODEL_eb189d3b77484019a3b86cb252cb015e",
            "placeholder": "​",
            "style": "IPY_MODEL_e7ad58023b354486af288688f4e98bd9",
            "value": " 3760/3760 [00:00&lt;00:00, 60913.57 examples/s]"
          }
        },
        "e466f1931b6e46838bca6767d1fc470e": {
          "model_module": "@jupyter-widgets/base",
          "model_name": "LayoutModel",
          "model_module_version": "1.2.0",
          "state": {
            "_model_module": "@jupyter-widgets/base",
            "_model_module_version": "1.2.0",
            "_model_name": "LayoutModel",
            "_view_count": null,
            "_view_module": "@jupyter-widgets/base",
            "_view_module_version": "1.2.0",
            "_view_name": "LayoutView",
            "align_content": null,
            "align_items": null,
            "align_self": null,
            "border": null,
            "bottom": null,
            "display": null,
            "flex": null,
            "flex_flow": null,
            "grid_area": null,
            "grid_auto_columns": null,
            "grid_auto_flow": null,
            "grid_auto_rows": null,
            "grid_column": null,
            "grid_gap": null,
            "grid_row": null,
            "grid_template_areas": null,
            "grid_template_columns": null,
            "grid_template_rows": null,
            "height": null,
            "justify_content": null,
            "justify_items": null,
            "left": null,
            "margin": null,
            "max_height": null,
            "max_width": null,
            "min_height": null,
            "min_width": null,
            "object_fit": null,
            "object_position": null,
            "order": null,
            "overflow": null,
            "overflow_x": null,
            "overflow_y": null,
            "padding": null,
            "right": null,
            "top": null,
            "visibility": null,
            "width": null
          }
        },
        "4c368420cba947c9aeb4da1594fb1ae5": {
          "model_module": "@jupyter-widgets/base",
          "model_name": "LayoutModel",
          "model_module_version": "1.2.0",
          "state": {
            "_model_module": "@jupyter-widgets/base",
            "_model_module_version": "1.2.0",
            "_model_name": "LayoutModel",
            "_view_count": null,
            "_view_module": "@jupyter-widgets/base",
            "_view_module_version": "1.2.0",
            "_view_name": "LayoutView",
            "align_content": null,
            "align_items": null,
            "align_self": null,
            "border": null,
            "bottom": null,
            "display": null,
            "flex": null,
            "flex_flow": null,
            "grid_area": null,
            "grid_auto_columns": null,
            "grid_auto_flow": null,
            "grid_auto_rows": null,
            "grid_column": null,
            "grid_gap": null,
            "grid_row": null,
            "grid_template_areas": null,
            "grid_template_columns": null,
            "grid_template_rows": null,
            "height": null,
            "justify_content": null,
            "justify_items": null,
            "left": null,
            "margin": null,
            "max_height": null,
            "max_width": null,
            "min_height": null,
            "min_width": null,
            "object_fit": null,
            "object_position": null,
            "order": null,
            "overflow": null,
            "overflow_x": null,
            "overflow_y": null,
            "padding": null,
            "right": null,
            "top": null,
            "visibility": null,
            "width": null
          }
        },
        "09476df28129418094ea927606a91e17": {
          "model_module": "@jupyter-widgets/controls",
          "model_name": "DescriptionStyleModel",
          "model_module_version": "1.5.0",
          "state": {
            "_model_module": "@jupyter-widgets/controls",
            "_model_module_version": "1.5.0",
            "_model_name": "DescriptionStyleModel",
            "_view_count": null,
            "_view_module": "@jupyter-widgets/base",
            "_view_module_version": "1.2.0",
            "_view_name": "StyleView",
            "description_width": ""
          }
        },
        "0a0fb87e45d14d19b9054264f366c988": {
          "model_module": "@jupyter-widgets/base",
          "model_name": "LayoutModel",
          "model_module_version": "1.2.0",
          "state": {
            "_model_module": "@jupyter-widgets/base",
            "_model_module_version": "1.2.0",
            "_model_name": "LayoutModel",
            "_view_count": null,
            "_view_module": "@jupyter-widgets/base",
            "_view_module_version": "1.2.0",
            "_view_name": "LayoutView",
            "align_content": null,
            "align_items": null,
            "align_self": null,
            "border": null,
            "bottom": null,
            "display": null,
            "flex": null,
            "flex_flow": null,
            "grid_area": null,
            "grid_auto_columns": null,
            "grid_auto_flow": null,
            "grid_auto_rows": null,
            "grid_column": null,
            "grid_gap": null,
            "grid_row": null,
            "grid_template_areas": null,
            "grid_template_columns": null,
            "grid_template_rows": null,
            "height": null,
            "justify_content": null,
            "justify_items": null,
            "left": null,
            "margin": null,
            "max_height": null,
            "max_width": null,
            "min_height": null,
            "min_width": null,
            "object_fit": null,
            "object_position": null,
            "order": null,
            "overflow": null,
            "overflow_x": null,
            "overflow_y": null,
            "padding": null,
            "right": null,
            "top": null,
            "visibility": null,
            "width": null
          }
        },
        "8b2338dc27014f11bf5a63b65347cf5f": {
          "model_module": "@jupyter-widgets/controls",
          "model_name": "ProgressStyleModel",
          "model_module_version": "1.5.0",
          "state": {
            "_model_module": "@jupyter-widgets/controls",
            "_model_module_version": "1.5.0",
            "_model_name": "ProgressStyleModel",
            "_view_count": null,
            "_view_module": "@jupyter-widgets/base",
            "_view_module_version": "1.2.0",
            "_view_name": "StyleView",
            "bar_color": null,
            "description_width": ""
          }
        },
        "eb189d3b77484019a3b86cb252cb015e": {
          "model_module": "@jupyter-widgets/base",
          "model_name": "LayoutModel",
          "model_module_version": "1.2.0",
          "state": {
            "_model_module": "@jupyter-widgets/base",
            "_model_module_version": "1.2.0",
            "_model_name": "LayoutModel",
            "_view_count": null,
            "_view_module": "@jupyter-widgets/base",
            "_view_module_version": "1.2.0",
            "_view_name": "LayoutView",
            "align_content": null,
            "align_items": null,
            "align_self": null,
            "border": null,
            "bottom": null,
            "display": null,
            "flex": null,
            "flex_flow": null,
            "grid_area": null,
            "grid_auto_columns": null,
            "grid_auto_flow": null,
            "grid_auto_rows": null,
            "grid_column": null,
            "grid_gap": null,
            "grid_row": null,
            "grid_template_areas": null,
            "grid_template_columns": null,
            "grid_template_rows": null,
            "height": null,
            "justify_content": null,
            "justify_items": null,
            "left": null,
            "margin": null,
            "max_height": null,
            "max_width": null,
            "min_height": null,
            "min_width": null,
            "object_fit": null,
            "object_position": null,
            "order": null,
            "overflow": null,
            "overflow_x": null,
            "overflow_y": null,
            "padding": null,
            "right": null,
            "top": null,
            "visibility": null,
            "width": null
          }
        },
        "e7ad58023b354486af288688f4e98bd9": {
          "model_module": "@jupyter-widgets/controls",
          "model_name": "DescriptionStyleModel",
          "model_module_version": "1.5.0",
          "state": {
            "_model_module": "@jupyter-widgets/controls",
            "_model_module_version": "1.5.0",
            "_model_name": "DescriptionStyleModel",
            "_view_count": null,
            "_view_module": "@jupyter-widgets/base",
            "_view_module_version": "1.2.0",
            "_view_name": "StyleView",
            "description_width": ""
          }
        }
      }
    }
  },
  "cells": [
    {
      "cell_type": "markdown",
      "source": [
        "### Tool 설치"
      ],
      "metadata": {
        "id": "zg6zpDJfJvBA"
      }
    },
    {
      "cell_type": "code",
      "execution_count": 1,
      "metadata": {
        "colab": {
          "base_uri": "https://localhost:8080/"
        },
        "id": "G6vBZ02-OQky",
        "outputId": "65daeeda-fc85-4d88-8e32-79d2b8a77e6a"
      },
      "outputs": [
        {
          "output_type": "stream",
          "name": "stdout",
          "text": [
            "Collecting datasets\n",
            "  Downloading datasets-2.16.1-py3-none-any.whl (507 kB)\n",
            "\u001b[?25l     \u001b[90m━━━━━━━━━━━━━━━━━━━━━━━━━━━━━━━━━━━━━━━━\u001b[0m \u001b[32m0.0/507.1 kB\u001b[0m \u001b[31m?\u001b[0m eta \u001b[36m-:--:--\u001b[0m\r\u001b[2K     \u001b[91m━━━━━━━━\u001b[0m\u001b[91m╸\u001b[0m\u001b[90m━━━━━━━━━━━━━━━━━━━━━━━━━━━━━━━\u001b[0m \u001b[32m112.6/507.1 kB\u001b[0m \u001b[31m3.2 MB/s\u001b[0m eta \u001b[36m0:00:01\u001b[0m\r\u001b[2K     \u001b[91m━━━━━━━━━━━━━━━━━━━━━━━━━━━━━━━━━━━\u001b[0m\u001b[91m╸\u001b[0m\u001b[90m━━━━\u001b[0m \u001b[32m450.6/507.1 kB\u001b[0m \u001b[31m6.4 MB/s\u001b[0m eta \u001b[36m0:00:01\u001b[0m\r\u001b[2K     \u001b[90m━━━━━━━━━━━━━━━━━━━━━━━━━━━━━━━━━━━━━━━━\u001b[0m \u001b[32m507.1/507.1 kB\u001b[0m \u001b[31m6.0 MB/s\u001b[0m eta \u001b[36m0:00:00\u001b[0m\n",
            "\u001b[?25hCollecting evaluate\n",
            "  Downloading evaluate-0.4.1-py3-none-any.whl (84 kB)\n",
            "\u001b[2K     \u001b[90m━━━━━━━━━━━━━━━━━━━━━━━━━━━━━━━━━━━━━━━━\u001b[0m \u001b[32m84.1/84.1 kB\u001b[0m \u001b[31m11.2 MB/s\u001b[0m eta \u001b[36m0:00:00\u001b[0m\n",
            "\u001b[?25hRequirement already satisfied: transformers[sentencepiece] in /usr/local/lib/python3.10/dist-packages (4.35.2)\n",
            "Requirement already satisfied: filelock in /usr/local/lib/python3.10/dist-packages (from datasets) (3.13.1)\n",
            "Requirement already satisfied: numpy>=1.17 in /usr/local/lib/python3.10/dist-packages (from datasets) (1.23.5)\n",
            "Requirement already satisfied: pyarrow>=8.0.0 in /usr/local/lib/python3.10/dist-packages (from datasets) (10.0.1)\n",
            "Requirement already satisfied: pyarrow-hotfix in /usr/local/lib/python3.10/dist-packages (from datasets) (0.6)\n",
            "Collecting dill<0.3.8,>=0.3.0 (from datasets)\n",
            "  Downloading dill-0.3.7-py3-none-any.whl (115 kB)\n",
            "\u001b[2K     \u001b[90m━━━━━━━━━━━━━━━━━━━━━━━━━━━━━━━━━━━━━━━━\u001b[0m \u001b[32m115.3/115.3 kB\u001b[0m \u001b[31m11.0 MB/s\u001b[0m eta \u001b[36m0:00:00\u001b[0m\n",
            "\u001b[?25hRequirement already satisfied: pandas in /usr/local/lib/python3.10/dist-packages (from datasets) (1.5.3)\n",
            "Requirement already satisfied: requests>=2.19.0 in /usr/local/lib/python3.10/dist-packages (from datasets) (2.31.0)\n",
            "Requirement already satisfied: tqdm>=4.62.1 in /usr/local/lib/python3.10/dist-packages (from datasets) (4.66.1)\n",
            "Requirement already satisfied: xxhash in /usr/local/lib/python3.10/dist-packages (from datasets) (3.4.1)\n",
            "Collecting multiprocess (from datasets)\n",
            "  Downloading multiprocess-0.70.16-py310-none-any.whl (134 kB)\n",
            "\u001b[2K     \u001b[90m━━━━━━━━━━━━━━━━━━━━━━━━━━━━━━━━━━━━━━━━\u001b[0m \u001b[32m134.8/134.8 kB\u001b[0m \u001b[31m8.0 MB/s\u001b[0m eta \u001b[36m0:00:00\u001b[0m\n",
            "\u001b[?25hRequirement already satisfied: fsspec[http]<=2023.10.0,>=2023.1.0 in /usr/local/lib/python3.10/dist-packages (from datasets) (2023.6.0)\n",
            "Requirement already satisfied: aiohttp in /usr/local/lib/python3.10/dist-packages (from datasets) (3.9.1)\n",
            "Requirement already satisfied: huggingface-hub>=0.19.4 in /usr/local/lib/python3.10/dist-packages (from datasets) (0.20.3)\n",
            "Requirement already satisfied: packaging in /usr/local/lib/python3.10/dist-packages (from datasets) (23.2)\n",
            "Requirement already satisfied: pyyaml>=5.1 in /usr/local/lib/python3.10/dist-packages (from datasets) (6.0.1)\n",
            "Collecting responses<0.19 (from evaluate)\n",
            "  Downloading responses-0.18.0-py3-none-any.whl (38 kB)\n",
            "Requirement already satisfied: regex!=2019.12.17 in /usr/local/lib/python3.10/dist-packages (from transformers[sentencepiece]) (2023.6.3)\n",
            "Requirement already satisfied: tokenizers<0.19,>=0.14 in /usr/local/lib/python3.10/dist-packages (from transformers[sentencepiece]) (0.15.1)\n",
            "Requirement already satisfied: safetensors>=0.3.1 in /usr/local/lib/python3.10/dist-packages (from transformers[sentencepiece]) (0.4.2)\n",
            "Requirement already satisfied: sentencepiece!=0.1.92,>=0.1.91 in /usr/local/lib/python3.10/dist-packages (from transformers[sentencepiece]) (0.1.99)\n",
            "Requirement already satisfied: protobuf in /usr/local/lib/python3.10/dist-packages (from transformers[sentencepiece]) (3.20.3)\n",
            "Requirement already satisfied: attrs>=17.3.0 in /usr/local/lib/python3.10/dist-packages (from aiohttp->datasets) (23.2.0)\n",
            "Requirement already satisfied: multidict<7.0,>=4.5 in /usr/local/lib/python3.10/dist-packages (from aiohttp->datasets) (6.0.4)\n",
            "Requirement already satisfied: yarl<2.0,>=1.0 in /usr/local/lib/python3.10/dist-packages (from aiohttp->datasets) (1.9.4)\n",
            "Requirement already satisfied: frozenlist>=1.1.1 in /usr/local/lib/python3.10/dist-packages (from aiohttp->datasets) (1.4.1)\n",
            "Requirement already satisfied: aiosignal>=1.1.2 in /usr/local/lib/python3.10/dist-packages (from aiohttp->datasets) (1.3.1)\n",
            "Requirement already satisfied: async-timeout<5.0,>=4.0 in /usr/local/lib/python3.10/dist-packages (from aiohttp->datasets) (4.0.3)\n",
            "Requirement already satisfied: typing-extensions>=3.7.4.3 in /usr/local/lib/python3.10/dist-packages (from huggingface-hub>=0.19.4->datasets) (4.5.0)\n",
            "Requirement already satisfied: charset-normalizer<4,>=2 in /usr/local/lib/python3.10/dist-packages (from requests>=2.19.0->datasets) (3.3.2)\n",
            "Requirement already satisfied: idna<4,>=2.5 in /usr/local/lib/python3.10/dist-packages (from requests>=2.19.0->datasets) (3.6)\n",
            "Requirement already satisfied: urllib3<3,>=1.21.1 in /usr/local/lib/python3.10/dist-packages (from requests>=2.19.0->datasets) (2.0.7)\n",
            "Requirement already satisfied: certifi>=2017.4.17 in /usr/local/lib/python3.10/dist-packages (from requests>=2.19.0->datasets) (2023.11.17)\n",
            "INFO: pip is looking at multiple versions of multiprocess to determine which version is compatible with other requirements. This could take a while.\n",
            "Collecting multiprocess (from datasets)\n",
            "  Downloading multiprocess-0.70.15-py310-none-any.whl (134 kB)\n",
            "\u001b[2K     \u001b[90m━━━━━━━━━━━━━━━━━━━━━━━━━━━━━━━━━━━━━━━━\u001b[0m \u001b[32m134.8/134.8 kB\u001b[0m \u001b[31m11.3 MB/s\u001b[0m eta \u001b[36m0:00:00\u001b[0m\n",
            "\u001b[?25hRequirement already satisfied: python-dateutil>=2.8.1 in /usr/local/lib/python3.10/dist-packages (from pandas->datasets) (2.8.2)\n",
            "Requirement already satisfied: pytz>=2020.1 in /usr/local/lib/python3.10/dist-packages (from pandas->datasets) (2023.3.post1)\n",
            "Requirement already satisfied: six>=1.5 in /usr/local/lib/python3.10/dist-packages (from python-dateutil>=2.8.1->pandas->datasets) (1.16.0)\n",
            "Installing collected packages: dill, responses, multiprocess, datasets, evaluate\n",
            "Successfully installed datasets-2.16.1 dill-0.3.7 evaluate-0.4.1 multiprocess-0.70.15 responses-0.18.0\n",
            "Reading package lists... Done\n",
            "Building dependency tree... Done\n",
            "Reading state information... Done\n",
            "git-lfs is already the newest version (3.0.2-1ubuntu0.2).\n",
            "0 upgraded, 0 newly installed, 0 to remove and 31 not upgraded.\n"
          ]
        }
      ],
      "source": [
        "!pip install datasets evaluate transformers[sentencepiece]\n",
        "!apt install git-lfs"
      ]
    },
    {
      "cell_type": "code",
      "source": [
        "!git config --global user.email \"duwltn1301@naver.com\"\n",
        "!git config --global user.name \"YeoJiSu\""
      ],
      "metadata": {
        "id": "cUPt5HB7FvDk"
      },
      "execution_count": 2,
      "outputs": []
    },
    {
      "cell_type": "markdown",
      "source": [
        "### Training a new tokenizer from an old one"
      ],
      "metadata": {
        "id": "2hbvQFUhJ9M0"
      }
    },
    {
      "cell_type": "markdown",
      "source": [
        "#### Assembling a corpus"
      ],
      "metadata": {
        "id": "ciITf1lXJx08"
      }
    },
    {
      "cell_type": "code",
      "source": [
        "from huggingface_hub import notebook_login\n",
        "\n",
        "notebook_login()"
      ],
      "metadata": {
        "id": "FOwl70kzFzQj"
      },
      "execution_count": null,
      "outputs": []
    },
    {
      "cell_type": "code",
      "source": [
        "from datasets import load_dataset\n",
        "\n",
        "# This can take a few minutes to load, so grab a coffee or tea while you wait!\n",
        "raw_datasets = load_dataset(\"code_search_net\", \"python\")"
      ],
      "metadata": {
        "id": "50tt5ylNF0Lr"
      },
      "execution_count": null,
      "outputs": []
    },
    {
      "cell_type": "code",
      "source": [
        "raw_datasets[\"train\"]"
      ],
      "metadata": {
        "id": "Wk1SXEQ7F0OO"
      },
      "execution_count": null,
      "outputs": []
    },
    {
      "cell_type": "code",
      "source": [
        "print(raw_datasets[\"train\"][123456][\"whole_func_string\"])"
      ],
      "metadata": {
        "id": "HyunBvjoF0RG"
      },
      "execution_count": null,
      "outputs": []
    },
    {
      "cell_type": "markdown",
      "source": [
        "* 아래와 같이 처리하면 메모리에 모두 로드하기 때문에 효율적이지 X.\n",
        "* Datasets 라이브러리를 사용하여 디스크에 저장된 데이터를 메모리에 로드하지 않고, 효율적으로 처리 가능."
      ],
      "metadata": {
        "id": "t7up05bqISMD"
      }
    },
    {
      "cell_type": "code",
      "source": [
        "# Don't uncomment the following line unless your dataset is small!\n",
        "# training_corpus = [raw_datasets[\"train\"][i: i + 1000][\"whole_func_string\"] for i in range(0, len(raw_datasets[\"train\"]), 1000)]"
      ],
      "metadata": {
        "id": "UclyR5q7F0T_"
      },
      "execution_count": null,
      "outputs": []
    },
    {
      "cell_type": "markdown",
      "source": [
        "* 파이썬의 generator (괄호) 사용하면, 데이터를 한번에 로드하지 않고, 필요한 시점에 하나씩 처리 가능함."
      ],
      "metadata": {
        "id": "m6-zBQk5Iyuo"
      }
    },
    {
      "cell_type": "code",
      "source": [
        "training_corpus = (\n",
        "    raw_datasets[\"train\"][i : i + 1000][\"whole_func_string\"]\n",
        "    for i in range(0, len(raw_datasets[\"train\"]), 1000)\n",
        ")"
      ],
      "metadata": {
        "id": "kOZzzuhdF5Ge"
      },
      "execution_count": null,
      "outputs": []
    },
    {
      "cell_type": "markdown",
      "source": [
        "* 하지만, 한번만 부를 수 있다는 단점이 있음."
      ],
      "metadata": {
        "id": "6pTJryX-I8g6"
      }
    },
    {
      "cell_type": "code",
      "source": [
        "gen = (i for i in range(10))\n",
        "print(list(gen))\n",
        "print(list(gen))"
      ],
      "metadata": {
        "id": "YWN3Ru8cF5JF"
      },
      "execution_count": null,
      "outputs": []
    },
    {
      "cell_type": "markdown",
      "source": [
        "* 그래서, 대신 함수로 정의한다."
      ],
      "metadata": {
        "id": "7_-MCBLfJBVQ"
      }
    },
    {
      "cell_type": "code",
      "source": [
        "def get_training_corpus():\n",
        "    return (\n",
        "        raw_datasets[\"train\"][i : i + 1000][\"whole_func_string\"]\n",
        "        for i in range(0, len(raw_datasets[\"train\"]), 1000)\n",
        "    )\n",
        "\n",
        "\n",
        "training_corpus = get_training_corpus()"
      ],
      "metadata": {
        "id": "rlBfm7CiF5Lt"
      },
      "execution_count": null,
      "outputs": []
    },
    {
      "cell_type": "markdown",
      "source": [
        "* for문 내에 yield를 사용할 수 있다.\n",
        "* yield는 함수를 일시 중지하고 값을 반환하는데 사용\n",
        "* 함수가 다시 호출되면 일시 중지된 곳에서 실행을 계속하며, 지난 호출에서의 상태를 기억\n",
        "* 함수가 호출될 때마다 한 번에 하나의 whole_func_string 값을 반환하므로 대량의 데이터를 메모리에 로드하지 않고도 효율적으로 처리 가능."
      ],
      "metadata": {
        "id": "Dfmsw270JI56"
      }
    },
    {
      "cell_type": "code",
      "source": [
        "def get_training_corpus():\n",
        "    dataset = raw_datasets[\"train\"]\n",
        "    for start_idx in range(0, len(dataset), 1000):\n",
        "        samples = dataset[start_idx : start_idx + 1000]\n",
        "        yield samples[\"whole_func_string\"]"
      ],
      "metadata": {
        "id": "v9hSY0IGF5Oj"
      },
      "execution_count": null,
      "outputs": []
    },
    {
      "cell_type": "markdown",
      "source": [
        "#### Training a new tokenizer"
      ],
      "metadata": {
        "id": "1zj6QNZxJ4IV"
      }
    },
    {
      "cell_type": "markdown",
      "source": [
        "모델과 쌍을 이루고 싶은 토크나이저 로드"
      ],
      "metadata": {
        "id": "acDSWA3mKGUb"
      }
    },
    {
      "cell_type": "markdown",
      "source": [
        "* 새로운 토크나이저를 훈련시키더라도 처음부터 완전히 시작하지 않도록 이렇게 하는 것이 좋다.\n",
        "* 우리의 토크나이저는 GPT-2에서 어휘가 변경될 것이다."
      ],
      "metadata": {
        "id": "vbhqTNi4KMcG"
      }
    },
    {
      "cell_type": "code",
      "source": [
        "from transformers import AutoTokenizer # 빠른 토크나이저\n",
        "\n",
        "old_tokenizer = AutoTokenizer.from_pretrained(\"gpt2\")"
      ],
      "metadata": {
        "id": "JuHZBE-nF5RL"
      },
      "execution_count": null,
      "outputs": []
    },
    {
      "cell_type": "markdown",
      "source": [
        "* 토크나이저 처리 결과를 보면, 효율적이진 않다."
      ],
      "metadata": {
        "id": "1ZOP-N5RKZb5"
      }
    },
    {
      "cell_type": "code",
      "source": [
        "example = '''def add_numbers(a, b):\n",
        "    \"\"\"Add the two numbers `a` and `b`.\"\"\"\n",
        "    return a + b'''\n",
        "\n",
        "tokens = old_tokenizer.tokenize(example)\n",
        "tokens"
      ],
      "metadata": {
        "id": "3fpJcpwZF5UC"
      },
      "execution_count": null,
      "outputs": []
    },
    {
      "cell_type": "markdown",
      "source": [
        "* 새로운 토크나이저를 훈련시켜서 이러한 문제가 해결되는지 살펴보겠습니다."
      ],
      "metadata": {
        "id": "qbrXvf4KKpfw"
      }
    },
    {
      "cell_type": "code",
      "source": [
        "tokenizer = old_tokenizer.train_new_from_iterator(training_corpus, 52000)"
      ],
      "metadata": {
        "id": "fRj4gKdGF5Wo"
      },
      "execution_count": null,
      "outputs": []
    },
    {
      "cell_type": "markdown",
      "source": [
        "* \"빠른\" 토크나이저는 Rust로 작성된 🤗 Tokenizers 라이브러리를 기반으로 함!\n",
        "* 새로운 토크나이저의 훈련을 병렬화하거나, 입력 배치의 토큰화를 수행"
      ],
      "metadata": {
        "id": "tuuvlYUiKvKw"
      }
    },
    {
      "cell_type": "code",
      "source": [
        "tokens = tokenizer.tokenize(example)\n",
        "tokens"
      ],
      "metadata": {
        "id": "lTrEXbH5a2AC"
      },
      "execution_count": null,
      "outputs": []
    },
    {
      "cell_type": "code",
      "source": [
        "print(len(tokens))\n",
        "print(len(old_tokenizer.tokenize(example))) # 동일한 예에서 일반 영어 토크나이저를 사용하면 더 긴 문장이 제공된다."
      ],
      "metadata": {
        "id": "oanAuzKAa-EK"
      },
      "execution_count": null,
      "outputs": []
    },
    {
      "cell_type": "markdown",
      "source": [
        "* 다른 예"
      ],
      "metadata": {
        "id": "Uv9Cru7hbl-W"
      }
    },
    {
      "cell_type": "code",
      "source": [
        "example = \"\"\"class LinearLayer():\n",
        "    def __init__(self, input_size, output_size):\n",
        "        self.weight = torch.randn(input_size, output_size)\n",
        "        self.bias = torch.zeros(output_size)\n",
        "\n",
        "    def __call__(self, x):\n",
        "        return x @ self.weights + self.bias\n",
        "    \"\"\"\n",
        "tokenizer.tokenize(example)"
      ],
      "metadata": {
        "id": "bFSrCIICa-Gd"
      },
      "execution_count": null,
      "outputs": []
    },
    {
      "cell_type": "markdown",
      "source": [
        "#### 토크나이저 저장"
      ],
      "metadata": {
        "id": "LQIN4fVRbupw"
      }
    },
    {
      "cell_type": "code",
      "source": [
        "tokenizer.save_pretrained(\"code-search-net-tokenizer\")"
      ],
      "metadata": {
        "id": "8VaSOgdba-Jl"
      },
      "execution_count": null,
      "outputs": []
    },
    {
      "cell_type": "code",
      "source": [
        "from huggingface_hub import notebook_login\n",
        "\n",
        "notebook_login()"
      ],
      "metadata": {
        "id": "GXuicDAra-Mt"
      },
      "execution_count": null,
      "outputs": []
    },
    {
      "cell_type": "code",
      "source": [
        "tokenizer.push_to_hub(\"code-search-net-tokenizer\")"
      ],
      "metadata": {
        "id": "m4TpjUvMa-P1"
      },
      "execution_count": null,
      "outputs": []
    },
    {
      "cell_type": "code",
      "source": [
        "# Replace \"huggingface-course\" below with your actual namespace to use your own tokenizer\n",
        "tokenizer = AutoTokenizer.from_pretrained(\"huggingface-course/code-search-net-tokenizer\")"
      ],
      "metadata": {
        "id": "mgTP59MbbDMS"
      },
      "execution_count": null,
      "outputs": []
    },
    {
      "cell_type": "markdown",
      "source": [
        "### Fast tokenizers' special powers"
      ],
      "metadata": {
        "id": "gfT-vRg9b20c"
      }
    },
    {
      "cell_type": "markdown",
      "source": [
        "#### Batch encoding"
      ],
      "metadata": {
        "id": "rI1EWyl8covi"
      }
    },
    {
      "cell_type": "markdown",
      "source": [
        "* 토크나이저의 출력은 Batch Encoding 객체이다\n",
        "* offset mapping: 항상 최종 토큰이 어떤 원본 텍스트의 범위에서 나왔는지를 추적하는 것"
      ],
      "metadata": {
        "id": "ODBBkmf7QL07"
      }
    },
    {
      "cell_type": "markdown",
      "source": [
        "아래의 출력 결과는 BatchEncdoing 객체이다."
      ],
      "metadata": {
        "id": "E33UhK4NQkF0"
      }
    },
    {
      "cell_type": "code",
      "source": [
        "from transformers import AutoTokenizer\n",
        "\n",
        "tokenizer = AutoTokenizer.from_pretrained(\"bert-base-cased\")\n",
        "example = \"My name is Sylvain and I work at Hugging Face in Brooklyn.\"\n",
        "encoding = tokenizer(example)\n",
        "print(type(encoding))"
      ],
      "metadata": {
        "id": "2neKaxmHb8QH"
      },
      "execution_count": null,
      "outputs": []
    },
    {
      "cell_type": "markdown",
      "source": [
        "토크나이저가 빠른지 느린지 확인한다."
      ],
      "metadata": {
        "id": "Bt-Yv5WcQq3I"
      }
    },
    {
      "cell_type": "code",
      "source": [
        "tokenizer.is_fast"
      ],
      "metadata": {
        "id": "rSf87zMTcAvV"
      },
      "execution_count": null,
      "outputs": []
    },
    {
      "cell_type": "markdown",
      "source": [
        "인코딩 된 것도 빠른지 느린지 확인한다."
      ],
      "metadata": {
        "id": "eEjNYu-vQtgb"
      }
    },
    {
      "cell_type": "code",
      "source": [
        "encoding.is_fast"
      ],
      "metadata": {
        "id": "exPv58RYcAxq"
      },
      "execution_count": null,
      "outputs": []
    },
    {
      "cell_type": "markdown",
      "source": [
        "1) Input ID (encoding)를 토큰으로 다시 변환하지 않고도 토큰에 엑세스 할 수 있다."
      ],
      "metadata": {
        "id": "xChc0siHQ5sn"
      }
    },
    {
      "cell_type": "code",
      "source": [
        "encoding.tokens()\n",
        "# ['[CLS]', 'My', 'name', 'is', 'S', '##yl', '##va', '##in', 'and', 'I', 'work', 'at', 'Hu', '##gging', 'Face', 'in', 'Brooklyn', '.', '[SEP]']"
      ],
      "metadata": {
        "id": "IeNSddL8cA0S"
      },
      "execution_count": null,
      "outputs": []
    },
    {
      "cell_type": "markdown",
      "source": [
        "word_ids를 사용하여 각 토큰이 유래된 단어의 색인을 알 수 있다."
      ],
      "metadata": {
        "id": "-q3U70dnRGZZ"
      }
    },
    {
      "cell_type": "markdown",
      "source": [
        "* 토크나이저의 특수 토큰 [CLS]와 [SEP]이 None으로 매핑"
      ],
      "metadata": {
        "id": "dF0w40EVRc_u"
      }
    },
    {
      "cell_type": "markdown",
      "source": [
        "* sentence_ids(): 토큰을 해당 토큰이 속한 문장으로 매핑하는 메서드입니다.\n",
        "\n",
        "* word_to_chars(), token_to_chars(), char_to_word(), char_to_token(): 어떤 단어 또는 토큰을 원본 텍스트의 문자에 매핑하거나 그 반대로 매핑할 수 있는 메서드들입니다.\n",
        "* 예를 들어, word_ids() 메서드는 ##yl이 인덱스 3의 단어의 일부임을 알려줍니다."
      ],
      "metadata": {
        "id": "EEfQLgatSLLh"
      }
    },
    {
      "cell_type": "code",
      "source": [
        "encoding.word_ids()\n",
        "# [None, 0, 1, 2, 3, 3, 3, 3, 4, 5, 6, 7, 8, 8, 9, 10, 11, 12, None]"
      ],
      "metadata": {
        "id": "a8dMwl17cA25"
      },
      "execution_count": null,
      "outputs": []
    },
    {
      "cell_type": "code",
      "source": [
        "start, end = encoding.word_to_chars(3)\n",
        "example[start:end]\n",
        "# 답: Sylvain"
      ],
      "metadata": {
        "id": "j96I5Rp1cA5e"
      },
      "execution_count": null,
      "outputs": []
    },
    {
      "cell_type": "markdown",
      "source": [
        "#### Inside the token-classification pipeline"
      ],
      "metadata": {
        "id": "WS7S0kP6TFAh"
      }
    },
    {
      "cell_type": "markdown",
      "source": [
        "[Getting the base results with the pipeline]"
      ],
      "metadata": {
        "id": "zrOjM0z-TQsK"
      }
    },
    {
      "cell_type": "markdown",
      "source": [
        "* entity 출력"
      ],
      "metadata": {
        "id": "4ud-imCrUAjM"
      }
    },
    {
      "cell_type": "code",
      "source": [
        "from transformers import pipeline\n",
        "\n",
        "token_classifier = pipeline(\"token-classification\")\n",
        "token_classifier(\"My name is Sylvain and I work at Hugging Face in Brooklyn.\")"
      ],
      "metadata": {
        "id": "_CweSh-PcA8E"
      },
      "execution_count": null,
      "outputs": []
    },
    {
      "cell_type": "markdown",
      "source": [
        "* entity_group 출력\n",
        "* aggregation_stratecy -> 각 그룹화된 엔터티에 대해 계산된 점수를 변경할 수 있다\n",
        "* aggregation_stratecy 종류\n",
        "\n",
        "    * simple: 각 토큰의 점수의 평균\n",
        "    * first: 해당 엔터티의 첫 번째 토큰의 점수\n",
        "    * max:  해당 엔터티의 토큰 중 가장 높은 점수\n",
        "    * average: 해당 엔터티를 구성하는 단어의 점수의 평균"
      ],
      "metadata": {
        "id": "v7BvL8iBUBzZ"
      }
    },
    {
      "cell_type": "code",
      "source": [
        "from transformers import pipeline\n",
        "\n",
        "token_classifier = pipeline(\"token-classification\", aggregation_strategy=\"simple\")\n",
        "token_classifier(\"My name is Sylvain and I work at Hugging Face in Brooklyn.\")"
      ],
      "metadata": {
        "id": "BTjpjMaocA-8"
      },
      "execution_count": null,
      "outputs": []
    },
    {
      "cell_type": "markdown",
      "source": [
        "[From inputs to predictions]"
      ],
      "metadata": {
        "id": "Mw1wB3IiU7EQ"
      }
    },
    {
      "cell_type": "code",
      "source": [
        "from transformers import AutoTokenizer, AutoModelForTokenClassification\n",
        "\n",
        "model_checkpoint = \"dbmdz/bert-large-cased-finetuned-conll03-english\"\n",
        "tokenizer = AutoTokenizer.from_pretrained(model_checkpoint)\n",
        "model = AutoModelForTokenClassification.from_pretrained(model_checkpoint)\n",
        "\n",
        "example = \"My name is Sylvain and I work at Hugging Face in Brooklyn.\"\n",
        "inputs = tokenizer(example, return_tensors=\"pt\")\n",
        "outputs = model(**inputs)"
      ],
      "metadata": {
        "id": "tCXEscyAcBBT"
      },
      "execution_count": null,
      "outputs": []
    },
    {
      "cell_type": "markdown",
      "source": [
        "* 모델에 넣고, output인 logits을 얻을 수 있다."
      ],
      "metadata": {
        "id": "m7WgimTcVL2a"
      }
    },
    {
      "cell_type": "code",
      "source": [
        "print(inputs[\"input_ids\"].shape) # torch.Size([1, 19])\n",
        "print(outputs.logits.shape) # torch.Size([1, 19, 9])"
      ],
      "metadata": {
        "id": "mggX7vEocBD4"
      },
      "execution_count": null,
      "outputs": []
    },
    {
      "cell_type": "markdown",
      "source": [
        "* logits을 probabilities로 바꾸기 위해 softmax함수를 사용한다.\n",
        "* 최댓값을 찾기 위해 argmax."
      ],
      "metadata": {
        "id": "1aJbQcS8Vbp0"
      }
    },
    {
      "cell_type": "code",
      "source": [
        "import torch\n",
        "\n",
        "probabilities = torch.nn.functional.softmax(outputs.logits, dim=-1)[0].tolist()\n",
        "predictions = outputs.logits.argmax(dim=-1)[0].tolist()\n",
        "print(predictions)"
      ],
      "metadata": {
        "id": "x2arWuivcBGx"
      },
      "execution_count": null,
      "outputs": []
    },
    {
      "cell_type": "markdown",
      "source": [
        "* label에 대한 indexes 매핑 정보가 있음.\n",
        "* 출력결과: 총 9개의 레이블.\n",
        "* 각 유형의 엔터티(miscellaneous, person, organization, location)에 대해 두 가지 라벨이 있음.\n",
        "* B-XXX 라벨: 토큰이 엔터티 XXX의 시작 부분에 있는 것\n",
        "* I-XXX 라벨: 토큰이 엔터티 XXX 안에 있는 것\n",
        "* B- 및 I- 라벨에는 두 가지 형식이 있다.\n",
        "* IOB2 형식은 위에서 소개한 형식이며\n",
        "* IOB1 형식은 B-로 시작하는 라벨이 동일한 유형의 두 인접한 엔터티를 구분하기 위해서만 사용된다. 사용 중인 모델은 이 형식을 사용하여 미세 조정되었기 때문에 S 토큰에 I-PER 라벨을 할당합니다."
      ],
      "metadata": {
        "id": "JI2uEV4jWBLX"
      }
    },
    {
      "cell_type": "code",
      "source": [
        "model.config.id2label"
      ],
      "metadata": {
        "id": "_RdxM_07cBJX"
      },
      "execution_count": null,
      "outputs": []
    },
    {
      "cell_type": "markdown",
      "source": [
        "0 이 아닌 레이블에 대해 각 토큰의 점수 등 출력"
      ],
      "metadata": {
        "id": "3fM2IhVyXKjc"
      }
    },
    {
      "cell_type": "code",
      "source": [
        "results = []\n",
        "tokens = inputs.tokens()\n",
        "\n",
        "for idx, pred in enumerate(predictions):\n",
        "    label = model.config.id2label[pred]\n",
        "    if label != \"O\":\n",
        "        results.append(\n",
        "            {\"entity\": label, \"score\": probabilities[idx][pred], \"word\": tokens[idx]}\n",
        "        )\n",
        "\n",
        "print(results)"
      ],
      "metadata": {
        "id": "tk0gwt01cBMv"
      },
      "execution_count": null,
      "outputs": []
    },
    {
      "cell_type": "markdown",
      "source": [
        "offset 얻기"
      ],
      "metadata": {
        "id": "3HCI_UQHXXSz"
      }
    },
    {
      "cell_type": "code",
      "source": [
        "inputs_with_offsets = tokenizer(example, return_offsets_mapping=True)\n",
        "inputs_with_offsets[\"offset_mapping\"]\n",
        "# [(0, 0), (0, 2), (3, 7), (8, 10), (11, 12), (12, 14), (14, 16), (16, 18), (19, 22), (23, 24), (25, 29), (30, 32), (33, 35), (35, 40), (41, 45), (46, 48), (49, 57), (57, 58), (0, 0)]"
      ],
      "metadata": {
        "id": "FQf3c4arcMP0"
      },
      "execution_count": null,
      "outputs": []
    },
    {
      "cell_type": "code",
      "source": [
        "example[12:14]\n",
        "# yl"
      ],
      "metadata": {
        "id": "GZc0X7OPcMSY"
      },
      "execution_count": null,
      "outputs": []
    },
    {
      "cell_type": "code",
      "source": [
        "results = []\n",
        "inputs_with_offsets = tokenizer(example, return_offsets_mapping=True)\n",
        "tokens = inputs_with_offsets.tokens()\n",
        "offsets = inputs_with_offsets[\"offset_mapping\"]\n",
        "\n",
        "for idx, pred in enumerate(predictions):\n",
        "    label = model.config.id2label[pred]\n",
        "    if label != \"O\":\n",
        "        start, end = offsets[idx]\n",
        "        results.append(\n",
        "            {\n",
        "                \"entity\": label,\n",
        "                \"score\": probabilities[idx][pred],\n",
        "                \"word\": tokens[idx],\n",
        "                \"start\": start,\n",
        "                \"end\": end,\n",
        "            }\n",
        "        )\n",
        "\n",
        "print(results)"
      ],
      "metadata": {
        "id": "OEz8GpxIcMVg"
      },
      "execution_count": null,
      "outputs": []
    },
    {
      "cell_type": "markdown",
      "source": [
        "그럼 위 출력 결과는 처음 pipeline 결과와 같게 된다."
      ],
      "metadata": {
        "id": "vu-NZgDRXtW1"
      }
    },
    {
      "cell_type": "markdown",
      "source": [
        "[Grouping entities]"
      ],
      "metadata": {
        "id": "HPjPfyRvXytQ"
      }
    },
    {
      "cell_type": "markdown",
      "source": [
        "* offset을 사용하면 원본 텍스트에서 첫번째 토큰으로 시작하고, 마지막 토큰으로 끝나는 영역을 가져올 수 있다."
      ],
      "metadata": {
        "id": "8_uvzBqjYFWO"
      }
    },
    {
      "cell_type": "code",
      "source": [
        "example[33:45] # Hugging Face"
      ],
      "metadata": {
        "id": "5tnjSH6PcPhc"
      },
      "execution_count": null,
      "outputs": []
    },
    {
      "cell_type": "markdown",
      "source": [
        "* 예측결과를 후처리하는 코드를 작성.\n",
        "* I-XXX로"
      ],
      "metadata": {
        "id": "s5DNX62rYXwV"
      }
    },
    {
      "cell_type": "code",
      "source": [
        "import numpy as np\n",
        "\n",
        "results = []\n",
        "inputs_with_offsets = tokenizer(example, return_offsets_mapping=True)\n",
        "tokens = inputs_with_offsets.tokens()\n",
        "offsets = inputs_with_offsets[\"offset_mapping\"]\n",
        "\n",
        "idx = 0\n",
        "while idx < len(predictions):\n",
        "    pred = predictions[idx]\n",
        "    label = model.config.id2label[pred]\n",
        "    if label != \"O\": # \"O\" 레이블은 엔터티가 아닌 것으로 간주되어 무시\n",
        "        # Remove the B- or I-\n",
        "        label = label[2:] # 예측된 레이블에서 \"B-\" 또는 \"I-\" 접두사를 제거하고, 해당 엔터티의 시작 오프셋을 찾는다.\n",
        "        start, _ = offsets[idx]\n",
        "\n",
        "        # \"I-\"로 시작하는 모든 토큰을 찾아 해당 엔터티의 점수를 계산\n",
        "        all_scores = []\n",
        "        while (\n",
        "            idx < len(predictions)\n",
        "            and model.config.id2label[predictions[idx]] == f\"I-{label}\"\n",
        "        ):  # 엔터티에 대한 평균 점수와 해당 엔터티의 단어, 시작 및 끝 오프셋을 결과 리스트에 추가\n",
        "            all_scores.append(probabilities[idx][pred])\n",
        "            _, end = offsets[idx]\n",
        "            idx += 1\n",
        "\n",
        "        # The score is the mean of all the scores of the tokens in that grouped entity\n",
        "        score = np.mean(all_scores).item()\n",
        "        word = example[start:end]\n",
        "        results.append(\n",
        "            {\n",
        "                \"entity_group\": label,\n",
        "                \"score\": score,\n",
        "                \"word\": word,\n",
        "                \"start\": start,\n",
        "                \"end\": end,\n",
        "            }\n",
        "        )\n",
        "    idx += 1\n",
        "\n",
        "print(results)"
      ],
      "metadata": {
        "id": "-SehXNV1cPjw"
      },
      "execution_count": null,
      "outputs": []
    },
    {
      "cell_type": "markdown",
      "source": [
        "### Fast tokenizers in the QA pipeline"
      ],
      "metadata": {
        "id": "ItTPZjU_ZLo5"
      }
    },
    {
      "cell_type": "markdown",
      "source": [
        "#### Using the question-answering pipeline"
      ],
      "metadata": {
        "id": "LMbeJcmJZNWB"
      }
    },
    {
      "cell_type": "code",
      "source": [
        "from transformers import pipeline\n",
        "\n",
        "question_answerer = pipeline(\"question-answering\")\n",
        "context = \"\"\"\n",
        "🤗 Transformers is backed by the three most popular deep learning libraries — Jax, PyTorch, and TensorFlow — with a seamless integration\n",
        "between them. It's straightforward to train your models with one before loading them for inference with the other.\n",
        "\"\"\"\n",
        "question = \"Which deep learning libraries back 🤗 Transformers?\"\n",
        "question_answerer(question=question, context=context)"
      ],
      "metadata": {
        "id": "zANFhVInZQAV"
      },
      "execution_count": null,
      "outputs": []
    },
    {
      "cell_type": "code",
      "source": [
        "long_context = \"\"\"\n",
        "🤗 Transformers: State of the Art NLP\n",
        "\n",
        "🤗 Transformers provides thousands of pretrained models to perform tasks on texts such as classification, information extraction,\n",
        "question answering, summarization, translation, text generation and more in over 100 languages.\n",
        "Its aim is to make cutting-edge NLP easier to use for everyone.\n",
        "\n",
        "🤗 Transformers provides APIs to quickly download and use those pretrained models on a given text, fine-tune them on your own datasets and\n",
        "then share them with the community on our model hub. At the same time, each python module defining an architecture is fully standalone and\n",
        "can be modified to enable quick research experiments.\n",
        "\n",
        "Why should I use transformers?\n",
        "\n",
        "1. Easy-to-use state-of-the-art models:\n",
        "  - High performance on NLU and NLG tasks.\n",
        "  - Low barrier to entry for educators and practitioners.\n",
        "  - Few user-facing abstractions with just three classes to learn.\n",
        "  - A unified API for using all our pretrained models.\n",
        "  - Lower compute costs, smaller carbon footprint:\n",
        "\n",
        "2. Researchers can share trained models instead of always retraining.\n",
        "  - Practitioners can reduce compute time and production costs.\n",
        "  - Dozens of architectures with over 10,000 pretrained models, some in more than 100 languages.\n",
        "\n",
        "3. Choose the right framework for every part of a model's lifetime:\n",
        "  - Train state-of-the-art models in 3 lines of code.\n",
        "  - Move a single model between TF2.0/PyTorch frameworks at will.\n",
        "  - Seamlessly pick the right framework for training, evaluation and production.\n",
        "\n",
        "4. Easily customize a model or an example to your needs:\n",
        "  - We provide examples for each architecture to reproduce the results published by its original authors.\n",
        "  - Model internals are exposed as consistently as possible.\n",
        "  - Model files can be used independently of the library for quick experiments.\n",
        "\n",
        "🤗 Transformers is backed by the three most popular deep learning libraries — Jax, PyTorch and TensorFlow — with a seamless integration\n",
        "between them. It's straightforward to train your models with one before loading them for inference with the other.\n",
        "\"\"\"\n",
        "question_answerer(question=question, context=long_context)"
      ],
      "metadata": {
        "id": "I5gMspUQgnKV"
      },
      "execution_count": null,
      "outputs": []
    },
    {
      "cell_type": "markdown",
      "source": [
        "#### Using a model for question answering"
      ],
      "metadata": {
        "id": "fn_s378UZQI6"
      }
    },
    {
      "cell_type": "markdown",
      "source": [
        "먼저 입력을 토큰화한 다음 모델을 통해 보낸다."
      ],
      "metadata": {
        "id": "F-fQF7Isg-7u"
      }
    },
    {
      "cell_type": "code",
      "source": [
        "from transformers import AutoTokenizer, AutoModelForQuestionAnswering\n",
        "\n",
        "model_checkpoint = \"distilbert-base-cased-distilled-squad\"\n",
        "tokenizer = AutoTokenizer.from_pretrained(model_checkpoint)\n",
        "model = AutoModelForQuestionAnswering.from_pretrained(model_checkpoint)\n",
        "\n",
        "inputs = tokenizer(question, context, return_tensors=\"pt\")\n",
        "outputs = model(**inputs)"
      ],
      "metadata": {
        "id": "eo3hjznNZSqI"
      },
      "execution_count": null,
      "outputs": []
    },
    {
      "cell_type": "markdown",
      "source": [
        "Question-Answering 모델은 지금깢의 모델과 약간 다르게 작동한다.\n",
        "* 답변이 시작하는 토큰의 인덱스(21)과 답변이 끝나는 토큰의 인덱스(24)를 예측하는 방식으로 훈련된다.\n",
        "* 이 경우에는 총 66개의 토큰을 포함하는 하나의 입력에 대해 두 개의 로짓을 얻게 됩니다."
      ],
      "metadata": {
        "id": "cBuswpr2hWku"
      }
    },
    {
      "cell_type": "code",
      "source": [
        "start_logits = outputs.start_logits\n",
        "end_logits = outputs.end_logits\n",
        "print(start_logits.shape, end_logits.shape)"
      ],
      "metadata": {
        "id": "hKXskra5g6fl"
      },
      "execution_count": null,
      "outputs": []
    },
    {
      "cell_type": "markdown",
      "source": [
        "* 문맥에 속하지 않는 인덱스 [CLS], [SEP] 토큰에 대해 마스킹을 해야한다. 이때, [CLS]는 답변이 문맥에 없음을 나타내는 용도로 사용되는 경우가 있으므로 유지\n",
        "* 나중에 softmax를 적용할 것이기 때문에 마스킹하려는 로짓을 큰 음수(-10000)로 대체하면 된다."
      ],
      "metadata": {
        "id": "R0V_253eivzF"
      }
    },
    {
      "cell_type": "code",
      "source": [
        "import torch\n",
        "\n",
        "sequence_ids = inputs.sequence_ids()\n",
        "# Mask everything apart from the tokens of the context\n",
        "mask = [i != 1 for i in sequence_ids]\n",
        "# Unmask the [CLS] token\n",
        "mask[0] = False\n",
        "mask = torch.tensor(mask)[None]\n",
        "\n",
        "start_logits[mask] = -10000\n",
        "end_logits[mask] = -10000"
      ],
      "metadata": {
        "id": "TOn3e_VfjB3E"
      },
      "execution_count": null,
      "outputs": []
    },
    {
      "cell_type": "markdown",
      "source": [
        "softmax 적용"
      ],
      "metadata": {
        "id": "91XzCy2EjUer"
      }
    },
    {
      "cell_type": "code",
      "source": [
        "start_probabilities = torch.nn.functional.softmax(start_logits, dim=-1)[0]\n",
        "end_probabilities = torch.nn.functional.softmax(end_logits, dim=-1)[0]"
      ],
      "metadata": {
        "id": "roJAAdPUjSLC"
      },
      "execution_count": null,
      "outputs": []
    },
    {
      "cell_type": "markdown",
      "source": [
        "모든 경우의 수를 계산하여 가장 큰 값을 고를 것임."
      ],
      "metadata": {
        "id": "85l9KKSVkDqv"
      }
    },
    {
      "cell_type": "code",
      "source": [
        "# start_index > end_index\n",
        "scores = start_probabilities[:, None] * end_probabilities[None, :]"
      ],
      "metadata": {
        "id": "pnFebZd5j91i"
      },
      "execution_count": null,
      "outputs": []
    },
    {
      "cell_type": "markdown",
      "source": [
        "인수로 전달된 2D 텐서의 위쪽 삼각형 부분을 반환하므로 해당 마스킹을 수행"
      ],
      "metadata": {
        "id": "atfW3OdokYR_"
      }
    },
    {
      "cell_type": "code",
      "source": [
        "scores = torch.triu(scores)"
      ],
      "metadata": {
        "id": "8p9MJ3tCkOF8"
      },
      "execution_count": null,
      "outputs": []
    },
    {
      "cell_type": "markdown",
      "source": [
        "가장 큰 값 고름."
      ],
      "metadata": {
        "id": "pDIz2QgSkfCA"
      }
    },
    {
      "cell_type": "code",
      "source": [
        "max_index = scores.argmax().item()\n",
        "start_index = max_index // scores.shape[1]\n",
        "end_index = max_index % scores.shape[1]\n",
        "print(scores[start_index, end_index])"
      ],
      "metadata": {
        "id": "dIFlvYvekRNn"
      },
      "execution_count": null,
      "outputs": []
    },
    {
      "cell_type": "markdown",
      "source": [
        "그럼이제 index를 찾았으니 변환함."
      ],
      "metadata": {
        "id": "Mb0vy1tIkmS3"
      }
    },
    {
      "cell_type": "code",
      "source": [
        "inputs_with_offsets = tokenizer(question, context, return_offsets_mapping=True)\n",
        "offsets = inputs_with_offsets[\"offset_mapping\"]\n",
        "\n",
        "start_char, _ = offsets[start_index]\n",
        "_, end_char = offsets[end_index]\n",
        "answer = context[start_char:end_char]"
      ],
      "metadata": {
        "id": "asVnHyoqkshh"
      },
      "execution_count": null,
      "outputs": []
    },
    {
      "cell_type": "code",
      "source": [
        "result = {\n",
        "    \"answer\": answer,\n",
        "    \"start\": start_char,\n",
        "    \"end\": end_char,\n",
        "    \"score\": scores[start_index, end_index],\n",
        "}\n",
        "print(result)"
      ],
      "metadata": {
        "id": "a9XBd0LVkyNo"
      },
      "execution_count": null,
      "outputs": []
    },
    {
      "cell_type": "markdown",
      "source": [
        "#### Handling long contexts"
      ],
      "metadata": {
        "id": "8WH67EjMZS1X"
      }
    },
    {
      "cell_type": "markdown",
      "source": [
        "* 토큰의 수가 파이프라인에서 사용된 최대 길이(384) 보다 많음."
      ],
      "metadata": {
        "id": "k7BdEv10lEMX"
      }
    },
    {
      "cell_type": "code",
      "source": [
        "inputs = tokenizer(question, long_context)\n",
        "print(len(inputs[\"input_ids\"]))"
      ],
      "metadata": {
        "id": "vHuT1gx6ZVzN"
      },
      "execution_count": null,
      "outputs": []
    },
    {
      "cell_type": "markdown",
      "source": [
        "* 그래서 입력을 해당 최대 길이로 잘라야함.\n",
        "* context는 두번쨰 문장이므로 only_second 자르기 전략을 사용할 것.\n",
        "* 질문에 대한 답이 잘린 문맥에 없을 수 있음."
      ],
      "metadata": {
        "id": "3ce34piVlL7a"
      }
    },
    {
      "cell_type": "code",
      "source": [
        "inputs = tokenizer(question, long_context)\n",
        "print(len(inputs[\"input_ids\"]))"
      ],
      "metadata": {
        "id": "7UOREwK_lLIo"
      },
      "execution_count": null,
      "outputs": []
    },
    {
      "cell_type": "code",
      "source": [
        "inputs = tokenizer(question, long_context, max_length=384, truncation=\"only_second\")\n",
        "print(tokenizer.decode(inputs[\"input_ids\"]))"
      ],
      "metadata": {
        "id": "MOZku5FClk1b"
      },
      "execution_count": null,
      "outputs": []
    },
    {
      "cell_type": "markdown",
      "source": [
        "-> 이는 모델이 정답을 선택하는 데에 어려움을 겪게 됨.\n",
        "* context를 더 작은 청크로 분할하여 최대 길이를 지정할 수 있다.\n",
        "* return_overflowing_tokens=True를 추가하고 stride 인자를 사용하여 오버랩을 허용한다. (청크 사이 일부 겹침)"
      ],
      "metadata": {
        "id": "Ko5X4vZgl9C4"
      }
    },
    {
      "cell_type": "code",
      "source": [
        "sentence = \"This sentence is not too long but we are going to split it anyway.\"\n",
        "inputs = tokenizer(\n",
        "    sentence, truncation=True, return_overflowing_tokens=True, max_length=6, stride=2\n",
        ")\n",
        "\n",
        "for ids in inputs[\"input_ids\"]:\n",
        "    print(tokenizer.decode(ids))"
      ],
      "metadata": {
        "id": "Xwvc78EelnLa"
      },
      "execution_count": null,
      "outputs": []
    },
    {
      "cell_type": "markdown",
      "source": [
        " 각 항목 간에 2개의 토큰 겹침.\n",
        "* 마지막 항목이 다른 항목과 동일한 크기가 되도록 패딩을 추가해야 함"
      ],
      "metadata": {
        "id": "ElCEaPeumYgK"
      }
    },
    {
      "cell_type": "code",
      "source": [
        "print(inputs.keys())"
      ],
      "metadata": {
        "id": "Uk7rQsytlopb"
      },
      "execution_count": null,
      "outputs": []
    },
    {
      "cell_type": "markdown",
      "source": [
        "overflow_to_sample_mapping은 각 결과가 어떤 문장에 해당하는지 알려주는 맵"
      ],
      "metadata": {
        "id": "1vHNjt77nGeD"
      }
    },
    {
      "cell_type": "code",
      "source": [
        "print(inputs[\"overflow_to_sample_mapping\"])"
      ],
      "metadata": {
        "id": "yfGj7_Zglp0J"
      },
      "execution_count": null,
      "outputs": []
    },
    {
      "cell_type": "markdown",
      "source": [
        "여러문장이 사용되었을떄 더 유용함."
      ],
      "metadata": {
        "id": "cRlVp_evnPif"
      }
    },
    {
      "cell_type": "code",
      "source": [
        "sentences = [\n",
        "    \"This sentence is not too long but we are going to split it anyway.\",\n",
        "    \"This sentence is shorter but will still get split.\",\n",
        "]\n",
        "inputs = tokenizer(\n",
        "    sentences, truncation=True, return_overflowing_tokens=True, max_length=6, stride=2\n",
        ")\n",
        "\n",
        "print(inputs[\"overflow_to_sample_mapping\"])"
      ],
      "metadata": {
        "id": "KGu0uXQWlp2_"
      },
      "execution_count": null,
      "outputs": []
    },
    {
      "cell_type": "markdown",
      "source": [
        "long context로 돌아와서.. 토크나이징하기"
      ],
      "metadata": {
        "id": "nIk-JEZUnkPv"
      }
    },
    {
      "cell_type": "code",
      "source": [
        "inputs = tokenizer(\n",
        "    question,\n",
        "    long_context,\n",
        "    stride=128,\n",
        "    max_length=384,\n",
        "    padding=\"longest\",\n",
        "    truncation=\"only_second\",\n",
        "    return_overflowing_tokens=True,\n",
        "    return_offsets_mapping=True,\n",
        ")"
      ],
      "metadata": {
        "id": "CJ5y1C8Ylp5n"
      },
      "execution_count": null,
      "outputs": []
    },
    {
      "cell_type": "markdown",
      "source": [
        "입력 id, 어텐션 마스크만 있으면 되기 때문에 나머지 두가지는 input에서 뽑아내준다."
      ],
      "metadata": {
        "id": "ehOZBjg5nxQT"
      }
    },
    {
      "cell_type": "code",
      "source": [
        "_ = inputs.pop(\"overflow_to_sample_mapping\")\n",
        "offsets = inputs.pop(\"offset_mapping\")\n",
        "\n",
        "inputs = inputs.convert_to_tensors(\"pt\")\n",
        "print(inputs[\"input_ids\"].shape)"
      ],
      "metadata": {
        "id": "C1tzZGallp8O"
      },
      "execution_count": null,
      "outputs": []
    },
    {
      "cell_type": "markdown",
      "source": [
        "우리는 그러면 두가지 sets of start and end logits을 갖게 된다."
      ],
      "metadata": {
        "id": "pemSLxx8n_Hy"
      }
    },
    {
      "cell_type": "code",
      "source": [
        "outputs = model(**inputs)\n",
        "\n",
        "start_logits = outputs.start_logits\n",
        "end_logits = outputs.end_logits\n",
        "print(start_logits.shape, end_logits.shape)"
      ],
      "metadata": {
        "id": "MhEwiRualp-k"
      },
      "execution_count": null,
      "outputs": []
    },
    {
      "cell_type": "markdown",
      "source": [
        "mask 처리한다."
      ],
      "metadata": {
        "id": "a9sv2YWjoHBC"
      }
    },
    {
      "cell_type": "code",
      "source": [
        "sequence_ids = inputs.sequence_ids()\n",
        "# Mask everything apart from the tokens of the context\n",
        "mask = [i != 1 for i in sequence_ids]\n",
        "# Unmask the [CLS] token\n",
        "mask[0] = False\n",
        "# Mask all the [PAD] tokens\n",
        "mask = torch.logical_or(torch.tensor(mask)[None], (inputs[\"attention_mask\"] == 0))\n",
        "\n",
        "start_logits[mask] = -10000\n",
        "end_logits[mask] = -10000"
      ],
      "metadata": {
        "id": "wD37DnHzlqBK"
      },
      "execution_count": null,
      "outputs": []
    },
    {
      "cell_type": "markdown",
      "source": [
        "softmax를 취한다."
      ],
      "metadata": {
        "id": "CKm-oVr9oK35"
      }
    },
    {
      "cell_type": "code",
      "source": [
        "start_probabilities = torch.nn.functional.softmax(start_logits, dim=-1)\n",
        "end_probabilities = torch.nn.functional.softmax(end_logits, dim=-1)"
      ],
      "metadata": {
        "id": "9hIdbKb9lqDw"
      },
      "execution_count": null,
      "outputs": []
    },
    {
      "cell_type": "markdown",
      "source": [
        "* 작은 문맥에 대해 수행한 것과 유사하지만, 이번에는 두 개의 청크 각각에 대해 반복\n",
        "* 모든 가능한 답변 범위에 점수를 할당한 다음 가장 높은 점수를 가진 범위를 선택"
      ],
      "metadata": {
        "id": "IV4kpx6loMgQ"
      }
    },
    {
      "cell_type": "code",
      "source": [
        "candidates = []\n",
        "for start_probs, end_probs in zip(start_probabilities, end_probabilities):\n",
        "    scores = start_probs[:, None] * end_probs[None, :]\n",
        "    idx = torch.triu(scores).argmax().item()\n",
        "\n",
        "    start_idx = idx // scores.shape[1]\n",
        "    end_idx = idx % scores.shape[1]\n",
        "    score = scores[start_idx, end_idx].item()\n",
        "    candidates.append((start_idx, end_idx, score))\n",
        "\n",
        "print(candidates)"
      ],
      "metadata": {
        "id": "4EhhNN_JlqGX"
      },
      "execution_count": null,
      "outputs": []
    },
    {
      "cell_type": "markdown",
      "source": [
        "두 토큰 범위를 context에서 문자 범위로 매핑하면 됨."
      ],
      "metadata": {
        "id": "hOSRTvC-o5ui"
      }
    },
    {
      "cell_type": "code",
      "source": [
        "for candidate, offset in zip(candidates, offsets):\n",
        "    start_token, end_token, score = candidate\n",
        "    start_char, _ = offset[start_token]\n",
        "    _, end_char = offset[end_token]\n",
        "    answer = long_context[start_char:end_char]\n",
        "    result = {\"answer\": answer, \"start\": start_char, \"end\": end_char, \"score\": score}\n",
        "    print(result)"
      ],
      "metadata": {
        "id": "PNGErqrJlqIt"
      },
      "execution_count": null,
      "outputs": []
    },
    {
      "cell_type": "markdown",
      "source": [
        "### Normalization and pre-tokenization"
      ],
      "metadata": {
        "id": "Fap9tFoapkl-"
      }
    },
    {
      "cell_type": "markdown",
      "source": [
        "모델에 따라 텍스트를 하위 토큰으로 분할하기 전에 토크나이저는 정규화 및 사전 토큰화라는 두 단계를 수행합니다 ."
      ],
      "metadata": {
        "id": "6DJiwmrvqEdB"
      }
    },
    {
      "cell_type": "markdown",
      "source": [
        "#### Normalization"
      ],
      "metadata": {
        "id": "F5XmHFzVpq7d"
      }
    },
    {
      "cell_type": "code",
      "source": [
        "from transformers import AutoTokenizer\n",
        "\n",
        "tokenizer = AutoTokenizer.from_pretrained(\"bert-base-uncased\")\n",
        "print(type(tokenizer.backend_tokenizer))"
      ],
      "metadata": {
        "colab": {
          "base_uri": "https://localhost:8080/",
          "height": 292,
          "referenced_widgets": [
            "383e33e5719b46fdb0fdbf60f1b0b1de",
            "4ffcb42207d7481f93ba77045e9d8a6d",
            "2b0da82c17744b97a9ccd075f7b25125",
            "c6e09252b2ea465d852882ada8787abb",
            "17b43e30ed934b379607ea0b78167582",
            "2dbad8c018444cdabc01ad38715fddf5",
            "a00a6db8b3da4b6a942c0745e44bddc4",
            "c0e7de52882e425fae9aa8340fdd85a2",
            "6cb541e978264cc7a90a9595ac65ca01",
            "207627692bc04a04baebe0451d9c08b8",
            "80ea506cfcd34c60bf338de556df78eb",
            "266508f3596b4904923208cad6b74ed9",
            "683091e21065472ca9a73d7ea9bebd29",
            "e0b8d57fa0614eb8b4d7db2665be64a5",
            "343e57c5ebfc490b9af01c5244c5247f",
            "8a59d7f9e0fa4d0b93d6a2d7ae9f5096",
            "763d5b7c8879431381ead2cfcd2acf75",
            "2b724a9b37b04d46b94fa7dcfe030b88",
            "a3862160642a4bfda8d1d45cd4ea8161",
            "0f9730e687874464808e914592a1ac90",
            "2c20bc3f1b86421a80f383917b0b0584",
            "fabf3d95c99e4e909e4a452625ac3d11",
            "9c7792e12af84856900295253402e0c8",
            "b65aed28be084488971aea346815f0e5",
            "7cbe374250704bc6b808eb82bd55fae1",
            "cfcc67195ee44960b761cf56f26c1a52",
            "e6fa7df923c5487b8fd16197a0ce0865",
            "5e1c08a79f734584b0112a83122dbd9e",
            "6ba2cccc0574410ba54fcabb61591d62",
            "4a728de84efe442e8a8e0e8babfd1a38",
            "57c1f1fd2c0e45a5b45e0938442a3b39",
            "0d562bb14b934888800f5cc0b1776749",
            "4bf3984ea38942ee9e0f6dc9cfea84b8",
            "e48a82f5b63c4ab9be284965f4dd6a50",
            "f233d9088522491185b05da4ec1c1e0e",
            "a59a4318f0894160b0383da633a0d45a",
            "b3ac1b2833124279b2e0667b52c5ad29",
            "61e4e7414f1b4304a18377cf61d122d1",
            "08f8de467dd043e9954a7928f1ce3cba",
            "a51825e5e2f94b9582772e757d0101f5",
            "19c262a160234b4486712acb85e625b9",
            "47f23d9b4e5b43888b65318139b06aac",
            "0fb6e96dabac4fa7bc7b30ff413a9499",
            "0965becf7165494fbbdae1a2a8869670"
          ]
        },
        "id": "LtIpalA7qFXH",
        "outputId": "873f2432-05b1-492d-fa80-7dee9498b306"
      },
      "execution_count": 3,
      "outputs": [
        {
          "output_type": "stream",
          "name": "stderr",
          "text": [
            "/usr/local/lib/python3.10/dist-packages/huggingface_hub/utils/_token.py:88: UserWarning: \n",
            "The secret `HF_TOKEN` does not exist in your Colab secrets.\n",
            "To authenticate with the Hugging Face Hub, create a token in your settings tab (https://huggingface.co/settings/tokens), set it as secret in your Google Colab and restart your session.\n",
            "You will be able to reuse this secret in all of your notebooks.\n",
            "Please note that authentication is recommended but still optional to access public models or datasets.\n",
            "  warnings.warn(\n"
          ]
        },
        {
          "output_type": "display_data",
          "data": {
            "text/plain": [
              "tokenizer_config.json:   0%|          | 0.00/28.0 [00:00<?, ?B/s]"
            ],
            "application/vnd.jupyter.widget-view+json": {
              "version_major": 2,
              "version_minor": 0,
              "model_id": "383e33e5719b46fdb0fdbf60f1b0b1de"
            }
          },
          "metadata": {}
        },
        {
          "output_type": "display_data",
          "data": {
            "text/plain": [
              "config.json:   0%|          | 0.00/570 [00:00<?, ?B/s]"
            ],
            "application/vnd.jupyter.widget-view+json": {
              "version_major": 2,
              "version_minor": 0,
              "model_id": "266508f3596b4904923208cad6b74ed9"
            }
          },
          "metadata": {}
        },
        {
          "output_type": "display_data",
          "data": {
            "text/plain": [
              "vocab.txt:   0%|          | 0.00/232k [00:00<?, ?B/s]"
            ],
            "application/vnd.jupyter.widget-view+json": {
              "version_major": 2,
              "version_minor": 0,
              "model_id": "9c7792e12af84856900295253402e0c8"
            }
          },
          "metadata": {}
        },
        {
          "output_type": "display_data",
          "data": {
            "text/plain": [
              "tokenizer.json:   0%|          | 0.00/466k [00:00<?, ?B/s]"
            ],
            "application/vnd.jupyter.widget-view+json": {
              "version_major": 2,
              "version_minor": 0,
              "model_id": "e48a82f5b63c4ab9be284965f4dd6a50"
            }
          },
          "metadata": {}
        },
        {
          "output_type": "stream",
          "name": "stdout",
          "text": [
            "<class 'tokenizers.Tokenizer'>\n"
          ]
        }
      ]
    },
    {
      "cell_type": "markdown",
      "source": [
        " 정규화가 어떻게 수행되는지 확인하는 데 사용"
      ],
      "metadata": {
        "id": "lbbWCBRrqVtr"
      }
    },
    {
      "cell_type": "code",
      "source": [
        "print(tokenizer.backend_tokenizer.normalizer.normalize_str(\"Héllò hôw are ü?\"))"
      ],
      "metadata": {
        "colab": {
          "base_uri": "https://localhost:8080/"
        },
        "id": "v07mnsIkqNl5",
        "outputId": "7eb59a01-345d-4344-e94a-9d23141f3ff3"
      },
      "execution_count": 4,
      "outputs": [
        {
          "output_type": "stream",
          "name": "stdout",
          "text": [
            "hello how are u?\n"
          ]
        }
      ]
    },
    {
      "cell_type": "markdown",
      "source": [
        "-> 소문자로 적용되고 악센트가 제거됨."
      ],
      "metadata": {
        "id": "j09-7DkPqkdc"
      }
    },
    {
      "cell_type": "markdown",
      "source": [
        "#### Pre-tokenization"
      ],
      "metadata": {
        "id": "MnxPVETwptK6"
      }
    },
    {
      "cell_type": "markdown",
      "source": [
        "사전 토큰화를 수행하는 방법"
      ],
      "metadata": {
        "id": "WUful-1iq1D7"
      }
    },
    {
      "cell_type": "code",
      "source": [
        "tokenizer.backend_tokenizer.pre_tokenizer.pre_tokenize_str(\"Hello, how are  you?\")"
      ],
      "metadata": {
        "colab": {
          "base_uri": "https://localhost:8080/"
        },
        "id": "hjxPgwbKqOy9",
        "outputId": "43a42344-bd37-42d1-f964-2d5b55c18ebb"
      },
      "execution_count": 5,
      "outputs": [
        {
          "output_type": "execute_result",
          "data": {
            "text/plain": [
              "[('Hello', (0, 5)),\n",
              " (',', (5, 6)),\n",
              " ('how', (7, 10)),\n",
              " ('are', (11, 14)),\n",
              " ('you', (16, 19)),\n",
              " ('?', (19, 20))]"
            ]
          },
          "metadata": {},
          "execution_count": 5
        }
      ]
    },
    {
      "cell_type": "markdown",
      "source": [
        "* 이전 섹션에서 사용한 오프셋 매핑을 제공하는 방식입니다.\n",
        "* 여기서 토크나이저는 두 개의 공백을 무시하고 그냥 하나로 바꿔 넣지만, 그에 따라 are와 you 사이의 오프셋이 변경됩니다.\n",
        "* 우리가 BERT 토크나이저를 사용하고 있기 때문에 사전 토큰화 단계에서는 공백과 구두점을 기준으로 나누는 것이 포함됩니다.\n",
        "* 다른 토크나이저는 이 단계에서 다른 규칙을 가질 수 있습니다."
      ],
      "metadata": {
        "id": "BJHybN2brFE6"
      }
    },
    {
      "cell_type": "code",
      "source": [
        "tokenizer = AutoTokenizer.from_pretrained(\"gpt2\")\n",
        "tokenizer.backend_tokenizer.pre_tokenizer.pre_tokenize_str(\"Hello, how are  you?\")"
      ],
      "metadata": {
        "colab": {
          "base_uri": "https://localhost:8080/",
          "height": 272,
          "referenced_widgets": [
            "f03ef8c361df4bb2aba087fd6123315b",
            "0f75842e19ee40b3b77fbfd4401a512b",
            "1cb93111329342a2b4957656cdda0691",
            "59008be51b194ac5a46ce2fd7af24e4f",
            "3bf876c7499a45aa98b85183bcd74354",
            "651892c285684ba494f9682f6f2d92b6",
            "af9f6b4f6fb14da8b4a9a1d6b96d63b3",
            "70f33ed7f4564311ad8421e964210e3f",
            "3865fd2a17db4f978f0074296896f813",
            "8e8edd884b684b71aaaead6bae560a10",
            "36fdf148a09e4de6b9204a0d948f71ce",
            "9b0fdf6f2b9d43f4af0a31c7c0596104",
            "7bc7f4352cdc4354b46e68695b424a44",
            "11afb6d92ddb4e6a955696e6c1c113a4",
            "1907ba3d6445434cbdbee163bc089d73",
            "e2eac6ba9c9b45eb9dc398bb53ead7f9",
            "82c3c37466fd4b92afc166dc70839e4a",
            "909a096b696743a69efc29af22b438f9",
            "0c7d09ebf7fe43c7bbb8eaa6b28289b9",
            "15ba4d291cc048da8ce913aceeebaed7",
            "08536e7429a044e1a22bfcb83706ad1a",
            "33f060ba95144b19b7d51d1c15453fee",
            "8a4f1a4c9b5141d18c90240d7a5dfb4b",
            "5c0fe1c175524431a6b19a88f913581c",
            "029bfd4bbe2148f0a8605c85454b10ae",
            "55ef63b9530f4624a2d74d5423be2be4",
            "719b994f9a8949df9028ad321ef668a9",
            "ef77d4fdf466429bad1319d7848e9c98",
            "6a973bc3df484e3585f487ade716bebb",
            "d07f9fea208f4070b20da15166b1a393",
            "7d9c148ad5a143f9a51de94fc90c52d6",
            "2e7255c120dd463d915370884641adc4",
            "e9921a651ce34fcbb95ea3842e003166",
            "ea580c336ec742a38251369a12da3350",
            "cff0861e4420488ca9fd7a608b23f625",
            "044c034e8a1a4174b1b199ae985f1acb",
            "5f8745b88ae84a8094638b4ba6445c8b",
            "5dc1252315094f298a609e461377c31d",
            "4735f230bb9e4f58a1778c919c73a314",
            "e5ac18593fb14ae08ef3cc7e1f0f9e87",
            "f34a6e4c6b6f4a3fa983407b390b027d",
            "c6ddd5afbdb34fe7b67faa72c8cbf47e",
            "f6a2b7378adb4d46a6393a443acc2c7c",
            "b8f5b6d5ea694802b817bcfc6c300842"
          ]
        },
        "id": "3HUdN6MiqQGU",
        "outputId": "82a0cd47-469f-42bd-f246-5674f0a81c73"
      },
      "execution_count": 6,
      "outputs": [
        {
          "output_type": "display_data",
          "data": {
            "text/plain": [
              "config.json:   0%|          | 0.00/665 [00:00<?, ?B/s]"
            ],
            "application/vnd.jupyter.widget-view+json": {
              "version_major": 2,
              "version_minor": 0,
              "model_id": "f03ef8c361df4bb2aba087fd6123315b"
            }
          },
          "metadata": {}
        },
        {
          "output_type": "display_data",
          "data": {
            "text/plain": [
              "vocab.json:   0%|          | 0.00/1.04M [00:00<?, ?B/s]"
            ],
            "application/vnd.jupyter.widget-view+json": {
              "version_major": 2,
              "version_minor": 0,
              "model_id": "9b0fdf6f2b9d43f4af0a31c7c0596104"
            }
          },
          "metadata": {}
        },
        {
          "output_type": "display_data",
          "data": {
            "text/plain": [
              "merges.txt:   0%|          | 0.00/456k [00:00<?, ?B/s]"
            ],
            "application/vnd.jupyter.widget-view+json": {
              "version_major": 2,
              "version_minor": 0,
              "model_id": "8a4f1a4c9b5141d18c90240d7a5dfb4b"
            }
          },
          "metadata": {}
        },
        {
          "output_type": "display_data",
          "data": {
            "text/plain": [
              "tokenizer.json:   0%|          | 0.00/1.36M [00:00<?, ?B/s]"
            ],
            "application/vnd.jupyter.widget-view+json": {
              "version_major": 2,
              "version_minor": 0,
              "model_id": "ea580c336ec742a38251369a12da3350"
            }
          },
          "metadata": {}
        },
        {
          "output_type": "execute_result",
          "data": {
            "text/plain": [
              "[('Hello', (0, 5)),\n",
              " (',', (5, 6)),\n",
              " ('Ġhow', (6, 10)),\n",
              " ('Ġare', (10, 14)),\n",
              " ('Ġ', (14, 15)),\n",
              " ('Ġyou', (15, 19)),\n",
              " ('?', (19, 20))]"
            ]
          },
          "metadata": {},
          "execution_count": 6
        }
      ]
    },
    {
      "cell_type": "markdown",
      "source": [
        "* GPT2 -> 공백 및 구두점에서도 분할하지만 공백을 유지하고 이를 Ġ 기호로 대체"
      ],
      "metadata": {
        "id": "tdjsO447rePV"
      }
    },
    {
      "cell_type": "code",
      "source": [
        "tokenizer = AutoTokenizer.from_pretrained(\"t5-small\")\n",
        "tokenizer.backend_tokenizer.pre_tokenizer.pre_tokenize_str(\"Hello, how are  you?\")"
      ],
      "metadata": {
        "colab": {
          "base_uri": "https://localhost:8080/",
          "height": 185,
          "referenced_widgets": [
            "9f29d8fc466847ee9e0a926e5634ce19",
            "c3e63560eb3c4e7fb677b50543114474",
            "0af8c3978e5c4186ad8249ded46d2e0d",
            "cf3a679ecd8547b3857f72491b8dfc29",
            "3f85af092b4b46438abe0abd1c3e09e6",
            "3ea55918fe6b40afa04598b037d447e1",
            "fe2dff4e5bee46ecaa6ed3976afc748d",
            "9240546e6ddf4559a853566afe5e0142",
            "15ef9bce6f0d4a31a8a7770e5471d3b2",
            "8ca39be5184a4779ac2dc1afe35de36a",
            "f6951eed20e54f14b64c0a1f0037e55c",
            "305b9f8119374cb3ad6ab5dddd442b1a",
            "b078803bd4454bfdbcf54c3af8ed9d42",
            "a2567a83d94d489483a5f23caeadd0dd",
            "7b63a43d63504fd7a757521c5906500b",
            "c1eddb3e76fc419980f9eb211137042c",
            "f07bfd9250c444e091062d1fa739b875",
            "198af579983c4aaa911a26299d1ad9f8",
            "014cb665d80041d1b2007179c05ae12b",
            "8ef6a8eb279c44f0ac9411f65ebc1054",
            "db741d4b7d0e4a39a7d9e8e1ab08cc2f",
            "862cf45ae2fe4a97962931cb11534d5a",
            "51965644105e46f1a88322092d21e8c3",
            "3e2407cecec2448589786550bc770e2f",
            "31a69cde697d44e1ad8ad77056d6a56b",
            "0f628fbb54ca4fa8a98749f593b52d75",
            "f84beff929654002a112b9ae6411b15a",
            "0fa442c770cf4fe480fe9576fc4d1082",
            "ad5db41e69034538af2fb6c9d73e4f31",
            "a09b0784679d4c53905f5bede5dd2dc6",
            "58a3ef70e0d94890adb9d2b0ec0c9e3a",
            "dfa4ccdddc2a410ead5a94ba7932e24a",
            "e12f273c8d874bada8740d9b80e2e5be"
          ]
        },
        "id": "4NuniUXfqQKd",
        "outputId": "f1565ee7-15c7-47cb-c3cc-7ba2967a2249"
      },
      "execution_count": 7,
      "outputs": [
        {
          "output_type": "display_data",
          "data": {
            "text/plain": [
              "tokenizer_config.json:   0%|          | 0.00/2.32k [00:00<?, ?B/s]"
            ],
            "application/vnd.jupyter.widget-view+json": {
              "version_major": 2,
              "version_minor": 0,
              "model_id": "9f29d8fc466847ee9e0a926e5634ce19"
            }
          },
          "metadata": {}
        },
        {
          "output_type": "display_data",
          "data": {
            "text/plain": [
              "spiece.model:   0%|          | 0.00/792k [00:00<?, ?B/s]"
            ],
            "application/vnd.jupyter.widget-view+json": {
              "version_major": 2,
              "version_minor": 0,
              "model_id": "305b9f8119374cb3ad6ab5dddd442b1a"
            }
          },
          "metadata": {}
        },
        {
          "output_type": "display_data",
          "data": {
            "text/plain": [
              "tokenizer.json:   0%|          | 0.00/1.39M [00:00<?, ?B/s]"
            ],
            "application/vnd.jupyter.widget-view+json": {
              "version_major": 2,
              "version_minor": 0,
              "model_id": "51965644105e46f1a88322092d21e8c3"
            }
          },
          "metadata": {}
        },
        {
          "output_type": "execute_result",
          "data": {
            "text/plain": [
              "[('▁Hello,', (0, 6)),\n",
              " ('▁how', (7, 10)),\n",
              " ('▁are', (11, 14)),\n",
              " ('▁you?', (16, 20))]"
            ]
          },
          "metadata": {},
          "execution_count": 7
        }
      ]
    },
    {
      "cell_type": "markdown",
      "source": [
        "* T5 토크나이저는 공백을 유지하고 특정 토큰(_)으로 대체하지만, T5 토크나이저는 공백에서만 분할하며 구두점에서는 분할하지X."
      ],
      "metadata": {
        "id": "PHBwLeCzrj9e"
      }
    },
    {
      "cell_type": "markdown",
      "source": [
        "#### SentencePiece"
      ],
      "metadata": {
        "id": "XBe-y6PlpvsJ"
      }
    },
    {
      "cell_type": "markdown",
      "source": [
        "* 텍스트 전처리를 위한 토큰화 알고리즘\n",
        "* 공백 문자가 사용되지 않는 언어(예: 중국어 또는 일본어)에 매우 유용\n",
        "* reversible tokenization 이 큰 특징.\n",
        "* 공백에 대한 특별한 처리가 없기 때문에 토큰을 연결하고 s를 _공백으로 바꾸는 것만으로 토큰 디코딩이 수행 => 즉 토큰화를 되돌릴 수 있다는 점이 특징!!"
      ],
      "metadata": {
        "id": "9KBdmnr7r6ig"
      }
    },
    {
      "cell_type": "markdown",
      "source": [
        "#### Algorithm overview\n",
        "\n",
        "\n",
        "![스크린샷 2024-02-01 오후 12.24.13.png](data:image/png;base64,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)"
      ],
      "metadata": {
        "id": "c5wsxCOWpxbE"
      }
    },
    {
      "cell_type": "markdown",
      "source": [
        "### BPE"
      ],
      "metadata": {
        "id": "5H8Z_Qzqsy11"
      }
    },
    {
      "cell_type": "markdown",
      "source": [
        "<알고리즘>\n",
        "1. 단어를 구성하는 모든 기호들 나열.\n",
        "2. 가장 빈번한 토큰 쌍(연속 토큰)을 병합.\n",
        "3. 원하는 어휘 크기에 도달할 때까지 2번을 반복."
      ],
      "metadata": {
        "id": "CroQCZkRl9s0"
      }
    },
    {
      "cell_type": "code",
      "source": [
        "corpus = [\n",
        "    \"This is the Hugging Face Course.\",\n",
        "    \"This chapter is about tokenization.\",\n",
        "    \"This section shows several tokenizer algorithms.\",\n",
        "    \"Hopefully, you will be able to understand how they are trained and generate tokens.\",\n",
        "]"
      ],
      "metadata": {
        "id": "o0fTVgQ9s3v3"
      },
      "execution_count": 8,
      "outputs": []
    },
    {
      "cell_type": "markdown",
      "source": [
        "사전 토큰화하기"
      ],
      "metadata": {
        "id": "7OMmAtXQrmVj"
      }
    },
    {
      "cell_type": "code",
      "source": [
        "from transformers import AutoTokenizer\n",
        "\n",
        "tokenizer = AutoTokenizer.from_pretrained(\"gpt2\")"
      ],
      "metadata": {
        "id": "Oa3BN7jrj_ZL"
      },
      "execution_count": 9,
      "outputs": []
    },
    {
      "cell_type": "markdown",
      "source": [
        "corpus에 있는 각 단어의 빈도를 계산"
      ],
      "metadata": {
        "id": "tMMg781Ert6w"
      }
    },
    {
      "cell_type": "code",
      "source": [
        "from collections import defaultdict\n",
        "\n",
        "word_freqs = defaultdict(int)\n",
        "\n",
        "for text in corpus:\n",
        "    words_with_offsets = tokenizer.backend_tokenizer.pre_tokenizer.pre_tokenize_str(text)\n",
        "    new_words = [word for word, offset in words_with_offsets]\n",
        "    for word in new_words:\n",
        "        word_freqs[word] += 1\n",
        "\n",
        "print(word_freqs)"
      ],
      "metadata": {
        "colab": {
          "base_uri": "https://localhost:8080/"
        },
        "id": "E6B8X6mij_be",
        "outputId": "0bf96b11-efb0-46d1-bc4d-0dd319e44354"
      },
      "execution_count": 10,
      "outputs": [
        {
          "output_type": "stream",
          "name": "stdout",
          "text": [
            "defaultdict(<class 'int'>, {'This': 3, 'Ġis': 2, 'Ġthe': 1, 'ĠHugging': 1, 'ĠFace': 1, 'ĠCourse': 1, '.': 4, 'Ġchapter': 1, 'Ġabout': 1, 'Ġtokenization': 1, 'Ġsection': 1, 'Ġshows': 1, 'Ġseveral': 1, 'Ġtokenizer': 1, 'Ġalgorithms': 1, 'Hopefully': 1, ',': 1, 'Ġyou': 1, 'Ġwill': 1, 'Ġbe': 1, 'Ġable': 1, 'Ġto': 1, 'Ġunderstand': 1, 'Ġhow': 1, 'Ġthey': 1, 'Ġare': 1, 'Ġtrained': 1, 'Ġand': 1, 'Ġgenerate': 1, 'Ġtokens': 1})\n"
          ]
        }
      ]
    },
    {
      "cell_type": "markdown",
      "source": [
        "corpus에 사용된 모든 문자(알파벳)로 구성된 기본 어휘를 계산"
      ],
      "metadata": {
        "id": "Skcqfce9rwkR"
      }
    },
    {
      "cell_type": "code",
      "source": [
        "alphabet = []\n",
        "\n",
        "for word in word_freqs.keys():\n",
        "    for letter in word:\n",
        "        if letter not in alphabet:\n",
        "            alphabet.append(letter)\n",
        "alphabet.sort()\n",
        "\n",
        "print(alphabet)"
      ],
      "metadata": {
        "colab": {
          "base_uri": "https://localhost:8080/"
        },
        "id": "Lsfj5sCOj_eG",
        "outputId": "97839fe9-2bc1-4a6c-fafe-c6b9941179a7"
      },
      "execution_count": 11,
      "outputs": [
        {
          "output_type": "stream",
          "name": "stdout",
          "text": [
            "[',', '.', 'C', 'F', 'H', 'T', 'a', 'b', 'c', 'd', 'e', 'f', 'g', 'h', 'i', 'k', 'l', 'm', 'n', 'o', 'p', 'r', 's', 't', 'u', 'v', 'w', 'y', 'z', 'Ġ']\n"
          ]
        }
      ]
    },
    {
      "cell_type": "markdown",
      "source": [
        "어휘의 시작 부분에 특수 토큰을 추가. GPT-2의 경우에는 유일한 특수 토큰 <|endoftext|> 이 있음."
      ],
      "metadata": {
        "id": "U787YadksGVv"
      }
    },
    {
      "cell_type": "code",
      "source": [
        "vocab = [\"<|endoftext|>\"] + alphabet.copy()"
      ],
      "metadata": {
        "id": "fGM8_5jVj_gs"
      },
      "execution_count": 12,
      "outputs": []
    },
    {
      "cell_type": "code",
      "source": [
        "print(vocab)"
      ],
      "metadata": {
        "colab": {
          "base_uri": "https://localhost:8080/"
        },
        "id": "QPn6MU9fsR3_",
        "outputId": "fcbbeeee-48cb-42b3-a37a-282f24bc0d0b"
      },
      "execution_count": 14,
      "outputs": [
        {
          "output_type": "stream",
          "name": "stdout",
          "text": [
            "['<|endoftext|>', ',', '.', 'C', 'F', 'H', 'T', 'a', 'b', 'c', 'd', 'e', 'f', 'g', 'h', 'i', 'k', 'l', 'm', 'n', 'o', 'p', 'r', 's', 't', 'u', 'v', 'w', 'y', 'z', 'Ġ']\n"
          ]
        }
      ]
    },
    {
      "cell_type": "markdown",
      "source": [
        "단어를 개별 characters로 쪼갠다."
      ],
      "metadata": {
        "id": "kBtMJR9Esecd"
      }
    },
    {
      "cell_type": "code",
      "source": [
        "splits = {word: [c for c in word] for word in word_freqs.keys()}"
      ],
      "metadata": {
        "id": "ABGYqnxBj_jY"
      },
      "execution_count": 15,
      "outputs": []
    },
    {
      "cell_type": "code",
      "source": [
        "print(splits)"
      ],
      "metadata": {
        "colab": {
          "base_uri": "https://localhost:8080/"
        },
        "id": "Ua1l9Zo2sYXY",
        "outputId": "a55e2cd7-efbe-4fa9-970c-2168f500314b"
      },
      "execution_count": 16,
      "outputs": [
        {
          "output_type": "stream",
          "name": "stdout",
          "text": [
            "{'This': ['T', 'h', 'i', 's'], 'Ġis': ['Ġ', 'i', 's'], 'Ġthe': ['Ġ', 't', 'h', 'e'], 'ĠHugging': ['Ġ', 'H', 'u', 'g', 'g', 'i', 'n', 'g'], 'ĠFace': ['Ġ', 'F', 'a', 'c', 'e'], 'ĠCourse': ['Ġ', 'C', 'o', 'u', 'r', 's', 'e'], '.': ['.'], 'Ġchapter': ['Ġ', 'c', 'h', 'a', 'p', 't', 'e', 'r'], 'Ġabout': ['Ġ', 'a', 'b', 'o', 'u', 't'], 'Ġtokenization': ['Ġ', 't', 'o', 'k', 'e', 'n', 'i', 'z', 'a', 't', 'i', 'o', 'n'], 'Ġsection': ['Ġ', 's', 'e', 'c', 't', 'i', 'o', 'n'], 'Ġshows': ['Ġ', 's', 'h', 'o', 'w', 's'], 'Ġseveral': ['Ġ', 's', 'e', 'v', 'e', 'r', 'a', 'l'], 'Ġtokenizer': ['Ġ', 't', 'o', 'k', 'e', 'n', 'i', 'z', 'e', 'r'], 'Ġalgorithms': ['Ġ', 'a', 'l', 'g', 'o', 'r', 'i', 't', 'h', 'm', 's'], 'Hopefully': ['H', 'o', 'p', 'e', 'f', 'u', 'l', 'l', 'y'], ',': [','], 'Ġyou': ['Ġ', 'y', 'o', 'u'], 'Ġwill': ['Ġ', 'w', 'i', 'l', 'l'], 'Ġbe': ['Ġ', 'b', 'e'], 'Ġable': ['Ġ', 'a', 'b', 'l', 'e'], 'Ġto': ['Ġ', 't', 'o'], 'Ġunderstand': ['Ġ', 'u', 'n', 'd', 'e', 'r', 's', 't', 'a', 'n', 'd'], 'Ġhow': ['Ġ', 'h', 'o', 'w'], 'Ġthey': ['Ġ', 't', 'h', 'e', 'y'], 'Ġare': ['Ġ', 'a', 'r', 'e'], 'Ġtrained': ['Ġ', 't', 'r', 'a', 'i', 'n', 'e', 'd'], 'Ġand': ['Ġ', 'a', 'n', 'd'], 'Ġgenerate': ['Ġ', 'g', 'e', 'n', 'e', 'r', 'a', 't', 'e'], 'Ġtokens': ['Ġ', 't', 'o', 'k', 'e', 'n', 's']}\n"
          ]
        }
      ]
    },
    {
      "cell_type": "markdown",
      "source": [
        "각 pairs의 빈도를 계산하는 함수 작성"
      ],
      "metadata": {
        "id": "TWhKqNDBsnvx"
      }
    },
    {
      "cell_type": "code",
      "source": [
        "def compute_pair_freqs(splits):\n",
        "    pair_freqs = defaultdict(int)\n",
        "    for word, freq in word_freqs.items():\n",
        "        split = splits[word]\n",
        "        if len(split) == 1:\n",
        "            continue\n",
        "        for i in range(len(split) - 1):\n",
        "            pair = (split[i], split[i + 1])\n",
        "            pair_freqs[pair] += freq\n",
        "    return pair_freqs"
      ],
      "metadata": {
        "id": "OwygGknmkFIa"
      },
      "execution_count": 17,
      "outputs": []
    },
    {
      "cell_type": "code",
      "source": [
        "pair_freqs = compute_pair_freqs(splits)\n",
        "\n",
        "for i, key in enumerate(pair_freqs.keys()):\n",
        "    print(f\"{key}: {pair_freqs[key]}\")\n",
        "    if i >= 5:\n",
        "        break"
      ],
      "metadata": {
        "colab": {
          "base_uri": "https://localhost:8080/"
        },
        "id": "nomeZyyokFMA",
        "outputId": "db5befc4-6700-4fe0-8bb8-df5ad8c6b6b6"
      },
      "execution_count": 18,
      "outputs": [
        {
          "output_type": "stream",
          "name": "stdout",
          "text": [
            "('T', 'h'): 3\n",
            "('h', 'i'): 3\n",
            "('i', 's'): 5\n",
            "('Ġ', 'i'): 2\n",
            "('Ġ', 't'): 7\n",
            "('t', 'h'): 3\n"
          ]
        }
      ]
    },
    {
      "cell_type": "markdown",
      "source": [
        "('Ġ', 't'): 7 로 젤 많음."
      ],
      "metadata": {
        "id": "89EAgcNws2BU"
      }
    },
    {
      "cell_type": "code",
      "source": [
        "best_pair = \"\"\n",
        "max_freq = None\n",
        "\n",
        "for pair, freq in pair_freqs.items():\n",
        "    if max_freq is None or max_freq < freq:\n",
        "        best_pair = pair\n",
        "        max_freq = freq\n",
        "\n",
        "print(best_pair, max_freq)"
      ],
      "metadata": {
        "colab": {
          "base_uri": "https://localhost:8080/"
        },
        "id": "wn1_kKIRkFO3",
        "outputId": "17c84e7c-d26d-410c-c28a-0acc8c33058c"
      },
      "execution_count": 19,
      "outputs": [
        {
          "output_type": "stream",
          "name": "stdout",
          "text": [
            "('Ġ', 't') 7\n"
          ]
        }
      ]
    },
    {
      "cell_type": "code",
      "source": [
        "merges = {(\"Ġ\", \"t\"): \"Ġt\"}\n",
        "vocab.append(\"Ġt\")"
      ],
      "metadata": {
        "id": "jfXqCHPBkFRx"
      },
      "execution_count": 20,
      "outputs": []
    },
    {
      "cell_type": "markdown",
      "source": [
        "병합하는 함수 작성"
      ],
      "metadata": {
        "id": "BQ7ct764s63_"
      }
    },
    {
      "cell_type": "code",
      "source": [
        "def merge_pair(a, b, splits):\n",
        "    for word in word_freqs:\n",
        "        split = splits[word]\n",
        "        if len(split) == 1:\n",
        "            continue\n",
        "\n",
        "        i = 0\n",
        "        while i < len(split) - 1:\n",
        "            if split[i] == a and split[i + 1] == b:\n",
        "                split = split[:i] + [a + b] + split[i + 2 :]\n",
        "            else:\n",
        "                i += 1\n",
        "        splits[word] = split\n",
        "    return splits"
      ],
      "metadata": {
        "id": "SMz3AUu6kFUV"
      },
      "execution_count": 21,
      "outputs": []
    },
    {
      "cell_type": "code",
      "source": [
        "splits = merge_pair(\"Ġ\", \"t\", splits)\n",
        "print(splits[\"Ġtrained\"])"
      ],
      "metadata": {
        "colab": {
          "base_uri": "https://localhost:8080/"
        },
        "id": "c5i14VxMkJqR",
        "outputId": "038d73f2-b82e-4285-b8b4-6a0b03a5ed43"
      },
      "execution_count": 22,
      "outputs": [
        {
          "output_type": "stream",
          "name": "stdout",
          "text": [
            "['Ġt', 'r', 'a', 'i', 'n', 'e', 'd']\n"
          ]
        }
      ]
    },
    {
      "cell_type": "markdown",
      "source": [
        "이제 목표하는 vocab size가 50이라고 가정하고, loop문을 작성한다."
      ],
      "metadata": {
        "id": "9kUxy2RbtA55"
      }
    },
    {
      "cell_type": "code",
      "source": [
        "vocab_size = 50\n",
        "\n",
        "while len(vocab) < vocab_size:\n",
        "    pair_freqs = compute_pair_freqs(splits)\n",
        "    best_pair = \"\"\n",
        "    max_freq = None\n",
        "    for pair, freq in pair_freqs.items():\n",
        "        if max_freq is None or max_freq < freq:\n",
        "            best_pair = pair\n",
        "            max_freq = freq\n",
        "    splits = merge_pair(*best_pair, splits)\n",
        "    merges[best_pair] = best_pair[0] + best_pair[1]\n",
        "    vocab.append(best_pair[0] + best_pair[1])"
      ],
      "metadata": {
        "id": "Iu9tfChEkJs1"
      },
      "execution_count": 23,
      "outputs": []
    },
    {
      "cell_type": "markdown",
      "source": [
        "아라와 같이 19개의 merge rules가 생성되었다."
      ],
      "metadata": {
        "id": "I21NFteStMrB"
      }
    },
    {
      "cell_type": "code",
      "source": [
        "print(merges)"
      ],
      "metadata": {
        "colab": {
          "base_uri": "https://localhost:8080/"
        },
        "id": "V1_9alSkkJvc",
        "outputId": "5e281022-16ac-429e-9430-ff557bc5b1d7"
      },
      "execution_count": 24,
      "outputs": [
        {
          "output_type": "stream",
          "name": "stdout",
          "text": [
            "{('Ġ', 't'): 'Ġt', ('i', 's'): 'is', ('e', 'r'): 'er', ('Ġ', 'a'): 'Ġa', ('Ġt', 'o'): 'Ġto', ('e', 'n'): 'en', ('T', 'h'): 'Th', ('Th', 'is'): 'This', ('o', 'u'): 'ou', ('s', 'e'): 'se', ('Ġto', 'k'): 'Ġtok', ('Ġtok', 'en'): 'Ġtoken', ('n', 'd'): 'nd', ('Ġ', 'is'): 'Ġis', ('Ġt', 'h'): 'Ġth', ('Ġth', 'e'): 'Ġthe', ('i', 'n'): 'in', ('Ġa', 'b'): 'Ġab', ('Ġtoken', 'i'): 'Ġtokeni'}\n"
          ]
        }
      ]
    },
    {
      "cell_type": "markdown",
      "source": [
        "이제 vocabulary가 초기알파벳과 병합 결과로 생긴 단어들로 총 50개 구성되었다."
      ],
      "metadata": {
        "id": "buq6vyibtW35"
      }
    },
    {
      "cell_type": "code",
      "source": [
        "print(vocab)"
      ],
      "metadata": {
        "colab": {
          "base_uri": "https://localhost:8080/"
        },
        "id": "UElV20BFkJyD",
        "outputId": "758b81ed-bef5-498b-ac89-c486db9d8719"
      },
      "execution_count": 25,
      "outputs": [
        {
          "output_type": "stream",
          "name": "stdout",
          "text": [
            "['<|endoftext|>', ',', '.', 'C', 'F', 'H', 'T', 'a', 'b', 'c', 'd', 'e', 'f', 'g', 'h', 'i', 'k', 'l', 'm', 'n', 'o', 'p', 'r', 's', 't', 'u', 'v', 'w', 'y', 'z', 'Ġ', 'Ġt', 'is', 'er', 'Ġa', 'Ġto', 'en', 'Th', 'This', 'ou', 'se', 'Ġtok', 'Ġtoken', 'nd', 'Ġis', 'Ġth', 'Ġthe', 'in', 'Ġab', 'Ġtokeni']\n"
          ]
        }
      ]
    },
    {
      "cell_type": "markdown",
      "source": [
        "위와 같이 학습을 통해 룰을 생성했다.\n",
        "\n",
        "이제 새로운 텍스트를 토큰화하려면, pre-tokenization하고 분할 한 후 모든 병합 규칙을 적용하면 된다."
      ],
      "metadata": {
        "id": "cSJkHe6ztkgj"
      }
    },
    {
      "cell_type": "code",
      "source": [
        "def tokenize(text):\n",
        "    pre_tokenize_result = tokenizer._tokenizer.pre_tokenizer.pre_tokenize_str(text)\n",
        "    pre_tokenized_text = [word for word, offset in pre_tokenize_result]\n",
        "    splits = [[l for l in word] for word in pre_tokenized_text]\n",
        "    for pair, merge in merges.items():\n",
        "        for idx, split in enumerate(splits):\n",
        "            i = 0\n",
        "            while i < len(split) - 1:\n",
        "                if split[i] == pair[0] and split[i + 1] == pair[1]:\n",
        "                    split = split[:i] + [merge] + split[i + 2 :]\n",
        "                else:\n",
        "                    i += 1\n",
        "            splits[idx] = split\n",
        "\n",
        "    return sum(splits, [])"
      ],
      "metadata": {
        "id": "hubla8FDkNzG"
      },
      "execution_count": 34,
      "outputs": []
    },
    {
      "cell_type": "markdown",
      "source": [
        "아래와 같이 BPE의 병합 규칙이 적용되어 토큰화된 것을 확인할 수 있다."
      ],
      "metadata": {
        "id": "_QZ5gop2t30d"
      }
    },
    {
      "cell_type": "code",
      "source": [
        "tokenize(\"This is not a token.\")"
      ],
      "metadata": {
        "colab": {
          "base_uri": "https://localhost:8080/"
        },
        "id": "BIXMj_tMkN1-",
        "outputId": "ebfaac1c-7c35-4eb9-c762-9f18cf4ad373"
      },
      "execution_count": 30,
      "outputs": [
        {
          "output_type": "execute_result",
          "data": {
            "text/plain": [
              "['This', 'Ġis', 'Ġ', 'n', 'o', 't', 'Ġa', 'Ġtoken', '.']"
            ]
          },
          "metadata": {},
          "execution_count": 30
        }
      ]
    },
    {
      "cell_type": "code",
      "source": [
        "tokenize(\"Is this yours?\")"
      ],
      "metadata": {
        "colab": {
          "base_uri": "https://localhost:8080/"
        },
        "id": "_HxM9YseuBay",
        "outputId": "240cbea8-e058-48bd-c2fd-8ff0cba5ac63"
      },
      "execution_count": 35,
      "outputs": [
        {
          "output_type": "execute_result",
          "data": {
            "text/plain": [
              "['I', 's', 'Ġth', 'is', 'Ġ', 'y', 'ou', 'r', 's', '?']"
            ]
          },
          "metadata": {},
          "execution_count": 35
        }
      ]
    },
    {
      "cell_type": "markdown",
      "source": [
        "### WorldPiece"
      ],
      "metadata": {
        "id": "D44a6Rfksz_C"
      }
    },
    {
      "cell_type": "markdown",
      "source": [
        "* WordPiece는 Google이 BERT를 사전 훈련하기 위해 개발한 토큰화 알고리즘.\n",
        "* 이후 Transformer 모델에서 사용됨."
      ],
      "metadata": {
        "id": "33x-dutxuv_5"
      }
    },
    {
      "cell_type": "code",
      "source": [
        "corpus = [\n",
        "    \"This is the Hugging Face Course.\",\n",
        "    \"This chapter is about tokenization.\",\n",
        "    \"This section shows several tokenizer algorithms.\",\n",
        "    \"Hopefully, you will be able to understand how they are trained and generate tokens.\",\n",
        "]"
      ],
      "metadata": {
        "id": "engwGI6Zs4VH"
      },
      "execution_count": 36,
      "outputs": []
    },
    {
      "cell_type": "markdown",
      "source": [
        "단어로 사전 토큰화"
      ],
      "metadata": {
        "id": "kpyCvDWk3Jr3"
      }
    },
    {
      "cell_type": "code",
      "source": [
        "from transformers import AutoTokenizer\n",
        "\n",
        "tokenizer = AutoTokenizer.from_pretrained(\"bert-base-cased\")"
      ],
      "metadata": {
        "colab": {
          "base_uri": "https://localhost:8080/",
          "height": 145,
          "referenced_widgets": [
            "d34b49c593084905b7c1aa23dd406dab",
            "3f58c488ccae40d8a60665a9aaec3803",
            "29165d4e5bed4f00b8150ab1e796c55d",
            "d2216d338dc54f7782f7724cecda6b35",
            "7dff8e10503a4f0891aa7a5e651b82f4",
            "710c51b971bd4e518b738a5aeed3fa92",
            "b010213eab45431c947dab7253d3b4ae",
            "3ada797852b4415f8c9329f4d3598754",
            "7ddc2081732f4e8bbe144e2e134d4f4a",
            "29d2f0bfeda345499990868e575ea27f",
            "d45d3a7f35df4ae19cc00136b976bc22",
            "36608c253ff1494dabfa473e8c68b8d7",
            "80cad2a113a548eea19591e4deab6cef",
            "d22c4f3a449d4ca38621afc6bcb9072c",
            "edbe12937d7443e6b0febe566fd63cd4",
            "cc9b0ac79c54423180f0443ead56149c",
            "ee36dcacf9d743cabc4b2dce76c33749",
            "23f8236ae4ea498d9624369e07e5dab4",
            "8f70a573db4b4c7f9e73f72ac50821e8",
            "25af33bc8e4e446dae00d8503f97a4a3",
            "a56ad1e29b72428c83d2c7579dd1e8aa",
            "e38a8b587fe04fbd948461fa94db7fb4",
            "31b55f9c192c43a3aa3df01427bf22a8",
            "7983b63e210b4b0fa5df5d13db62c921",
            "68ce6cbbbeb64743830be974cc07235b",
            "63accb773fc94da7b7d8fa7045387af6",
            "13dcc2247e954d30801e28c81b225ccb",
            "a3b4a708ebcc486ebfaa51d798f6f062",
            "631b655c08f8491aa6fb1ffaaedff404",
            "0f8e39fcbca34922876284a69e2b69ba",
            "4a6bf2b776c34ab7b9ec41b387ccd0ff",
            "6b3801b839bd488db741820d642d53a8",
            "ab46105127b84958870bd30a87b0dd99",
            "37f4f4e392af493da94809bb41dfbe71",
            "beb20f04cfe047c5b8adce6a2ee3f458",
            "70f43917f47f49ccaea1b14191070140",
            "48124921eea64bf6b27afb33132efa5d",
            "8e6b2f8b2fb14598b094794ca21515ed",
            "d45eb48efbb646e7843a8f96dfb17cf9",
            "6e6ca928ba8946c48529a0eb4645b3fd",
            "48f6e04f8a074d6cb9f761fee793fa20",
            "095ca2267b654742924b132a7ce27216",
            "7da37dfe905b4a348231e0a61be10274",
            "eb96113352494b1d9d94ce94f25ddaf2"
          ]
        },
        "id": "NkvHbZx804GC",
        "outputId": "95607cb0-df97-4be1-e1d1-aa7c9e599a71"
      },
      "execution_count": 37,
      "outputs": [
        {
          "output_type": "display_data",
          "data": {
            "text/plain": [
              "tokenizer_config.json:   0%|          | 0.00/29.0 [00:00<?, ?B/s]"
            ],
            "application/vnd.jupyter.widget-view+json": {
              "version_major": 2,
              "version_minor": 0,
              "model_id": "d34b49c593084905b7c1aa23dd406dab"
            }
          },
          "metadata": {}
        },
        {
          "output_type": "display_data",
          "data": {
            "text/plain": [
              "config.json:   0%|          | 0.00/570 [00:00<?, ?B/s]"
            ],
            "application/vnd.jupyter.widget-view+json": {
              "version_major": 2,
              "version_minor": 0,
              "model_id": "36608c253ff1494dabfa473e8c68b8d7"
            }
          },
          "metadata": {}
        },
        {
          "output_type": "display_data",
          "data": {
            "text/plain": [
              "vocab.txt:   0%|          | 0.00/213k [00:00<?, ?B/s]"
            ],
            "application/vnd.jupyter.widget-view+json": {
              "version_major": 2,
              "version_minor": 0,
              "model_id": "31b55f9c192c43a3aa3df01427bf22a8"
            }
          },
          "metadata": {}
        },
        {
          "output_type": "display_data",
          "data": {
            "text/plain": [
              "tokenizer.json:   0%|          | 0.00/436k [00:00<?, ?B/s]"
            ],
            "application/vnd.jupyter.widget-view+json": {
              "version_major": 2,
              "version_minor": 0,
              "model_id": "37f4f4e392af493da94809bb41dfbe71"
            }
          },
          "metadata": {}
        }
      ]
    },
    {
      "cell_type": "markdown",
      "source": [
        "각 word의 빈도 계산"
      ],
      "metadata": {
        "id": "NhZY3QDA3LlO"
      }
    },
    {
      "cell_type": "code",
      "source": [
        "from collections import defaultdict\n",
        "\n",
        "word_freqs = defaultdict(int)\n",
        "for text in corpus:\n",
        "    words_with_offsets = tokenizer.backend_tokenizer.pre_tokenizer.pre_tokenize_str(text)\n",
        "    new_words = [word for word, offset in words_with_offsets]\n",
        "    for word in new_words:\n",
        "        word_freqs[word] += 1\n",
        "\n",
        "word_freqs"
      ],
      "metadata": {
        "colab": {
          "base_uri": "https://localhost:8080/"
        },
        "id": "RHfRKHAa04Is",
        "outputId": "64fa62ea-caea-44e0-d47b-86b46e385e57"
      },
      "execution_count": 38,
      "outputs": [
        {
          "output_type": "execute_result",
          "data": {
            "text/plain": [
              "defaultdict(int,\n",
              "            {'This': 3,\n",
              "             'is': 2,\n",
              "             'the': 1,\n",
              "             'Hugging': 1,\n",
              "             'Face': 1,\n",
              "             'Course': 1,\n",
              "             '.': 4,\n",
              "             'chapter': 1,\n",
              "             'about': 1,\n",
              "             'tokenization': 1,\n",
              "             'section': 1,\n",
              "             'shows': 1,\n",
              "             'several': 1,\n",
              "             'tokenizer': 1,\n",
              "             'algorithms': 1,\n",
              "             'Hopefully': 1,\n",
              "             ',': 1,\n",
              "             'you': 1,\n",
              "             'will': 1,\n",
              "             'be': 1,\n",
              "             'able': 1,\n",
              "             'to': 1,\n",
              "             'understand': 1,\n",
              "             'how': 1,\n",
              "             'they': 1,\n",
              "             'are': 1,\n",
              "             'trained': 1,\n",
              "             'and': 1,\n",
              "             'generate': 1,\n",
              "             'tokens': 1})"
            ]
          },
          "metadata": {},
          "execution_count": 38
        }
      ]
    },
    {
      "cell_type": "code",
      "source": [
        "alphabet = []\n",
        "for word in word_freqs.keys():\n",
        "    if word[0] not in alphabet:\n",
        "        alphabet.append(word[0])\n",
        "    for letter in word[1:]:\n",
        "        if f\"##{letter}\" not in alphabet:\n",
        "            alphabet.append(f\"##{letter}\")\n",
        "\n",
        "alphabet.sort()\n",
        "alphabet\n",
        "\n",
        "print(alphabet)"
      ],
      "metadata": {
        "colab": {
          "base_uri": "https://localhost:8080/"
        },
        "id": "D6QtExHS09I-",
        "outputId": "2e5d374f-e3c9-4deb-fbdf-0b645004805a"
      },
      "execution_count": 39,
      "outputs": [
        {
          "output_type": "stream",
          "name": "stdout",
          "text": [
            "['##a', '##b', '##c', '##d', '##e', '##f', '##g', '##h', '##i', '##k', '##l', '##m', '##n', '##o', '##p', '##r', '##s', '##t', '##u', '##v', '##w', '##y', '##z', ',', '.', 'C', 'F', 'H', 'T', 'a', 'b', 'c', 'g', 'h', 'i', 's', 't', 'u', 'w', 'y']\n"
          ]
        }
      ]
    },
    {
      "cell_type": "markdown",
      "source": [
        "특수 토큰 추가"
      ],
      "metadata": {
        "id": "MtF-wSB83Nr3"
      }
    },
    {
      "cell_type": "code",
      "source": [
        "vocab = [\"[PAD]\", \"[UNK]\", \"[CLS]\", \"[SEP]\", \"[MASK]\"] + alphabet.copy()"
      ],
      "metadata": {
        "id": "0z-4auc004La"
      },
      "execution_count": 40,
      "outputs": []
    },
    {
      "cell_type": "markdown",
      "source": [
        "\"##\" 접두사가 붙지 않은 모든 문자를 사용하여 각 단어를 분할"
      ],
      "metadata": {
        "id": "6_Hf7YM73Z0-"
      }
    },
    {
      "cell_type": "code",
      "source": [
        "splits = {\n",
        "    word: [c if i == 0 else f\"##{c}\" for i, c in enumerate(word)]\n",
        "    for word in word_freqs.keys()\n",
        "}"
      ],
      "metadata": {
        "id": "sgTG0kvH04Na"
      },
      "execution_count": 41,
      "outputs": []
    },
    {
      "cell_type": "code",
      "source": [
        "print(splits)"
      ],
      "metadata": {
        "colab": {
          "base_uri": "https://localhost:8080/"
        },
        "id": "dJqBL4Va3csF",
        "outputId": "396bfa48-7a55-44b1-a83c-431d48c51a91"
      },
      "execution_count": 44,
      "outputs": [
        {
          "output_type": "stream",
          "name": "stdout",
          "text": [
            "{'This': ['T', '##h', '##i', '##s'], 'is': ['i', '##s'], 'the': ['t', '##h', '##e'], 'Hugging': ['H', '##u', '##g', '##g', '##i', '##n', '##g'], 'Face': ['F', '##a', '##c', '##e'], 'Course': ['C', '##o', '##u', '##r', '##s', '##e'], '.': ['.'], 'chapter': ['c', '##h', '##a', '##p', '##t', '##e', '##r'], 'about': ['a', '##b', '##o', '##u', '##t'], 'tokenization': ['t', '##o', '##k', '##e', '##n', '##i', '##z', '##a', '##t', '##i', '##o', '##n'], 'section': ['s', '##e', '##c', '##t', '##i', '##o', '##n'], 'shows': ['s', '##h', '##o', '##w', '##s'], 'several': ['s', '##e', '##v', '##e', '##r', '##a', '##l'], 'tokenizer': ['t', '##o', '##k', '##e', '##n', '##i', '##z', '##e', '##r'], 'algorithms': ['a', '##l', '##g', '##o', '##r', '##i', '##t', '##h', '##m', '##s'], 'Hopefully': ['H', '##o', '##p', '##e', '##f', '##u', '##l', '##l', '##y'], ',': [','], 'you': ['y', '##o', '##u'], 'will': ['w', '##i', '##l', '##l'], 'be': ['b', '##e'], 'able': ['a', '##b', '##l', '##e'], 'to': ['t', '##o'], 'understand': ['u', '##n', '##d', '##e', '##r', '##s', '##t', '##a', '##n', '##d'], 'how': ['h', '##o', '##w'], 'they': ['t', '##h', '##e', '##y'], 'are': ['a', '##r', '##e'], 'trained': ['t', '##r', '##a', '##i', '##n', '##e', '##d'], 'and': ['a', '##n', '##d'], 'generate': ['g', '##e', '##n', '##e', '##r', '##a', '##t', '##e'], 'tokens': ['t', '##o', '##k', '##e', '##n', '##s']}\n"
          ]
        }
      ]
    },
    {
      "cell_type": "markdown",
      "source": [
        "각 쌍의 점수를 계산하는 함수를 작성"
      ],
      "metadata": {
        "id": "5AZ5IjAq3qn_"
      }
    },
    {
      "cell_type": "code",
      "source": [
        "def compute_pair_scores(splits):\n",
        "    letter_freqs = defaultdict(int)\n",
        "    pair_freqs = defaultdict(int)\n",
        "    for word, freq in word_freqs.items():\n",
        "        split = splits[word]\n",
        "        if len(split) == 1:\n",
        "            letter_freqs[split[0]] += freq\n",
        "            continue\n",
        "        for i in range(len(split) - 1):\n",
        "            pair = (split[i], split[i + 1])\n",
        "            letter_freqs[split[i]] += freq\n",
        "            pair_freqs[pair] += freq\n",
        "        letter_freqs[split[-1]] += freq\n",
        "\n",
        "    scores = {\n",
        "        pair: freq / (letter_freqs[pair[0]] * letter_freqs[pair[1]])\n",
        "        for pair, freq in pair_freqs.items()\n",
        "    }\n",
        "    return scores"
      ],
      "metadata": {
        "id": "v-eun-XS04Pc"
      },
      "execution_count": 42,
      "outputs": []
    },
    {
      "cell_type": "markdown",
      "source": [
        "일부 출력"
      ],
      "metadata": {
        "id": "cF0FWK9O3xez"
      }
    },
    {
      "cell_type": "code",
      "source": [
        "pair_scores = compute_pair_scores(splits)\n",
        "for i, key in enumerate(pair_scores.keys()):\n",
        "    print(f\"{key}: {pair_scores[key]}\")\n",
        "    if i >= 5:\n",
        "        break"
      ],
      "metadata": {
        "colab": {
          "base_uri": "https://localhost:8080/"
        },
        "id": "pzVAGTXI04Ri",
        "outputId": "b12336f8-a1fb-4337-c272-4a61ee7f752c"
      },
      "execution_count": 45,
      "outputs": [
        {
          "output_type": "stream",
          "name": "stdout",
          "text": [
            "('T', '##h'): 0.125\n",
            "('##h', '##i'): 0.03409090909090909\n",
            "('##i', '##s'): 0.02727272727272727\n",
            "('i', '##s'): 0.1\n",
            "('t', '##h'): 0.03571428571428571\n",
            "('##h', '##e'): 0.011904761904761904\n"
          ]
        }
      ]
    },
    {
      "cell_type": "markdown",
      "source": [
        "가장 좋은 점수를 가진 쌍을 찾기"
      ],
      "metadata": {
        "id": "Md7AxXuO30q-"
      }
    },
    {
      "cell_type": "code",
      "source": [
        "best_pair = \"\"\n",
        "max_score = None\n",
        "for pair, score in pair_scores.items():\n",
        "    if max_score is None or max_score < score:\n",
        "        best_pair = pair\n",
        "        max_score = score\n",
        "\n",
        "print(best_pair, max_score)"
      ],
      "metadata": {
        "colab": {
          "base_uri": "https://localhost:8080/"
        },
        "id": "NNXddvb804Tl",
        "outputId": "34c366b6-d738-4021-a789-5049bcef4038"
      },
      "execution_count": 46,
      "outputs": [
        {
          "output_type": "stream",
          "name": "stdout",
          "text": [
            "('a', '##b') 0.2\n"
          ]
        }
      ]
    },
    {
      "cell_type": "markdown",
      "source": [
        "어휘에 ('a', '##b') -> 'ab'추가"
      ],
      "metadata": {
        "id": "bsj20dG334HS"
      }
    },
    {
      "cell_type": "code",
      "source": [
        "vocab.append(\"ab\")"
      ],
      "metadata": {
        "id": "pn9tHEwh04V7"
      },
      "execution_count": 47,
      "outputs": []
    },
    {
      "cell_type": "markdown",
      "source": [
        "병합을 적용"
      ],
      "metadata": {
        "id": "3fSpYy3L39OH"
      }
    },
    {
      "cell_type": "code",
      "source": [
        "def merge_pair(a, b, splits):\n",
        "    for word in word_freqs:\n",
        "        split = splits[word]\n",
        "        if len(split) == 1:\n",
        "            continue\n",
        "        i = 0\n",
        "        while i < len(split) - 1:\n",
        "            if split[i] == a and split[i + 1] == b:\n",
        "                merge = a + b[2:] if b.startswith(\"##\") else a + b\n",
        "                split = split[:i] + [merge] + split[i + 2 :]\n",
        "            else:\n",
        "                i += 1\n",
        "        splits[word] = split\n",
        "    return splits"
      ],
      "metadata": {
        "id": "EIoq8Euk04YR"
      },
      "execution_count": 48,
      "outputs": []
    },
    {
      "cell_type": "code",
      "source": [
        "splits = merge_pair(\"a\", \"##b\", splits)\n",
        "splits[\"about\"]"
      ],
      "metadata": {
        "colab": {
          "base_uri": "https://localhost:8080/"
        },
        "id": "PsChZt7Y04bG",
        "outputId": "f227fb57-2e9e-4423-8db0-2fb8fdb56dc0"
      },
      "execution_count": 49,
      "outputs": [
        {
          "output_type": "execute_result",
          "data": {
            "text/plain": [
              "['ab', '##o', '##u', '##t']"
            ]
          },
          "metadata": {},
          "execution_count": 49
        }
      ]
    },
    {
      "cell_type": "markdown",
      "source": [
        "어휘 크기를 70으로 목표로 원하는 병합을 모두 train할 때까지 반복"
      ],
      "metadata": {
        "id": "bhO9Samu4EV3"
      }
    },
    {
      "cell_type": "code",
      "source": [
        "vocab_size = 70\n",
        "while len(vocab) < vocab_size:\n",
        "    scores = compute_pair_scores(splits)\n",
        "    best_pair, max_score = \"\", None\n",
        "    for pair, score in scores.items():\n",
        "        if max_score is None or max_score < score:\n",
        "            best_pair = pair\n",
        "            max_score = score\n",
        "    splits = merge_pair(*best_pair, splits)\n",
        "    new_token = (\n",
        "        best_pair[0] + best_pair[1][2:]\n",
        "        if best_pair[1].startswith(\"##\")\n",
        "        else best_pair[0] + best_pair[1]\n",
        "    )\n",
        "    vocab.append(new_token)"
      ],
      "metadata": {
        "id": "pvqOQ-D504df"
      },
      "execution_count": 50,
      "outputs": []
    },
    {
      "cell_type": "markdown",
      "source": [
        "BPE에 비해 이 토크나이저는 단어의 일부를 토큰으로 조금 더 빠르게 학습"
      ],
      "metadata": {
        "id": "XrF757t84NSD"
      }
    },
    {
      "cell_type": "code",
      "source": [
        "print(vocab)"
      ],
      "metadata": {
        "colab": {
          "base_uri": "https://localhost:8080/"
        },
        "id": "9cHowQ9-04fl",
        "outputId": "91bef677-6a01-4fb4-dafa-16fca5fc8fef"
      },
      "execution_count": 51,
      "outputs": [
        {
          "output_type": "stream",
          "name": "stdout",
          "text": [
            "['[PAD]', '[UNK]', '[CLS]', '[SEP]', '[MASK]', '##a', '##b', '##c', '##d', '##e', '##f', '##g', '##h', '##i', '##k', '##l', '##m', '##n', '##o', '##p', '##r', '##s', '##t', '##u', '##v', '##w', '##y', '##z', ',', '.', 'C', 'F', 'H', 'T', 'a', 'b', 'c', 'g', 'h', 'i', 's', 't', 'u', 'w', 'y', 'ab', '##fu', 'Fa', 'Fac', '##ct', '##ful', '##full', '##fully', 'Th', 'ch', '##hm', 'cha', 'chap', 'chapt', '##thm', 'Hu', 'Hug', 'Hugg', 'sh', 'th', 'is', '##thms', '##za', '##zat', '##ut']\n"
          ]
        }
      ]
    },
    {
      "cell_type": "markdown",
      "source": [
        "새 텍스트를 토큰화를 위한 함수 작성\n",
        "1. 사전 토큰화하고 분할\n",
        "2. 각 단어에 토큰화 알고리즘 적용"
      ],
      "metadata": {
        "id": "mLhY_PuX4SIs"
      }
    },
    {
      "cell_type": "code",
      "source": [
        "def encode_word(word):\n",
        "    tokens = []\n",
        "    while len(word) > 0:\n",
        "        i = len(word)\n",
        "        while i > 0 and word[:i] not in vocab:\n",
        "            i -= 1\n",
        "        if i == 0:\n",
        "            return [\"[UNK]\"]\n",
        "        tokens.append(word[:i])\n",
        "        word = word[i:]\n",
        "        if len(word) > 0:\n",
        "            word = f\"##{word}\"\n",
        "    return tokens"
      ],
      "metadata": {
        "id": "CqDYA_tc04ia"
      },
      "execution_count": 52,
      "outputs": []
    },
    {
      "cell_type": "code",
      "source": [
        "print(encode_word(\"Hugging\"))\n",
        "print(encode_word(\"HOgging\"))"
      ],
      "metadata": {
        "colab": {
          "base_uri": "https://localhost:8080/"
        },
        "id": "a5-Xi0m204lB",
        "outputId": "a9561380-627c-4b8c-c166-20ae82b817c7"
      },
      "execution_count": 53,
      "outputs": [
        {
          "output_type": "stream",
          "name": "stdout",
          "text": [
            "['Hugg', '##i', '##n', '##g']\n",
            "['[UNK]']\n"
          ]
        }
      ]
    },
    {
      "cell_type": "markdown",
      "source": [
        "텍스트를 토큰화하는 함수"
      ],
      "metadata": {
        "id": "cR-Atpmo4jgs"
      }
    },
    {
      "cell_type": "code",
      "source": [
        "def tokenize(text):\n",
        "    pre_tokenize_result = tokenizer._tokenizer.pre_tokenizer.pre_tokenize_str(text)\n",
        "    pre_tokenized_text = [word for word, offset in pre_tokenize_result]\n",
        "    encoded_words = [encode_word(word) for word in pre_tokenized_text]\n",
        "    return sum(encoded_words, [])"
      ],
      "metadata": {
        "id": "h9qJm02704nn"
      },
      "execution_count": 54,
      "outputs": []
    },
    {
      "cell_type": "code",
      "source": [
        "tokenize(\"This is the Hugging Face course!\")"
      ],
      "metadata": {
        "colab": {
          "base_uri": "https://localhost:8080/"
        },
        "id": "0qbGn_hT04qA",
        "outputId": "378b8108-e6c7-42fa-bc70-90be0363d1c4"
      },
      "execution_count": 55,
      "outputs": [
        {
          "output_type": "execute_result",
          "data": {
            "text/plain": [
              "['Th',\n",
              " '##i',\n",
              " '##s',\n",
              " 'is',\n",
              " 'th',\n",
              " '##e',\n",
              " 'Hugg',\n",
              " '##i',\n",
              " '##n',\n",
              " '##g',\n",
              " 'Fac',\n",
              " '##e',\n",
              " 'c',\n",
              " '##o',\n",
              " '##u',\n",
              " '##r',\n",
              " '##s',\n",
              " '##e',\n",
              " '[UNK]']"
            ]
          },
          "metadata": {},
          "execution_count": 55
        }
      ]
    },
    {
      "cell_type": "markdown",
      "source": [
        "### Unigram"
      ],
      "metadata": {
        "id": "0NCksYCBs17-"
      }
    },
    {
      "cell_type": "markdown",
      "source": [
        "AlBERT, T5, mBART, Big Bird 및 XLNet과 같은 모델에서 사용되는 토큰화 알고리즘인 SentencePiece에서 자주 사용"
      ],
      "metadata": {
        "id": "A_BnQxcv4y2e"
      }
    },
    {
      "cell_type": "code",
      "source": [
        "corpus = [\n",
        "    \"This is the Hugging Face Course.\",\n",
        "    \"This chapter is about tokenization.\",\n",
        "    \"This section shows several tokenizer algorithms.\",\n",
        "    \"Hopefully, you will be able to understand how they are trained and generate tokens.\",\n",
        "]"
      ],
      "metadata": {
        "id": "Tesst2LLs3PE"
      },
      "execution_count": 56,
      "outputs": []
    },
    {
      "cell_type": "code",
      "source": [
        "from transformers import AutoTokenizer\n",
        "\n",
        "tokenizer = AutoTokenizer.from_pretrained(\"xlnet-base-cased\")"
      ],
      "metadata": {
        "colab": {
          "base_uri": "https://localhost:8080/",
          "height": 113,
          "referenced_widgets": [
            "b1814512291f4fcdbb569a9e81f0d6c0",
            "01f7cb09154e4c2a85f192a2b976a7f8",
            "8fb8f35770c143b3b3b09eb7a03caf77",
            "f6b4e751e3a044b2a0efb4d405e404fd",
            "46ba8f2762c74ddf8a851ad77adf5364",
            "0ac451694a2a4cce9b2f5b4f6b283fd9",
            "42745ca8b7c347108a3ba291d200179b",
            "d19866a03388456982308e8c365634c9",
            "9c44f5835fe84c40a824a2d9cee74e85",
            "d99aad67ae974cea836545528151b0e9",
            "be059a5ca1084d8eb4d56d9c222f267e",
            "725461391c02456db7bdfbba005ccdc7",
            "d6960d4b734349eda3a46eb70d2551a0",
            "b33778397a344b03a866c1d581fc5310",
            "97a8214a00654b6294f4f015be3f6ec4",
            "7e9e283df9544e6193a1be20732b2582",
            "2c4736870fe44080bcbc1d5f6cf730e1",
            "a8cdd4a419e34160885134d87c814eb1",
            "02490a06f7d44e6cbde9109c419dad3e",
            "7d9c426e1b054eed9c8c0ba7f2219747",
            "619285b77e5048f08ebff331d82406c0",
            "c766f2b915f3498096cc31861ea7def6",
            "fff83d17fb1f4084b6ebfdef8a58701a",
            "9a9609ffdc0e4067857bdd821515a993",
            "24a6593640194220bb305ba301456091",
            "a63a663c929047cfb574e10c61f23482",
            "23014d94f17e4b75a11f7f52d53b1dfa",
            "07f91a28cd594f58b9ebef41494bdbcb",
            "eb7f51da1a694af4b9bfc06f334acff6",
            "98877229a2a746668537bd6311839a94",
            "318dc4ee9a3a4ad083b159703ed322eb",
            "bf6fecce08cd4d14b289c1565ab3cf69",
            "368e5ef8f1fa4701a759f2d400966daa"
          ]
        },
        "id": "pirsGb3iBjjY",
        "outputId": "0d8bb07d-8dab-4358-e86c-5006d2c8c2c2"
      },
      "execution_count": 57,
      "outputs": [
        {
          "output_type": "display_data",
          "data": {
            "text/plain": [
              "config.json:   0%|          | 0.00/760 [00:00<?, ?B/s]"
            ],
            "application/vnd.jupyter.widget-view+json": {
              "version_major": 2,
              "version_minor": 0,
              "model_id": "b1814512291f4fcdbb569a9e81f0d6c0"
            }
          },
          "metadata": {}
        },
        {
          "output_type": "display_data",
          "data": {
            "text/plain": [
              "spiece.model:   0%|          | 0.00/798k [00:00<?, ?B/s]"
            ],
            "application/vnd.jupyter.widget-view+json": {
              "version_major": 2,
              "version_minor": 0,
              "model_id": "725461391c02456db7bdfbba005ccdc7"
            }
          },
          "metadata": {}
        },
        {
          "output_type": "display_data",
          "data": {
            "text/plain": [
              "tokenizer.json:   0%|          | 0.00/1.38M [00:00<?, ?B/s]"
            ],
            "application/vnd.jupyter.widget-view+json": {
              "version_major": 2,
              "version_minor": 0,
              "model_id": "fff83d17fb1f4084b6ebfdef8a58701a"
            }
          },
          "metadata": {}
        }
      ]
    },
    {
      "cell_type": "markdown",
      "source": [
        " 각 단어의 발생 횟수를 계산"
      ],
      "metadata": {
        "id": "UYij-lUlB6qh"
      }
    },
    {
      "cell_type": "code",
      "source": [
        "from collections import defaultdict\n",
        "\n",
        "word_freqs = defaultdict(int)\n",
        "for text in corpus:\n",
        "    words_with_offsets = tokenizer.backend_tokenizer.pre_tokenizer.pre_tokenize_str(text)\n",
        "    new_words = [word for word, offset in words_with_offsets]\n",
        "    for word in new_words:\n",
        "        word_freqs[word] += 1\n",
        "\n",
        "word_freqs"
      ],
      "metadata": {
        "colab": {
          "base_uri": "https://localhost:8080/"
        },
        "id": "wzTn-J5iBjmr",
        "outputId": "34245dc6-b2a0-4f29-9867-ae6582a6367b"
      },
      "execution_count": 58,
      "outputs": [
        {
          "output_type": "execute_result",
          "data": {
            "text/plain": [
              "defaultdict(int,\n",
              "            {'▁This': 3,\n",
              "             '▁is': 2,\n",
              "             '▁the': 1,\n",
              "             '▁Hugging': 1,\n",
              "             '▁Face': 1,\n",
              "             '▁Course.': 1,\n",
              "             '▁chapter': 1,\n",
              "             '▁about': 1,\n",
              "             '▁tokenization.': 1,\n",
              "             '▁section': 1,\n",
              "             '▁shows': 1,\n",
              "             '▁several': 1,\n",
              "             '▁tokenizer': 1,\n",
              "             '▁algorithms.': 1,\n",
              "             '▁Hopefully,': 1,\n",
              "             '▁you': 1,\n",
              "             '▁will': 1,\n",
              "             '▁be': 1,\n",
              "             '▁able': 1,\n",
              "             '▁to': 1,\n",
              "             '▁understand': 1,\n",
              "             '▁how': 1,\n",
              "             '▁they': 1,\n",
              "             '▁are': 1,\n",
              "             '▁trained': 1,\n",
              "             '▁and': 1,\n",
              "             '▁generate': 1,\n",
              "             '▁tokens.': 1})"
            ]
          },
          "metadata": {},
          "execution_count": 58
        }
      ]
    },
    {
      "cell_type": "markdown",
      "source": [
        " 더 큰 하위 문자열의 경우 가장 일반적인 문자만 유지하므로 빈도별로 정렬"
      ],
      "metadata": {
        "id": "Z7lIItS-CC2L"
      }
    },
    {
      "cell_type": "code",
      "source": [
        "char_freqs = defaultdict(int)\n",
        "subwords_freqs = defaultdict(int)\n",
        "for word, freq in word_freqs.items():\n",
        "    for i in range(len(word)):\n",
        "        char_freqs[word[i]] += freq\n",
        "        # Loop through the subwords of length at least 2\n",
        "        for j in range(i + 2, len(word) + 1):\n",
        "            subwords_freqs[word[i:j]] += freq\n",
        "\n",
        "# Sort subwords by frequency\n",
        "sorted_subwords = sorted(subwords_freqs.items(), key=lambda x: x[1], reverse=True)\n",
        "sorted_subwords[:10]"
      ],
      "metadata": {
        "colab": {
          "base_uri": "https://localhost:8080/"
        },
        "id": "iZtRhNC3Bjp1",
        "outputId": "41c8e3c5-cde9-4b15-8071-52b4535be46a"
      },
      "execution_count": 59,
      "outputs": [
        {
          "output_type": "execute_result",
          "data": {
            "text/plain": [
              "[('▁t', 7),\n",
              " ('is', 5),\n",
              " ('er', 5),\n",
              " ('▁a', 5),\n",
              " ('▁to', 4),\n",
              " ('to', 4),\n",
              " ('en', 4),\n",
              " ('▁T', 3),\n",
              " ('▁Th', 3),\n",
              " ('▁Thi', 3)]"
            ]
          },
          "metadata": {},
          "execution_count": 59
        }
      ]
    },
    {
      "cell_type": "markdown",
      "source": [
        "크기 300의 초기 어휘에 도달하기 위해 가장 좋은 하위 단어로 문자를 그룹화"
      ],
      "metadata": {
        "id": "XEixWgM6CGb7"
      }
    },
    {
      "cell_type": "code",
      "source": [
        "token_freqs = list(char_freqs.items()) + sorted_subwords[: 300 - len(char_freqs)]\n",
        "token_freqs = {token: freq for token, freq in token_freqs}"
      ],
      "metadata": {
        "id": "Syws_5VMBjtE"
      },
      "execution_count": 60,
      "outputs": []
    },
    {
      "cell_type": "markdown",
      "source": [
        "* 모든 빈도의 합을 계산하여 빈도를 확률로 변환\n",
        "* 모델의 경우 확률의 로그를 저장. 왜냐하면 작은 숫자를 곱하는 것보다 로그를 추가하는 것이 수치적으로 더 안정적"
      ],
      "metadata": {
        "id": "YHySowYlCUcO"
      }
    },
    {
      "cell_type": "code",
      "source": [
        "from math import log\n",
        "\n",
        "total_sum = sum([freq for token, freq in token_freqs.items()])\n",
        "model = {token: -log(freq / total_sum) for token, freq in token_freqs.items()}"
      ],
      "metadata": {
        "id": "hrAxvLkABjwK"
      },
      "execution_count": 62,
      "outputs": []
    },
    {
      "cell_type": "markdown",
      "source": [
        "Viterbi 알고리즘을 사용하여 단어를 토큰화\n",
        "* 해당 알고리즘은 단어의 각 하위 문자열에 대한 최상의 분할을 계산하고 이를 best_segmentations 변수라는 이름에 저장합니다\n",
        "* 우리는 두 개의 키, 즉 최고의 분할에서 마지막 토큰의 시작 인덱스와 최고의 분할 점수를 사용하여 단어의 위치당 하나의 사전(0부터 전체 길이까지)을 저장"
      ],
      "metadata": {
        "id": "IrHUKArXCcEP"
      }
    },
    {
      "cell_type": "code",
      "source": [
        "def encode_word(word, model):\n",
        "    best_segmentations = [{\"start\": 0, \"score\": 1}] + [\n",
        "        {\"start\": None, \"score\": None} for _ in range(len(word))\n",
        "    ]\n",
        "    for start_idx in range(len(word)):\n",
        "        # This should be properly filled by the previous steps of the loop\n",
        "        best_score_at_start = best_segmentations[start_idx][\"score\"]\n",
        "        for end_idx in range(start_idx + 1, len(word) + 1):\n",
        "            token = word[start_idx:end_idx]\n",
        "            if token in model and best_score_at_start is not None:\n",
        "                score = model[token] + best_score_at_start\n",
        "                # If we have found a better segmentation ending at end_idx, we update\n",
        "                if (\n",
        "                    best_segmentations[end_idx][\"score\"] is None\n",
        "                    or best_segmentations[end_idx][\"score\"] > score\n",
        "                ):\n",
        "                    best_segmentations[end_idx] = {\"start\": start_idx, \"score\": score}\n",
        "\n",
        "    segmentation = best_segmentations[-1]\n",
        "    if segmentation[\"score\"] is None:\n",
        "        # We did not find a tokenization of the word -> unknown\n",
        "        return [\"<unk>\"], None\n",
        "\n",
        "    score = segmentation[\"score\"]\n",
        "    start = segmentation[\"start\"]\n",
        "    end = len(word)\n",
        "    tokens = []\n",
        "    while start != 0:\n",
        "        tokens.insert(0, word[start:end])\n",
        "        next_start = best_segmentations[start][\"start\"]\n",
        "        end = start\n",
        "        start = next_start\n",
        "    tokens.insert(0, word[start:end])\n",
        "    return tokens, score"
      ],
      "metadata": {
        "id": "_kk9YVIGBjyS"
      },
      "execution_count": 63,
      "outputs": []
    },
    {
      "cell_type": "markdown",
      "source": [
        "일부 단어에 대해 초기 모델을 시험해 볼 수 있습니다."
      ],
      "metadata": {
        "id": "S8Z4aujbCyjU"
      }
    },
    {
      "cell_type": "code",
      "source": [
        "print(encode_word(\"Hopefully\", model))\n",
        "print(encode_word(\"This\", model))"
      ],
      "metadata": {
        "colab": {
          "base_uri": "https://localhost:8080/"
        },
        "id": "8abwe85-Bj1R",
        "outputId": "a74c2639-41e9-4f9c-e4e5-2576e4115977"
      },
      "execution_count": 64,
      "outputs": [
        {
          "output_type": "stream",
          "name": "stdout",
          "text": [
            "(['H', 'o', 'p', 'e', 'f', 'u', 'll', 'y'], 41.5157494601402)\n",
            "(['This'], 6.288267030694535)\n"
          ]
        }
      ]
    },
    {
      "cell_type": "markdown",
      "source": [
        "이제 코퍼스에서 모델의 손실을 쉽게 계산할 수 있습니다"
      ],
      "metadata": {
        "id": "idI-S70tC1e0"
      }
    },
    {
      "cell_type": "code",
      "source": [
        "def compute_loss(model):\n",
        "    loss = 0\n",
        "    for word, freq in word_freqs.items():\n",
        "        _, word_loss = encode_word(word, model)\n",
        "        loss += freq * word_loss\n",
        "    return loss"
      ],
      "metadata": {
        "id": "hnRsjAr7Bv7i"
      },
      "execution_count": 65,
      "outputs": []
    },
    {
      "cell_type": "code",
      "source": [
        "compute_loss(model)"
      ],
      "metadata": {
        "colab": {
          "base_uri": "https://localhost:8080/"
        },
        "id": "VEKGSvFgBv91",
        "outputId": "6f452f6d-669c-49a9-ff37-c2ac8d92b28d"
      },
      "execution_count": 66,
      "outputs": [
        {
          "output_type": "execute_result",
          "data": {
            "text/plain": [
              "413.10377642940875"
            ]
          },
          "metadata": {},
          "execution_count": 66
        }
      ]
    },
    {
      "cell_type": "markdown",
      "source": [
        " 각 토큰을 삭제하여 얻은 모델의 손실을 계산"
      ],
      "metadata": {
        "id": "8xZkRGZ-C6r4"
      }
    },
    {
      "cell_type": "code",
      "source": [
        "import copy\n",
        "\n",
        "\n",
        "def compute_scores(model):\n",
        "    scores = {}\n",
        "    model_loss = compute_loss(model)\n",
        "    for token, score in model.items():\n",
        "        # We always keep tokens of length 1\n",
        "        if len(token) == 1:\n",
        "            continue\n",
        "        model_without_token = copy.deepcopy(model)\n",
        "        _ = model_without_token.pop(token)\n",
        "        scores[token] = compute_loss(model_without_token) - model_loss\n",
        "    return scores"
      ],
      "metadata": {
        "id": "x46V3cuqBwAO"
      },
      "execution_count": 67,
      "outputs": []
    },
    {
      "cell_type": "markdown",
      "source": [
        " \"his\"는 자체적으로 토큰화된 단어 내에서만 사용되므로 \"This\"손실이 전혀 없을 것"
      ],
      "metadata": {
        "id": "UeWiRdcZC_7S"
      }
    },
    {
      "cell_type": "code",
      "source": [
        "scores = compute_scores(model)\n",
        "print(scores[\"ll\"])\n",
        "print(scores[\"his\"])"
      ],
      "metadata": {
        "colab": {
          "base_uri": "https://localhost:8080/"
        },
        "id": "fV_MqztFBwCz",
        "outputId": "9e81080b-80bc-40e0-8378-b47550b88353"
      },
      "execution_count": 68,
      "outputs": [
        {
          "output_type": "stream",
          "name": "stdout",
          "text": [
            "6.376412403623874\n",
            "0.0\n"
          ]
        }
      ]
    },
    {
      "cell_type": "markdown",
      "source": [
        "모델에서 사용하는 특수 토큰을 어휘에 추가한 다음 원하는 크기에 도달할 만큼 어휘에서 충분한 토큰을 잘라낼 때까지 반복하는 것 (%)"
      ],
      "metadata": {
        "id": "uIYsDs_QDHZ8"
      }
    },
    {
      "cell_type": "code",
      "source": [
        "percent_to_remove = 0.1\n",
        "while len(model) > 100:\n",
        "    scores = compute_scores(model)\n",
        "    sorted_scores = sorted(scores.items(), key=lambda x: x[1])\n",
        "    # Remove percent_to_remove tokens with the lowest scores.\n",
        "    for i in range(int(len(model) * percent_to_remove)):\n",
        "        _ = token_freqs.pop(sorted_scores[i][0])\n",
        "\n",
        "    total_sum = sum([freq for token, freq in token_freqs.items()])\n",
        "    model = {token: -log(freq / total_sum) for token, freq in token_freqs.items()}"
      ],
      "metadata": {
        "id": "qjbvVl75BwFq"
      },
      "execution_count": 69,
      "outputs": []
    },
    {
      "cell_type": "markdown",
      "source": [
        "일부 텍스트를 토큰화하려면 사전 토큰화를 적용한 다음 함수를 사용하면 됨"
      ],
      "metadata": {
        "id": "tMKuEydXDLgf"
      }
    },
    {
      "cell_type": "code",
      "source": [
        "def tokenize(text, model):\n",
        "    words_with_offsets = tokenizer.backend_tokenizer.pre_tokenizer.pre_tokenize_str(text)\n",
        "    pre_tokenized_text = [word for word, offset in words_with_offsets]\n",
        "    encoded_words = [encode_word(word, model)[0] for word in pre_tokenized_text]\n",
        "    return sum(encoded_words, [])\n",
        "\n",
        "\n",
        "tokenize(\"This is the Hugging Face course.\", model)"
      ],
      "metadata": {
        "colab": {
          "base_uri": "https://localhost:8080/"
        },
        "id": "oxKCg5lFB0kZ",
        "outputId": "9608ab24-9677-4c3c-f001-2bf5af58e1f1"
      },
      "execution_count": 70,
      "outputs": [
        {
          "output_type": "execute_result",
          "data": {
            "text/plain": [
              "['▁This',\n",
              " '▁is',\n",
              " '▁the',\n",
              " '▁Hugging',\n",
              " '▁Face',\n",
              " '▁',\n",
              " 'c',\n",
              " 'ou',\n",
              " 'r',\n",
              " 's',\n",
              " 'e',\n",
              " '.']"
            ]
          },
          "metadata": {},
          "execution_count": 70
        }
      ]
    },
    {
      "cell_type": "markdown",
      "source": [
        "### Building a tokenizer, block by block"
      ],
      "metadata": {
        "id": "FHnJI1Agub9f"
      }
    },
    {
      "cell_type": "markdown",
      "source": [
        "#### Acquiring a corpus"
      ],
      "metadata": {
        "id": "iPirf9nOQvVZ"
      }
    },
    {
      "cell_type": "markdown",
      "source": [
        "get_training_corpus(): 토크나이저를 훈련하는 데 사용할 1,000개의 텍스트 배치를 생성하는 생성기"
      ],
      "metadata": {
        "id": "o7djIsE4RXGr"
      }
    },
    {
      "cell_type": "code",
      "source": [
        "from datasets import load_dataset\n",
        "\n",
        "dataset = load_dataset(\"wikitext\", name=\"wikitext-2-raw-v1\", split=\"train\")\n",
        "\n",
        "\n",
        "def get_training_corpus():\n",
        "    for i in range(0, len(dataset), 1000):\n",
        "        yield dataset[i : i + 1000][\"text\"]"
      ],
      "metadata": {
        "colab": {
          "base_uri": "https://localhost:8080/",
          "height": 241,
          "referenced_widgets": [
            "eaa401c98bcd4964a3d22b8d93928c12",
            "6f4ac5d5e3bc44e9b665ef308a9185bd",
            "f60be305dc774a9689af004439c0356c",
            "8dc8ac19cb1d4be19bcec136e1930a7c",
            "eec1216bff9240ba875f42370124ac29",
            "bdb5275cdf70452baae356070697d1b9",
            "5d558f80d39d4ebb9256f80ee7472eed",
            "9799f7dcb90d4483ae12d4b8aa53bd67",
            "87a908ec972947e5aeae91c46398d89b",
            "ecae4813fa3840c7b70265eba21c199b",
            "9124f6ae154c4d14b7eaebd825325273",
            "83d509ba1dda49a0ab07508892f88636",
            "c0b24ad6e3e24c03948d4605039ec673",
            "ddfddac078fc435b864ed4e216725790",
            "a47f88abab414d5ca1b6599b95423cbc",
            "ba26451e71f64586824db3028cce057b",
            "52db65745009404897515dac0abf384a",
            "bb4375db98234236969df23ea147549a",
            "9ae2aec6eb564b42a65b2967778d106e",
            "00b251ac5df74c22a1f4e0550e2a1db2",
            "c9360c54d9a0419786e82ddcc3e862d1",
            "b21e94b7982140ec9b95d691b21f154a",
            "5be4dcf7ebb840f6a204967dd33ff52e",
            "8f470f5005b24dd0a948ef362ca82db6",
            "de14b14682d0484db5334d45de8f27e6",
            "5e0bfd78f3a44a9e863ce0132cbe1927",
            "7c272910d6694346bd173559e80bd210",
            "1996683016fc4bf38a6ba0e9e07a0f0b",
            "b8413510b07b4897867fd172529d192c",
            "7eff1a2417014e4ea1abfdbf3e323488",
            "acb2d6d3212c4463bdc6461bc0e3a696",
            "bd0d4513d8f942d6a408b53f1f92801d",
            "792ae506021c4fbf97642f923ab235c3",
            "35acdbbb83d44f20b33802d8e43109f6",
            "b21625c015a548989b0be3f5d01b063b",
            "ac297e067f1546e0b7351cf3e0c08a85",
            "c66a7f844ca74bc8998187a8c0184984",
            "e4f98b666feb4bd685ca884f333d7eab",
            "32377e300fe24d268f0a6be5413a4565",
            "7e7a73716f4e45d6b04df3972745d825",
            "5ad36fe861b642c0a21754524554b214",
            "2a29f49c72674043a85bec6441304cd6",
            "2ed33207386e412fb18e6552be91a3b6",
            "bf8ccc8a48ae4f25a29951546f418d8a",
            "137906d3e3124a448d94244055c29d51",
            "2bbbbd2a7e8749659a3e7f8ff1e2622e",
            "d12be5ace0ca4acbbad1744767d43872",
            "607ffa754c3d4bb4a5b2b4d582e83107",
            "a181eaee0de24910ac92f7851f18547b",
            "c1f0a2dd7ab74741bce427e22c918bfe",
            "e39dd561178f4f6d8f38a51c59f50385",
            "4ae8e0fe4f2f4901a9836a9aa0fa3778",
            "ff08d0fa97ff4d759adf1537d554bf44",
            "94ac08f4492c466f93b1e732a9f9249c",
            "c6432e07d360468c94f2d65715138902",
            "da0112a5d146415fa08727e05efb0b1d",
            "76c84fd6456e4d87a3aff9dd75fa6e39",
            "fa1f026c83704aad8cfe11e5d1ef1cd9",
            "d83bf18856dc4581bf5b28ada15eca5b",
            "8e99d096aec54fbfb45240b4d54e1bd8",
            "7973250b1f8446459f219b2174963cd3",
            "e0a50dd4126944ca8d7a4d3e2c2ad1b6",
            "4ea40014db91460b9078510bf5bdb925",
            "518d3bc60e824f29ae8659a042bf4fc4",
            "bbafa881d99f4c569d0852ba2a76d1c1",
            "65524b5e4c354351aec882377fefd967",
            "33d4a64e853d4f5885e3a8c38ecc3658",
            "70075682b04040ebad0f55871b683379",
            "0882d186b7e14712972594167898c2a3",
            "869a4c388b3e402a8d807e05f6d776a9",
            "e466f1931b6e46838bca6767d1fc470e",
            "4c368420cba947c9aeb4da1594fb1ae5",
            "09476df28129418094ea927606a91e17",
            "0a0fb87e45d14d19b9054264f366c988",
            "8b2338dc27014f11bf5a63b65347cf5f",
            "eb189d3b77484019a3b86cb252cb015e",
            "e7ad58023b354486af288688f4e98bd9"
          ]
        },
        "id": "KWFFX2g2ui2G",
        "outputId": "c5bde751-9801-486c-8f34-3ae2b5bbb50c"
      },
      "execution_count": 71,
      "outputs": [
        {
          "output_type": "display_data",
          "data": {
            "text/plain": [
              "Downloading readme:   0%|          | 0.00/10.5k [00:00<?, ?B/s]"
            ],
            "application/vnd.jupyter.widget-view+json": {
              "version_major": 2,
              "version_minor": 0,
              "model_id": "eaa401c98bcd4964a3d22b8d93928c12"
            }
          },
          "metadata": {}
        },
        {
          "output_type": "display_data",
          "data": {
            "text/plain": [
              "Downloading data:   0%|          | 0.00/733k [00:00<?, ?B/s]"
            ],
            "application/vnd.jupyter.widget-view+json": {
              "version_major": 2,
              "version_minor": 0,
              "model_id": "83d509ba1dda49a0ab07508892f88636"
            }
          },
          "metadata": {}
        },
        {
          "output_type": "display_data",
          "data": {
            "text/plain": [
              "Downloading data:   0%|          | 0.00/6.36M [00:00<?, ?B/s]"
            ],
            "application/vnd.jupyter.widget-view+json": {
              "version_major": 2,
              "version_minor": 0,
              "model_id": "5be4dcf7ebb840f6a204967dd33ff52e"
            }
          },
          "metadata": {}
        },
        {
          "output_type": "display_data",
          "data": {
            "text/plain": [
              "Downloading data:   0%|          | 0.00/657k [00:00<?, ?B/s]"
            ],
            "application/vnd.jupyter.widget-view+json": {
              "version_major": 2,
              "version_minor": 0,
              "model_id": "35acdbbb83d44f20b33802d8e43109f6"
            }
          },
          "metadata": {}
        },
        {
          "output_type": "display_data",
          "data": {
            "text/plain": [
              "Generating test split:   0%|          | 0/4358 [00:00<?, ? examples/s]"
            ],
            "application/vnd.jupyter.widget-view+json": {
              "version_major": 2,
              "version_minor": 0,
              "model_id": "137906d3e3124a448d94244055c29d51"
            }
          },
          "metadata": {}
        },
        {
          "output_type": "display_data",
          "data": {
            "text/plain": [
              "Generating train split:   0%|          | 0/36718 [00:00<?, ? examples/s]"
            ],
            "application/vnd.jupyter.widget-view+json": {
              "version_major": 2,
              "version_minor": 0,
              "model_id": "da0112a5d146415fa08727e05efb0b1d"
            }
          },
          "metadata": {}
        },
        {
          "output_type": "display_data",
          "data": {
            "text/plain": [
              "Generating validation split:   0%|          | 0/3760 [00:00<?, ? examples/s]"
            ],
            "application/vnd.jupyter.widget-view+json": {
              "version_major": 2,
              "version_minor": 0,
              "model_id": "33d4a64e853d4f5885e3a8c38ecc3658"
            }
          },
          "metadata": {}
        }
      ]
    },
    {
      "cell_type": "code",
      "source": [
        "with open(\"wikitext-2.txt\", \"w\", encoding=\"utf-8\") as f:\n",
        "    for i in range(len(dataset)):\n",
        "        f.write(dataset[i][\"text\"] + \"\\n\")"
      ],
      "metadata": {
        "id": "j9cKfQqZRYzl"
      },
      "execution_count": 72,
      "outputs": []
    },
    {
      "cell_type": "markdown",
      "source": [
        "#### Building a WordPiece tokenizer from scratch"
      ],
      "metadata": {
        "id": "TVkfgJQXQ1ym"
      }
    },
    {
      "cell_type": "markdown",
      "source": [
        "* Tokenizers 라이브러리를 사용하여 토크나이저를 구축하려면 먼저 모델을 사용하여 Tokenizer 객체를 인스턴스화한 다음 해당 Normalizer, pre_tokenizer, post_processor 및 decoder 속성을 원하는 값으로 설정합니다."
      ],
      "metadata": {
        "id": "I0D8u4iJRjKA"
      }
    },
    {
      "cell_type": "code",
      "source": [
        "from tokenizers import (\n",
        "    decoders,\n",
        "    models,\n",
        "    normalizers,\n",
        "    pre_tokenizers,\n",
        "    processors,\n",
        "    trainers,\n",
        "    Tokenizer,\n",
        ")\n",
        "\n",
        "tokenizer = Tokenizer(models.WordPiece(unk_token=\"[UNK]\"))"
      ],
      "metadata": {
        "id": "gzTLV4EhRCfH"
      },
      "execution_count": 73,
      "outputs": []
    },
    {
      "cell_type": "markdown",
      "source": [
        "**[Normalization]**"
      ],
      "metadata": {
        "id": "YohZnipiR6uF"
      }
    },
    {
      "cell_type": "code",
      "source": [
        "tokenizer.normalizer = normalizers.BertNormalizer(lowercase=True)"
      ],
      "metadata": {
        "id": "VBSLiZHWSAIW"
      },
      "execution_count": 74,
      "outputs": []
    },
    {
      "cell_type": "markdown",
      "source": [
        "만약 정규화를 직접 구성한다면?"
      ],
      "metadata": {
        "id": "EtCCinxdSH6W"
      }
    },
    {
      "cell_type": "code",
      "source": [
        "tokenizer.normalizer = normalizers.Sequence(\n",
        "    [normalizers.NFD(), normalizers.Lowercase(), normalizers.StripAccents()]\n",
        ")\n",
        "# NFD 사용이유: StripAccents 노멀라이저가 악센트 문자를 제대로 인식하도록."
      ],
      "metadata": {
        "id": "yMazWSWxSLiW"
      },
      "execution_count": 76,
      "outputs": []
    },
    {
      "cell_type": "code",
      "source": [
        "print(tokenizer.normalizer.normalize_str(\"Héllò hôw are ü?\"))"
      ],
      "metadata": {
        "colab": {
          "base_uri": "https://localhost:8080/"
        },
        "id": "gt_bLZRPSj-_",
        "outputId": "711378d9-e826-47fb-8675-6d438a69fce9"
      },
      "execution_count": 77,
      "outputs": [
        {
          "output_type": "stream",
          "name": "stdout",
          "text": [
            "hello how are u?\n"
          ]
        }
      ]
    },
    {
      "cell_type": "markdown",
      "source": [
        "**[pre-tokenization]**"
      ],
      "metadata": {
        "id": "e6f73MpOSrrK"
      }
    },
    {
      "cell_type": "code",
      "source": [
        "tokenizer.pre_tokenizer = pre_tokenizers.BertPreTokenizer()"
      ],
      "metadata": {
        "id": "rLEblurlSnLZ"
      },
      "execution_count": 78,
      "outputs": []
    },
    {
      "cell_type": "code",
      "source": [
        "tokenizer.pre_tokenizer = pre_tokenizers.Whitespace()"
      ],
      "metadata": {
        "id": "ig-z84ZxSnNz"
      },
      "execution_count": 79,
      "outputs": []
    },
    {
      "cell_type": "code",
      "source": [
        "# 공백 사전 토크나이저는 공백과 문자, 숫자 또는 밑줄 문자가 아닌 모든 문자로 분할되므로 기술적으로 공백과 구두점으로 분할\n",
        "tokenizer.pre_tokenizer.pre_tokenize_str(\"Let's test my pre-tokenizer.\")"
      ],
      "metadata": {
        "colab": {
          "base_uri": "https://localhost:8080/"
        },
        "id": "ekpz8USoSnQe",
        "outputId": "3cf17afc-7b03-4622-ab56-d9f9683fb9d7"
      },
      "execution_count": 81,
      "outputs": [
        {
          "output_type": "execute_result",
          "data": {
            "text/plain": [
              "[('Let', (0, 3)),\n",
              " (\"'\", (3, 4)),\n",
              " ('s', (4, 5)),\n",
              " ('test', (6, 10)),\n",
              " ('my', (11, 13)),\n",
              " ('pre', (14, 17)),\n",
              " ('-', (17, 18)),\n",
              " ('tokenizer', (18, 27)),\n",
              " ('.', (27, 28))]"
            ]
          },
          "metadata": {},
          "execution_count": 81
        }
      ]
    },
    {
      "cell_type": "code",
      "source": [
        "# 공백으로만 분할하려면 대신 WhitespaceSplit 사전 토크나이저를 사용해야 합니다.\n",
        "pre_tokenizer = pre_tokenizers.WhitespaceSplit()\n",
        "pre_tokenizer.pre_tokenize_str(\"Let's test my pre-tokenizer.\")"
      ],
      "metadata": {
        "colab": {
          "base_uri": "https://localhost:8080/"
        },
        "id": "wKYVfySxSnTC",
        "outputId": "bc618033-6fe7-467e-d970-5f49559d1c8c"
      },
      "execution_count": 82,
      "outputs": [
        {
          "output_type": "execute_result",
          "data": {
            "text/plain": [
              "[(\"Let's\", (0, 5)),\n",
              " ('test', (6, 10)),\n",
              " ('my', (11, 13)),\n",
              " ('pre-tokenizer.', (14, 28))]"
            ]
          },
          "metadata": {},
          "execution_count": 82
        }
      ]
    },
    {
      "cell_type": "markdown",
      "source": [
        "정규화 때처럼 Sequence로 직접 구성해도 된다."
      ],
      "metadata": {
        "id": "ffUW7MR2TW-F"
      }
    },
    {
      "cell_type": "code",
      "source": [
        "pre_tokenizer = pre_tokenizers.Sequence(\n",
        "    [pre_tokenizers.WhitespaceSplit(), pre_tokenizers.Punctuation()]\n",
        ")\n",
        "pre_tokenizer.pre_tokenize_str(\"Let's test my pre-tokenizer.\")"
      ],
      "metadata": {
        "colab": {
          "base_uri": "https://localhost:8080/"
        },
        "id": "vrlMo6N8SnVl",
        "outputId": "9aabb42f-8db1-43f3-f382-4bd236d83498"
      },
      "execution_count": 83,
      "outputs": [
        {
          "output_type": "execute_result",
          "data": {
            "text/plain": [
              "[('Let', (0, 3)),\n",
              " (\"'\", (3, 4)),\n",
              " ('s', (4, 5)),\n",
              " ('test', (6, 10)),\n",
              " ('my', (11, 13)),\n",
              " ('pre', (14, 17)),\n",
              " ('-', (17, 18)),\n",
              " ('tokenizer', (18, 27)),\n",
              " ('.', (27, 28))]"
            ]
          },
          "metadata": {},
          "execution_count": 83
        }
      ]
    },
    {
      "cell_type": "markdown",
      "source": [
        "**[Model]**"
      ],
      "metadata": {
        "id": "OAWo2J_jTkSH"
      }
    },
    {
      "cell_type": "markdown",
      "source": [
        "이때 모든 특수 토큰을 전달해야 한다!"
      ],
      "metadata": {
        "id": "ffUcNU7jTvcc"
      }
    },
    {
      "cell_type": "code",
      "source": [
        "special_tokens = [\"[UNK]\", \"[PAD]\", \"[CLS]\", \"[SEP]\", \"[MASK]\"]\n",
        "trainer = trainers.WordPieceTrainer(vocab_size=25000, special_tokens=special_tokens)"
      ],
      "metadata": {
        "id": "u3QEFETpTmWv"
      },
      "execution_count": 84,
      "outputs": []
    },
    {
      "cell_type": "markdown",
      "source": [
        "vocab_size 및 special_tokens 를 지정하는 것 외에도 min_frequency (토큰이 어휘에 포함되어야 하는 것으로 나타나는 횟수)를 설정하거나 continue_subword_prefix(##과 다른 것을 사용하려는 경우)를 변경할 수 있습니다."
      ],
      "metadata": {
        "id": "mGzKZBrgT-FL"
      }
    },
    {
      "cell_type": "code",
      "source": [
        "tokenizer.train_from_iterator(get_training_corpus(), trainer=trainer)"
      ],
      "metadata": {
        "id": "RV0C0Pa4T4F2"
      },
      "execution_count": 85,
      "outputs": []
    },
    {
      "cell_type": "markdown",
      "source": [
        "텍스트 파일을 사용하여 토크나이저를 훈련할 수도 있습니다."
      ],
      "metadata": {
        "id": "xzoZkuGTUOCz"
      }
    },
    {
      "cell_type": "code",
      "source": [
        "tokenizer.model = models.WordPiece(unk_token=\"[UNK]\")\n",
        "tokenizer.train([\"wikitext-2.txt\"], trainer=trainer)"
      ],
      "metadata": {
        "id": "xxG4jDdkT4IQ"
      },
      "execution_count": 86,
      "outputs": []
    },
    {
      "cell_type": "markdown",
      "source": [
        "두 경우 모두 encode() 메서드를 호출하여 텍스트에 대한 토크나이저를 테스트할 수 있습니다."
      ],
      "metadata": {
        "id": "wkbM3uquUVUc"
      }
    },
    {
      "cell_type": "code",
      "source": [
        "encoding = tokenizer.encode(\"Let's test this tokenizer.\")\n",
        "print(encoding.tokens)"
      ],
      "metadata": {
        "colab": {
          "base_uri": "https://localhost:8080/"
        },
        "id": "3KRxj1daT4Ko",
        "outputId": "15beadec-0a72-4ee0-dcf4-49598c5babef"
      },
      "execution_count": 87,
      "outputs": [
        {
          "output_type": "stream",
          "name": "stdout",
          "text": [
            "['let', \"'\", 's', 'test', 'this', 'tok', '##eni', '##zer', '.']\n"
          ]
        }
      ]
    },
    {
      "cell_type": "code",
      "source": [
        "cls_token_id = tokenizer.token_to_id(\"[CLS]\")\n",
        "sep_token_id = tokenizer.token_to_id(\"[SEP]\")\n",
        "print(cls_token_id, sep_token_id)"
      ],
      "metadata": {
        "colab": {
          "base_uri": "https://localhost:8080/"
        },
        "id": "Mj7pAszrT4M3",
        "outputId": "d72141fd-453f-4c2b-c94a-7f845ee4b791"
      },
      "execution_count": 88,
      "outputs": [
        {
          "output_type": "stream",
          "name": "stdout",
          "text": [
            "2 3\n"
          ]
        }
      ]
    },
    {
      "cell_type": "markdown",
      "source": [
        "**[Postprocessor]**"
      ],
      "metadata": {
        "id": "hbXp7zi2V8t8"
      }
    },
    {
      "cell_type": "markdown",
      "source": [
        "첫 번째(또는 단일) 문장은 $A로 표시되고, 두 번째 문장(쌍으로 인코딩된 경우)은 $B로 표시됩니다."
      ],
      "metadata": {
        "id": "YrmzYBiAUoBF"
      }
    },
    {
      "cell_type": "code",
      "source": [
        "tokenizer.post_processor = processors.TemplateProcessing(\n",
        "    single=f\"[CLS]:0 $A:0 [SEP]:0\",\n",
        "    pair=f\"[CLS]:0 $A:0 [SEP]:0 $B:1 [SEP]:1\",\n",
        "    special_tokens=[(\"[CLS]\", cls_token_id), (\"[SEP]\", sep_token_id)],\n",
        ")"
      ],
      "metadata": {
        "id": "GbfyHRYIT4PT"
      },
      "execution_count": 89,
      "outputs": []
    },
    {
      "cell_type": "code",
      "source": [
        "encoding = tokenizer.encode(\"Let's test this tokenizer.\")\n",
        "print(encoding.tokens)"
      ],
      "metadata": {
        "colab": {
          "base_uri": "https://localhost:8080/"
        },
        "id": "YEIuFtCXT4Rt",
        "outputId": "0b166e38-e6c8-4b04-f02a-fbcf6c4aace4"
      },
      "execution_count": 90,
      "outputs": [
        {
          "output_type": "stream",
          "name": "stdout",
          "text": [
            "['[CLS]', 'let', \"'\", 's', 'test', 'this', 'tok', '##eni', '##zer', '.', '[SEP]']\n"
          ]
        }
      ]
    },
    {
      "cell_type": "code",
      "source": [
        "encoding = tokenizer.encode(\"Let's test this tokenizer...\", \"on a pair of sentences.\")\n",
        "print(encoding.tokens)\n",
        "print(encoding.type_ids)"
      ],
      "metadata": {
        "colab": {
          "base_uri": "https://localhost:8080/"
        },
        "id": "AgLmXgatUzh1",
        "outputId": "e74d19ee-68f5-4594-b035-620df84ebd9a"
      },
      "execution_count": 91,
      "outputs": [
        {
          "output_type": "stream",
          "name": "stdout",
          "text": [
            "['[CLS]', 'let', \"'\", 's', 'test', 'this', 'tok', '##eni', '##zer', '...', '[SEP]', 'on', 'a', 'pair', 'of', 'sentences', '.', '[SEP]']\n",
            "[0, 0, 0, 0, 0, 0, 0, 0, 0, 0, 0, 1, 1, 1, 1, 1, 1, 1]\n"
          ]
        }
      ]
    },
    {
      "cell_type": "code",
      "source": [
        "tokenizer.decoder = decoders.WordPiece(prefix=\"##\")"
      ],
      "metadata": {
        "id": "pkl-Q6OkU2eG"
      },
      "execution_count": 92,
      "outputs": []
    },
    {
      "cell_type": "code",
      "source": [
        "tokenizer.decode(encoding.ids)"
      ],
      "metadata": {
        "colab": {
          "base_uri": "https://localhost:8080/",
          "height": 36
        },
        "id": "diecejWvU45h",
        "outputId": "8c863352-62e2-46ec-f090-126fd6febd4b"
      },
      "execution_count": 93,
      "outputs": [
        {
          "output_type": "execute_result",
          "data": {
            "text/plain": [
              "\"let ' s test this tokenizer... on a pair of sentences.\""
            ],
            "application/vnd.google.colaboratory.intrinsic+json": {
              "type": "string"
            }
          },
          "metadata": {},
          "execution_count": 93
        }
      ]
    },
    {
      "cell_type": "markdown",
      "source": [
        "tokenizer in a single JSON file로 저장"
      ],
      "metadata": {
        "id": "5x0qI_l1U-_X"
      }
    },
    {
      "cell_type": "code",
      "source": [
        "tokenizer.save(\"tokenizer.json\")"
      ],
      "metadata": {
        "id": "-Oec99E_U9AB"
      },
      "execution_count": 94,
      "outputs": []
    },
    {
      "cell_type": "markdown",
      "source": [
        "로드 가능"
      ],
      "metadata": {
        "id": "O4FMIy0EVBxA"
      }
    },
    {
      "cell_type": "code",
      "source": [
        "new_tokenizer = Tokenizer.from_file(\"tokenizer.json\")"
      ],
      "metadata": {
        "id": "NYcAYpdFVCgo"
      },
      "execution_count": 95,
      "outputs": []
    },
    {
      "cell_type": "markdown",
      "source": [
        "Transformers에서 이 토크나이저를 사용하려면 PreTrainedTokenizerFast에 래핑해야 합니다"
      ],
      "metadata": {
        "id": "wj6LrsptVHX0"
      }
    },
    {
      "cell_type": "code",
      "source": [
        "from transformers import PreTrainedTokenizerFast\n",
        "\n",
        "wrapped_tokenizer = PreTrainedTokenizerFast(\n",
        "    tokenizer_object=tokenizer,\n",
        "    # tokenizer_file=\"tokenizer.json\", # You can load from the tokenizer file, alternatively\n",
        "    unk_token=\"[UNK]\",\n",
        "    pad_token=\"[PAD]\",\n",
        "    cls_token=\"[CLS]\",\n",
        "    sep_token=\"[SEP]\",\n",
        "    mask_token=\"[MASK]\",\n",
        ")"
      ],
      "metadata": {
        "id": "Tr2BVJp3VI4_"
      },
      "execution_count": 96,
      "outputs": []
    },
    {
      "cell_type": "code",
      "source": [
        "from transformers import BertTokenizerFast\n",
        "\n",
        "wrapped_tokenizer = BertTokenizerFast(tokenizer_object=tokenizer)"
      ],
      "metadata": {
        "id": "ZAugCGDEVSfU"
      },
      "execution_count": 97,
      "outputs": []
    },
    {
      "cell_type": "markdown",
      "source": [
        "#### Building a BPE tokenizer from scratch"
      ],
      "metadata": {
        "id": "N-ktThEAQ463"
      }
    },
    {
      "cell_type": "markdown",
      "source": [
        "GPT2는 normalizer를 사용하지 않기 때문에 스킵하고 바로 pre-tokenization부터 간다."
      ],
      "metadata": {
        "id": "Xz7vWjmCVrJe"
      }
    },
    {
      "cell_type": "markdown",
      "source": [
        "**[Pre-tokenization]**"
      ],
      "metadata": {
        "id": "vaXNjsN7Vk9W"
      }
    },
    {
      "cell_type": "code",
      "source": [
        "tokenizer = Tokenizer(models.BPE())"
      ],
      "metadata": {
        "id": "AVa3jY7sRB3h"
      },
      "execution_count": 98,
      "outputs": []
    },
    {
      "cell_type": "code",
      "source": [
        "tokenizer.pre_tokenizer = pre_tokenizers.ByteLevel(add_prefix_space=False)"
      ],
      "metadata": {
        "id": "lte5IWAiVbdV"
      },
      "execution_count": 99,
      "outputs": []
    },
    {
      "cell_type": "code",
      "source": [
        "tokenizer.pre_tokenizer.pre_tokenize_str(\"Let's test pre-tokenization!\")"
      ],
      "metadata": {
        "colab": {
          "base_uri": "https://localhost:8080/"
        },
        "id": "ebfk65NFVdrt",
        "outputId": "372e37bd-a3b2-45c3-f050-fe063befe4e5"
      },
      "execution_count": 100,
      "outputs": [
        {
          "output_type": "execute_result",
          "data": {
            "text/plain": [
              "[('Let', (0, 3)),\n",
              " (\"'s\", (3, 5)),\n",
              " ('Ġtest', (5, 10)),\n",
              " ('Ġpre', (10, 14)),\n",
              " ('-', (14, 15)),\n",
              " ('tokenization', (15, 27)),\n",
              " ('!', (27, 28))]"
            ]
          },
          "metadata": {},
          "execution_count": 100
        }
      ]
    },
    {
      "cell_type": "markdown",
      "source": [
        "**[Model]**"
      ],
      "metadata": {
        "id": "hvxFzQimVhmQ"
      }
    },
    {
      "cell_type": "code",
      "source": [
        "trainer = trainers.BpeTrainer(vocab_size=25000, special_tokens=[\"<|endoftext|>\"])\n",
        "tokenizer.train_from_iterator(get_training_corpus(), trainer=trainer)"
      ],
      "metadata": {
        "id": "mQNIkQnmVezG"
      },
      "execution_count": 101,
      "outputs": []
    },
    {
      "cell_type": "code",
      "source": [
        "tokenizer.model = models.BPE()\n",
        "tokenizer.train([\"wikitext-2.txt\"], trainer=trainer)"
      ],
      "metadata": {
        "id": "yzY1gly9V1zM"
      },
      "execution_count": 102,
      "outputs": []
    },
    {
      "cell_type": "code",
      "source": [
        "encoding = tokenizer.encode(\"Let's test this tokenizer.\")\n",
        "print(encoding.tokens)"
      ],
      "metadata": {
        "colab": {
          "base_uri": "https://localhost:8080/"
        },
        "id": "9wnKwe7NV4za",
        "outputId": "493404db-0d7b-4af6-d202-8c81cf6da5a7"
      },
      "execution_count": 103,
      "outputs": [
        {
          "output_type": "stream",
          "name": "stdout",
          "text": [
            "['L', 'et', \"'\", 's', 'Ġtest', 'Ġthis', 'Ġto', 'ken', 'izer', '.']\n"
          ]
        }
      ]
    },
    {
      "cell_type": "markdown",
      "source": [
        "**[Postprocessor]**"
      ],
      "metadata": {
        "id": "bEa0BADfWCJk"
      }
    },
    {
      "cell_type": "markdown",
      "source": [
        "byte-level post-processing for the GPT-2 tokenizer"
      ],
      "metadata": {
        "id": "Pc_259bGWLc4"
      }
    },
    {
      "cell_type": "code",
      "source": [
        "tokenizer.post_processor = processors.ByteLevel(trim_offsets=False)\n",
        "# Trim_offsets = False 옵션은 'Ġ'로 시작하는 토큰의 오프셋을 그대로 두어야 함\n",
        "# 따라서 오프셋의 시작 부분은 단어의 첫 번째 문자가 아닌 단어 앞의 공백을 가리키게 됩니다"
      ],
      "metadata": {
        "id": "Tf_aa5NfWJxr"
      },
      "execution_count": 106,
      "outputs": []
    },
    {
      "cell_type": "code",
      "source": [
        "sentence = \"Let's test this tokenizer.\"\n",
        "encoding = tokenizer.encode(sentence)\n",
        "start, end = encoding.offsets[4] # 'Ġtest'가 인덱스 4에 있는 텍스트의 결과를 살펴보겠습니다\n",
        "sentence[start:end]"
      ],
      "metadata": {
        "colab": {
          "base_uri": "https://localhost:8080/",
          "height": 36
        },
        "id": "UvZJzpPNWNNI",
        "outputId": "afe7ffcd-8a51-49b5-b930-502baada8844"
      },
      "execution_count": 107,
      "outputs": [
        {
          "output_type": "execute_result",
          "data": {
            "text/plain": [
              "' test'"
            ],
            "application/vnd.google.colaboratory.intrinsic+json": {
              "type": "string"
            }
          },
          "metadata": {},
          "execution_count": 107
        }
      ]
    },
    {
      "cell_type": "code",
      "source": [
        "tokenizer.decoder = decoders.ByteLevel()"
      ],
      "metadata": {
        "id": "It1n6eFDWNQA"
      },
      "execution_count": 108,
      "outputs": []
    },
    {
      "cell_type": "code",
      "source": [
        "tokenizer.decode(encoding.ids)"
      ],
      "metadata": {
        "colab": {
          "base_uri": "https://localhost:8080/",
          "height": 36
        },
        "id": "jEZs-tLkWNTb",
        "outputId": "08ba048e-c61b-4595-e9eb-b4bbb8a61b4b"
      },
      "execution_count": 109,
      "outputs": [
        {
          "output_type": "execute_result",
          "data": {
            "text/plain": [
              "\"Let's test this tokenizer.\""
            ],
            "application/vnd.google.colaboratory.intrinsic+json": {
              "type": "string"
            }
          },
          "metadata": {},
          "execution_count": 109
        }
      ]
    },
    {
      "cell_type": "markdown",
      "source": [
        "트랜스포머에서 사용할려면 아래와 같이 작성"
      ],
      "metadata": {
        "id": "vwyGiqtIWgun"
      }
    },
    {
      "cell_type": "code",
      "source": [
        "from transformers import PreTrainedTokenizerFast\n",
        "\n",
        "wrapped_tokenizer = PreTrainedTokenizerFast(\n",
        "    tokenizer_object=tokenizer,\n",
        "    bos_token=\"<|endoftext|>\",\n",
        "    eos_token=\"<|endoftext|>\",\n",
        ")"
      ],
      "metadata": {
        "id": "n_7L5L62Wi_I"
      },
      "execution_count": 110,
      "outputs": []
    },
    {
      "cell_type": "markdown",
      "source": [
        "또는 아래와 같이 작성"
      ],
      "metadata": {
        "id": "dTGKGE-9Wl2v"
      }
    },
    {
      "cell_type": "code",
      "source": [
        "from transformers import GPT2TokenizerFast\n",
        "\n",
        "wrapped_tokenizer = GPT2TokenizerFast(tokenizer_object=tokenizer)"
      ],
      "metadata": {
        "id": "LCNPgmekWlLQ"
      },
      "execution_count": 111,
      "outputs": []
    },
    {
      "cell_type": "markdown",
      "source": [
        "#### Building a Unigram tokenizer from scratch"
      ],
      "metadata": {
        "id": "EwQ32S7kQ8UF"
      }
    },
    {
      "cell_type": "markdown",
      "source": [
        "XLNet tokenizer"
      ],
      "metadata": {
        "id": "IokvHLMBW9pJ"
      }
    },
    {
      "cell_type": "code",
      "source": [
        "tokenizer = Tokenizer(models.Unigram())"
      ],
      "metadata": {
        "id": "Kxo92fSWRBOd"
      },
      "execution_count": 112,
      "outputs": []
    },
    {
      "cell_type": "markdown",
      "source": [
        "**[Normalization]**"
      ],
      "metadata": {
        "id": "kh2hYyAgW_hu"
      }
    },
    {
      "cell_type": "code",
      "source": [
        "from tokenizers import Regex\n",
        "\n",
        "tokenizer.normalizer = normalizers.Sequence(\n",
        "    [\n",
        "        normalizers.Replace(\"``\", '\"'),\n",
        "        normalizers.Replace(\"''\", '\"'),\n",
        "        normalizers.NFKD(),\n",
        "        normalizers.StripAccents(),\n",
        "        normalizers.Replace(Regex(\" {2,}\"), \" \"),\n",
        "    ]\n",
        ")"
      ],
      "metadata": {
        "id": "QOO7EdmJXCur"
      },
      "execution_count": 113,
      "outputs": []
    },
    {
      "cell_type": "markdown",
      "source": [
        "**[Pre-tokenization]**"
      ],
      "metadata": {
        "id": "VxfUPZ3kXIk4"
      }
    },
    {
      "cell_type": "code",
      "source": [
        "tokenizer.pre_tokenizer = pre_tokenizers.Metaspace()"
      ],
      "metadata": {
        "id": "YBW-cGKeXLT5"
      },
      "execution_count": 114,
      "outputs": []
    },
    {
      "cell_type": "code",
      "source": [
        "tokenizer.pre_tokenizer.pre_tokenize_str(\"Let's test the pre-tokenizer!\")"
      ],
      "metadata": {
        "colab": {
          "base_uri": "https://localhost:8080/"
        },
        "id": "1gsalUYLXNAv",
        "outputId": "d3cbb9ad-4aa9-40b1-c1e4-fc79f2afd0e8"
      },
      "execution_count": 115,
      "outputs": [
        {
          "output_type": "execute_result",
          "data": {
            "text/plain": [
              "[(\"▁Let's\", (0, 5)),\n",
              " ('▁test', (5, 10)),\n",
              " ('▁the', (10, 14)),\n",
              " ('▁pre-tokenizer!', (14, 29))]"
            ]
          },
          "metadata": {},
          "execution_count": 115
        }
      ]
    },
    {
      "cell_type": "markdown",
      "source": [
        "**[Model]**"
      ],
      "metadata": {
        "id": "oaDipjMOXP3j"
      }
    },
    {
      "cell_type": "code",
      "source": [
        "special_tokens = [\"<cls>\", \"<sep>\", \"<unk>\", \"<pad>\", \"<mask>\", \"<s>\", \"</s>\"]\n",
        "trainer = trainers.UnigramTrainer(\n",
        "    vocab_size=25000, special_tokens=special_tokens, unk_token=\"<unk>\"\n",
        ")\n",
        "tokenizer.train_from_iterator(get_training_corpus(), trainer=trainer)"
      ],
      "metadata": {
        "id": "4IPr1imkXRS9"
      },
      "execution_count": 116,
      "outputs": []
    },
    {
      "cell_type": "markdown",
      "source": [
        "텍스트 파일을 학습할 수도 있음."
      ],
      "metadata": {
        "id": "0GlLGQ_HXVwZ"
      }
    },
    {
      "cell_type": "code",
      "source": [
        "tokenizer.model = models.Unigram()\n",
        "tokenizer.train([\"wikitext-2.txt\"], trainer=trainer)"
      ],
      "metadata": {
        "id": "7oafFVKwXU-r"
      },
      "execution_count": 117,
      "outputs": []
    },
    {
      "cell_type": "code",
      "source": [
        "encoding = tokenizer.encode(\"Let's test this tokenizer.\")\n",
        "print(encoding.tokens)"
      ],
      "metadata": {
        "colab": {
          "base_uri": "https://localhost:8080/"
        },
        "id": "iUA2R69MXYfo",
        "outputId": "bf8938a2-8cd5-44fe-e777-c07787d22e98"
      },
      "execution_count": 118,
      "outputs": [
        {
          "output_type": "stream",
          "name": "stdout",
          "text": [
            "['▁Let', \"'\", 's', '▁test', '▁this', '▁to', 'ken', 'izer', '.']\n"
          ]
        }
      ]
    },
    {
      "cell_type": "markdown",
      "source": [
        "* XLNet의 특징은 다른 토큰과 구별하기 위해 유형 ID가 2인 cls 토큰을 문장 끝에 넣는 것\n",
        "* 결과적으로 왼쪽에 채워지게 됨.\n",
        "* BERT와 같이 모든 특수 토큰과 토큰 유형 ID를 다루기 위해 템플릿을 사용할 수 있지만, 먼저 cls 및 sep 토큰의 ID를 얻어야한다."
      ],
      "metadata": {
        "id": "lG67DwX9Xlnf"
      }
    },
    {
      "cell_type": "markdown",
      "source": [
        "**[PostProcessor]**"
      ],
      "metadata": {
        "id": "sqPvrhWLYHkq"
      }
    },
    {
      "cell_type": "code",
      "source": [
        "cls_token_id = tokenizer.token_to_id(\"<cls>\")\n",
        "sep_token_id = tokenizer.token_to_id(\"<sep>\")\n",
        "print(cls_token_id, sep_token_id)"
      ],
      "metadata": {
        "colab": {
          "base_uri": "https://localhost:8080/"
        },
        "id": "yFFtoWJWXg1v",
        "outputId": "e1bbc903-e4f5-4915-cf07-afd384e370a6"
      },
      "execution_count": 119,
      "outputs": [
        {
          "output_type": "stream",
          "name": "stdout",
          "text": [
            "0 1\n"
          ]
        }
      ]
    },
    {
      "cell_type": "code",
      "source": [
        "tokenizer.post_processor = processors.TemplateProcessing(\n",
        "    single=\"$A:0 <sep>:0 <cls>:2\", # ID가 2인 <CLS> 토큰\n",
        "    pair=\"$A:0 <sep>:0 $B:1 <sep>:1 <cls>:2\",\n",
        "    special_tokens=[(\"<sep>\", sep_token_id), (\"<cls>\", cls_token_id)],\n",
        ")"
      ],
      "metadata": {
        "id": "gCWvMhsyXsb-"
      },
      "execution_count": 120,
      "outputs": []
    },
    {
      "cell_type": "code",
      "source": [
        "encoding = tokenizer.encode(\"Let's test this tokenizer...\", \"on a pair of sentences!\")\n",
        "print(encoding.tokens)\n",
        "print(encoding.type_ids)"
      ],
      "metadata": {
        "colab": {
          "base_uri": "https://localhost:8080/"
        },
        "id": "CH-k3TTuYGSo",
        "outputId": "6e294519-4658-465c-9b11-5ed8b6e475df"
      },
      "execution_count": 121,
      "outputs": [
        {
          "output_type": "stream",
          "name": "stdout",
          "text": [
            "['▁Let', \"'\", 's', '▁test', '▁this', '▁to', 'ken', 'izer', '.', '.', '.', '<sep>', '▁', 'on', '▁', 'a', '▁pair', '▁of', '▁sentence', 's', '!', '<sep>', '<cls>']\n",
            "[0, 0, 0, 0, 0, 0, 0, 0, 0, 0, 0, 0, 1, 1, 1, 1, 1, 1, 1, 1, 1, 1, 2]\n"
          ]
        }
      ]
    },
    {
      "cell_type": "code",
      "source": [
        "tokenizer.decoder = decoders.Metaspace()"
      ],
      "metadata": {
        "id": "cPZXa63tYNA1"
      },
      "execution_count": 122,
      "outputs": []
    },
    {
      "cell_type": "markdown",
      "source": [
        "트랜스포머에서 사용할려면"
      ],
      "metadata": {
        "id": "hHnWtAMNYQHz"
      }
    },
    {
      "cell_type": "code",
      "source": [
        "from transformers import PreTrainedTokenizerFast\n",
        "\n",
        "wrapped_tokenizer = PreTrainedTokenizerFast(\n",
        "    tokenizer_object=tokenizer,\n",
        "    bos_token=\"<s>\",\n",
        "    eos_token=\"</s>\",\n",
        "    unk_token=\"<unk>\",\n",
        "    pad_token=\"<pad>\",\n",
        "    cls_token=\"<cls>\",\n",
        "    sep_token=\"<sep>\",\n",
        "    mask_token=\"<mask>\",\n",
        "    padding_side=\"left\",\n",
        ")"
      ],
      "metadata": {
        "id": "eQx54_IIYR8d"
      },
      "execution_count": 123,
      "outputs": []
    },
    {
      "cell_type": "markdown",
      "source": [
        "또는 아래와 같이 작성."
      ],
      "metadata": {
        "id": "rEaO0unYYUJq"
      }
    },
    {
      "cell_type": "code",
      "source": [
        "from transformers import XLNetTokenizerFast\n",
        "\n",
        "wrapped_tokenizer = XLNetTokenizerFast(tokenizer_object=tokenizer)"
      ],
      "metadata": {
        "id": "2ckaUc3pYTgN"
      },
      "execution_count": 124,
      "outputs": []
    }
  ]
}