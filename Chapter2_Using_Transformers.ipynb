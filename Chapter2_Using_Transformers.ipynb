{
  "nbformat": 4,
  "nbformat_minor": 0,
  "metadata": {
    "colab": {
      "provenance": [],
      "collapsed_sections": [
        "ogiUiokS1fV9",
        "FCEpJD0I13t4",
        "nDjX74qc7tFo",
        "G1RCbk9q-RzO",
        "dIkF6KO__O4F",
        "6Nn8rj_q8GU-",
        "VWTjcno-8IFu"
      ]
    },
    "kernelspec": {
      "name": "python3",
      "display_name": "Python 3"
    },
    "language_info": {
      "name": "python"
    },
    "widgets": {
      "application/vnd.jupyter.widget-state+json": {
        "8378dc5a272544a186c202e8c7a0fe3f": {
          "model_module": "@jupyter-widgets/controls",
          "model_name": "HBoxModel",
          "model_module_version": "1.5.0",
          "state": {
            "_dom_classes": [],
            "_model_module": "@jupyter-widgets/controls",
            "_model_module_version": "1.5.0",
            "_model_name": "HBoxModel",
            "_view_count": null,
            "_view_module": "@jupyter-widgets/controls",
            "_view_module_version": "1.5.0",
            "_view_name": "HBoxView",
            "box_style": "",
            "children": [
              "IPY_MODEL_d008c4ed44d54f208f115621f81594ff",
              "IPY_MODEL_6bd59197c4004c68833de47be523af9a",
              "IPY_MODEL_732052c7468d4342985f7e5b718c8ff6"
            ],
            "layout": "IPY_MODEL_03f8cd3fe76b4a349517852e338a5dca"
          }
        },
        "d008c4ed44d54f208f115621f81594ff": {
          "model_module": "@jupyter-widgets/controls",
          "model_name": "HTMLModel",
          "model_module_version": "1.5.0",
          "state": {
            "_dom_classes": [],
            "_model_module": "@jupyter-widgets/controls",
            "_model_module_version": "1.5.0",
            "_model_name": "HTMLModel",
            "_view_count": null,
            "_view_module": "@jupyter-widgets/controls",
            "_view_module_version": "1.5.0",
            "_view_name": "HTMLView",
            "description": "",
            "description_tooltip": null,
            "layout": "IPY_MODEL_9f69c78ea7b54779a38920161e5673b5",
            "placeholder": "​",
            "style": "IPY_MODEL_25773c96e0ad443f84f0730133dd0a4d",
            "value": "config.json: 100%"
          }
        },
        "6bd59197c4004c68833de47be523af9a": {
          "model_module": "@jupyter-widgets/controls",
          "model_name": "FloatProgressModel",
          "model_module_version": "1.5.0",
          "state": {
            "_dom_classes": [],
            "_model_module": "@jupyter-widgets/controls",
            "_model_module_version": "1.5.0",
            "_model_name": "FloatProgressModel",
            "_view_count": null,
            "_view_module": "@jupyter-widgets/controls",
            "_view_module_version": "1.5.0",
            "_view_name": "ProgressView",
            "bar_style": "success",
            "description": "",
            "description_tooltip": null,
            "layout": "IPY_MODEL_4397c17bdf804a33bdba3849d4548333",
            "max": 629,
            "min": 0,
            "orientation": "horizontal",
            "style": "IPY_MODEL_faa962c11a194ff9a4345df2c60929b6",
            "value": 629
          }
        },
        "732052c7468d4342985f7e5b718c8ff6": {
          "model_module": "@jupyter-widgets/controls",
          "model_name": "HTMLModel",
          "model_module_version": "1.5.0",
          "state": {
            "_dom_classes": [],
            "_model_module": "@jupyter-widgets/controls",
            "_model_module_version": "1.5.0",
            "_model_name": "HTMLModel",
            "_view_count": null,
            "_view_module": "@jupyter-widgets/controls",
            "_view_module_version": "1.5.0",
            "_view_name": "HTMLView",
            "description": "",
            "description_tooltip": null,
            "layout": "IPY_MODEL_121f713eda9e47ecba7458373559eea0",
            "placeholder": "​",
            "style": "IPY_MODEL_faea8b248b95474bb24f4664a835649b",
            "value": " 629/629 [00:00&lt;00:00, 19.7kB/s]"
          }
        },
        "03f8cd3fe76b4a349517852e338a5dca": {
          "model_module": "@jupyter-widgets/base",
          "model_name": "LayoutModel",
          "model_module_version": "1.2.0",
          "state": {
            "_model_module": "@jupyter-widgets/base",
            "_model_module_version": "1.2.0",
            "_model_name": "LayoutModel",
            "_view_count": null,
            "_view_module": "@jupyter-widgets/base",
            "_view_module_version": "1.2.0",
            "_view_name": "LayoutView",
            "align_content": null,
            "align_items": null,
            "align_self": null,
            "border": null,
            "bottom": null,
            "display": null,
            "flex": null,
            "flex_flow": null,
            "grid_area": null,
            "grid_auto_columns": null,
            "grid_auto_flow": null,
            "grid_auto_rows": null,
            "grid_column": null,
            "grid_gap": null,
            "grid_row": null,
            "grid_template_areas": null,
            "grid_template_columns": null,
            "grid_template_rows": null,
            "height": null,
            "justify_content": null,
            "justify_items": null,
            "left": null,
            "margin": null,
            "max_height": null,
            "max_width": null,
            "min_height": null,
            "min_width": null,
            "object_fit": null,
            "object_position": null,
            "order": null,
            "overflow": null,
            "overflow_x": null,
            "overflow_y": null,
            "padding": null,
            "right": null,
            "top": null,
            "visibility": null,
            "width": null
          }
        },
        "9f69c78ea7b54779a38920161e5673b5": {
          "model_module": "@jupyter-widgets/base",
          "model_name": "LayoutModel",
          "model_module_version": "1.2.0",
          "state": {
            "_model_module": "@jupyter-widgets/base",
            "_model_module_version": "1.2.0",
            "_model_name": "LayoutModel",
            "_view_count": null,
            "_view_module": "@jupyter-widgets/base",
            "_view_module_version": "1.2.0",
            "_view_name": "LayoutView",
            "align_content": null,
            "align_items": null,
            "align_self": null,
            "border": null,
            "bottom": null,
            "display": null,
            "flex": null,
            "flex_flow": null,
            "grid_area": null,
            "grid_auto_columns": null,
            "grid_auto_flow": null,
            "grid_auto_rows": null,
            "grid_column": null,
            "grid_gap": null,
            "grid_row": null,
            "grid_template_areas": null,
            "grid_template_columns": null,
            "grid_template_rows": null,
            "height": null,
            "justify_content": null,
            "justify_items": null,
            "left": null,
            "margin": null,
            "max_height": null,
            "max_width": null,
            "min_height": null,
            "min_width": null,
            "object_fit": null,
            "object_position": null,
            "order": null,
            "overflow": null,
            "overflow_x": null,
            "overflow_y": null,
            "padding": null,
            "right": null,
            "top": null,
            "visibility": null,
            "width": null
          }
        },
        "25773c96e0ad443f84f0730133dd0a4d": {
          "model_module": "@jupyter-widgets/controls",
          "model_name": "DescriptionStyleModel",
          "model_module_version": "1.5.0",
          "state": {
            "_model_module": "@jupyter-widgets/controls",
            "_model_module_version": "1.5.0",
            "_model_name": "DescriptionStyleModel",
            "_view_count": null,
            "_view_module": "@jupyter-widgets/base",
            "_view_module_version": "1.2.0",
            "_view_name": "StyleView",
            "description_width": ""
          }
        },
        "4397c17bdf804a33bdba3849d4548333": {
          "model_module": "@jupyter-widgets/base",
          "model_name": "LayoutModel",
          "model_module_version": "1.2.0",
          "state": {
            "_model_module": "@jupyter-widgets/base",
            "_model_module_version": "1.2.0",
            "_model_name": "LayoutModel",
            "_view_count": null,
            "_view_module": "@jupyter-widgets/base",
            "_view_module_version": "1.2.0",
            "_view_name": "LayoutView",
            "align_content": null,
            "align_items": null,
            "align_self": null,
            "border": null,
            "bottom": null,
            "display": null,
            "flex": null,
            "flex_flow": null,
            "grid_area": null,
            "grid_auto_columns": null,
            "grid_auto_flow": null,
            "grid_auto_rows": null,
            "grid_column": null,
            "grid_gap": null,
            "grid_row": null,
            "grid_template_areas": null,
            "grid_template_columns": null,
            "grid_template_rows": null,
            "height": null,
            "justify_content": null,
            "justify_items": null,
            "left": null,
            "margin": null,
            "max_height": null,
            "max_width": null,
            "min_height": null,
            "min_width": null,
            "object_fit": null,
            "object_position": null,
            "order": null,
            "overflow": null,
            "overflow_x": null,
            "overflow_y": null,
            "padding": null,
            "right": null,
            "top": null,
            "visibility": null,
            "width": null
          }
        },
        "faa962c11a194ff9a4345df2c60929b6": {
          "model_module": "@jupyter-widgets/controls",
          "model_name": "ProgressStyleModel",
          "model_module_version": "1.5.0",
          "state": {
            "_model_module": "@jupyter-widgets/controls",
            "_model_module_version": "1.5.0",
            "_model_name": "ProgressStyleModel",
            "_view_count": null,
            "_view_module": "@jupyter-widgets/base",
            "_view_module_version": "1.2.0",
            "_view_name": "StyleView",
            "bar_color": null,
            "description_width": ""
          }
        },
        "121f713eda9e47ecba7458373559eea0": {
          "model_module": "@jupyter-widgets/base",
          "model_name": "LayoutModel",
          "model_module_version": "1.2.0",
          "state": {
            "_model_module": "@jupyter-widgets/base",
            "_model_module_version": "1.2.0",
            "_model_name": "LayoutModel",
            "_view_count": null,
            "_view_module": "@jupyter-widgets/base",
            "_view_module_version": "1.2.0",
            "_view_name": "LayoutView",
            "align_content": null,
            "align_items": null,
            "align_self": null,
            "border": null,
            "bottom": null,
            "display": null,
            "flex": null,
            "flex_flow": null,
            "grid_area": null,
            "grid_auto_columns": null,
            "grid_auto_flow": null,
            "grid_auto_rows": null,
            "grid_column": null,
            "grid_gap": null,
            "grid_row": null,
            "grid_template_areas": null,
            "grid_template_columns": null,
            "grid_template_rows": null,
            "height": null,
            "justify_content": null,
            "justify_items": null,
            "left": null,
            "margin": null,
            "max_height": null,
            "max_width": null,
            "min_height": null,
            "min_width": null,
            "object_fit": null,
            "object_position": null,
            "order": null,
            "overflow": null,
            "overflow_x": null,
            "overflow_y": null,
            "padding": null,
            "right": null,
            "top": null,
            "visibility": null,
            "width": null
          }
        },
        "faea8b248b95474bb24f4664a835649b": {
          "model_module": "@jupyter-widgets/controls",
          "model_name": "DescriptionStyleModel",
          "model_module_version": "1.5.0",
          "state": {
            "_model_module": "@jupyter-widgets/controls",
            "_model_module_version": "1.5.0",
            "_model_name": "DescriptionStyleModel",
            "_view_count": null,
            "_view_module": "@jupyter-widgets/base",
            "_view_module_version": "1.2.0",
            "_view_name": "StyleView",
            "description_width": ""
          }
        },
        "38876537d7cc4601a82e28f05f45aecd": {
          "model_module": "@jupyter-widgets/controls",
          "model_name": "HBoxModel",
          "model_module_version": "1.5.0",
          "state": {
            "_dom_classes": [],
            "_model_module": "@jupyter-widgets/controls",
            "_model_module_version": "1.5.0",
            "_model_name": "HBoxModel",
            "_view_count": null,
            "_view_module": "@jupyter-widgets/controls",
            "_view_module_version": "1.5.0",
            "_view_name": "HBoxView",
            "box_style": "",
            "children": [
              "IPY_MODEL_01b9bcf9041a4730afd4e4733aadf8df",
              "IPY_MODEL_27d1db7804d94c7f81a17825a30e3697",
              "IPY_MODEL_cca2867c2f6945998b7cd81456008cfb"
            ],
            "layout": "IPY_MODEL_7ef8fc133533460cb61dff3e9324b4cb"
          }
        },
        "01b9bcf9041a4730afd4e4733aadf8df": {
          "model_module": "@jupyter-widgets/controls",
          "model_name": "HTMLModel",
          "model_module_version": "1.5.0",
          "state": {
            "_dom_classes": [],
            "_model_module": "@jupyter-widgets/controls",
            "_model_module_version": "1.5.0",
            "_model_name": "HTMLModel",
            "_view_count": null,
            "_view_module": "@jupyter-widgets/controls",
            "_view_module_version": "1.5.0",
            "_view_name": "HTMLView",
            "description": "",
            "description_tooltip": null,
            "layout": "IPY_MODEL_0f9e55a757e84396a986670276148fdc",
            "placeholder": "​",
            "style": "IPY_MODEL_4f8480fdfc3f4d208c8d7d9f1f2f23ce",
            "value": "model.safetensors: 100%"
          }
        },
        "27d1db7804d94c7f81a17825a30e3697": {
          "model_module": "@jupyter-widgets/controls",
          "model_name": "FloatProgressModel",
          "model_module_version": "1.5.0",
          "state": {
            "_dom_classes": [],
            "_model_module": "@jupyter-widgets/controls",
            "_model_module_version": "1.5.0",
            "_model_name": "FloatProgressModel",
            "_view_count": null,
            "_view_module": "@jupyter-widgets/controls",
            "_view_module_version": "1.5.0",
            "_view_name": "ProgressView",
            "bar_style": "success",
            "description": "",
            "description_tooltip": null,
            "layout": "IPY_MODEL_055937ce75994d56aab7fbf6f402486f",
            "max": 267832558,
            "min": 0,
            "orientation": "horizontal",
            "style": "IPY_MODEL_84efec6ded624ae1a1721696f4831010",
            "value": 267832558
          }
        },
        "cca2867c2f6945998b7cd81456008cfb": {
          "model_module": "@jupyter-widgets/controls",
          "model_name": "HTMLModel",
          "model_module_version": "1.5.0",
          "state": {
            "_dom_classes": [],
            "_model_module": "@jupyter-widgets/controls",
            "_model_module_version": "1.5.0",
            "_model_name": "HTMLModel",
            "_view_count": null,
            "_view_module": "@jupyter-widgets/controls",
            "_view_module_version": "1.5.0",
            "_view_name": "HTMLView",
            "description": "",
            "description_tooltip": null,
            "layout": "IPY_MODEL_c227d117c4fc459e934badabbb944035",
            "placeholder": "​",
            "style": "IPY_MODEL_b307cb704e374f679a223aa01627f863",
            "value": " 268M/268M [00:01&lt;00:00, 163MB/s]"
          }
        },
        "7ef8fc133533460cb61dff3e9324b4cb": {
          "model_module": "@jupyter-widgets/base",
          "model_name": "LayoutModel",
          "model_module_version": "1.2.0",
          "state": {
            "_model_module": "@jupyter-widgets/base",
            "_model_module_version": "1.2.0",
            "_model_name": "LayoutModel",
            "_view_count": null,
            "_view_module": "@jupyter-widgets/base",
            "_view_module_version": "1.2.0",
            "_view_name": "LayoutView",
            "align_content": null,
            "align_items": null,
            "align_self": null,
            "border": null,
            "bottom": null,
            "display": null,
            "flex": null,
            "flex_flow": null,
            "grid_area": null,
            "grid_auto_columns": null,
            "grid_auto_flow": null,
            "grid_auto_rows": null,
            "grid_column": null,
            "grid_gap": null,
            "grid_row": null,
            "grid_template_areas": null,
            "grid_template_columns": null,
            "grid_template_rows": null,
            "height": null,
            "justify_content": null,
            "justify_items": null,
            "left": null,
            "margin": null,
            "max_height": null,
            "max_width": null,
            "min_height": null,
            "min_width": null,
            "object_fit": null,
            "object_position": null,
            "order": null,
            "overflow": null,
            "overflow_x": null,
            "overflow_y": null,
            "padding": null,
            "right": null,
            "top": null,
            "visibility": null,
            "width": null
          }
        },
        "0f9e55a757e84396a986670276148fdc": {
          "model_module": "@jupyter-widgets/base",
          "model_name": "LayoutModel",
          "model_module_version": "1.2.0",
          "state": {
            "_model_module": "@jupyter-widgets/base",
            "_model_module_version": "1.2.0",
            "_model_name": "LayoutModel",
            "_view_count": null,
            "_view_module": "@jupyter-widgets/base",
            "_view_module_version": "1.2.0",
            "_view_name": "LayoutView",
            "align_content": null,
            "align_items": null,
            "align_self": null,
            "border": null,
            "bottom": null,
            "display": null,
            "flex": null,
            "flex_flow": null,
            "grid_area": null,
            "grid_auto_columns": null,
            "grid_auto_flow": null,
            "grid_auto_rows": null,
            "grid_column": null,
            "grid_gap": null,
            "grid_row": null,
            "grid_template_areas": null,
            "grid_template_columns": null,
            "grid_template_rows": null,
            "height": null,
            "justify_content": null,
            "justify_items": null,
            "left": null,
            "margin": null,
            "max_height": null,
            "max_width": null,
            "min_height": null,
            "min_width": null,
            "object_fit": null,
            "object_position": null,
            "order": null,
            "overflow": null,
            "overflow_x": null,
            "overflow_y": null,
            "padding": null,
            "right": null,
            "top": null,
            "visibility": null,
            "width": null
          }
        },
        "4f8480fdfc3f4d208c8d7d9f1f2f23ce": {
          "model_module": "@jupyter-widgets/controls",
          "model_name": "DescriptionStyleModel",
          "model_module_version": "1.5.0",
          "state": {
            "_model_module": "@jupyter-widgets/controls",
            "_model_module_version": "1.5.0",
            "_model_name": "DescriptionStyleModel",
            "_view_count": null,
            "_view_module": "@jupyter-widgets/base",
            "_view_module_version": "1.2.0",
            "_view_name": "StyleView",
            "description_width": ""
          }
        },
        "055937ce75994d56aab7fbf6f402486f": {
          "model_module": "@jupyter-widgets/base",
          "model_name": "LayoutModel",
          "model_module_version": "1.2.0",
          "state": {
            "_model_module": "@jupyter-widgets/base",
            "_model_module_version": "1.2.0",
            "_model_name": "LayoutModel",
            "_view_count": null,
            "_view_module": "@jupyter-widgets/base",
            "_view_module_version": "1.2.0",
            "_view_name": "LayoutView",
            "align_content": null,
            "align_items": null,
            "align_self": null,
            "border": null,
            "bottom": null,
            "display": null,
            "flex": null,
            "flex_flow": null,
            "grid_area": null,
            "grid_auto_columns": null,
            "grid_auto_flow": null,
            "grid_auto_rows": null,
            "grid_column": null,
            "grid_gap": null,
            "grid_row": null,
            "grid_template_areas": null,
            "grid_template_columns": null,
            "grid_template_rows": null,
            "height": null,
            "justify_content": null,
            "justify_items": null,
            "left": null,
            "margin": null,
            "max_height": null,
            "max_width": null,
            "min_height": null,
            "min_width": null,
            "object_fit": null,
            "object_position": null,
            "order": null,
            "overflow": null,
            "overflow_x": null,
            "overflow_y": null,
            "padding": null,
            "right": null,
            "top": null,
            "visibility": null,
            "width": null
          }
        },
        "84efec6ded624ae1a1721696f4831010": {
          "model_module": "@jupyter-widgets/controls",
          "model_name": "ProgressStyleModel",
          "model_module_version": "1.5.0",
          "state": {
            "_model_module": "@jupyter-widgets/controls",
            "_model_module_version": "1.5.0",
            "_model_name": "ProgressStyleModel",
            "_view_count": null,
            "_view_module": "@jupyter-widgets/base",
            "_view_module_version": "1.2.0",
            "_view_name": "StyleView",
            "bar_color": null,
            "description_width": ""
          }
        },
        "c227d117c4fc459e934badabbb944035": {
          "model_module": "@jupyter-widgets/base",
          "model_name": "LayoutModel",
          "model_module_version": "1.2.0",
          "state": {
            "_model_module": "@jupyter-widgets/base",
            "_model_module_version": "1.2.0",
            "_model_name": "LayoutModel",
            "_view_count": null,
            "_view_module": "@jupyter-widgets/base",
            "_view_module_version": "1.2.0",
            "_view_name": "LayoutView",
            "align_content": null,
            "align_items": null,
            "align_self": null,
            "border": null,
            "bottom": null,
            "display": null,
            "flex": null,
            "flex_flow": null,
            "grid_area": null,
            "grid_auto_columns": null,
            "grid_auto_flow": null,
            "grid_auto_rows": null,
            "grid_column": null,
            "grid_gap": null,
            "grid_row": null,
            "grid_template_areas": null,
            "grid_template_columns": null,
            "grid_template_rows": null,
            "height": null,
            "justify_content": null,
            "justify_items": null,
            "left": null,
            "margin": null,
            "max_height": null,
            "max_width": null,
            "min_height": null,
            "min_width": null,
            "object_fit": null,
            "object_position": null,
            "order": null,
            "overflow": null,
            "overflow_x": null,
            "overflow_y": null,
            "padding": null,
            "right": null,
            "top": null,
            "visibility": null,
            "width": null
          }
        },
        "b307cb704e374f679a223aa01627f863": {
          "model_module": "@jupyter-widgets/controls",
          "model_name": "DescriptionStyleModel",
          "model_module_version": "1.5.0",
          "state": {
            "_model_module": "@jupyter-widgets/controls",
            "_model_module_version": "1.5.0",
            "_model_name": "DescriptionStyleModel",
            "_view_count": null,
            "_view_module": "@jupyter-widgets/base",
            "_view_module_version": "1.2.0",
            "_view_name": "StyleView",
            "description_width": ""
          }
        },
        "28a84e3d1c954adf815c5053909a6713": {
          "model_module": "@jupyter-widgets/controls",
          "model_name": "HBoxModel",
          "model_module_version": "1.5.0",
          "state": {
            "_dom_classes": [],
            "_model_module": "@jupyter-widgets/controls",
            "_model_module_version": "1.5.0",
            "_model_name": "HBoxModel",
            "_view_count": null,
            "_view_module": "@jupyter-widgets/controls",
            "_view_module_version": "1.5.0",
            "_view_name": "HBoxView",
            "box_style": "",
            "children": [
              "IPY_MODEL_f0bf2ecd3b5a41d7a7fc5f970f442cfc",
              "IPY_MODEL_7292e8819f444b938c2f78b3a08b8238",
              "IPY_MODEL_f5c014e029094216832552ae52ac44af"
            ],
            "layout": "IPY_MODEL_9aa9351ad6534c56af962fee108188a7"
          }
        },
        "f0bf2ecd3b5a41d7a7fc5f970f442cfc": {
          "model_module": "@jupyter-widgets/controls",
          "model_name": "HTMLModel",
          "model_module_version": "1.5.0",
          "state": {
            "_dom_classes": [],
            "_model_module": "@jupyter-widgets/controls",
            "_model_module_version": "1.5.0",
            "_model_name": "HTMLModel",
            "_view_count": null,
            "_view_module": "@jupyter-widgets/controls",
            "_view_module_version": "1.5.0",
            "_view_name": "HTMLView",
            "description": "",
            "description_tooltip": null,
            "layout": "IPY_MODEL_bdded6a44d4044098bdf9d9345ba2738",
            "placeholder": "​",
            "style": "IPY_MODEL_fa806e5faaf34d359823a5b38bf7f2eb",
            "value": "tokenizer_config.json: 100%"
          }
        },
        "7292e8819f444b938c2f78b3a08b8238": {
          "model_module": "@jupyter-widgets/controls",
          "model_name": "FloatProgressModel",
          "model_module_version": "1.5.0",
          "state": {
            "_dom_classes": [],
            "_model_module": "@jupyter-widgets/controls",
            "_model_module_version": "1.5.0",
            "_model_name": "FloatProgressModel",
            "_view_count": null,
            "_view_module": "@jupyter-widgets/controls",
            "_view_module_version": "1.5.0",
            "_view_name": "ProgressView",
            "bar_style": "success",
            "description": "",
            "description_tooltip": null,
            "layout": "IPY_MODEL_9589b2366550410485386a2c2f64c371",
            "max": 48,
            "min": 0,
            "orientation": "horizontal",
            "style": "IPY_MODEL_340561502a044632b460600bc2018611",
            "value": 48
          }
        },
        "f5c014e029094216832552ae52ac44af": {
          "model_module": "@jupyter-widgets/controls",
          "model_name": "HTMLModel",
          "model_module_version": "1.5.0",
          "state": {
            "_dom_classes": [],
            "_model_module": "@jupyter-widgets/controls",
            "_model_module_version": "1.5.0",
            "_model_name": "HTMLModel",
            "_view_count": null,
            "_view_module": "@jupyter-widgets/controls",
            "_view_module_version": "1.5.0",
            "_view_name": "HTMLView",
            "description": "",
            "description_tooltip": null,
            "layout": "IPY_MODEL_c3938213976b440883c89b5be2abf82e",
            "placeholder": "​",
            "style": "IPY_MODEL_6217171d2d22410c8fc5493aecc3eb11",
            "value": " 48.0/48.0 [00:00&lt;00:00, 656B/s]"
          }
        },
        "9aa9351ad6534c56af962fee108188a7": {
          "model_module": "@jupyter-widgets/base",
          "model_name": "LayoutModel",
          "model_module_version": "1.2.0",
          "state": {
            "_model_module": "@jupyter-widgets/base",
            "_model_module_version": "1.2.0",
            "_model_name": "LayoutModel",
            "_view_count": null,
            "_view_module": "@jupyter-widgets/base",
            "_view_module_version": "1.2.0",
            "_view_name": "LayoutView",
            "align_content": null,
            "align_items": null,
            "align_self": null,
            "border": null,
            "bottom": null,
            "display": null,
            "flex": null,
            "flex_flow": null,
            "grid_area": null,
            "grid_auto_columns": null,
            "grid_auto_flow": null,
            "grid_auto_rows": null,
            "grid_column": null,
            "grid_gap": null,
            "grid_row": null,
            "grid_template_areas": null,
            "grid_template_columns": null,
            "grid_template_rows": null,
            "height": null,
            "justify_content": null,
            "justify_items": null,
            "left": null,
            "margin": null,
            "max_height": null,
            "max_width": null,
            "min_height": null,
            "min_width": null,
            "object_fit": null,
            "object_position": null,
            "order": null,
            "overflow": null,
            "overflow_x": null,
            "overflow_y": null,
            "padding": null,
            "right": null,
            "top": null,
            "visibility": null,
            "width": null
          }
        },
        "bdded6a44d4044098bdf9d9345ba2738": {
          "model_module": "@jupyter-widgets/base",
          "model_name": "LayoutModel",
          "model_module_version": "1.2.0",
          "state": {
            "_model_module": "@jupyter-widgets/base",
            "_model_module_version": "1.2.0",
            "_model_name": "LayoutModel",
            "_view_count": null,
            "_view_module": "@jupyter-widgets/base",
            "_view_module_version": "1.2.0",
            "_view_name": "LayoutView",
            "align_content": null,
            "align_items": null,
            "align_self": null,
            "border": null,
            "bottom": null,
            "display": null,
            "flex": null,
            "flex_flow": null,
            "grid_area": null,
            "grid_auto_columns": null,
            "grid_auto_flow": null,
            "grid_auto_rows": null,
            "grid_column": null,
            "grid_gap": null,
            "grid_row": null,
            "grid_template_areas": null,
            "grid_template_columns": null,
            "grid_template_rows": null,
            "height": null,
            "justify_content": null,
            "justify_items": null,
            "left": null,
            "margin": null,
            "max_height": null,
            "max_width": null,
            "min_height": null,
            "min_width": null,
            "object_fit": null,
            "object_position": null,
            "order": null,
            "overflow": null,
            "overflow_x": null,
            "overflow_y": null,
            "padding": null,
            "right": null,
            "top": null,
            "visibility": null,
            "width": null
          }
        },
        "fa806e5faaf34d359823a5b38bf7f2eb": {
          "model_module": "@jupyter-widgets/controls",
          "model_name": "DescriptionStyleModel",
          "model_module_version": "1.5.0",
          "state": {
            "_model_module": "@jupyter-widgets/controls",
            "_model_module_version": "1.5.0",
            "_model_name": "DescriptionStyleModel",
            "_view_count": null,
            "_view_module": "@jupyter-widgets/base",
            "_view_module_version": "1.2.0",
            "_view_name": "StyleView",
            "description_width": ""
          }
        },
        "9589b2366550410485386a2c2f64c371": {
          "model_module": "@jupyter-widgets/base",
          "model_name": "LayoutModel",
          "model_module_version": "1.2.0",
          "state": {
            "_model_module": "@jupyter-widgets/base",
            "_model_module_version": "1.2.0",
            "_model_name": "LayoutModel",
            "_view_count": null,
            "_view_module": "@jupyter-widgets/base",
            "_view_module_version": "1.2.0",
            "_view_name": "LayoutView",
            "align_content": null,
            "align_items": null,
            "align_self": null,
            "border": null,
            "bottom": null,
            "display": null,
            "flex": null,
            "flex_flow": null,
            "grid_area": null,
            "grid_auto_columns": null,
            "grid_auto_flow": null,
            "grid_auto_rows": null,
            "grid_column": null,
            "grid_gap": null,
            "grid_row": null,
            "grid_template_areas": null,
            "grid_template_columns": null,
            "grid_template_rows": null,
            "height": null,
            "justify_content": null,
            "justify_items": null,
            "left": null,
            "margin": null,
            "max_height": null,
            "max_width": null,
            "min_height": null,
            "min_width": null,
            "object_fit": null,
            "object_position": null,
            "order": null,
            "overflow": null,
            "overflow_x": null,
            "overflow_y": null,
            "padding": null,
            "right": null,
            "top": null,
            "visibility": null,
            "width": null
          }
        },
        "340561502a044632b460600bc2018611": {
          "model_module": "@jupyter-widgets/controls",
          "model_name": "ProgressStyleModel",
          "model_module_version": "1.5.0",
          "state": {
            "_model_module": "@jupyter-widgets/controls",
            "_model_module_version": "1.5.0",
            "_model_name": "ProgressStyleModel",
            "_view_count": null,
            "_view_module": "@jupyter-widgets/base",
            "_view_module_version": "1.2.0",
            "_view_name": "StyleView",
            "bar_color": null,
            "description_width": ""
          }
        },
        "c3938213976b440883c89b5be2abf82e": {
          "model_module": "@jupyter-widgets/base",
          "model_name": "LayoutModel",
          "model_module_version": "1.2.0",
          "state": {
            "_model_module": "@jupyter-widgets/base",
            "_model_module_version": "1.2.0",
            "_model_name": "LayoutModel",
            "_view_count": null,
            "_view_module": "@jupyter-widgets/base",
            "_view_module_version": "1.2.0",
            "_view_name": "LayoutView",
            "align_content": null,
            "align_items": null,
            "align_self": null,
            "border": null,
            "bottom": null,
            "display": null,
            "flex": null,
            "flex_flow": null,
            "grid_area": null,
            "grid_auto_columns": null,
            "grid_auto_flow": null,
            "grid_auto_rows": null,
            "grid_column": null,
            "grid_gap": null,
            "grid_row": null,
            "grid_template_areas": null,
            "grid_template_columns": null,
            "grid_template_rows": null,
            "height": null,
            "justify_content": null,
            "justify_items": null,
            "left": null,
            "margin": null,
            "max_height": null,
            "max_width": null,
            "min_height": null,
            "min_width": null,
            "object_fit": null,
            "object_position": null,
            "order": null,
            "overflow": null,
            "overflow_x": null,
            "overflow_y": null,
            "padding": null,
            "right": null,
            "top": null,
            "visibility": null,
            "width": null
          }
        },
        "6217171d2d22410c8fc5493aecc3eb11": {
          "model_module": "@jupyter-widgets/controls",
          "model_name": "DescriptionStyleModel",
          "model_module_version": "1.5.0",
          "state": {
            "_model_module": "@jupyter-widgets/controls",
            "_model_module_version": "1.5.0",
            "_model_name": "DescriptionStyleModel",
            "_view_count": null,
            "_view_module": "@jupyter-widgets/base",
            "_view_module_version": "1.2.0",
            "_view_name": "StyleView",
            "description_width": ""
          }
        },
        "77b865d95ba7486c93b89cd129bfc825": {
          "model_module": "@jupyter-widgets/controls",
          "model_name": "HBoxModel",
          "model_module_version": "1.5.0",
          "state": {
            "_dom_classes": [],
            "_model_module": "@jupyter-widgets/controls",
            "_model_module_version": "1.5.0",
            "_model_name": "HBoxModel",
            "_view_count": null,
            "_view_module": "@jupyter-widgets/controls",
            "_view_module_version": "1.5.0",
            "_view_name": "HBoxView",
            "box_style": "",
            "children": [
              "IPY_MODEL_b26daf6aa9304b9aa5eaaec8334d11ee",
              "IPY_MODEL_dd544354af8d47bca1f55a7ab3861261",
              "IPY_MODEL_2625d66a243e476c8e1f8dda4437ecf8"
            ],
            "layout": "IPY_MODEL_893ade5b6f724b81933e7fff7bca6c9e"
          }
        },
        "b26daf6aa9304b9aa5eaaec8334d11ee": {
          "model_module": "@jupyter-widgets/controls",
          "model_name": "HTMLModel",
          "model_module_version": "1.5.0",
          "state": {
            "_dom_classes": [],
            "_model_module": "@jupyter-widgets/controls",
            "_model_module_version": "1.5.0",
            "_model_name": "HTMLModel",
            "_view_count": null,
            "_view_module": "@jupyter-widgets/controls",
            "_view_module_version": "1.5.0",
            "_view_name": "HTMLView",
            "description": "",
            "description_tooltip": null,
            "layout": "IPY_MODEL_917b3602b1054ac99149efebcc80fa64",
            "placeholder": "​",
            "style": "IPY_MODEL_158947f725cc41f6b66dcc13c19faf93",
            "value": "vocab.txt: 100%"
          }
        },
        "dd544354af8d47bca1f55a7ab3861261": {
          "model_module": "@jupyter-widgets/controls",
          "model_name": "FloatProgressModel",
          "model_module_version": "1.5.0",
          "state": {
            "_dom_classes": [],
            "_model_module": "@jupyter-widgets/controls",
            "_model_module_version": "1.5.0",
            "_model_name": "FloatProgressModel",
            "_view_count": null,
            "_view_module": "@jupyter-widgets/controls",
            "_view_module_version": "1.5.0",
            "_view_name": "ProgressView",
            "bar_style": "success",
            "description": "",
            "description_tooltip": null,
            "layout": "IPY_MODEL_6de41d781f0346d7b3bde6de155c1798",
            "max": 231508,
            "min": 0,
            "orientation": "horizontal",
            "style": "IPY_MODEL_023182807727483b90179eecc2d6ae7c",
            "value": 231508
          }
        },
        "2625d66a243e476c8e1f8dda4437ecf8": {
          "model_module": "@jupyter-widgets/controls",
          "model_name": "HTMLModel",
          "model_module_version": "1.5.0",
          "state": {
            "_dom_classes": [],
            "_model_module": "@jupyter-widgets/controls",
            "_model_module_version": "1.5.0",
            "_model_name": "HTMLModel",
            "_view_count": null,
            "_view_module": "@jupyter-widgets/controls",
            "_view_module_version": "1.5.0",
            "_view_name": "HTMLView",
            "description": "",
            "description_tooltip": null,
            "layout": "IPY_MODEL_3dc77e357bc7417a9baec592b2ff11ef",
            "placeholder": "​",
            "style": "IPY_MODEL_dcb6a60e058c466cb8df2a98ba33aab3",
            "value": " 232k/232k [00:00&lt;00:00, 594kB/s]"
          }
        },
        "893ade5b6f724b81933e7fff7bca6c9e": {
          "model_module": "@jupyter-widgets/base",
          "model_name": "LayoutModel",
          "model_module_version": "1.2.0",
          "state": {
            "_model_module": "@jupyter-widgets/base",
            "_model_module_version": "1.2.0",
            "_model_name": "LayoutModel",
            "_view_count": null,
            "_view_module": "@jupyter-widgets/base",
            "_view_module_version": "1.2.0",
            "_view_name": "LayoutView",
            "align_content": null,
            "align_items": null,
            "align_self": null,
            "border": null,
            "bottom": null,
            "display": null,
            "flex": null,
            "flex_flow": null,
            "grid_area": null,
            "grid_auto_columns": null,
            "grid_auto_flow": null,
            "grid_auto_rows": null,
            "grid_column": null,
            "grid_gap": null,
            "grid_row": null,
            "grid_template_areas": null,
            "grid_template_columns": null,
            "grid_template_rows": null,
            "height": null,
            "justify_content": null,
            "justify_items": null,
            "left": null,
            "margin": null,
            "max_height": null,
            "max_width": null,
            "min_height": null,
            "min_width": null,
            "object_fit": null,
            "object_position": null,
            "order": null,
            "overflow": null,
            "overflow_x": null,
            "overflow_y": null,
            "padding": null,
            "right": null,
            "top": null,
            "visibility": null,
            "width": null
          }
        },
        "917b3602b1054ac99149efebcc80fa64": {
          "model_module": "@jupyter-widgets/base",
          "model_name": "LayoutModel",
          "model_module_version": "1.2.0",
          "state": {
            "_model_module": "@jupyter-widgets/base",
            "_model_module_version": "1.2.0",
            "_model_name": "LayoutModel",
            "_view_count": null,
            "_view_module": "@jupyter-widgets/base",
            "_view_module_version": "1.2.0",
            "_view_name": "LayoutView",
            "align_content": null,
            "align_items": null,
            "align_self": null,
            "border": null,
            "bottom": null,
            "display": null,
            "flex": null,
            "flex_flow": null,
            "grid_area": null,
            "grid_auto_columns": null,
            "grid_auto_flow": null,
            "grid_auto_rows": null,
            "grid_column": null,
            "grid_gap": null,
            "grid_row": null,
            "grid_template_areas": null,
            "grid_template_columns": null,
            "grid_template_rows": null,
            "height": null,
            "justify_content": null,
            "justify_items": null,
            "left": null,
            "margin": null,
            "max_height": null,
            "max_width": null,
            "min_height": null,
            "min_width": null,
            "object_fit": null,
            "object_position": null,
            "order": null,
            "overflow": null,
            "overflow_x": null,
            "overflow_y": null,
            "padding": null,
            "right": null,
            "top": null,
            "visibility": null,
            "width": null
          }
        },
        "158947f725cc41f6b66dcc13c19faf93": {
          "model_module": "@jupyter-widgets/controls",
          "model_name": "DescriptionStyleModel",
          "model_module_version": "1.5.0",
          "state": {
            "_model_module": "@jupyter-widgets/controls",
            "_model_module_version": "1.5.0",
            "_model_name": "DescriptionStyleModel",
            "_view_count": null,
            "_view_module": "@jupyter-widgets/base",
            "_view_module_version": "1.2.0",
            "_view_name": "StyleView",
            "description_width": ""
          }
        },
        "6de41d781f0346d7b3bde6de155c1798": {
          "model_module": "@jupyter-widgets/base",
          "model_name": "LayoutModel",
          "model_module_version": "1.2.0",
          "state": {
            "_model_module": "@jupyter-widgets/base",
            "_model_module_version": "1.2.0",
            "_model_name": "LayoutModel",
            "_view_count": null,
            "_view_module": "@jupyter-widgets/base",
            "_view_module_version": "1.2.0",
            "_view_name": "LayoutView",
            "align_content": null,
            "align_items": null,
            "align_self": null,
            "border": null,
            "bottom": null,
            "display": null,
            "flex": null,
            "flex_flow": null,
            "grid_area": null,
            "grid_auto_columns": null,
            "grid_auto_flow": null,
            "grid_auto_rows": null,
            "grid_column": null,
            "grid_gap": null,
            "grid_row": null,
            "grid_template_areas": null,
            "grid_template_columns": null,
            "grid_template_rows": null,
            "height": null,
            "justify_content": null,
            "justify_items": null,
            "left": null,
            "margin": null,
            "max_height": null,
            "max_width": null,
            "min_height": null,
            "min_width": null,
            "object_fit": null,
            "object_position": null,
            "order": null,
            "overflow": null,
            "overflow_x": null,
            "overflow_y": null,
            "padding": null,
            "right": null,
            "top": null,
            "visibility": null,
            "width": null
          }
        },
        "023182807727483b90179eecc2d6ae7c": {
          "model_module": "@jupyter-widgets/controls",
          "model_name": "ProgressStyleModel",
          "model_module_version": "1.5.0",
          "state": {
            "_model_module": "@jupyter-widgets/controls",
            "_model_module_version": "1.5.0",
            "_model_name": "ProgressStyleModel",
            "_view_count": null,
            "_view_module": "@jupyter-widgets/base",
            "_view_module_version": "1.2.0",
            "_view_name": "StyleView",
            "bar_color": null,
            "description_width": ""
          }
        },
        "3dc77e357bc7417a9baec592b2ff11ef": {
          "model_module": "@jupyter-widgets/base",
          "model_name": "LayoutModel",
          "model_module_version": "1.2.0",
          "state": {
            "_model_module": "@jupyter-widgets/base",
            "_model_module_version": "1.2.0",
            "_model_name": "LayoutModel",
            "_view_count": null,
            "_view_module": "@jupyter-widgets/base",
            "_view_module_version": "1.2.0",
            "_view_name": "LayoutView",
            "align_content": null,
            "align_items": null,
            "align_self": null,
            "border": null,
            "bottom": null,
            "display": null,
            "flex": null,
            "flex_flow": null,
            "grid_area": null,
            "grid_auto_columns": null,
            "grid_auto_flow": null,
            "grid_auto_rows": null,
            "grid_column": null,
            "grid_gap": null,
            "grid_row": null,
            "grid_template_areas": null,
            "grid_template_columns": null,
            "grid_template_rows": null,
            "height": null,
            "justify_content": null,
            "justify_items": null,
            "left": null,
            "margin": null,
            "max_height": null,
            "max_width": null,
            "min_height": null,
            "min_width": null,
            "object_fit": null,
            "object_position": null,
            "order": null,
            "overflow": null,
            "overflow_x": null,
            "overflow_y": null,
            "padding": null,
            "right": null,
            "top": null,
            "visibility": null,
            "width": null
          }
        },
        "dcb6a60e058c466cb8df2a98ba33aab3": {
          "model_module": "@jupyter-widgets/controls",
          "model_name": "DescriptionStyleModel",
          "model_module_version": "1.5.0",
          "state": {
            "_model_module": "@jupyter-widgets/controls",
            "_model_module_version": "1.5.0",
            "_model_name": "DescriptionStyleModel",
            "_view_count": null,
            "_view_module": "@jupyter-widgets/base",
            "_view_module_version": "1.2.0",
            "_view_name": "StyleView",
            "description_width": ""
          }
        },
        "9ca9bbca2d174196b764623018029257": {
          "model_module": "@jupyter-widgets/controls",
          "model_name": "HBoxModel",
          "model_module_version": "1.5.0",
          "state": {
            "_dom_classes": [],
            "_model_module": "@jupyter-widgets/controls",
            "_model_module_version": "1.5.0",
            "_model_name": "HBoxModel",
            "_view_count": null,
            "_view_module": "@jupyter-widgets/controls",
            "_view_module_version": "1.5.0",
            "_view_name": "HBoxView",
            "box_style": "",
            "children": [
              "IPY_MODEL_f1b3fc93fc354ae295faf01aaeff99d0",
              "IPY_MODEL_f48465a4714648a39636d130e7ef69a6",
              "IPY_MODEL_7658f0ea4c234f218e179cc515b2baac"
            ],
            "layout": "IPY_MODEL_74a1c5f01a2f4ec9883397ed178cb4bc"
          }
        },
        "f1b3fc93fc354ae295faf01aaeff99d0": {
          "model_module": "@jupyter-widgets/controls",
          "model_name": "HTMLModel",
          "model_module_version": "1.5.0",
          "state": {
            "_dom_classes": [],
            "_model_module": "@jupyter-widgets/controls",
            "_model_module_version": "1.5.0",
            "_model_name": "HTMLModel",
            "_view_count": null,
            "_view_module": "@jupyter-widgets/controls",
            "_view_module_version": "1.5.0",
            "_view_name": "HTMLView",
            "description": "",
            "description_tooltip": null,
            "layout": "IPY_MODEL_cb8c44ade6bb4e5f82d79480c376d7f2",
            "placeholder": "​",
            "style": "IPY_MODEL_e2526d8fb82146aaa9fdd1a2320214b1",
            "value": "config.json: 100%"
          }
        },
        "f48465a4714648a39636d130e7ef69a6": {
          "model_module": "@jupyter-widgets/controls",
          "model_name": "FloatProgressModel",
          "model_module_version": "1.5.0",
          "state": {
            "_dom_classes": [],
            "_model_module": "@jupyter-widgets/controls",
            "_model_module_version": "1.5.0",
            "_model_name": "FloatProgressModel",
            "_view_count": null,
            "_view_module": "@jupyter-widgets/controls",
            "_view_module_version": "1.5.0",
            "_view_name": "ProgressView",
            "bar_style": "success",
            "description": "",
            "description_tooltip": null,
            "layout": "IPY_MODEL_8d028143ee234e43a537ed60370ccccb",
            "max": 570,
            "min": 0,
            "orientation": "horizontal",
            "style": "IPY_MODEL_072f386e4c0148fbaae6d9b0de313aa6",
            "value": 570
          }
        },
        "7658f0ea4c234f218e179cc515b2baac": {
          "model_module": "@jupyter-widgets/controls",
          "model_name": "HTMLModel",
          "model_module_version": "1.5.0",
          "state": {
            "_dom_classes": [],
            "_model_module": "@jupyter-widgets/controls",
            "_model_module_version": "1.5.0",
            "_model_name": "HTMLModel",
            "_view_count": null,
            "_view_module": "@jupyter-widgets/controls",
            "_view_module_version": "1.5.0",
            "_view_name": "HTMLView",
            "description": "",
            "description_tooltip": null,
            "layout": "IPY_MODEL_9db50a32ca3c47c799f1d826bfca0785",
            "placeholder": "​",
            "style": "IPY_MODEL_4d6a11005b5548ff98909756ccdeee34",
            "value": " 570/570 [00:00&lt;00:00, 18.5kB/s]"
          }
        },
        "74a1c5f01a2f4ec9883397ed178cb4bc": {
          "model_module": "@jupyter-widgets/base",
          "model_name": "LayoutModel",
          "model_module_version": "1.2.0",
          "state": {
            "_model_module": "@jupyter-widgets/base",
            "_model_module_version": "1.2.0",
            "_model_name": "LayoutModel",
            "_view_count": null,
            "_view_module": "@jupyter-widgets/base",
            "_view_module_version": "1.2.0",
            "_view_name": "LayoutView",
            "align_content": null,
            "align_items": null,
            "align_self": null,
            "border": null,
            "bottom": null,
            "display": null,
            "flex": null,
            "flex_flow": null,
            "grid_area": null,
            "grid_auto_columns": null,
            "grid_auto_flow": null,
            "grid_auto_rows": null,
            "grid_column": null,
            "grid_gap": null,
            "grid_row": null,
            "grid_template_areas": null,
            "grid_template_columns": null,
            "grid_template_rows": null,
            "height": null,
            "justify_content": null,
            "justify_items": null,
            "left": null,
            "margin": null,
            "max_height": null,
            "max_width": null,
            "min_height": null,
            "min_width": null,
            "object_fit": null,
            "object_position": null,
            "order": null,
            "overflow": null,
            "overflow_x": null,
            "overflow_y": null,
            "padding": null,
            "right": null,
            "top": null,
            "visibility": null,
            "width": null
          }
        },
        "cb8c44ade6bb4e5f82d79480c376d7f2": {
          "model_module": "@jupyter-widgets/base",
          "model_name": "LayoutModel",
          "model_module_version": "1.2.0",
          "state": {
            "_model_module": "@jupyter-widgets/base",
            "_model_module_version": "1.2.0",
            "_model_name": "LayoutModel",
            "_view_count": null,
            "_view_module": "@jupyter-widgets/base",
            "_view_module_version": "1.2.0",
            "_view_name": "LayoutView",
            "align_content": null,
            "align_items": null,
            "align_self": null,
            "border": null,
            "bottom": null,
            "display": null,
            "flex": null,
            "flex_flow": null,
            "grid_area": null,
            "grid_auto_columns": null,
            "grid_auto_flow": null,
            "grid_auto_rows": null,
            "grid_column": null,
            "grid_gap": null,
            "grid_row": null,
            "grid_template_areas": null,
            "grid_template_columns": null,
            "grid_template_rows": null,
            "height": null,
            "justify_content": null,
            "justify_items": null,
            "left": null,
            "margin": null,
            "max_height": null,
            "max_width": null,
            "min_height": null,
            "min_width": null,
            "object_fit": null,
            "object_position": null,
            "order": null,
            "overflow": null,
            "overflow_x": null,
            "overflow_y": null,
            "padding": null,
            "right": null,
            "top": null,
            "visibility": null,
            "width": null
          }
        },
        "e2526d8fb82146aaa9fdd1a2320214b1": {
          "model_module": "@jupyter-widgets/controls",
          "model_name": "DescriptionStyleModel",
          "model_module_version": "1.5.0",
          "state": {
            "_model_module": "@jupyter-widgets/controls",
            "_model_module_version": "1.5.0",
            "_model_name": "DescriptionStyleModel",
            "_view_count": null,
            "_view_module": "@jupyter-widgets/base",
            "_view_module_version": "1.2.0",
            "_view_name": "StyleView",
            "description_width": ""
          }
        },
        "8d028143ee234e43a537ed60370ccccb": {
          "model_module": "@jupyter-widgets/base",
          "model_name": "LayoutModel",
          "model_module_version": "1.2.0",
          "state": {
            "_model_module": "@jupyter-widgets/base",
            "_model_module_version": "1.2.0",
            "_model_name": "LayoutModel",
            "_view_count": null,
            "_view_module": "@jupyter-widgets/base",
            "_view_module_version": "1.2.0",
            "_view_name": "LayoutView",
            "align_content": null,
            "align_items": null,
            "align_self": null,
            "border": null,
            "bottom": null,
            "display": null,
            "flex": null,
            "flex_flow": null,
            "grid_area": null,
            "grid_auto_columns": null,
            "grid_auto_flow": null,
            "grid_auto_rows": null,
            "grid_column": null,
            "grid_gap": null,
            "grid_row": null,
            "grid_template_areas": null,
            "grid_template_columns": null,
            "grid_template_rows": null,
            "height": null,
            "justify_content": null,
            "justify_items": null,
            "left": null,
            "margin": null,
            "max_height": null,
            "max_width": null,
            "min_height": null,
            "min_width": null,
            "object_fit": null,
            "object_position": null,
            "order": null,
            "overflow": null,
            "overflow_x": null,
            "overflow_y": null,
            "padding": null,
            "right": null,
            "top": null,
            "visibility": null,
            "width": null
          }
        },
        "072f386e4c0148fbaae6d9b0de313aa6": {
          "model_module": "@jupyter-widgets/controls",
          "model_name": "ProgressStyleModel",
          "model_module_version": "1.5.0",
          "state": {
            "_model_module": "@jupyter-widgets/controls",
            "_model_module_version": "1.5.0",
            "_model_name": "ProgressStyleModel",
            "_view_count": null,
            "_view_module": "@jupyter-widgets/base",
            "_view_module_version": "1.2.0",
            "_view_name": "StyleView",
            "bar_color": null,
            "description_width": ""
          }
        },
        "9db50a32ca3c47c799f1d826bfca0785": {
          "model_module": "@jupyter-widgets/base",
          "model_name": "LayoutModel",
          "model_module_version": "1.2.0",
          "state": {
            "_model_module": "@jupyter-widgets/base",
            "_model_module_version": "1.2.0",
            "_model_name": "LayoutModel",
            "_view_count": null,
            "_view_module": "@jupyter-widgets/base",
            "_view_module_version": "1.2.0",
            "_view_name": "LayoutView",
            "align_content": null,
            "align_items": null,
            "align_self": null,
            "border": null,
            "bottom": null,
            "display": null,
            "flex": null,
            "flex_flow": null,
            "grid_area": null,
            "grid_auto_columns": null,
            "grid_auto_flow": null,
            "grid_auto_rows": null,
            "grid_column": null,
            "grid_gap": null,
            "grid_row": null,
            "grid_template_areas": null,
            "grid_template_columns": null,
            "grid_template_rows": null,
            "height": null,
            "justify_content": null,
            "justify_items": null,
            "left": null,
            "margin": null,
            "max_height": null,
            "max_width": null,
            "min_height": null,
            "min_width": null,
            "object_fit": null,
            "object_position": null,
            "order": null,
            "overflow": null,
            "overflow_x": null,
            "overflow_y": null,
            "padding": null,
            "right": null,
            "top": null,
            "visibility": null,
            "width": null
          }
        },
        "4d6a11005b5548ff98909756ccdeee34": {
          "model_module": "@jupyter-widgets/controls",
          "model_name": "DescriptionStyleModel",
          "model_module_version": "1.5.0",
          "state": {
            "_model_module": "@jupyter-widgets/controls",
            "_model_module_version": "1.5.0",
            "_model_name": "DescriptionStyleModel",
            "_view_count": null,
            "_view_module": "@jupyter-widgets/base",
            "_view_module_version": "1.2.0",
            "_view_name": "StyleView",
            "description_width": ""
          }
        },
        "83c2f594a9b14412adf8345a11a2a671": {
          "model_module": "@jupyter-widgets/controls",
          "model_name": "HBoxModel",
          "model_module_version": "1.5.0",
          "state": {
            "_dom_classes": [],
            "_model_module": "@jupyter-widgets/controls",
            "_model_module_version": "1.5.0",
            "_model_name": "HBoxModel",
            "_view_count": null,
            "_view_module": "@jupyter-widgets/controls",
            "_view_module_version": "1.5.0",
            "_view_name": "HBoxView",
            "box_style": "",
            "children": [
              "IPY_MODEL_578518b1f158483fa462f0620cf7e039",
              "IPY_MODEL_add931fb6d7a487e9bc976f37a0a5b85",
              "IPY_MODEL_f926b45237a14078b84f89aff31b5e50"
            ],
            "layout": "IPY_MODEL_f223c068917f405bae5d7de59daf8a1a"
          }
        },
        "578518b1f158483fa462f0620cf7e039": {
          "model_module": "@jupyter-widgets/controls",
          "model_name": "HTMLModel",
          "model_module_version": "1.5.0",
          "state": {
            "_dom_classes": [],
            "_model_module": "@jupyter-widgets/controls",
            "_model_module_version": "1.5.0",
            "_model_name": "HTMLModel",
            "_view_count": null,
            "_view_module": "@jupyter-widgets/controls",
            "_view_module_version": "1.5.0",
            "_view_name": "HTMLView",
            "description": "",
            "description_tooltip": null,
            "layout": "IPY_MODEL_47669d5b7b614adca3817f11e4626e7f",
            "placeholder": "​",
            "style": "IPY_MODEL_b0980c185ec34b37b6e2b6357d02ce0f",
            "value": "model.safetensors: 100%"
          }
        },
        "add931fb6d7a487e9bc976f37a0a5b85": {
          "model_module": "@jupyter-widgets/controls",
          "model_name": "FloatProgressModel",
          "model_module_version": "1.5.0",
          "state": {
            "_dom_classes": [],
            "_model_module": "@jupyter-widgets/controls",
            "_model_module_version": "1.5.0",
            "_model_name": "FloatProgressModel",
            "_view_count": null,
            "_view_module": "@jupyter-widgets/controls",
            "_view_module_version": "1.5.0",
            "_view_name": "ProgressView",
            "bar_style": "success",
            "description": "",
            "description_tooltip": null,
            "layout": "IPY_MODEL_3019d2975bd142f294ddc1546b5579ed",
            "max": 435755784,
            "min": 0,
            "orientation": "horizontal",
            "style": "IPY_MODEL_feb39cc2306941c3b4148ec898059597",
            "value": 435755784
          }
        },
        "f926b45237a14078b84f89aff31b5e50": {
          "model_module": "@jupyter-widgets/controls",
          "model_name": "HTMLModel",
          "model_module_version": "1.5.0",
          "state": {
            "_dom_classes": [],
            "_model_module": "@jupyter-widgets/controls",
            "_model_module_version": "1.5.0",
            "_model_name": "HTMLModel",
            "_view_count": null,
            "_view_module": "@jupyter-widgets/controls",
            "_view_module_version": "1.5.0",
            "_view_name": "HTMLView",
            "description": "",
            "description_tooltip": null,
            "layout": "IPY_MODEL_b3d712611ce349f7835a254d46a5c8ab",
            "placeholder": "​",
            "style": "IPY_MODEL_d36e1b1b561244a29e6261e2fdb04cf0",
            "value": " 436M/436M [00:05&lt;00:00, 114MB/s]"
          }
        },
        "f223c068917f405bae5d7de59daf8a1a": {
          "model_module": "@jupyter-widgets/base",
          "model_name": "LayoutModel",
          "model_module_version": "1.2.0",
          "state": {
            "_model_module": "@jupyter-widgets/base",
            "_model_module_version": "1.2.0",
            "_model_name": "LayoutModel",
            "_view_count": null,
            "_view_module": "@jupyter-widgets/base",
            "_view_module_version": "1.2.0",
            "_view_name": "LayoutView",
            "align_content": null,
            "align_items": null,
            "align_self": null,
            "border": null,
            "bottom": null,
            "display": null,
            "flex": null,
            "flex_flow": null,
            "grid_area": null,
            "grid_auto_columns": null,
            "grid_auto_flow": null,
            "grid_auto_rows": null,
            "grid_column": null,
            "grid_gap": null,
            "grid_row": null,
            "grid_template_areas": null,
            "grid_template_columns": null,
            "grid_template_rows": null,
            "height": null,
            "justify_content": null,
            "justify_items": null,
            "left": null,
            "margin": null,
            "max_height": null,
            "max_width": null,
            "min_height": null,
            "min_width": null,
            "object_fit": null,
            "object_position": null,
            "order": null,
            "overflow": null,
            "overflow_x": null,
            "overflow_y": null,
            "padding": null,
            "right": null,
            "top": null,
            "visibility": null,
            "width": null
          }
        },
        "47669d5b7b614adca3817f11e4626e7f": {
          "model_module": "@jupyter-widgets/base",
          "model_name": "LayoutModel",
          "model_module_version": "1.2.0",
          "state": {
            "_model_module": "@jupyter-widgets/base",
            "_model_module_version": "1.2.0",
            "_model_name": "LayoutModel",
            "_view_count": null,
            "_view_module": "@jupyter-widgets/base",
            "_view_module_version": "1.2.0",
            "_view_name": "LayoutView",
            "align_content": null,
            "align_items": null,
            "align_self": null,
            "border": null,
            "bottom": null,
            "display": null,
            "flex": null,
            "flex_flow": null,
            "grid_area": null,
            "grid_auto_columns": null,
            "grid_auto_flow": null,
            "grid_auto_rows": null,
            "grid_column": null,
            "grid_gap": null,
            "grid_row": null,
            "grid_template_areas": null,
            "grid_template_columns": null,
            "grid_template_rows": null,
            "height": null,
            "justify_content": null,
            "justify_items": null,
            "left": null,
            "margin": null,
            "max_height": null,
            "max_width": null,
            "min_height": null,
            "min_width": null,
            "object_fit": null,
            "object_position": null,
            "order": null,
            "overflow": null,
            "overflow_x": null,
            "overflow_y": null,
            "padding": null,
            "right": null,
            "top": null,
            "visibility": null,
            "width": null
          }
        },
        "b0980c185ec34b37b6e2b6357d02ce0f": {
          "model_module": "@jupyter-widgets/controls",
          "model_name": "DescriptionStyleModel",
          "model_module_version": "1.5.0",
          "state": {
            "_model_module": "@jupyter-widgets/controls",
            "_model_module_version": "1.5.0",
            "_model_name": "DescriptionStyleModel",
            "_view_count": null,
            "_view_module": "@jupyter-widgets/base",
            "_view_module_version": "1.2.0",
            "_view_name": "StyleView",
            "description_width": ""
          }
        },
        "3019d2975bd142f294ddc1546b5579ed": {
          "model_module": "@jupyter-widgets/base",
          "model_name": "LayoutModel",
          "model_module_version": "1.2.0",
          "state": {
            "_model_module": "@jupyter-widgets/base",
            "_model_module_version": "1.2.0",
            "_model_name": "LayoutModel",
            "_view_count": null,
            "_view_module": "@jupyter-widgets/base",
            "_view_module_version": "1.2.0",
            "_view_name": "LayoutView",
            "align_content": null,
            "align_items": null,
            "align_self": null,
            "border": null,
            "bottom": null,
            "display": null,
            "flex": null,
            "flex_flow": null,
            "grid_area": null,
            "grid_auto_columns": null,
            "grid_auto_flow": null,
            "grid_auto_rows": null,
            "grid_column": null,
            "grid_gap": null,
            "grid_row": null,
            "grid_template_areas": null,
            "grid_template_columns": null,
            "grid_template_rows": null,
            "height": null,
            "justify_content": null,
            "justify_items": null,
            "left": null,
            "margin": null,
            "max_height": null,
            "max_width": null,
            "min_height": null,
            "min_width": null,
            "object_fit": null,
            "object_position": null,
            "order": null,
            "overflow": null,
            "overflow_x": null,
            "overflow_y": null,
            "padding": null,
            "right": null,
            "top": null,
            "visibility": null,
            "width": null
          }
        },
        "feb39cc2306941c3b4148ec898059597": {
          "model_module": "@jupyter-widgets/controls",
          "model_name": "ProgressStyleModel",
          "model_module_version": "1.5.0",
          "state": {
            "_model_module": "@jupyter-widgets/controls",
            "_model_module_version": "1.5.0",
            "_model_name": "ProgressStyleModel",
            "_view_count": null,
            "_view_module": "@jupyter-widgets/base",
            "_view_module_version": "1.2.0",
            "_view_name": "StyleView",
            "bar_color": null,
            "description_width": ""
          }
        },
        "b3d712611ce349f7835a254d46a5c8ab": {
          "model_module": "@jupyter-widgets/base",
          "model_name": "LayoutModel",
          "model_module_version": "1.2.0",
          "state": {
            "_model_module": "@jupyter-widgets/base",
            "_model_module_version": "1.2.0",
            "_model_name": "LayoutModel",
            "_view_count": null,
            "_view_module": "@jupyter-widgets/base",
            "_view_module_version": "1.2.0",
            "_view_name": "LayoutView",
            "align_content": null,
            "align_items": null,
            "align_self": null,
            "border": null,
            "bottom": null,
            "display": null,
            "flex": null,
            "flex_flow": null,
            "grid_area": null,
            "grid_auto_columns": null,
            "grid_auto_flow": null,
            "grid_auto_rows": null,
            "grid_column": null,
            "grid_gap": null,
            "grid_row": null,
            "grid_template_areas": null,
            "grid_template_columns": null,
            "grid_template_rows": null,
            "height": null,
            "justify_content": null,
            "justify_items": null,
            "left": null,
            "margin": null,
            "max_height": null,
            "max_width": null,
            "min_height": null,
            "min_width": null,
            "object_fit": null,
            "object_position": null,
            "order": null,
            "overflow": null,
            "overflow_x": null,
            "overflow_y": null,
            "padding": null,
            "right": null,
            "top": null,
            "visibility": null,
            "width": null
          }
        },
        "d36e1b1b561244a29e6261e2fdb04cf0": {
          "model_module": "@jupyter-widgets/controls",
          "model_name": "DescriptionStyleModel",
          "model_module_version": "1.5.0",
          "state": {
            "_model_module": "@jupyter-widgets/controls",
            "_model_module_version": "1.5.0",
            "_model_name": "DescriptionStyleModel",
            "_view_count": null,
            "_view_module": "@jupyter-widgets/base",
            "_view_module_version": "1.2.0",
            "_view_name": "StyleView",
            "description_width": ""
          }
        },
        "16c04afdfeb848b4ae887d4f2f54a28c": {
          "model_module": "@jupyter-widgets/controls",
          "model_name": "HBoxModel",
          "model_module_version": "1.5.0",
          "state": {
            "_dom_classes": [],
            "_model_module": "@jupyter-widgets/controls",
            "_model_module_version": "1.5.0",
            "_model_name": "HBoxModel",
            "_view_count": null,
            "_view_module": "@jupyter-widgets/controls",
            "_view_module_version": "1.5.0",
            "_view_name": "HBoxView",
            "box_style": "",
            "children": [
              "IPY_MODEL_3f2d867677e64f2192c09dde5378bf11",
              "IPY_MODEL_f3f09a593bc8403e8759ff7277e03721",
              "IPY_MODEL_b7b56ad8315e4fe19a714673bb14a76e"
            ],
            "layout": "IPY_MODEL_ab81b006902d4cb9b19824b03425ddc0"
          }
        },
        "3f2d867677e64f2192c09dde5378bf11": {
          "model_module": "@jupyter-widgets/controls",
          "model_name": "HTMLModel",
          "model_module_version": "1.5.0",
          "state": {
            "_dom_classes": [],
            "_model_module": "@jupyter-widgets/controls",
            "_model_module_version": "1.5.0",
            "_model_name": "HTMLModel",
            "_view_count": null,
            "_view_module": "@jupyter-widgets/controls",
            "_view_module_version": "1.5.0",
            "_view_name": "HTMLView",
            "description": "",
            "description_tooltip": null,
            "layout": "IPY_MODEL_0d83dfc4e6f54134a90dddacde1af45d",
            "placeholder": "​",
            "style": "IPY_MODEL_186a3ffc43844e2891d62c704e5d3bd6",
            "value": "tokenizer_config.json: 100%"
          }
        },
        "f3f09a593bc8403e8759ff7277e03721": {
          "model_module": "@jupyter-widgets/controls",
          "model_name": "FloatProgressModel",
          "model_module_version": "1.5.0",
          "state": {
            "_dom_classes": [],
            "_model_module": "@jupyter-widgets/controls",
            "_model_module_version": "1.5.0",
            "_model_name": "FloatProgressModel",
            "_view_count": null,
            "_view_module": "@jupyter-widgets/controls",
            "_view_module_version": "1.5.0",
            "_view_name": "ProgressView",
            "bar_style": "success",
            "description": "",
            "description_tooltip": null,
            "layout": "IPY_MODEL_8b2f709a0ff54e218a56ef6098f40ee7",
            "max": 29,
            "min": 0,
            "orientation": "horizontal",
            "style": "IPY_MODEL_d2fac6e80e63489b863d4208ad2c4b0c",
            "value": 29
          }
        },
        "b7b56ad8315e4fe19a714673bb14a76e": {
          "model_module": "@jupyter-widgets/controls",
          "model_name": "HTMLModel",
          "model_module_version": "1.5.0",
          "state": {
            "_dom_classes": [],
            "_model_module": "@jupyter-widgets/controls",
            "_model_module_version": "1.5.0",
            "_model_name": "HTMLModel",
            "_view_count": null,
            "_view_module": "@jupyter-widgets/controls",
            "_view_module_version": "1.5.0",
            "_view_name": "HTMLView",
            "description": "",
            "description_tooltip": null,
            "layout": "IPY_MODEL_ee4a56bab9794ffab1f43685fd45b5fc",
            "placeholder": "​",
            "style": "IPY_MODEL_257f3fa8d9654b99940cbfc46ea45df0",
            "value": " 29.0/29.0 [00:00&lt;00:00, 571B/s]"
          }
        },
        "ab81b006902d4cb9b19824b03425ddc0": {
          "model_module": "@jupyter-widgets/base",
          "model_name": "LayoutModel",
          "model_module_version": "1.2.0",
          "state": {
            "_model_module": "@jupyter-widgets/base",
            "_model_module_version": "1.2.0",
            "_model_name": "LayoutModel",
            "_view_count": null,
            "_view_module": "@jupyter-widgets/base",
            "_view_module_version": "1.2.0",
            "_view_name": "LayoutView",
            "align_content": null,
            "align_items": null,
            "align_self": null,
            "border": null,
            "bottom": null,
            "display": null,
            "flex": null,
            "flex_flow": null,
            "grid_area": null,
            "grid_auto_columns": null,
            "grid_auto_flow": null,
            "grid_auto_rows": null,
            "grid_column": null,
            "grid_gap": null,
            "grid_row": null,
            "grid_template_areas": null,
            "grid_template_columns": null,
            "grid_template_rows": null,
            "height": null,
            "justify_content": null,
            "justify_items": null,
            "left": null,
            "margin": null,
            "max_height": null,
            "max_width": null,
            "min_height": null,
            "min_width": null,
            "object_fit": null,
            "object_position": null,
            "order": null,
            "overflow": null,
            "overflow_x": null,
            "overflow_y": null,
            "padding": null,
            "right": null,
            "top": null,
            "visibility": null,
            "width": null
          }
        },
        "0d83dfc4e6f54134a90dddacde1af45d": {
          "model_module": "@jupyter-widgets/base",
          "model_name": "LayoutModel",
          "model_module_version": "1.2.0",
          "state": {
            "_model_module": "@jupyter-widgets/base",
            "_model_module_version": "1.2.0",
            "_model_name": "LayoutModel",
            "_view_count": null,
            "_view_module": "@jupyter-widgets/base",
            "_view_module_version": "1.2.0",
            "_view_name": "LayoutView",
            "align_content": null,
            "align_items": null,
            "align_self": null,
            "border": null,
            "bottom": null,
            "display": null,
            "flex": null,
            "flex_flow": null,
            "grid_area": null,
            "grid_auto_columns": null,
            "grid_auto_flow": null,
            "grid_auto_rows": null,
            "grid_column": null,
            "grid_gap": null,
            "grid_row": null,
            "grid_template_areas": null,
            "grid_template_columns": null,
            "grid_template_rows": null,
            "height": null,
            "justify_content": null,
            "justify_items": null,
            "left": null,
            "margin": null,
            "max_height": null,
            "max_width": null,
            "min_height": null,
            "min_width": null,
            "object_fit": null,
            "object_position": null,
            "order": null,
            "overflow": null,
            "overflow_x": null,
            "overflow_y": null,
            "padding": null,
            "right": null,
            "top": null,
            "visibility": null,
            "width": null
          }
        },
        "186a3ffc43844e2891d62c704e5d3bd6": {
          "model_module": "@jupyter-widgets/controls",
          "model_name": "DescriptionStyleModel",
          "model_module_version": "1.5.0",
          "state": {
            "_model_module": "@jupyter-widgets/controls",
            "_model_module_version": "1.5.0",
            "_model_name": "DescriptionStyleModel",
            "_view_count": null,
            "_view_module": "@jupyter-widgets/base",
            "_view_module_version": "1.2.0",
            "_view_name": "StyleView",
            "description_width": ""
          }
        },
        "8b2f709a0ff54e218a56ef6098f40ee7": {
          "model_module": "@jupyter-widgets/base",
          "model_name": "LayoutModel",
          "model_module_version": "1.2.0",
          "state": {
            "_model_module": "@jupyter-widgets/base",
            "_model_module_version": "1.2.0",
            "_model_name": "LayoutModel",
            "_view_count": null,
            "_view_module": "@jupyter-widgets/base",
            "_view_module_version": "1.2.0",
            "_view_name": "LayoutView",
            "align_content": null,
            "align_items": null,
            "align_self": null,
            "border": null,
            "bottom": null,
            "display": null,
            "flex": null,
            "flex_flow": null,
            "grid_area": null,
            "grid_auto_columns": null,
            "grid_auto_flow": null,
            "grid_auto_rows": null,
            "grid_column": null,
            "grid_gap": null,
            "grid_row": null,
            "grid_template_areas": null,
            "grid_template_columns": null,
            "grid_template_rows": null,
            "height": null,
            "justify_content": null,
            "justify_items": null,
            "left": null,
            "margin": null,
            "max_height": null,
            "max_width": null,
            "min_height": null,
            "min_width": null,
            "object_fit": null,
            "object_position": null,
            "order": null,
            "overflow": null,
            "overflow_x": null,
            "overflow_y": null,
            "padding": null,
            "right": null,
            "top": null,
            "visibility": null,
            "width": null
          }
        },
        "d2fac6e80e63489b863d4208ad2c4b0c": {
          "model_module": "@jupyter-widgets/controls",
          "model_name": "ProgressStyleModel",
          "model_module_version": "1.5.0",
          "state": {
            "_model_module": "@jupyter-widgets/controls",
            "_model_module_version": "1.5.0",
            "_model_name": "ProgressStyleModel",
            "_view_count": null,
            "_view_module": "@jupyter-widgets/base",
            "_view_module_version": "1.2.0",
            "_view_name": "StyleView",
            "bar_color": null,
            "description_width": ""
          }
        },
        "ee4a56bab9794ffab1f43685fd45b5fc": {
          "model_module": "@jupyter-widgets/base",
          "model_name": "LayoutModel",
          "model_module_version": "1.2.0",
          "state": {
            "_model_module": "@jupyter-widgets/base",
            "_model_module_version": "1.2.0",
            "_model_name": "LayoutModel",
            "_view_count": null,
            "_view_module": "@jupyter-widgets/base",
            "_view_module_version": "1.2.0",
            "_view_name": "LayoutView",
            "align_content": null,
            "align_items": null,
            "align_self": null,
            "border": null,
            "bottom": null,
            "display": null,
            "flex": null,
            "flex_flow": null,
            "grid_area": null,
            "grid_auto_columns": null,
            "grid_auto_flow": null,
            "grid_auto_rows": null,
            "grid_column": null,
            "grid_gap": null,
            "grid_row": null,
            "grid_template_areas": null,
            "grid_template_columns": null,
            "grid_template_rows": null,
            "height": null,
            "justify_content": null,
            "justify_items": null,
            "left": null,
            "margin": null,
            "max_height": null,
            "max_width": null,
            "min_height": null,
            "min_width": null,
            "object_fit": null,
            "object_position": null,
            "order": null,
            "overflow": null,
            "overflow_x": null,
            "overflow_y": null,
            "padding": null,
            "right": null,
            "top": null,
            "visibility": null,
            "width": null
          }
        },
        "257f3fa8d9654b99940cbfc46ea45df0": {
          "model_module": "@jupyter-widgets/controls",
          "model_name": "DescriptionStyleModel",
          "model_module_version": "1.5.0",
          "state": {
            "_model_module": "@jupyter-widgets/controls",
            "_model_module_version": "1.5.0",
            "_model_name": "DescriptionStyleModel",
            "_view_count": null,
            "_view_module": "@jupyter-widgets/base",
            "_view_module_version": "1.2.0",
            "_view_name": "StyleView",
            "description_width": ""
          }
        },
        "807075e910834206b83625766bc846ab": {
          "model_module": "@jupyter-widgets/controls",
          "model_name": "HBoxModel",
          "model_module_version": "1.5.0",
          "state": {
            "_dom_classes": [],
            "_model_module": "@jupyter-widgets/controls",
            "_model_module_version": "1.5.0",
            "_model_name": "HBoxModel",
            "_view_count": null,
            "_view_module": "@jupyter-widgets/controls",
            "_view_module_version": "1.5.0",
            "_view_name": "HBoxView",
            "box_style": "",
            "children": [
              "IPY_MODEL_803b3aa07f664e9bbd33f10a2965bbf0",
              "IPY_MODEL_4fac2aabb2b242fba4da575229743bd2",
              "IPY_MODEL_e5616e24b94c49088e5c49620d5525a3"
            ],
            "layout": "IPY_MODEL_28f070e4df854e9793fc5bceca3f80a2"
          }
        },
        "803b3aa07f664e9bbd33f10a2965bbf0": {
          "model_module": "@jupyter-widgets/controls",
          "model_name": "HTMLModel",
          "model_module_version": "1.5.0",
          "state": {
            "_dom_classes": [],
            "_model_module": "@jupyter-widgets/controls",
            "_model_module_version": "1.5.0",
            "_model_name": "HTMLModel",
            "_view_count": null,
            "_view_module": "@jupyter-widgets/controls",
            "_view_module_version": "1.5.0",
            "_view_name": "HTMLView",
            "description": "",
            "description_tooltip": null,
            "layout": "IPY_MODEL_c703103656a140df9508b0c338732fcc",
            "placeholder": "​",
            "style": "IPY_MODEL_e79699c15440426ea01bc69c6a5b8fc4",
            "value": "vocab.txt: 100%"
          }
        },
        "4fac2aabb2b242fba4da575229743bd2": {
          "model_module": "@jupyter-widgets/controls",
          "model_name": "FloatProgressModel",
          "model_module_version": "1.5.0",
          "state": {
            "_dom_classes": [],
            "_model_module": "@jupyter-widgets/controls",
            "_model_module_version": "1.5.0",
            "_model_name": "FloatProgressModel",
            "_view_count": null,
            "_view_module": "@jupyter-widgets/controls",
            "_view_module_version": "1.5.0",
            "_view_name": "ProgressView",
            "bar_style": "success",
            "description": "",
            "description_tooltip": null,
            "layout": "IPY_MODEL_277b0f0e0626473d9e76a0cc4f67843e",
            "max": 213450,
            "min": 0,
            "orientation": "horizontal",
            "style": "IPY_MODEL_96ff9466dac04794a527cfbb06f084ff",
            "value": 213450
          }
        },
        "e5616e24b94c49088e5c49620d5525a3": {
          "model_module": "@jupyter-widgets/controls",
          "model_name": "HTMLModel",
          "model_module_version": "1.5.0",
          "state": {
            "_dom_classes": [],
            "_model_module": "@jupyter-widgets/controls",
            "_model_module_version": "1.5.0",
            "_model_name": "HTMLModel",
            "_view_count": null,
            "_view_module": "@jupyter-widgets/controls",
            "_view_module_version": "1.5.0",
            "_view_name": "HTMLView",
            "description": "",
            "description_tooltip": null,
            "layout": "IPY_MODEL_cc8930baee9541489680c305cff83759",
            "placeholder": "​",
            "style": "IPY_MODEL_e297d25db3694e739fc69ce8919e4eaf",
            "value": " 213k/213k [00:00&lt;00:00, 549kB/s]"
          }
        },
        "28f070e4df854e9793fc5bceca3f80a2": {
          "model_module": "@jupyter-widgets/base",
          "model_name": "LayoutModel",
          "model_module_version": "1.2.0",
          "state": {
            "_model_module": "@jupyter-widgets/base",
            "_model_module_version": "1.2.0",
            "_model_name": "LayoutModel",
            "_view_count": null,
            "_view_module": "@jupyter-widgets/base",
            "_view_module_version": "1.2.0",
            "_view_name": "LayoutView",
            "align_content": null,
            "align_items": null,
            "align_self": null,
            "border": null,
            "bottom": null,
            "display": null,
            "flex": null,
            "flex_flow": null,
            "grid_area": null,
            "grid_auto_columns": null,
            "grid_auto_flow": null,
            "grid_auto_rows": null,
            "grid_column": null,
            "grid_gap": null,
            "grid_row": null,
            "grid_template_areas": null,
            "grid_template_columns": null,
            "grid_template_rows": null,
            "height": null,
            "justify_content": null,
            "justify_items": null,
            "left": null,
            "margin": null,
            "max_height": null,
            "max_width": null,
            "min_height": null,
            "min_width": null,
            "object_fit": null,
            "object_position": null,
            "order": null,
            "overflow": null,
            "overflow_x": null,
            "overflow_y": null,
            "padding": null,
            "right": null,
            "top": null,
            "visibility": null,
            "width": null
          }
        },
        "c703103656a140df9508b0c338732fcc": {
          "model_module": "@jupyter-widgets/base",
          "model_name": "LayoutModel",
          "model_module_version": "1.2.0",
          "state": {
            "_model_module": "@jupyter-widgets/base",
            "_model_module_version": "1.2.0",
            "_model_name": "LayoutModel",
            "_view_count": null,
            "_view_module": "@jupyter-widgets/base",
            "_view_module_version": "1.2.0",
            "_view_name": "LayoutView",
            "align_content": null,
            "align_items": null,
            "align_self": null,
            "border": null,
            "bottom": null,
            "display": null,
            "flex": null,
            "flex_flow": null,
            "grid_area": null,
            "grid_auto_columns": null,
            "grid_auto_flow": null,
            "grid_auto_rows": null,
            "grid_column": null,
            "grid_gap": null,
            "grid_row": null,
            "grid_template_areas": null,
            "grid_template_columns": null,
            "grid_template_rows": null,
            "height": null,
            "justify_content": null,
            "justify_items": null,
            "left": null,
            "margin": null,
            "max_height": null,
            "max_width": null,
            "min_height": null,
            "min_width": null,
            "object_fit": null,
            "object_position": null,
            "order": null,
            "overflow": null,
            "overflow_x": null,
            "overflow_y": null,
            "padding": null,
            "right": null,
            "top": null,
            "visibility": null,
            "width": null
          }
        },
        "e79699c15440426ea01bc69c6a5b8fc4": {
          "model_module": "@jupyter-widgets/controls",
          "model_name": "DescriptionStyleModel",
          "model_module_version": "1.5.0",
          "state": {
            "_model_module": "@jupyter-widgets/controls",
            "_model_module_version": "1.5.0",
            "_model_name": "DescriptionStyleModel",
            "_view_count": null,
            "_view_module": "@jupyter-widgets/base",
            "_view_module_version": "1.2.0",
            "_view_name": "StyleView",
            "description_width": ""
          }
        },
        "277b0f0e0626473d9e76a0cc4f67843e": {
          "model_module": "@jupyter-widgets/base",
          "model_name": "LayoutModel",
          "model_module_version": "1.2.0",
          "state": {
            "_model_module": "@jupyter-widgets/base",
            "_model_module_version": "1.2.0",
            "_model_name": "LayoutModel",
            "_view_count": null,
            "_view_module": "@jupyter-widgets/base",
            "_view_module_version": "1.2.0",
            "_view_name": "LayoutView",
            "align_content": null,
            "align_items": null,
            "align_self": null,
            "border": null,
            "bottom": null,
            "display": null,
            "flex": null,
            "flex_flow": null,
            "grid_area": null,
            "grid_auto_columns": null,
            "grid_auto_flow": null,
            "grid_auto_rows": null,
            "grid_column": null,
            "grid_gap": null,
            "grid_row": null,
            "grid_template_areas": null,
            "grid_template_columns": null,
            "grid_template_rows": null,
            "height": null,
            "justify_content": null,
            "justify_items": null,
            "left": null,
            "margin": null,
            "max_height": null,
            "max_width": null,
            "min_height": null,
            "min_width": null,
            "object_fit": null,
            "object_position": null,
            "order": null,
            "overflow": null,
            "overflow_x": null,
            "overflow_y": null,
            "padding": null,
            "right": null,
            "top": null,
            "visibility": null,
            "width": null
          }
        },
        "96ff9466dac04794a527cfbb06f084ff": {
          "model_module": "@jupyter-widgets/controls",
          "model_name": "ProgressStyleModel",
          "model_module_version": "1.5.0",
          "state": {
            "_model_module": "@jupyter-widgets/controls",
            "_model_module_version": "1.5.0",
            "_model_name": "ProgressStyleModel",
            "_view_count": null,
            "_view_module": "@jupyter-widgets/base",
            "_view_module_version": "1.2.0",
            "_view_name": "StyleView",
            "bar_color": null,
            "description_width": ""
          }
        },
        "cc8930baee9541489680c305cff83759": {
          "model_module": "@jupyter-widgets/base",
          "model_name": "LayoutModel",
          "model_module_version": "1.2.0",
          "state": {
            "_model_module": "@jupyter-widgets/base",
            "_model_module_version": "1.2.0",
            "_model_name": "LayoutModel",
            "_view_count": null,
            "_view_module": "@jupyter-widgets/base",
            "_view_module_version": "1.2.0",
            "_view_name": "LayoutView",
            "align_content": null,
            "align_items": null,
            "align_self": null,
            "border": null,
            "bottom": null,
            "display": null,
            "flex": null,
            "flex_flow": null,
            "grid_area": null,
            "grid_auto_columns": null,
            "grid_auto_flow": null,
            "grid_auto_rows": null,
            "grid_column": null,
            "grid_gap": null,
            "grid_row": null,
            "grid_template_areas": null,
            "grid_template_columns": null,
            "grid_template_rows": null,
            "height": null,
            "justify_content": null,
            "justify_items": null,
            "left": null,
            "margin": null,
            "max_height": null,
            "max_width": null,
            "min_height": null,
            "min_width": null,
            "object_fit": null,
            "object_position": null,
            "order": null,
            "overflow": null,
            "overflow_x": null,
            "overflow_y": null,
            "padding": null,
            "right": null,
            "top": null,
            "visibility": null,
            "width": null
          }
        },
        "e297d25db3694e739fc69ce8919e4eaf": {
          "model_module": "@jupyter-widgets/controls",
          "model_name": "DescriptionStyleModel",
          "model_module_version": "1.5.0",
          "state": {
            "_model_module": "@jupyter-widgets/controls",
            "_model_module_version": "1.5.0",
            "_model_name": "DescriptionStyleModel",
            "_view_count": null,
            "_view_module": "@jupyter-widgets/base",
            "_view_module_version": "1.2.0",
            "_view_name": "StyleView",
            "description_width": ""
          }
        },
        "f2d014f715d44dc9a82d060bbe55e65e": {
          "model_module": "@jupyter-widgets/controls",
          "model_name": "HBoxModel",
          "model_module_version": "1.5.0",
          "state": {
            "_dom_classes": [],
            "_model_module": "@jupyter-widgets/controls",
            "_model_module_version": "1.5.0",
            "_model_name": "HBoxModel",
            "_view_count": null,
            "_view_module": "@jupyter-widgets/controls",
            "_view_module_version": "1.5.0",
            "_view_name": "HBoxView",
            "box_style": "",
            "children": [
              "IPY_MODEL_439be8e029014b52971444a3125836fc",
              "IPY_MODEL_e03179003bde406fa7be233240c3200e",
              "IPY_MODEL_41729c33275146bc99baa1fc9169439b"
            ],
            "layout": "IPY_MODEL_9e72918113284546bb66028469d3bc58"
          }
        },
        "439be8e029014b52971444a3125836fc": {
          "model_module": "@jupyter-widgets/controls",
          "model_name": "HTMLModel",
          "model_module_version": "1.5.0",
          "state": {
            "_dom_classes": [],
            "_model_module": "@jupyter-widgets/controls",
            "_model_module_version": "1.5.0",
            "_model_name": "HTMLModel",
            "_view_count": null,
            "_view_module": "@jupyter-widgets/controls",
            "_view_module_version": "1.5.0",
            "_view_name": "HTMLView",
            "description": "",
            "description_tooltip": null,
            "layout": "IPY_MODEL_6a87ee2c6e3c421aa740f8d9044cb640",
            "placeholder": "​",
            "style": "IPY_MODEL_bc2babf094ac4139964ad9fa6aca5aef",
            "value": "tokenizer.json: 100%"
          }
        },
        "e03179003bde406fa7be233240c3200e": {
          "model_module": "@jupyter-widgets/controls",
          "model_name": "FloatProgressModel",
          "model_module_version": "1.5.0",
          "state": {
            "_dom_classes": [],
            "_model_module": "@jupyter-widgets/controls",
            "_model_module_version": "1.5.0",
            "_model_name": "FloatProgressModel",
            "_view_count": null,
            "_view_module": "@jupyter-widgets/controls",
            "_view_module_version": "1.5.0",
            "_view_name": "ProgressView",
            "bar_style": "success",
            "description": "",
            "description_tooltip": null,
            "layout": "IPY_MODEL_179d65700091486db2d20fbd592755d5",
            "max": 435797,
            "min": 0,
            "orientation": "horizontal",
            "style": "IPY_MODEL_589fbad3f021444894ee0c52e0241f3a",
            "value": 435797
          }
        },
        "41729c33275146bc99baa1fc9169439b": {
          "model_module": "@jupyter-widgets/controls",
          "model_name": "HTMLModel",
          "model_module_version": "1.5.0",
          "state": {
            "_dom_classes": [],
            "_model_module": "@jupyter-widgets/controls",
            "_model_module_version": "1.5.0",
            "_model_name": "HTMLModel",
            "_view_count": null,
            "_view_module": "@jupyter-widgets/controls",
            "_view_module_version": "1.5.0",
            "_view_name": "HTMLView",
            "description": "",
            "description_tooltip": null,
            "layout": "IPY_MODEL_4aea98e4995a4879aef9eef89b9a5a2d",
            "placeholder": "​",
            "style": "IPY_MODEL_4d6dfe476db14e5dbd62d1780b81faa8",
            "value": " 436k/436k [00:00&lt;00:00, 746kB/s]"
          }
        },
        "9e72918113284546bb66028469d3bc58": {
          "model_module": "@jupyter-widgets/base",
          "model_name": "LayoutModel",
          "model_module_version": "1.2.0",
          "state": {
            "_model_module": "@jupyter-widgets/base",
            "_model_module_version": "1.2.0",
            "_model_name": "LayoutModel",
            "_view_count": null,
            "_view_module": "@jupyter-widgets/base",
            "_view_module_version": "1.2.0",
            "_view_name": "LayoutView",
            "align_content": null,
            "align_items": null,
            "align_self": null,
            "border": null,
            "bottom": null,
            "display": null,
            "flex": null,
            "flex_flow": null,
            "grid_area": null,
            "grid_auto_columns": null,
            "grid_auto_flow": null,
            "grid_auto_rows": null,
            "grid_column": null,
            "grid_gap": null,
            "grid_row": null,
            "grid_template_areas": null,
            "grid_template_columns": null,
            "grid_template_rows": null,
            "height": null,
            "justify_content": null,
            "justify_items": null,
            "left": null,
            "margin": null,
            "max_height": null,
            "max_width": null,
            "min_height": null,
            "min_width": null,
            "object_fit": null,
            "object_position": null,
            "order": null,
            "overflow": null,
            "overflow_x": null,
            "overflow_y": null,
            "padding": null,
            "right": null,
            "top": null,
            "visibility": null,
            "width": null
          }
        },
        "6a87ee2c6e3c421aa740f8d9044cb640": {
          "model_module": "@jupyter-widgets/base",
          "model_name": "LayoutModel",
          "model_module_version": "1.2.0",
          "state": {
            "_model_module": "@jupyter-widgets/base",
            "_model_module_version": "1.2.0",
            "_model_name": "LayoutModel",
            "_view_count": null,
            "_view_module": "@jupyter-widgets/base",
            "_view_module_version": "1.2.0",
            "_view_name": "LayoutView",
            "align_content": null,
            "align_items": null,
            "align_self": null,
            "border": null,
            "bottom": null,
            "display": null,
            "flex": null,
            "flex_flow": null,
            "grid_area": null,
            "grid_auto_columns": null,
            "grid_auto_flow": null,
            "grid_auto_rows": null,
            "grid_column": null,
            "grid_gap": null,
            "grid_row": null,
            "grid_template_areas": null,
            "grid_template_columns": null,
            "grid_template_rows": null,
            "height": null,
            "justify_content": null,
            "justify_items": null,
            "left": null,
            "margin": null,
            "max_height": null,
            "max_width": null,
            "min_height": null,
            "min_width": null,
            "object_fit": null,
            "object_position": null,
            "order": null,
            "overflow": null,
            "overflow_x": null,
            "overflow_y": null,
            "padding": null,
            "right": null,
            "top": null,
            "visibility": null,
            "width": null
          }
        },
        "bc2babf094ac4139964ad9fa6aca5aef": {
          "model_module": "@jupyter-widgets/controls",
          "model_name": "DescriptionStyleModel",
          "model_module_version": "1.5.0",
          "state": {
            "_model_module": "@jupyter-widgets/controls",
            "_model_module_version": "1.5.0",
            "_model_name": "DescriptionStyleModel",
            "_view_count": null,
            "_view_module": "@jupyter-widgets/base",
            "_view_module_version": "1.2.0",
            "_view_name": "StyleView",
            "description_width": ""
          }
        },
        "179d65700091486db2d20fbd592755d5": {
          "model_module": "@jupyter-widgets/base",
          "model_name": "LayoutModel",
          "model_module_version": "1.2.0",
          "state": {
            "_model_module": "@jupyter-widgets/base",
            "_model_module_version": "1.2.0",
            "_model_name": "LayoutModel",
            "_view_count": null,
            "_view_module": "@jupyter-widgets/base",
            "_view_module_version": "1.2.0",
            "_view_name": "LayoutView",
            "align_content": null,
            "align_items": null,
            "align_self": null,
            "border": null,
            "bottom": null,
            "display": null,
            "flex": null,
            "flex_flow": null,
            "grid_area": null,
            "grid_auto_columns": null,
            "grid_auto_flow": null,
            "grid_auto_rows": null,
            "grid_column": null,
            "grid_gap": null,
            "grid_row": null,
            "grid_template_areas": null,
            "grid_template_columns": null,
            "grid_template_rows": null,
            "height": null,
            "justify_content": null,
            "justify_items": null,
            "left": null,
            "margin": null,
            "max_height": null,
            "max_width": null,
            "min_height": null,
            "min_width": null,
            "object_fit": null,
            "object_position": null,
            "order": null,
            "overflow": null,
            "overflow_x": null,
            "overflow_y": null,
            "padding": null,
            "right": null,
            "top": null,
            "visibility": null,
            "width": null
          }
        },
        "589fbad3f021444894ee0c52e0241f3a": {
          "model_module": "@jupyter-widgets/controls",
          "model_name": "ProgressStyleModel",
          "model_module_version": "1.5.0",
          "state": {
            "_model_module": "@jupyter-widgets/controls",
            "_model_module_version": "1.5.0",
            "_model_name": "ProgressStyleModel",
            "_view_count": null,
            "_view_module": "@jupyter-widgets/base",
            "_view_module_version": "1.2.0",
            "_view_name": "StyleView",
            "bar_color": null,
            "description_width": ""
          }
        },
        "4aea98e4995a4879aef9eef89b9a5a2d": {
          "model_module": "@jupyter-widgets/base",
          "model_name": "LayoutModel",
          "model_module_version": "1.2.0",
          "state": {
            "_model_module": "@jupyter-widgets/base",
            "_model_module_version": "1.2.0",
            "_model_name": "LayoutModel",
            "_view_count": null,
            "_view_module": "@jupyter-widgets/base",
            "_view_module_version": "1.2.0",
            "_view_name": "LayoutView",
            "align_content": null,
            "align_items": null,
            "align_self": null,
            "border": null,
            "bottom": null,
            "display": null,
            "flex": null,
            "flex_flow": null,
            "grid_area": null,
            "grid_auto_columns": null,
            "grid_auto_flow": null,
            "grid_auto_rows": null,
            "grid_column": null,
            "grid_gap": null,
            "grid_row": null,
            "grid_template_areas": null,
            "grid_template_columns": null,
            "grid_template_rows": null,
            "height": null,
            "justify_content": null,
            "justify_items": null,
            "left": null,
            "margin": null,
            "max_height": null,
            "max_width": null,
            "min_height": null,
            "min_width": null,
            "object_fit": null,
            "object_position": null,
            "order": null,
            "overflow": null,
            "overflow_x": null,
            "overflow_y": null,
            "padding": null,
            "right": null,
            "top": null,
            "visibility": null,
            "width": null
          }
        },
        "4d6dfe476db14e5dbd62d1780b81faa8": {
          "model_module": "@jupyter-widgets/controls",
          "model_name": "DescriptionStyleModel",
          "model_module_version": "1.5.0",
          "state": {
            "_model_module": "@jupyter-widgets/controls",
            "_model_module_version": "1.5.0",
            "_model_name": "DescriptionStyleModel",
            "_view_count": null,
            "_view_module": "@jupyter-widgets/base",
            "_view_module_version": "1.2.0",
            "_view_name": "StyleView",
            "description_width": ""
          }
        }
      }
    }
  },
  "cells": [
    {
      "cell_type": "markdown",
      "source": [
        "### tool 설치"
      ],
      "metadata": {
        "id": "ogiUiokS1fV9"
      }
    },
    {
      "cell_type": "code",
      "execution_count": null,
      "metadata": {
        "colab": {
          "base_uri": "https://localhost:8080/"
        },
        "id": "nc86EpWT1FWV",
        "outputId": "118a16b0-ffb4-49dc-87df-87e064789f5d"
      },
      "outputs": [
        {
          "output_type": "stream",
          "name": "stdout",
          "text": [
            "Collecting datasets\n",
            "  Downloading datasets-2.16.1-py3-none-any.whl (507 kB)\n",
            "\u001b[2K     \u001b[90m━━━━━━━━━━━━━━━━━━━━━━━━━━━━━━━━━━━━━━━━\u001b[0m \u001b[32m507.1/507.1 kB\u001b[0m \u001b[31m5.5 MB/s\u001b[0m eta \u001b[36m0:00:00\u001b[0m\n",
            "\u001b[?25hCollecting evaluate\n",
            "  Downloading evaluate-0.4.1-py3-none-any.whl (84 kB)\n",
            "\u001b[2K     \u001b[90m━━━━━━━━━━━━━━━━━━━━━━━━━━━━━━━━━━━━━━━━\u001b[0m \u001b[32m84.1/84.1 kB\u001b[0m \u001b[31m5.6 MB/s\u001b[0m eta \u001b[36m0:00:00\u001b[0m\n",
            "\u001b[?25hRequirement already satisfied: transformers[sentencepiece] in /usr/local/lib/python3.10/dist-packages (4.35.2)\n",
            "Requirement already satisfied: filelock in /usr/local/lib/python3.10/dist-packages (from datasets) (3.13.1)\n",
            "Requirement already satisfied: numpy>=1.17 in /usr/local/lib/python3.10/dist-packages (from datasets) (1.23.5)\n",
            "Requirement already satisfied: pyarrow>=8.0.0 in /usr/local/lib/python3.10/dist-packages (from datasets) (10.0.1)\n",
            "Requirement already satisfied: pyarrow-hotfix in /usr/local/lib/python3.10/dist-packages (from datasets) (0.6)\n",
            "Collecting dill<0.3.8,>=0.3.0 (from datasets)\n",
            "  Downloading dill-0.3.7-py3-none-any.whl (115 kB)\n",
            "\u001b[2K     \u001b[90m━━━━━━━━━━━━━━━━━━━━━━━━━━━━━━━━━━━━━━━━\u001b[0m \u001b[32m115.3/115.3 kB\u001b[0m \u001b[31m12.3 MB/s\u001b[0m eta \u001b[36m0:00:00\u001b[0m\n",
            "\u001b[?25hRequirement already satisfied: pandas in /usr/local/lib/python3.10/dist-packages (from datasets) (1.5.3)\n",
            "Requirement already satisfied: requests>=2.19.0 in /usr/local/lib/python3.10/dist-packages (from datasets) (2.31.0)\n",
            "Requirement already satisfied: tqdm>=4.62.1 in /usr/local/lib/python3.10/dist-packages (from datasets) (4.66.1)\n",
            "Requirement already satisfied: xxhash in /usr/local/lib/python3.10/dist-packages (from datasets) (3.4.1)\n",
            "Collecting multiprocess (from datasets)\n",
            "  Downloading multiprocess-0.70.16-py310-none-any.whl (134 kB)\n",
            "\u001b[2K     \u001b[90m━━━━━━━━━━━━━━━━━━━━━━━━━━━━━━━━━━━━━━━━\u001b[0m \u001b[32m134.8/134.8 kB\u001b[0m \u001b[31m10.3 MB/s\u001b[0m eta \u001b[36m0:00:00\u001b[0m\n",
            "\u001b[?25hRequirement already satisfied: fsspec[http]<=2023.10.0,>=2023.1.0 in /usr/local/lib/python3.10/dist-packages (from datasets) (2023.6.0)\n",
            "Requirement already satisfied: aiohttp in /usr/local/lib/python3.10/dist-packages (from datasets) (3.9.1)\n",
            "Requirement already satisfied: huggingface-hub>=0.19.4 in /usr/local/lib/python3.10/dist-packages (from datasets) (0.20.3)\n",
            "Requirement already satisfied: packaging in /usr/local/lib/python3.10/dist-packages (from datasets) (23.2)\n",
            "Requirement already satisfied: pyyaml>=5.1 in /usr/local/lib/python3.10/dist-packages (from datasets) (6.0.1)\n",
            "Collecting responses<0.19 (from evaluate)\n",
            "  Downloading responses-0.18.0-py3-none-any.whl (38 kB)\n",
            "Requirement already satisfied: regex!=2019.12.17 in /usr/local/lib/python3.10/dist-packages (from transformers[sentencepiece]) (2023.6.3)\n",
            "Requirement already satisfied: tokenizers<0.19,>=0.14 in /usr/local/lib/python3.10/dist-packages (from transformers[sentencepiece]) (0.15.1)\n",
            "Requirement already satisfied: safetensors>=0.3.1 in /usr/local/lib/python3.10/dist-packages (from transformers[sentencepiece]) (0.4.1)\n",
            "Collecting sentencepiece!=0.1.92,>=0.1.91 (from transformers[sentencepiece])\n",
            "  Downloading sentencepiece-0.1.99-cp310-cp310-manylinux_2_17_x86_64.manylinux2014_x86_64.whl (1.3 MB)\n",
            "\u001b[2K     \u001b[90m━━━━━━━━━━━━━━━━━━━━━━━━━━━━━━━━━━━━━━━━\u001b[0m \u001b[32m1.3/1.3 MB\u001b[0m \u001b[31m14.8 MB/s\u001b[0m eta \u001b[36m0:00:00\u001b[0m\n",
            "\u001b[?25hRequirement already satisfied: protobuf in /usr/local/lib/python3.10/dist-packages (from transformers[sentencepiece]) (3.20.3)\n",
            "Requirement already satisfied: attrs>=17.3.0 in /usr/local/lib/python3.10/dist-packages (from aiohttp->datasets) (23.2.0)\n",
            "Requirement already satisfied: multidict<7.0,>=4.5 in /usr/local/lib/python3.10/dist-packages (from aiohttp->datasets) (6.0.4)\n",
            "Requirement already satisfied: yarl<2.0,>=1.0 in /usr/local/lib/python3.10/dist-packages (from aiohttp->datasets) (1.9.4)\n",
            "Requirement already satisfied: frozenlist>=1.1.1 in /usr/local/lib/python3.10/dist-packages (from aiohttp->datasets) (1.4.1)\n",
            "Requirement already satisfied: aiosignal>=1.1.2 in /usr/local/lib/python3.10/dist-packages (from aiohttp->datasets) (1.3.1)\n",
            "Requirement already satisfied: async-timeout<5.0,>=4.0 in /usr/local/lib/python3.10/dist-packages (from aiohttp->datasets) (4.0.3)\n",
            "Requirement already satisfied: typing-extensions>=3.7.4.3 in /usr/local/lib/python3.10/dist-packages (from huggingface-hub>=0.19.4->datasets) (4.5.0)\n",
            "Requirement already satisfied: charset-normalizer<4,>=2 in /usr/local/lib/python3.10/dist-packages (from requests>=2.19.0->datasets) (3.3.2)\n",
            "Requirement already satisfied: idna<4,>=2.5 in /usr/local/lib/python3.10/dist-packages (from requests>=2.19.0->datasets) (3.6)\n",
            "Requirement already satisfied: urllib3<3,>=1.21.1 in /usr/local/lib/python3.10/dist-packages (from requests>=2.19.0->datasets) (2.0.7)\n",
            "Requirement already satisfied: certifi>=2017.4.17 in /usr/local/lib/python3.10/dist-packages (from requests>=2.19.0->datasets) (2023.11.17)\n",
            "INFO: pip is looking at multiple versions of multiprocess to determine which version is compatible with other requirements. This could take a while.\n",
            "Collecting multiprocess (from datasets)\n",
            "  Downloading multiprocess-0.70.15-py310-none-any.whl (134 kB)\n",
            "\u001b[2K     \u001b[90m━━━━━━━━━━━━━━━━━━━━━━━━━━━━━━━━━━━━━━━━\u001b[0m \u001b[32m134.8/134.8 kB\u001b[0m \u001b[31m3.5 MB/s\u001b[0m eta \u001b[36m0:00:00\u001b[0m\n",
            "\u001b[?25hRequirement already satisfied: python-dateutil>=2.8.1 in /usr/local/lib/python3.10/dist-packages (from pandas->datasets) (2.8.2)\n",
            "Requirement already satisfied: pytz>=2020.1 in /usr/local/lib/python3.10/dist-packages (from pandas->datasets) (2023.3.post1)\n",
            "Requirement already satisfied: six>=1.5 in /usr/local/lib/python3.10/dist-packages (from python-dateutil>=2.8.1->pandas->datasets) (1.16.0)\n",
            "Installing collected packages: sentencepiece, dill, responses, multiprocess, datasets, evaluate\n",
            "Successfully installed datasets-2.16.1 dill-0.3.7 evaluate-0.4.1 multiprocess-0.70.15 responses-0.18.0 sentencepiece-0.1.99\n"
          ]
        }
      ],
      "source": [
        "!pip install datasets evaluate transformers[sentencepiece]"
      ]
    },
    {
      "cell_type": "markdown",
      "source": [
        "### Behind the pipeline"
      ],
      "metadata": {
        "id": "FCEpJD0I13t4"
      }
    },
    {
      "cell_type": "markdown",
      "source": [
        "![스크린샷 2024-01-29 오후 3.14.16.png](data:image/png;base64,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)"
      ],
      "metadata": {
        "id": "F30CLuiS1sMo"
      }
    },
    {
      "cell_type": "code",
      "source": [
        "from transformers import pipeline\n",
        "\n",
        "classifier = pipeline(\"sentiment-analysis\")\n",
        "classifier(\n",
        "    [\n",
        "        \"I've been waiting for a HuggingFace course my whole life.\",\n",
        "        \"I hate this so much!\",\n",
        "    ]\n",
        ")"
      ],
      "metadata": {
        "colab": {
          "base_uri": "https://localhost:8080/",
          "height": 346,
          "referenced_widgets": [
            "8378dc5a272544a186c202e8c7a0fe3f",
            "d008c4ed44d54f208f115621f81594ff",
            "6bd59197c4004c68833de47be523af9a",
            "732052c7468d4342985f7e5b718c8ff6",
            "03f8cd3fe76b4a349517852e338a5dca",
            "9f69c78ea7b54779a38920161e5673b5",
            "25773c96e0ad443f84f0730133dd0a4d",
            "4397c17bdf804a33bdba3849d4548333",
            "faa962c11a194ff9a4345df2c60929b6",
            "121f713eda9e47ecba7458373559eea0",
            "faea8b248b95474bb24f4664a835649b",
            "38876537d7cc4601a82e28f05f45aecd",
            "01b9bcf9041a4730afd4e4733aadf8df",
            "27d1db7804d94c7f81a17825a30e3697",
            "cca2867c2f6945998b7cd81456008cfb",
            "7ef8fc133533460cb61dff3e9324b4cb",
            "0f9e55a757e84396a986670276148fdc",
            "4f8480fdfc3f4d208c8d7d9f1f2f23ce",
            "055937ce75994d56aab7fbf6f402486f",
            "84efec6ded624ae1a1721696f4831010",
            "c227d117c4fc459e934badabbb944035",
            "b307cb704e374f679a223aa01627f863",
            "28a84e3d1c954adf815c5053909a6713",
            "f0bf2ecd3b5a41d7a7fc5f970f442cfc",
            "7292e8819f444b938c2f78b3a08b8238",
            "f5c014e029094216832552ae52ac44af",
            "9aa9351ad6534c56af962fee108188a7",
            "bdded6a44d4044098bdf9d9345ba2738",
            "fa806e5faaf34d359823a5b38bf7f2eb",
            "9589b2366550410485386a2c2f64c371",
            "340561502a044632b460600bc2018611",
            "c3938213976b440883c89b5be2abf82e",
            "6217171d2d22410c8fc5493aecc3eb11",
            "77b865d95ba7486c93b89cd129bfc825",
            "b26daf6aa9304b9aa5eaaec8334d11ee",
            "dd544354af8d47bca1f55a7ab3861261",
            "2625d66a243e476c8e1f8dda4437ecf8",
            "893ade5b6f724b81933e7fff7bca6c9e",
            "917b3602b1054ac99149efebcc80fa64",
            "158947f725cc41f6b66dcc13c19faf93",
            "6de41d781f0346d7b3bde6de155c1798",
            "023182807727483b90179eecc2d6ae7c",
            "3dc77e357bc7417a9baec592b2ff11ef",
            "dcb6a60e058c466cb8df2a98ba33aab3"
          ]
        },
        "id": "bOzKGHRY1a4B",
        "outputId": "b73ebd8b-fc21-4270-cb00-3660f3300251"
      },
      "execution_count": null,
      "outputs": [
        {
          "output_type": "stream",
          "name": "stderr",
          "text": [
            "No model was supplied, defaulted to distilbert-base-uncased-finetuned-sst-2-english and revision af0f99b (https://huggingface.co/distilbert-base-uncased-finetuned-sst-2-english).\n",
            "Using a pipeline without specifying a model name and revision in production is not recommended.\n",
            "/usr/local/lib/python3.10/dist-packages/huggingface_hub/utils/_token.py:88: UserWarning: \n",
            "The secret `HF_TOKEN` does not exist in your Colab secrets.\n",
            "To authenticate with the Hugging Face Hub, create a token in your settings tab (https://huggingface.co/settings/tokens), set it as secret in your Google Colab and restart your session.\n",
            "You will be able to reuse this secret in all of your notebooks.\n",
            "Please note that authentication is recommended but still optional to access public models or datasets.\n",
            "  warnings.warn(\n"
          ]
        },
        {
          "output_type": "display_data",
          "data": {
            "text/plain": [
              "config.json:   0%|          | 0.00/629 [00:00<?, ?B/s]"
            ],
            "application/vnd.jupyter.widget-view+json": {
              "version_major": 2,
              "version_minor": 0,
              "model_id": "8378dc5a272544a186c202e8c7a0fe3f"
            }
          },
          "metadata": {}
        },
        {
          "output_type": "display_data",
          "data": {
            "text/plain": [
              "model.safetensors:   0%|          | 0.00/268M [00:00<?, ?B/s]"
            ],
            "application/vnd.jupyter.widget-view+json": {
              "version_major": 2,
              "version_minor": 0,
              "model_id": "38876537d7cc4601a82e28f05f45aecd"
            }
          },
          "metadata": {}
        },
        {
          "output_type": "display_data",
          "data": {
            "text/plain": [
              "tokenizer_config.json:   0%|          | 0.00/48.0 [00:00<?, ?B/s]"
            ],
            "application/vnd.jupyter.widget-view+json": {
              "version_major": 2,
              "version_minor": 0,
              "model_id": "28a84e3d1c954adf815c5053909a6713"
            }
          },
          "metadata": {}
        },
        {
          "output_type": "display_data",
          "data": {
            "text/plain": [
              "vocab.txt:   0%|          | 0.00/232k [00:00<?, ?B/s]"
            ],
            "application/vnd.jupyter.widget-view+json": {
              "version_major": 2,
              "version_minor": 0,
              "model_id": "77b865d95ba7486c93b89cd129bfc825"
            }
          },
          "metadata": {}
        },
        {
          "output_type": "execute_result",
          "data": {
            "text/plain": [
              "[{'label': 'POSITIVE', 'score': 0.9598048329353333},\n",
              " {'label': 'NEGATIVE', 'score': 0.9994558691978455}]"
            ]
          },
          "metadata": {},
          "execution_count": 2
        }
      ]
    },
    {
      "cell_type": "markdown",
      "source": [
        "#### 📌 토크나이저를 사용한 전처리"
      ],
      "metadata": {
        "id": "OMvxS7nu26aq"
      }
    },
    {
      "cell_type": "markdown",
      "source": [
        "* 입력을 토큰(단어, 하위단어, 기호)로 분할함.\n",
        "* 각 토큰을 정수로 매핑.\n",
        "* 모델에 유용할 수 있는 입력을 추가."
      ],
      "metadata": {
        "id": "yaI_Y2wb4QY6"
      }
    },
    {
      "cell_type": "code",
      "source": [
        "from transformers import AutoTokenizer\n",
        "\n",
        "checkpoint = \"distilbert-base-uncased-finetuned-sst-2-english\" # 사전 훈련된 것 사용\n",
        "tokenizer = AutoTokenizer.from_pretrained(checkpoint)"
      ],
      "metadata": {
        "id": "vDgspllE1x82"
      },
      "execution_count": null,
      "outputs": []
    },
    {
      "cell_type": "code",
      "source": [
        "raw_inputs = [\n",
        "    \"I look forward to taking a master's degree program\",\n",
        "    \"The movie was so terrible\",\n",
        "    \"Let me introduce myself\",\n",
        "]\n",
        "inputs = tokenizer(raw_inputs, padding=True, truncation=True, return_tensors=\"pt\")\n",
        "print(inputs)"
      ],
      "metadata": {
        "colab": {
          "base_uri": "https://localhost:8080/"
        },
        "id": "S44AsG6x2_fb",
        "outputId": "6127adad-17e0-4e7c-f502-0cf09ae7b111"
      },
      "execution_count": 12,
      "outputs": [
        {
          "output_type": "stream",
          "name": "stdout",
          "text": [
            "{'input_ids': tensor([[ 101, 1045, 2298, 2830, 2000, 2635, 1037, 3040, 1005, 1055, 3014, 2565,\n",
            "          102],\n",
            "        [ 101, 1996, 3185, 2001, 2061, 6659,  102,    0,    0,    0,    0,    0,\n",
            "            0],\n",
            "        [ 101, 2292, 2033, 8970, 2870,  102,    0,    0,    0,    0,    0,    0,\n",
            "            0]]), 'attention_mask': tensor([[1, 1, 1, 1, 1, 1, 1, 1, 1, 1, 1, 1, 1],\n",
            "        [1, 1, 1, 1, 1, 1, 1, 0, 0, 0, 0, 0, 0],\n",
            "        [1, 1, 1, 1, 1, 1, 0, 0, 0, 0, 0, 0, 0]])}\n"
          ]
        }
      ]
    },
    {
      "cell_type": "markdown",
      "source": [
        "#### 📌 사전 훈련된 모델 다운로드"
      ],
      "metadata": {
        "id": "B97KdcYe3KIY"
      }
    },
    {
      "cell_type": "markdown",
      "source": [
        "AutoModel 이란?\n",
        "* checkpoint를 기반으로 올바른 architecture를 반환하는 개체"
      ],
      "metadata": {
        "id": "n6SgbcyJ4F5H"
      }
    },
    {
      "cell_type": "code",
      "source": [
        "from transformers import AutoModel\n",
        "\n",
        "checkpoint = \"distilbert-base-uncased-finetuned-sst-2-english\"\n",
        "model = AutoModel.from_pretrained(checkpoint)"
      ],
      "metadata": {
        "id": "uaJIIVdQ3Ecj"
      },
      "execution_count": 13,
      "outputs": []
    },
    {
      "cell_type": "markdown",
      "source": [
        "Transformer 모듈의 벡터 출력 (고차원 벡터)\n",
        "\n",
        "* batch size : 한 번에 처리되는 시퀀스 수(예제에서는 2)입니다.\n",
        "* sequence length : 시퀀스의 숫자 표현 길이입니다(이 예에서는 16).\n",
        "* hidden size : 각 모델 입력의 벡터 차원입니다.\n"
      ],
      "metadata": {
        "id": "C6VnHYvD3Rls"
      }
    },
    {
      "cell_type": "code",
      "source": [
        "# **inputs는 inputs 딕셔너리의 키와 값들을 키워드 인수로 \"언패킹\"하는 역할을 함.\n",
        "\n",
        "outputs = model(**inputs)\n",
        "print(outputs.last_hidden_state.shape)"
      ],
      "metadata": {
        "colab": {
          "base_uri": "https://localhost:8080/"
        },
        "id": "7CSRfrFB3GLO",
        "outputId": "b04f3fd9-97fe-416a-ffb1-f42800167268"
      },
      "execution_count": 14,
      "outputs": [
        {
          "output_type": "stream",
          "name": "stdout",
          "text": [
            "torch.Size([3, 13, 768])\n"
          ]
        }
      ]
    },
    {
      "cell_type": "markdown",
      "source": [
        "모델 헤드\n",
        "* Transformer의 예측을 task-specific output으로 변환해줌."
      ],
      "metadata": {
        "id": "SQKP0Fx54ukb"
      }
    },
    {
      "cell_type": "code",
      "source": [
        "# 이 예에서는 문장을 긍정 또는 부정으로 분류할 수 있도록 시퀀스 분류 헤드가 있는 모델이 필요\n",
        "from transformers import AutoModelForSequenceClassification\n",
        "\n",
        "checkpoint = \"distilbert-base-uncased-finetuned-sst-2-english\"\n",
        "model = AutoModelForSequenceClassification.from_pretrained(checkpoint)\n",
        "outputs = model(**inputs)"
      ],
      "metadata": {
        "id": "pkvtBDD93fup"
      },
      "execution_count": 15,
      "outputs": []
    },
    {
      "cell_type": "code",
      "source": [
        "print(outputs.logits.shape)"
      ],
      "metadata": {
        "colab": {
          "base_uri": "https://localhost:8080/"
        },
        "id": "6LHJ0fcE3hN-",
        "outputId": "564465d7-3bc6-4162-e3f3-5b091a85a58d"
      },
      "execution_count": 17,
      "outputs": [
        {
          "output_type": "stream",
          "name": "stdout",
          "text": [
            "torch.Size([3, 2])\n"
          ]
        }
      ]
    },
    {
      "cell_type": "code",
      "source": [
        "# 확률이 아니라 모델의 마지막 계층에서 출력되는 정규화되지 않은 원시 점수인 로지트임.\n",
        "print(outputs.logits)"
      ],
      "metadata": {
        "colab": {
          "base_uri": "https://localhost:8080/"
        },
        "id": "li6b9tLm3iti",
        "outputId": "9c9ff551-133c-4092-c1bc-65d0d518e758"
      },
      "execution_count": 18,
      "outputs": [
        {
          "output_type": "stream",
          "name": "stdout",
          "text": [
            "tensor([[-2.7003,  2.8081],\n",
            "        [ 4.6752, -3.8102],\n",
            "        [-3.7207,  3.8648]], grad_fn=<AddmmBackward0>)\n"
          ]
        }
      ]
    },
    {
      "cell_type": "markdown",
      "source": [
        "#### 📌 출력 후처리"
      ],
      "metadata": {
        "id": "tTBJaGWi39o_"
      }
    },
    {
      "cell_type": "markdown",
      "source": [
        " 확률로 변환하려면 SoftMax 레이어를 거쳐야함."
      ],
      "metadata": {
        "id": "EZzW7kOP4Cch"
      }
    },
    {
      "cell_type": "code",
      "source": [
        "import numpy as np\n",
        "np.set_printoptions(suppress=True)"
      ],
      "metadata": {
        "id": "cIJjuEK37VfL"
      },
      "execution_count": 22,
      "outputs": []
    },
    {
      "cell_type": "code",
      "source": [
        "import torch\n",
        "\n",
        "predictions = torch.nn.functional.softmax(outputs.logits, dim=-1)\n",
        "print(predictions)"
      ],
      "metadata": {
        "colab": {
          "base_uri": "https://localhost:8080/"
        },
        "id": "pGPGQ32W3kIK",
        "outputId": "2716e9e3-2a80-406d-c231-a9df0ddcc12f"
      },
      "execution_count": 23,
      "outputs": [
        {
          "output_type": "stream",
          "name": "stdout",
          "text": [
            "tensor([[4.0359e-03, 9.9596e-01],\n",
            "        [9.9979e-01, 2.0641e-04],\n",
            "        [5.0754e-04, 9.9949e-01]], grad_fn=<SoftmaxBackward0>)\n"
          ]
        }
      ]
    },
    {
      "cell_type": "code",
      "source": [
        "predictions.detach().numpy()"
      ],
      "metadata": {
        "colab": {
          "base_uri": "https://localhost:8080/"
        },
        "id": "g65hN0ig7gE0",
        "outputId": "ff5e06d5-0e13-4808-c056-23c8bd0c7ba1"
      },
      "execution_count": 25,
      "outputs": [
        {
          "output_type": "execute_result",
          "data": {
            "text/plain": [
              "array([[0.00403588, 0.99596405],\n",
              "       [0.9997936 , 0.00020641],\n",
              "       [0.00050754, 0.9994924 ]], dtype=float32)"
            ]
          },
          "metadata": {},
          "execution_count": 25
        }
      ]
    },
    {
      "cell_type": "code",
      "source": [
        "model.config.id2label"
      ],
      "metadata": {
        "colab": {
          "base_uri": "https://localhost:8080/"
        },
        "id": "CShltRde3lsL",
        "outputId": "86778605-45f3-4242-819b-8458111b317e"
      },
      "execution_count": 20,
      "outputs": [
        {
          "output_type": "execute_result",
          "data": {
            "text/plain": [
              "{0: 'NEGATIVE', 1: 'POSITIVE'}"
            ]
          },
          "metadata": {},
          "execution_count": 20
        }
      ]
    },
    {
      "cell_type": "markdown",
      "source": [
        "### Models"
      ],
      "metadata": {
        "id": "nDjX74qc7tFo"
      }
    },
    {
      "cell_type": "markdown",
      "source": [
        "#### 📌 Creating a Transformer"
      ],
      "metadata": {
        "id": "G1RCbk9q-RzO"
      }
    },
    {
      "cell_type": "markdown",
      "source": [
        "BERT 모델을 초기화하기 위해 가장 먼저 해야 할 일은 구성 객체를 로드하는 것"
      ],
      "metadata": {
        "id": "8E7E6ixP-YUr"
      }
    },
    {
      "cell_type": "code",
      "source": [
        "from transformers import BertConfig, BertModel\n",
        "\n",
        "# Building the config\n",
        "config = BertConfig()\n",
        "\n",
        "# Building the model from the config\n",
        "model = BertModel(config)"
      ],
      "metadata": {
        "id": "SuhmRYbs7ycl"
      },
      "execution_count": 26,
      "outputs": []
    },
    {
      "cell_type": "code",
      "source": [
        "print(config)"
      ],
      "metadata": {
        "colab": {
          "base_uri": "https://localhost:8080/"
        },
        "id": "d7NzG9eh71ZZ",
        "outputId": "0bed30c8-2ba4-4750-b0a4-cc9b41b7ccad"
      },
      "execution_count": 27,
      "outputs": [
        {
          "output_type": "stream",
          "name": "stdout",
          "text": [
            "BertConfig {\n",
            "  \"attention_probs_dropout_prob\": 0.1,\n",
            "  \"classifier_dropout\": null,\n",
            "  \"hidden_act\": \"gelu\",\n",
            "  \"hidden_dropout_prob\": 0.1,\n",
            "  \"hidden_size\": 768,\n",
            "  \"initializer_range\": 0.02,\n",
            "  \"intermediate_size\": 3072,\n",
            "  \"layer_norm_eps\": 1e-12,\n",
            "  \"max_position_embeddings\": 512,\n",
            "  \"model_type\": \"bert\",\n",
            "  \"num_attention_heads\": 12,\n",
            "  \"num_hidden_layers\": 12,\n",
            "  \"pad_token_id\": 0,\n",
            "  \"position_embedding_type\": \"absolute\",\n",
            "  \"transformers_version\": \"4.35.2\",\n",
            "  \"type_vocab_size\": 2,\n",
            "  \"use_cache\": true,\n",
            "  \"vocab_size\": 30522\n",
            "}\n",
            "\n"
          ]
        }
      ]
    },
    {
      "cell_type": "markdown",
      "source": [
        "다른 로드 방법! -> 사전 학습된 Transformer 모델을 로드하는 것"
      ],
      "metadata": {
        "id": "m-N6Qq51-egx"
      }
    },
    {
      "cell_type": "code",
      "source": [
        "model = BertModel.from_pretrained(\"bert-base-cased\")"
      ],
      "metadata": {
        "colab": {
          "base_uri": "https://localhost:8080/",
          "height": 81,
          "referenced_widgets": [
            "9ca9bbca2d174196b764623018029257",
            "f1b3fc93fc354ae295faf01aaeff99d0",
            "f48465a4714648a39636d130e7ef69a6",
            "7658f0ea4c234f218e179cc515b2baac",
            "74a1c5f01a2f4ec9883397ed178cb4bc",
            "cb8c44ade6bb4e5f82d79480c376d7f2",
            "e2526d8fb82146aaa9fdd1a2320214b1",
            "8d028143ee234e43a537ed60370ccccb",
            "072f386e4c0148fbaae6d9b0de313aa6",
            "9db50a32ca3c47c799f1d826bfca0785",
            "4d6a11005b5548ff98909756ccdeee34",
            "83c2f594a9b14412adf8345a11a2a671",
            "578518b1f158483fa462f0620cf7e039",
            "add931fb6d7a487e9bc976f37a0a5b85",
            "f926b45237a14078b84f89aff31b5e50",
            "f223c068917f405bae5d7de59daf8a1a",
            "47669d5b7b614adca3817f11e4626e7f",
            "b0980c185ec34b37b6e2b6357d02ce0f",
            "3019d2975bd142f294ddc1546b5579ed",
            "feb39cc2306941c3b4148ec898059597",
            "b3d712611ce349f7835a254d46a5c8ab",
            "d36e1b1b561244a29e6261e2fdb04cf0"
          ]
        },
        "id": "B0WvoNHI76w4",
        "outputId": "11d531a7-11e1-4896-b600-49470eb3e02e"
      },
      "execution_count": 28,
      "outputs": [
        {
          "output_type": "display_data",
          "data": {
            "text/plain": [
              "config.json:   0%|          | 0.00/570 [00:00<?, ?B/s]"
            ],
            "application/vnd.jupyter.widget-view+json": {
              "version_major": 2,
              "version_minor": 0,
              "model_id": "9ca9bbca2d174196b764623018029257"
            }
          },
          "metadata": {}
        },
        {
          "output_type": "display_data",
          "data": {
            "text/plain": [
              "model.safetensors:   0%|          | 0.00/436M [00:00<?, ?B/s]"
            ],
            "application/vnd.jupyter.widget-view+json": {
              "version_major": 2,
              "version_minor": 0,
              "model_id": "83c2f594a9b14412adf8345a11a2a671"
            }
          },
          "metadata": {}
        }
      ]
    },
    {
      "cell_type": "code",
      "source": [
        "model.save_pretrained(\"directory_on_my_computer\")"
      ],
      "metadata": {
        "id": "czyA79gD79FU"
      },
      "execution_count": 29,
      "outputs": []
    },
    {
      "cell_type": "markdown",
      "source": [
        "* config.json 파일을 살펴보면 모델 아키텍처를 구축하는 데 필요한 속성이 있음.\n",
        "* 체크포인트가 어디서 생성되었는지\n",
        "* 체크포인트를 마지막으로 저장했을 때 사용한 Transformers 버전과 같은 일부 메타데이터도 포함."
      ],
      "metadata": {
        "id": "FZIy1vwL-_l8"
      }
    },
    {
      "cell_type": "code",
      "source": [
        "!ls directory_on_my_computer"
      ],
      "metadata": {
        "colab": {
          "base_uri": "https://localhost:8080/"
        },
        "id": "ciqlvrXF-2PS",
        "outputId": "7e0cde41-6f7a-4208-9f4b-b0664a62a43f"
      },
      "execution_count": 31,
      "outputs": [
        {
          "output_type": "stream",
          "name": "stdout",
          "text": [
            "config.json  model.safetensors\n"
          ]
        }
      ]
    },
    {
      "cell_type": "markdown",
      "source": [
        "#### 📌 Using a Transformer model for inference"
      ],
      "metadata": {
        "id": "dIkF6KO__O4F"
      }
    },
    {
      "cell_type": "code",
      "source": [
        "sequences = [\"Hello!\", \"Cool.\", \"Nice!\"]\n",
        "# 토크나이저는 이를 일반적으로 입력 ID 라고 하는 어휘 색인으로 변환함."
      ],
      "metadata": {
        "id": "aL40hDS27-Ln"
      },
      "execution_count": 32,
      "outputs": []
    },
    {
      "cell_type": "code",
      "source": [
        "# 각 시퀀스는 숫자 목록임. 예시 출력 결과!\n",
        "encoded_sequences = [\n",
        "    [101, 7592, 999, 102],\n",
        "    [101, 4658, 1012, 102],\n",
        "    [101, 3835, 999, 102],\n",
        "]"
      ],
      "metadata": {
        "id": "TMHsxHwX7_MO"
      },
      "execution_count": 33,
      "outputs": []
    },
    {
      "cell_type": "code",
      "source": [
        "import torch\n",
        "\n",
        "model_inputs = torch.tensor(encoded_sequences)"
      ],
      "metadata": {
        "id": "lJk8Vkcz8AQa"
      },
      "execution_count": 34,
      "outputs": []
    },
    {
      "cell_type": "code",
      "source": [
        "model_inputs"
      ],
      "metadata": {
        "colab": {
          "base_uri": "https://localhost:8080/"
        },
        "id": "kscy0zLR_g8D",
        "outputId": "34096fe4-fdc2-499e-8034-19d4bc041bde"
      },
      "execution_count": 36,
      "outputs": [
        {
          "output_type": "execute_result",
          "data": {
            "text/plain": [
              "tensor([[ 101, 7592,  999,  102],\n",
              "        [ 101, 4658, 1012,  102],\n",
              "        [ 101, 3835,  999,  102]])"
            ]
          },
          "metadata": {},
          "execution_count": 36
        }
      ]
    },
    {
      "cell_type": "code",
      "source": [
        "output = model(model_inputs)"
      ],
      "metadata": {
        "id": "poH9rCJG8BVs"
      },
      "execution_count": 35,
      "outputs": []
    },
    {
      "cell_type": "markdown",
      "source": [
        "### Tokenizers"
      ],
      "metadata": {
        "id": "6Nn8rj_q8GU-"
      }
    },
    {
      "cell_type": "markdown",
      "source": [
        "토큰화 알고리즘 1) 단어 기반\n",
        "* 텍스트를 단어로 분할, 각 단어에 대한 숫자 표현을 찾음.\n",
        "* 입력 ID map이 너무 큼. unknown token 많아질 우려."
      ],
      "metadata": {
        "id": "7ZtdDIt-CVEH"
      }
    },
    {
      "cell_type": "code",
      "source": [
        "tokenized_text = \"Jisu wants to go horseriding!\".split()\n",
        "print(tokenized_text)"
      ],
      "metadata": {
        "colab": {
          "base_uri": "https://localhost:8080/"
        },
        "id": "zxbPgGSf8PYI",
        "outputId": "4c405292-1054-41b0-bf53-242f6937bbbc"
      },
      "execution_count": 38,
      "outputs": [
        {
          "output_type": "stream",
          "name": "stdout",
          "text": [
            "['Jisu', 'wants', 'to', 'go', 'horseriding!']\n"
          ]
        }
      ]
    },
    {
      "cell_type": "markdown",
      "source": [
        "토큰화 알고리즘 2) 문자 기반\n",
        "* 텍스트를 chracter로 분할.\n",
        "* 입력 ID Map(a,b,c,d,e,...)은 작지만, 토큰이 너무 많아짐.\n",
        "* 언어에 따라 다름. 중국어는 각 문자가 의미/정보를 가짐."
      ],
      "metadata": {
        "id": "kt8ef7MmCaP6"
      }
    },
    {
      "cell_type": "markdown",
      "source": [
        "토큰화 알고리즘 3) 하위 단어 토큰화\n",
        "* 위 두가지 접근 방식을 결합함.\n",
        "* ex) annolyingly -> annolying, ly로 분해.\n",
        "* \"희귀한 단어는 의미있는 하위 단어로 분해해야한다.\"\n",
        "* GPT-2에서 사용되는 바이트 수준 BPE\n",
        "* BERT에서 사용되는 WordPiece\n",
        "* 여러 다국어 모델에 사용되는 SentencePiece 또는 Unigram"
      ],
      "metadata": {
        "id": "1UekRwd_CsLC"
      }
    },
    {
      "cell_type": "markdown",
      "source": [
        "#### 📌 load 및 save"
      ],
      "metadata": {
        "id": "S2s5wATVC48v"
      }
    },
    {
      "cell_type": "code",
      "source": [
        "from transformers import BertTokenizer\n",
        "\n",
        "tokenizer = BertTokenizer.from_pretrained(\"bert-base-cased\")"
      ],
      "metadata": {
        "colab": {
          "base_uri": "https://localhost:8080/",
          "height": 113,
          "referenced_widgets": [
            "16c04afdfeb848b4ae887d4f2f54a28c",
            "3f2d867677e64f2192c09dde5378bf11",
            "f3f09a593bc8403e8759ff7277e03721",
            "b7b56ad8315e4fe19a714673bb14a76e",
            "ab81b006902d4cb9b19824b03425ddc0",
            "0d83dfc4e6f54134a90dddacde1af45d",
            "186a3ffc43844e2891d62c704e5d3bd6",
            "8b2f709a0ff54e218a56ef6098f40ee7",
            "d2fac6e80e63489b863d4208ad2c4b0c",
            "ee4a56bab9794ffab1f43685fd45b5fc",
            "257f3fa8d9654b99940cbfc46ea45df0",
            "807075e910834206b83625766bc846ab",
            "803b3aa07f664e9bbd33f10a2965bbf0",
            "4fac2aabb2b242fba4da575229743bd2",
            "e5616e24b94c49088e5c49620d5525a3",
            "28f070e4df854e9793fc5bceca3f80a2",
            "c703103656a140df9508b0c338732fcc",
            "e79699c15440426ea01bc69c6a5b8fc4",
            "277b0f0e0626473d9e76a0cc4f67843e",
            "96ff9466dac04794a527cfbb06f084ff",
            "cc8930baee9541489680c305cff83759",
            "e297d25db3694e739fc69ce8919e4eaf",
            "f2d014f715d44dc9a82d060bbe55e65e",
            "439be8e029014b52971444a3125836fc",
            "e03179003bde406fa7be233240c3200e",
            "41729c33275146bc99baa1fc9169439b",
            "9e72918113284546bb66028469d3bc58",
            "6a87ee2c6e3c421aa740f8d9044cb640",
            "bc2babf094ac4139964ad9fa6aca5aef",
            "179d65700091486db2d20fbd592755d5",
            "589fbad3f021444894ee0c52e0241f3a",
            "4aea98e4995a4879aef9eef89b9a5a2d",
            "4d6dfe476db14e5dbd62d1780b81faa8"
          ]
        },
        "id": "aKooSVe4_9IO",
        "outputId": "c8dbd5c3-9c2b-41ce-e416-f23d0ce0de8b"
      },
      "execution_count": 41,
      "outputs": [
        {
          "output_type": "display_data",
          "data": {
            "text/plain": [
              "tokenizer_config.json:   0%|          | 0.00/29.0 [00:00<?, ?B/s]"
            ],
            "application/vnd.jupyter.widget-view+json": {
              "version_major": 2,
              "version_minor": 0,
              "model_id": "16c04afdfeb848b4ae887d4f2f54a28c"
            }
          },
          "metadata": {}
        },
        {
          "output_type": "display_data",
          "data": {
            "text/plain": [
              "vocab.txt:   0%|          | 0.00/213k [00:00<?, ?B/s]"
            ],
            "application/vnd.jupyter.widget-view+json": {
              "version_major": 2,
              "version_minor": 0,
              "model_id": "807075e910834206b83625766bc846ab"
            }
          },
          "metadata": {}
        },
        {
          "output_type": "display_data",
          "data": {
            "text/plain": [
              "tokenizer.json:   0%|          | 0.00/436k [00:00<?, ?B/s]"
            ],
            "application/vnd.jupyter.widget-view+json": {
              "version_major": 2,
              "version_minor": 0,
              "model_id": "f2d014f715d44dc9a82d060bbe55e65e"
            }
          },
          "metadata": {}
        }
      ]
    },
    {
      "cell_type": "code",
      "source": [
        "from transformers import AutoTokenizer\n",
        "\n",
        "tokenizer = AutoTokenizer.from_pretrained(\"bert-base-cased\")"
      ],
      "metadata": {
        "id": "TtPeBQd7__P5"
      },
      "execution_count": 42,
      "outputs": []
    },
    {
      "cell_type": "code",
      "source": [
        "tokenizer(\"Jisu wants to go horseriding!\")"
      ],
      "metadata": {
        "colab": {
          "base_uri": "https://localhost:8080/"
        },
        "id": "pNhJ07HiAAjf",
        "outputId": "70932f63-3a42-4369-c67b-f252c976f699"
      },
      "execution_count": 43,
      "outputs": [
        {
          "output_type": "execute_result",
          "data": {
            "text/plain": [
              "{'input_ids': [101, 13997, 6385, 3349, 1106, 1301, 3241, 10132, 1158, 106, 102], 'token_type_ids': [0, 0, 0, 0, 0, 0, 0, 0, 0, 0, 0], 'attention_mask': [1, 1, 1, 1, 1, 1, 1, 1, 1, 1, 1]}"
            ]
          },
          "metadata": {},
          "execution_count": 43
        }
      ]
    },
    {
      "cell_type": "code",
      "source": [
        "tokenizer.save_pretrained(\"directory_on_my_computer\")"
      ],
      "metadata": {
        "colab": {
          "base_uri": "https://localhost:8080/"
        },
        "id": "Tb6teC_XABtt",
        "outputId": "1b5c232a-d7fa-4e26-fca7-5187076f1259"
      },
      "execution_count": 44,
      "outputs": [
        {
          "output_type": "execute_result",
          "data": {
            "text/plain": [
              "('directory_on_my_computer/tokenizer_config.json',\n",
              " 'directory_on_my_computer/special_tokens_map.json',\n",
              " 'directory_on_my_computer/vocab.txt',\n",
              " 'directory_on_my_computer/added_tokens.json',\n",
              " 'directory_on_my_computer/tokenizer.json')"
            ]
          },
          "metadata": {},
          "execution_count": 44
        }
      ]
    },
    {
      "cell_type": "markdown",
      "source": [
        "#### 📌 Encoding"
      ],
      "metadata": {
        "id": "QSihrEKaDU_V"
      }
    },
    {
      "cell_type": "code",
      "source": [
        "from transformers import AutoTokenizer\n",
        "\n",
        "tokenizer = AutoTokenizer.from_pretrained(\"bert-base-cased\")\n",
        "\n",
        "sequence = \"Jisu wants to go horseriding!\"\n",
        "tokens = tokenizer.tokenize(sequence)\n",
        "\n",
        "print(tokens)"
      ],
      "metadata": {
        "colab": {
          "base_uri": "https://localhost:8080/"
        },
        "id": "VS_hWCNLACra",
        "outputId": "b6636a56-f70d-406c-bb7a-9ff87edf57ab"
      },
      "execution_count": 45,
      "outputs": [
        {
          "output_type": "stream",
          "name": "stdout",
          "text": [
            "['Ji', '##su', 'wants', 'to', 'go', 'horse', '##rid', '##ing', '!']\n"
          ]
        }
      ]
    },
    {
      "cell_type": "markdown",
      "source": [
        "위 출력 결과를 보면, 하위 단어 토큰화인 것을 파악할 수 있다."
      ],
      "metadata": {
        "id": "bUA-5AV5Dh0r"
      }
    },
    {
      "cell_type": "code",
      "source": [
        "ids = tokenizer.convert_tokens_to_ids(tokens)\n",
        "\n",
        "print(ids)"
      ],
      "metadata": {
        "colab": {
          "base_uri": "https://localhost:8080/"
        },
        "id": "ky0GpLk0AEQu",
        "outputId": "8a0cee71-8b18-467e-8b94-e031b3ec4515"
      },
      "execution_count": 46,
      "outputs": [
        {
          "output_type": "stream",
          "name": "stdout",
          "text": [
            "[13997, 6385, 3349, 1106, 1301, 3241, 10132, 1158, 106]\n"
          ]
        }
      ]
    },
    {
      "cell_type": "markdown",
      "source": [
        "#### 📌 Decoding"
      ],
      "metadata": {
        "id": "E1cFHZzmDcLf"
      }
    },
    {
      "cell_type": "code",
      "source": [
        "decoded_string = tokenizer.decode([13997, 6385, 3349, 1106, 1301, 3241, 10132, 1158, 106])\n",
        "print(decoded_string)"
      ],
      "metadata": {
        "colab": {
          "base_uri": "https://localhost:8080/"
        },
        "id": "cfqfZH2LAF3n",
        "outputId": "9b66ac1e-e64d-491e-bf06-36166f01109b"
      },
      "execution_count": 48,
      "outputs": [
        {
          "output_type": "stream",
          "name": "stdout",
          "text": [
            "Jisu wants to go horseriding!\n"
          ]
        }
      ]
    },
    {
      "cell_type": "markdown",
      "source": [
        "### Handling multiple sequences"
      ],
      "metadata": {
        "id": "VWTjcno-8IFu"
      }
    },
    {
      "cell_type": "markdown",
      "source": [
        "#### 📌 Models expect a batch of inputs\n",
        "\n",
        "모델은 일괄 입력을 기대함."
      ],
      "metadata": {
        "id": "xZU0n_qwEoSk"
      }
    },
    {
      "cell_type": "code",
      "source": [
        "import torch\n",
        "from transformers import AutoTokenizer, AutoModelForSequenceClassification\n",
        "\n",
        "checkpoint = \"distilbert-base-uncased-finetuned-sst-2-english\"\n",
        "tokenizer = AutoTokenizer.from_pretrained(checkpoint)\n",
        "model = AutoModelForSequenceClassification.from_pretrained(checkpoint)\n",
        "\n",
        "sequence = \"I've been waiting for a HuggingFace course my whole life.\"\n",
        "\n",
        "tokens = tokenizer.tokenize(sequence)\n",
        "ids = tokenizer.convert_tokens_to_ids(tokens)\n",
        "input_ids = torch.tensor(ids)\n",
        "# This line will fail.\n",
        "model(input_ids)"
      ],
      "metadata": {
        "colab": {
          "base_uri": "https://localhost:8080/",
          "height": 404
        },
        "id": "TMO8GhHD8O3B",
        "outputId": "69994ab7-fe7b-43cb-bfe9-cef1380110f9"
      },
      "execution_count": 49,
      "outputs": [
        {
          "output_type": "error",
          "ename": "IndexError",
          "evalue": "too many indices for tensor of dimension 1",
          "traceback": [
            "\u001b[0;31m---------------------------------------------------------------------------\u001b[0m",
            "\u001b[0;31mIndexError\u001b[0m                                Traceback (most recent call last)",
            "\u001b[0;32m<ipython-input-49-2b9fc1b6cd40>\u001b[0m in \u001b[0;36m<cell line: 14>\u001b[0;34m()\u001b[0m\n\u001b[1;32m     12\u001b[0m \u001b[0minput_ids\u001b[0m \u001b[0;34m=\u001b[0m \u001b[0mtorch\u001b[0m\u001b[0;34m.\u001b[0m\u001b[0mtensor\u001b[0m\u001b[0;34m(\u001b[0m\u001b[0mids\u001b[0m\u001b[0;34m)\u001b[0m\u001b[0;34m\u001b[0m\u001b[0;34m\u001b[0m\u001b[0m\n\u001b[1;32m     13\u001b[0m \u001b[0;31m# This line will fail.\u001b[0m\u001b[0;34m\u001b[0m\u001b[0;34m\u001b[0m\u001b[0m\n\u001b[0;32m---> 14\u001b[0;31m \u001b[0mmodel\u001b[0m\u001b[0;34m(\u001b[0m\u001b[0minput_ids\u001b[0m\u001b[0;34m)\u001b[0m\u001b[0;34m\u001b[0m\u001b[0;34m\u001b[0m\u001b[0m\n\u001b[0m",
            "\u001b[0;32m/usr/local/lib/python3.10/dist-packages/torch/nn/modules/module.py\u001b[0m in \u001b[0;36m_wrapped_call_impl\u001b[0;34m(self, *args, **kwargs)\u001b[0m\n\u001b[1;32m   1516\u001b[0m             \u001b[0;32mreturn\u001b[0m \u001b[0mself\u001b[0m\u001b[0;34m.\u001b[0m\u001b[0m_compiled_call_impl\u001b[0m\u001b[0;34m(\u001b[0m\u001b[0;34m*\u001b[0m\u001b[0margs\u001b[0m\u001b[0;34m,\u001b[0m \u001b[0;34m**\u001b[0m\u001b[0mkwargs\u001b[0m\u001b[0;34m)\u001b[0m  \u001b[0;31m# type: ignore[misc]\u001b[0m\u001b[0;34m\u001b[0m\u001b[0;34m\u001b[0m\u001b[0m\n\u001b[1;32m   1517\u001b[0m         \u001b[0;32melse\u001b[0m\u001b[0;34m:\u001b[0m\u001b[0;34m\u001b[0m\u001b[0;34m\u001b[0m\u001b[0m\n\u001b[0;32m-> 1518\u001b[0;31m             \u001b[0;32mreturn\u001b[0m \u001b[0mself\u001b[0m\u001b[0;34m.\u001b[0m\u001b[0m_call_impl\u001b[0m\u001b[0;34m(\u001b[0m\u001b[0;34m*\u001b[0m\u001b[0margs\u001b[0m\u001b[0;34m,\u001b[0m \u001b[0;34m**\u001b[0m\u001b[0mkwargs\u001b[0m\u001b[0;34m)\u001b[0m\u001b[0;34m\u001b[0m\u001b[0;34m\u001b[0m\u001b[0m\n\u001b[0m\u001b[1;32m   1519\u001b[0m \u001b[0;34m\u001b[0m\u001b[0m\n\u001b[1;32m   1520\u001b[0m     \u001b[0;32mdef\u001b[0m \u001b[0m_call_impl\u001b[0m\u001b[0;34m(\u001b[0m\u001b[0mself\u001b[0m\u001b[0;34m,\u001b[0m \u001b[0;34m*\u001b[0m\u001b[0margs\u001b[0m\u001b[0;34m,\u001b[0m \u001b[0;34m**\u001b[0m\u001b[0mkwargs\u001b[0m\u001b[0;34m)\u001b[0m\u001b[0;34m:\u001b[0m\u001b[0;34m\u001b[0m\u001b[0;34m\u001b[0m\u001b[0m\n",
            "\u001b[0;32m/usr/local/lib/python3.10/dist-packages/torch/nn/modules/module.py\u001b[0m in \u001b[0;36m_call_impl\u001b[0;34m(self, *args, **kwargs)\u001b[0m\n\u001b[1;32m   1525\u001b[0m                 \u001b[0;32mor\u001b[0m \u001b[0m_global_backward_pre_hooks\u001b[0m \u001b[0;32mor\u001b[0m \u001b[0m_global_backward_hooks\u001b[0m\u001b[0;34m\u001b[0m\u001b[0;34m\u001b[0m\u001b[0m\n\u001b[1;32m   1526\u001b[0m                 or _global_forward_hooks or _global_forward_pre_hooks):\n\u001b[0;32m-> 1527\u001b[0;31m             \u001b[0;32mreturn\u001b[0m \u001b[0mforward_call\u001b[0m\u001b[0;34m(\u001b[0m\u001b[0;34m*\u001b[0m\u001b[0margs\u001b[0m\u001b[0;34m,\u001b[0m \u001b[0;34m**\u001b[0m\u001b[0mkwargs\u001b[0m\u001b[0;34m)\u001b[0m\u001b[0;34m\u001b[0m\u001b[0;34m\u001b[0m\u001b[0m\n\u001b[0m\u001b[1;32m   1528\u001b[0m \u001b[0;34m\u001b[0m\u001b[0m\n\u001b[1;32m   1529\u001b[0m         \u001b[0;32mtry\u001b[0m\u001b[0;34m:\u001b[0m\u001b[0;34m\u001b[0m\u001b[0;34m\u001b[0m\u001b[0m\n",
            "\u001b[0;32m/usr/local/lib/python3.10/dist-packages/transformers/models/distilbert/modeling_distilbert.py\u001b[0m in \u001b[0;36mforward\u001b[0;34m(self, input_ids, attention_mask, head_mask, inputs_embeds, labels, output_attentions, output_hidden_states, return_dict)\u001b[0m\n\u001b[1;32m    777\u001b[0m         \u001b[0mreturn_dict\u001b[0m \u001b[0;34m=\u001b[0m \u001b[0mreturn_dict\u001b[0m \u001b[0;32mif\u001b[0m \u001b[0mreturn_dict\u001b[0m \u001b[0;32mis\u001b[0m \u001b[0;32mnot\u001b[0m \u001b[0;32mNone\u001b[0m \u001b[0;32melse\u001b[0m \u001b[0mself\u001b[0m\u001b[0;34m.\u001b[0m\u001b[0mconfig\u001b[0m\u001b[0;34m.\u001b[0m\u001b[0muse_return_dict\u001b[0m\u001b[0;34m\u001b[0m\u001b[0;34m\u001b[0m\u001b[0m\n\u001b[1;32m    778\u001b[0m \u001b[0;34m\u001b[0m\u001b[0m\n\u001b[0;32m--> 779\u001b[0;31m         distilbert_output = self.distilbert(\n\u001b[0m\u001b[1;32m    780\u001b[0m             \u001b[0minput_ids\u001b[0m\u001b[0;34m=\u001b[0m\u001b[0minput_ids\u001b[0m\u001b[0;34m,\u001b[0m\u001b[0;34m\u001b[0m\u001b[0;34m\u001b[0m\u001b[0m\n\u001b[1;32m    781\u001b[0m             \u001b[0mattention_mask\u001b[0m\u001b[0;34m=\u001b[0m\u001b[0mattention_mask\u001b[0m\u001b[0;34m,\u001b[0m\u001b[0;34m\u001b[0m\u001b[0;34m\u001b[0m\u001b[0m\n",
            "\u001b[0;32m/usr/local/lib/python3.10/dist-packages/torch/nn/modules/module.py\u001b[0m in \u001b[0;36m_wrapped_call_impl\u001b[0;34m(self, *args, **kwargs)\u001b[0m\n\u001b[1;32m   1516\u001b[0m             \u001b[0;32mreturn\u001b[0m \u001b[0mself\u001b[0m\u001b[0;34m.\u001b[0m\u001b[0m_compiled_call_impl\u001b[0m\u001b[0;34m(\u001b[0m\u001b[0;34m*\u001b[0m\u001b[0margs\u001b[0m\u001b[0;34m,\u001b[0m \u001b[0;34m**\u001b[0m\u001b[0mkwargs\u001b[0m\u001b[0;34m)\u001b[0m  \u001b[0;31m# type: ignore[misc]\u001b[0m\u001b[0;34m\u001b[0m\u001b[0;34m\u001b[0m\u001b[0m\n\u001b[1;32m   1517\u001b[0m         \u001b[0;32melse\u001b[0m\u001b[0;34m:\u001b[0m\u001b[0;34m\u001b[0m\u001b[0;34m\u001b[0m\u001b[0m\n\u001b[0;32m-> 1518\u001b[0;31m             \u001b[0;32mreturn\u001b[0m \u001b[0mself\u001b[0m\u001b[0;34m.\u001b[0m\u001b[0m_call_impl\u001b[0m\u001b[0;34m(\u001b[0m\u001b[0;34m*\u001b[0m\u001b[0margs\u001b[0m\u001b[0;34m,\u001b[0m \u001b[0;34m**\u001b[0m\u001b[0mkwargs\u001b[0m\u001b[0;34m)\u001b[0m\u001b[0;34m\u001b[0m\u001b[0;34m\u001b[0m\u001b[0m\n\u001b[0m\u001b[1;32m   1519\u001b[0m \u001b[0;34m\u001b[0m\u001b[0m\n\u001b[1;32m   1520\u001b[0m     \u001b[0;32mdef\u001b[0m \u001b[0m_call_impl\u001b[0m\u001b[0;34m(\u001b[0m\u001b[0mself\u001b[0m\u001b[0;34m,\u001b[0m \u001b[0;34m*\u001b[0m\u001b[0margs\u001b[0m\u001b[0;34m,\u001b[0m \u001b[0;34m**\u001b[0m\u001b[0mkwargs\u001b[0m\u001b[0;34m)\u001b[0m\u001b[0;34m:\u001b[0m\u001b[0;34m\u001b[0m\u001b[0;34m\u001b[0m\u001b[0m\n",
            "\u001b[0;32m/usr/local/lib/python3.10/dist-packages/torch/nn/modules/module.py\u001b[0m in \u001b[0;36m_call_impl\u001b[0;34m(self, *args, **kwargs)\u001b[0m\n\u001b[1;32m   1525\u001b[0m                 \u001b[0;32mor\u001b[0m \u001b[0m_global_backward_pre_hooks\u001b[0m \u001b[0;32mor\u001b[0m \u001b[0m_global_backward_hooks\u001b[0m\u001b[0;34m\u001b[0m\u001b[0;34m\u001b[0m\u001b[0m\n\u001b[1;32m   1526\u001b[0m                 or _global_forward_hooks or _global_forward_pre_hooks):\n\u001b[0;32m-> 1527\u001b[0;31m             \u001b[0;32mreturn\u001b[0m \u001b[0mforward_call\u001b[0m\u001b[0;34m(\u001b[0m\u001b[0;34m*\u001b[0m\u001b[0margs\u001b[0m\u001b[0;34m,\u001b[0m \u001b[0;34m**\u001b[0m\u001b[0mkwargs\u001b[0m\u001b[0;34m)\u001b[0m\u001b[0;34m\u001b[0m\u001b[0;34m\u001b[0m\u001b[0m\n\u001b[0m\u001b[1;32m   1528\u001b[0m \u001b[0;34m\u001b[0m\u001b[0m\n\u001b[1;32m   1529\u001b[0m         \u001b[0;32mtry\u001b[0m\u001b[0;34m:\u001b[0m\u001b[0;34m\u001b[0m\u001b[0;34m\u001b[0m\u001b[0m\n",
            "\u001b[0;32m/usr/local/lib/python3.10/dist-packages/transformers/models/distilbert/modeling_distilbert.py\u001b[0m in \u001b[0;36mforward\u001b[0;34m(self, input_ids, attention_mask, head_mask, inputs_embeds, output_attentions, output_hidden_states, return_dict)\u001b[0m\n\u001b[1;32m    580\u001b[0m             \u001b[0;32mraise\u001b[0m \u001b[0mValueError\u001b[0m\u001b[0;34m(\u001b[0m\u001b[0;34m\"You cannot specify both input_ids and inputs_embeds at the same time\"\u001b[0m\u001b[0;34m)\u001b[0m\u001b[0;34m\u001b[0m\u001b[0;34m\u001b[0m\u001b[0m\n\u001b[1;32m    581\u001b[0m         \u001b[0;32melif\u001b[0m \u001b[0minput_ids\u001b[0m \u001b[0;32mis\u001b[0m \u001b[0;32mnot\u001b[0m \u001b[0;32mNone\u001b[0m\u001b[0;34m:\u001b[0m\u001b[0;34m\u001b[0m\u001b[0;34m\u001b[0m\u001b[0m\n\u001b[0;32m--> 582\u001b[0;31m             \u001b[0mself\u001b[0m\u001b[0;34m.\u001b[0m\u001b[0mwarn_if_padding_and_no_attention_mask\u001b[0m\u001b[0;34m(\u001b[0m\u001b[0minput_ids\u001b[0m\u001b[0;34m,\u001b[0m \u001b[0mattention_mask\u001b[0m\u001b[0;34m)\u001b[0m\u001b[0;34m\u001b[0m\u001b[0;34m\u001b[0m\u001b[0m\n\u001b[0m\u001b[1;32m    583\u001b[0m             \u001b[0minput_shape\u001b[0m \u001b[0;34m=\u001b[0m \u001b[0minput_ids\u001b[0m\u001b[0;34m.\u001b[0m\u001b[0msize\u001b[0m\u001b[0;34m(\u001b[0m\u001b[0;34m)\u001b[0m\u001b[0;34m\u001b[0m\u001b[0;34m\u001b[0m\u001b[0m\n\u001b[1;32m    584\u001b[0m         \u001b[0;32melif\u001b[0m \u001b[0minputs_embeds\u001b[0m \u001b[0;32mis\u001b[0m \u001b[0;32mnot\u001b[0m \u001b[0;32mNone\u001b[0m\u001b[0;34m:\u001b[0m\u001b[0;34m\u001b[0m\u001b[0;34m\u001b[0m\u001b[0m\n",
            "\u001b[0;32m/usr/local/lib/python3.10/dist-packages/transformers/modeling_utils.py\u001b[0m in \u001b[0;36mwarn_if_padding_and_no_attention_mask\u001b[0;34m(self, input_ids, attention_mask)\u001b[0m\n\u001b[1;32m   4114\u001b[0m \u001b[0;34m\u001b[0m\u001b[0m\n\u001b[1;32m   4115\u001b[0m         \u001b[0;31m# Check only the first and last input IDs to reduce overhead.\u001b[0m\u001b[0;34m\u001b[0m\u001b[0;34m\u001b[0m\u001b[0m\n\u001b[0;32m-> 4116\u001b[0;31m         \u001b[0;32mif\u001b[0m \u001b[0mself\u001b[0m\u001b[0;34m.\u001b[0m\u001b[0mconfig\u001b[0m\u001b[0;34m.\u001b[0m\u001b[0mpad_token_id\u001b[0m \u001b[0;32min\u001b[0m \u001b[0minput_ids\u001b[0m\u001b[0;34m[\u001b[0m\u001b[0;34m:\u001b[0m\u001b[0;34m,\u001b[0m \u001b[0;34m[\u001b[0m\u001b[0;34m-\u001b[0m\u001b[0;36m1\u001b[0m\u001b[0;34m,\u001b[0m \u001b[0;36m0\u001b[0m\u001b[0;34m]\u001b[0m\u001b[0;34m]\u001b[0m\u001b[0;34m:\u001b[0m\u001b[0;34m\u001b[0m\u001b[0;34m\u001b[0m\u001b[0m\n\u001b[0m\u001b[1;32m   4117\u001b[0m             warn_string = (\n\u001b[1;32m   4118\u001b[0m                 \u001b[0;34m\"We strongly recommend passing in an `attention_mask` since your input_ids may be padded. See \"\u001b[0m\u001b[0;34m\u001b[0m\u001b[0;34m\u001b[0m\u001b[0m\n",
            "\u001b[0;31mIndexError\u001b[0m: too many indices for tensor of dimension 1"
          ]
        }
      ]
    },
    {
      "cell_type": "markdown",
      "source": [
        "위 출력이 실패한 이유는 우리가 모델에 단일 시퀀스를 보냈지만, Transformers 모델은 기본적으로 여러 문장을 기대하기 때문이다."
      ],
      "metadata": {
        "id": "J7fqKUIGEu9Y"
      }
    },
    {
      "cell_type": "code",
      "source": [
        "tokenized_inputs = tokenizer(sequence, return_tensors=\"pt\")\n",
        "print(tokenized_inputs[\"input_ids\"])"
      ],
      "metadata": {
        "colab": {
          "base_uri": "https://localhost:8080/"
        },
        "id": "Ez-EePZXEYeU",
        "outputId": "6ee0759e-e117-40ed-d23e-238e9efd256c"
      },
      "execution_count": 50,
      "outputs": [
        {
          "output_type": "stream",
          "name": "stdout",
          "text": [
            "tensor([[  101,  1045,  1005,  2310,  2042,  3403,  2005,  1037, 17662, 12172,\n",
            "          2607,  2026,  2878,  2166,  1012,   102]])\n"
          ]
        }
      ]
    },
    {
      "cell_type": "markdown",
      "source": [
        " 입력 ID 목록을 텐서로 변환한 것이 아니라 그 위에 차원을 추가해야 에러가 생기지 않는다."
      ],
      "metadata": {
        "id": "toAKGq7oE6LH"
      }
    },
    {
      "cell_type": "code",
      "source": [
        "import torch\n",
        "from transformers import AutoTokenizer, AutoModelForSequenceClassification\n",
        "\n",
        "checkpoint = \"distilbert-base-uncased-finetuned-sst-2-english\"\n",
        "tokenizer = AutoTokenizer.from_pretrained(checkpoint)\n",
        "model = AutoModelForSequenceClassification.from_pretrained(checkpoint)\n",
        "\n",
        "sequence = \"I've been waiting for a HuggingFace course my whole life.\"\n",
        "\n",
        "tokens = tokenizer.tokenize(sequence)\n",
        "ids = tokenizer.convert_tokens_to_ids(tokens)\n",
        "\n",
        "input_ids = torch.tensor([ids])\n",
        "print(\"Input IDs:\", input_ids)\n",
        "\n",
        "output = model(input_ids)\n",
        "print(\"Logits:\", output.logits)"
      ],
      "metadata": {
        "colab": {
          "base_uri": "https://localhost:8080/"
        },
        "id": "xAho1SuqEbEw",
        "outputId": "19795b9f-78f2-4ed6-a789-189ceb34c2d6"
      },
      "execution_count": 51,
      "outputs": [
        {
          "output_type": "stream",
          "name": "stdout",
          "text": [
            "Input IDs: tensor([[ 1045,  1005,  2310,  2042,  3403,  2005,  1037, 17662, 12172,  2607,\n",
            "          2026,  2878,  2166,  1012]])\n",
            "Logits: tensor([[-2.7276,  2.8789]], grad_fn=<AddmmBackward0>)\n"
          ]
        }
      ]
    },
    {
      "cell_type": "code",
      "source": [
        "input_ids = torch.tensor([ids, ids])\n",
        "print(\"Input IDs:\", input_ids)\n",
        "\n",
        "output = model(input_ids)\n",
        "print(\"Logits:\", output.logits)"
      ],
      "metadata": {
        "colab": {
          "base_uri": "https://localhost:8080/"
        },
        "id": "WU9-DSm6Fc1U",
        "outputId": "a7645837-4ab6-440e-8641-6272a3cb387c"
      },
      "execution_count": 52,
      "outputs": [
        {
          "output_type": "stream",
          "name": "stdout",
          "text": [
            "Input IDs: tensor([[ 1045,  1005,  2310,  2042,  3403,  2005,  1037, 17662, 12172,  2607,\n",
            "          2026,  2878,  2166,  1012],\n",
            "        [ 1045,  1005,  2310,  2042,  3403,  2005,  1037, 17662, 12172,  2607,\n",
            "          2026,  2878,  2166,  1012]])\n",
            "Logits: tensor([[-2.7276,  2.8789],\n",
            "        [-2.7276,  2.8789]], grad_fn=<AddmmBackward0>)\n"
          ]
        }
      ]
    },
    {
      "cell_type": "code",
      "source": [
        "import torch\n",
        "from transformers import AutoTokenizer, AutoModelForSequenceClassification\n",
        "\n",
        "checkpoint = \"distilbert-base-uncased-finetuned-sst-2-english\"\n",
        "tokenizer = AutoTokenizer.from_pretrained(checkpoint)\n",
        "model = AutoModelForSequenceClassification.from_pretrained(checkpoint)\n",
        "\n",
        "sequence = \"I hate this so much!\"\n",
        "\n",
        "tokens = tokenizer.tokenize(sequence)\n",
        "ids = tokenizer.convert_tokens_to_ids(tokens)\n",
        "\n",
        "input_ids = torch.tensor([ids])\n",
        "print(\"Input IDs:\", input_ids)\n",
        "\n",
        "output = model(input_ids)\n",
        "print(\"Logits:\", output.logits)"
      ],
      "metadata": {
        "colab": {
          "base_uri": "https://localhost:8080/"
        },
        "id": "Ills9BTaJiEA",
        "outputId": "ce3e8ffa-2945-473e-f919-97093b737bf5"
      },
      "execution_count": 67,
      "outputs": [
        {
          "output_type": "stream",
          "name": "stdout",
          "text": [
            "Input IDs: tensor([[1045, 5223, 2023, 2061, 2172,  999]])\n",
            "Logits: tensor([[ 3.1931, -2.6685]], grad_fn=<AddmmBackward0>)\n"
          ]
        }
      ]
    },
    {
      "cell_type": "markdown",
      "source": [
        "#### 📌 Padding the inputs"
      ],
      "metadata": {
        "id": "FgMw6tFKFu5D"
      }
    },
    {
      "cell_type": "markdown",
      "source": [
        "다음 목록 목록은 텐서로 변환할 수 없다."
      ],
      "metadata": {
        "id": "xwAQqwyuGCtA"
      }
    },
    {
      "cell_type": "code",
      "source": [
        "batched_ids = [\n",
        "    [200, 200, 200],\n",
        "    [200, 200]\n",
        "]"
      ],
      "metadata": {
        "id": "zBVOVMqMEcki"
      },
      "execution_count": 53,
      "outputs": []
    },
    {
      "cell_type": "markdown",
      "source": [
        "* 이 문제를 해결하기 위해 패딩을 사용하여 텐서를 직사각형 모양으로 만든다.\n",
        "\n",
        "*  패딩은 더 적은 값을 가진 문장에 패딩 토큰 이라는 특수 단어를 추가하여 모든 문장의 길이를 동일하게 만든다."
      ],
      "metadata": {
        "id": "HxkuvpEfGF2l"
      }
    },
    {
      "cell_type": "code",
      "source": [
        "padding_id = 100\n",
        "\n",
        "batched_ids = [\n",
        "    [200, 200, 200],\n",
        "    [200, 200, padding_id],\n",
        "]"
      ],
      "metadata": {
        "id": "sLO_xlFjEeDn"
      },
      "execution_count": 54,
      "outputs": []
    },
    {
      "cell_type": "code",
      "source": [
        "model = AutoModelForSequenceClassification.from_pretrained(checkpoint)\n",
        "\n",
        "sequence1_ids = [[200, 200, 200]]\n",
        "sequence2_ids = [[200, 200]]\n",
        "batched_ids = [\n",
        "    [200, 200, 200],\n",
        "    [200, 200, tokenizer.pad_token_id],\n",
        "]\n",
        "\n",
        "print(model(torch.tensor(sequence1_ids)).logits)\n",
        "print(model(torch.tensor(sequence2_ids)).logits)\n",
        "print(model(torch.tensor(batched_ids)).logits)"
      ],
      "metadata": {
        "colab": {
          "base_uri": "https://localhost:8080/"
        },
        "id": "tk9_7HoQEej6",
        "outputId": "ffd5e1d4-8f07-4ff8-ce1b-b8cc6c5141d3"
      },
      "execution_count": 55,
      "outputs": [
        {
          "output_type": "stream",
          "name": "stderr",
          "text": [
            "We strongly recommend passing in an `attention_mask` since your input_ids may be padded. See https://huggingface.co/docs/transformers/troubleshooting#incorrect-output-when-padding-tokens-arent-masked.\n"
          ]
        },
        {
          "output_type": "stream",
          "name": "stdout",
          "text": [
            "tensor([[ 1.5694, -1.3895]], grad_fn=<AddmmBackward0>)\n",
            "tensor([[ 0.5803, -0.4125]], grad_fn=<AddmmBackward0>)\n",
            "tensor([[ 1.5694, -1.3895],\n",
            "        [ 1.3374, -1.2163]], grad_fn=<AddmmBackward0>)\n"
          ]
        }
      ]
    },
    {
      "cell_type": "markdown",
      "source": [
        "* 위 결과를 보면, 두 예측 결과가 같아야하지만, 다른 결과값을 뱉는다.\n",
        "* 이는 패딩을 포함한 시퀀스의 모든 토큰이 참여하기 떄문이다.\n",
        "* mask를 사용하여 패딩 토큰을 무시되도록 해야한다!"
      ],
      "metadata": {
        "id": "El_H6LzCGWlq"
      }
    },
    {
      "cell_type": "markdown",
      "source": [
        "#### 📌 Attention masks"
      ],
      "metadata": {
        "id": "9sWSmbMIFzBG"
      }
    },
    {
      "cell_type": "markdown",
      "source": [
        " attention_mask에서 1은 해당 토큰에 주의해야 함을 나타내고 0은 해당 토큰에 주의하지 않아야 함을 나타냄."
      ],
      "metadata": {
        "id": "i2mATZOhG3wk"
      }
    },
    {
      "cell_type": "code",
      "source": [
        "batched_ids = [\n",
        "    [200, 200, 200],\n",
        "    [200, 200, tokenizer.pad_token_id],\n",
        "]\n",
        "\n",
        "attention_mask = [\n",
        "    [1, 1, 1],\n",
        "    [1, 1, 0],\n",
        "]\n",
        "\n",
        "outputs = model(torch.tensor(batched_ids), attention_mask=torch.tensor(attention_mask))\n",
        "print(outputs.logits)"
      ],
      "metadata": {
        "colab": {
          "base_uri": "https://localhost:8080/"
        },
        "id": "AJbSkP9MEesi",
        "outputId": "adf03292-cfb3-4756-c877-0f7da8b6fa1d"
      },
      "execution_count": 56,
      "outputs": [
        {
          "output_type": "stream",
          "name": "stdout",
          "text": [
            "tensor([[ 1.5694, -1.3895],\n",
            "        [ 0.5803, -0.4125]], grad_fn=<AddmmBackward0>)\n"
          ]
        }
      ]
    },
    {
      "cell_type": "code",
      "source": [
        "sequence = \"I've been waiting for a HuggingFace course my whole life.\"\n",
        "tokens = tokenizer.tokenize(sequence)\n",
        "ids = tokenizer.convert_tokens_to_ids(tokens)"
      ],
      "metadata": {
        "id": "-e1g1qadHc7e"
      },
      "execution_count": 57,
      "outputs": []
    },
    {
      "cell_type": "code",
      "source": [
        "sequence2 = \"I hate this so much!\"\n",
        "tokens2 = tokenizer.tokenize(sequence2)\n",
        "ids2 = tokenizer.convert_tokens_to_ids(tokens2)"
      ],
      "metadata": {
        "id": "gxzY__lyHeda"
      },
      "execution_count": 59,
      "outputs": []
    },
    {
      "cell_type": "code",
      "source": [
        "batched_ids = [\n",
        "    ids,\n",
        "    ids2 + [tokenizer.pad_token_id]*(len(ids)-len(ids2)),\n",
        "]\n",
        "\n",
        "attention_mask = [\n",
        "    [1] * len(ids),\n",
        "    [1] * len(ids2) + [0] * (len(ids)-len(ids2)),\n",
        "]\n",
        "\n",
        "outputs = model(torch.tensor(batched_ids), attention_mask=torch.tensor(attention_mask))\n",
        "print(outputs.logits)"
      ],
      "metadata": {
        "colab": {
          "base_uri": "https://localhost:8080/"
        },
        "id": "hWKnH0-8HhYX",
        "outputId": "b106e60d-6603-428b-eb66-b98b4f878e7d"
      },
      "execution_count": 66,
      "outputs": [
        {
          "output_type": "stream",
          "name": "stdout",
          "text": [
            "tensor([[-2.7276,  2.8789],\n",
            "        [ 3.1931, -2.6685]], grad_fn=<AddmmBackward0>)\n"
          ]
        }
      ]
    },
    {
      "cell_type": "markdown",
      "source": [
        "* Logits: tensor([[-2.7276,  2.8789]],\n",
        "* Logits: tensor([[ 3.1931, -2.6685]]\n",
        "* padding을 추가해도 앞선 출력값과 똑같이 나오는 것을 확인할 수 있다.\n",
        "* Attention Maks의 중요성 입증!"
      ],
      "metadata": {
        "id": "R9T5dr8nJo_P"
      }
    },
    {
      "cell_type": "markdown",
      "source": [
        "#### 📌 Longer sequences"
      ],
      "metadata": {
        "id": "QKcQybpZF1Jj"
      }
    },
    {
      "cell_type": "markdown",
      "source": [
        "* Transformer 모델의 경우 모델을 전달할 수 있는 시퀀스의 길이에 제한적.\n",
        "* 대부분의 모델은 최대 512개 또는 1024개 토큰의 시퀀스를 처리하며 더 긴 시퀀스를 처리하라는 요청을 받으면 충돌이 발생.\n",
        "* 해결책 1) 지원되는 시퀀스 길이가 더 긴 모델을 사용.\n",
        "* 해결책 2) 시퀀스를 자름."
      ],
      "metadata": {
        "id": "20Px9pgsKCRP"
      }
    },
    {
      "cell_type": "code",
      "source": [
        "max_sequence_length = 512\n",
        "sequence = sequence[:max_sequence_length]"
      ],
      "metadata": {
        "id": "jnROXqE_EghM"
      },
      "execution_count": null,
      "outputs": []
    },
    {
      "cell_type": "markdown",
      "source": [
        "### Putting it all together"
      ],
      "metadata": {
        "id": "7JNy_HT08LkY"
      }
    },
    {
      "cell_type": "code",
      "source": [
        "from transformers import AutoTokenizer\n",
        "\n",
        "checkpoint = \"distilbert-base-uncased-finetuned-sst-2-english\"\n",
        "tokenizer = AutoTokenizer.from_pretrained(checkpoint)"
      ],
      "metadata": {
        "id": "DLYXdwwm8OL3"
      },
      "execution_count": 68,
      "outputs": []
    },
    {
      "cell_type": "markdown",
      "source": [
        "단일 시퀀스를 토큰화"
      ],
      "metadata": {
        "id": "Jj5lfZowKxeo"
      }
    },
    {
      "cell_type": "code",
      "source": [
        "sequence = \"I've been waiting for a HuggingFace course my whole life.\"\n",
        "\n",
        "model_inputs = tokenizer(sequence)"
      ],
      "metadata": {
        "id": "N3HAMZ8SKXbs"
      },
      "execution_count": 69,
      "outputs": []
    },
    {
      "cell_type": "markdown",
      "source": [
        "한 번에 여러 시퀀스를 처리"
      ],
      "metadata": {
        "id": "-9wGT_WRKzuH"
      }
    },
    {
      "cell_type": "code",
      "source": [
        "sequences = [\"I've been waiting for a HuggingFace course my whole life.\", \"So have I!\"]\n",
        "\n",
        "model_inputs = tokenizer(sequences)"
      ],
      "metadata": {
        "id": "5Xl5V1fzKYYr"
      },
      "execution_count": 70,
      "outputs": []
    },
    {
      "cell_type": "markdown",
      "source": [
        "여러 가지 목적에 따라 패딩할 수 있음."
      ],
      "metadata": {
        "id": "-pv-LUHxK6Dl"
      }
    },
    {
      "cell_type": "code",
      "source": [
        "# Will pad the sequences up to the maximum sequence length\n",
        "model_inputs = tokenizer(sequences, padding=\"longest\")\n",
        "\n",
        "# Will pad the sequences up to the model max length\n",
        "# (512 for BERT or DistilBERT)\n",
        "model_inputs = tokenizer(sequences, padding=\"max_length\")\n",
        "\n",
        "# Will pad the sequences up to the specified max length\n",
        "model_inputs = tokenizer(sequences, padding=\"max_length\", max_length=8)"
      ],
      "metadata": {
        "id": "Yu3fGEr5KZOD"
      },
      "execution_count": 71,
      "outputs": []
    },
    {
      "cell_type": "markdown",
      "source": [
        "시퀀스를 자를 수도 있음."
      ],
      "metadata": {
        "id": "_HWWl_AqLB2B"
      }
    },
    {
      "cell_type": "code",
      "source": [
        "sequences = [\"I've been waiting for a HuggingFace course my whole life.\", \"So have I!\"]\n",
        "\n",
        "# Will truncate the sequences that are longer than the model max length\n",
        "# (512 for BERT or DistilBERT)\n",
        "model_inputs = tokenizer(sequences, truncation=True)\n",
        "\n",
        "# Will truncate the sequences that are longer than the specified max length\n",
        "model_inputs = tokenizer(sequences, max_length=8, truncation=True)"
      ],
      "metadata": {
        "id": "2iKv8nGZKafg"
      },
      "execution_count": 72,
      "outputs": []
    },
    {
      "cell_type": "markdown",
      "source": [
        "객체 tokenizer는 특정 프레임워크 텐서로의 변환을 처리할 수 있으며, 그런 다음 이를 모델로 직접 보낼 수 있음."
      ],
      "metadata": {
        "id": "-yKfBUd2LGLH"
      }
    },
    {
      "cell_type": "code",
      "source": [
        "sequences = [\"I've been waiting for a HuggingFace course my whole life.\", \"So have I!\"]\n",
        "\n",
        "# Returns PyTorch tensors\n",
        "model_inputs = tokenizer(sequences, padding=True, return_tensors=\"pt\")\n",
        "\n",
        "# Returns TensorFlow tensors\n",
        "model_inputs = tokenizer(sequences, padding=True, return_tensors=\"tf\")\n",
        "\n",
        "# Returns NumPy arrays\n",
        "model_inputs = tokenizer(sequences, padding=True, return_tensors=\"np\")"
      ],
      "metadata": {
        "id": "1O1_fTqJKbi-"
      },
      "execution_count": 73,
      "outputs": []
    },
    {
      "cell_type": "markdown",
      "source": [
        "#### 📌 특수 토큰"
      ],
      "metadata": {
        "id": "sMkqPjfzLMzl"
      }
    },
    {
      "cell_type": "markdown",
      "source": [
        "토큰 ID는 처음에 하나, 끝에 하나가 추가"
      ],
      "metadata": {
        "id": "6i02HeQiLVRA"
      }
    },
    {
      "cell_type": "code",
      "source": [
        "sequence = \"I've been waiting for a HuggingFace course my whole life.\"\n",
        "\n",
        "model_inputs = tokenizer(sequence)\n",
        "print(model_inputs[\"input_ids\"])\n",
        "\n",
        "tokens = tokenizer.tokenize(sequence)\n",
        "ids = tokenizer.convert_tokens_to_ids(tokens)\n",
        "print(ids)"
      ],
      "metadata": {
        "colab": {
          "base_uri": "https://localhost:8080/"
        },
        "id": "Bww2AzSaKcvi",
        "outputId": "53574c55-2c73-4343-a9de-9ae9d2a2807c"
      },
      "execution_count": 74,
      "outputs": [
        {
          "output_type": "stream",
          "name": "stdout",
          "text": [
            "[101, 1045, 1005, 2310, 2042, 3403, 2005, 1037, 17662, 12172, 2607, 2026, 2878, 2166, 1012, 102]\n",
            "[1045, 1005, 2310, 2042, 3403, 2005, 1037, 17662, 12172, 2607, 2026, 2878, 2166, 1012]\n"
          ]
        }
      ]
    },
    {
      "cell_type": "markdown",
      "source": [
        "토크나이저는 시작 부분에 특수 단어[CLS]를 추가 하고 끝에 [SEP]특수 단어를 추가"
      ],
      "metadata": {
        "id": "y2fZ65QeLaC_"
      }
    },
    {
      "cell_type": "markdown",
      "source": [
        "이는 모델이 이러한 항목으로 사전 학습되었기 때문에 동일한 추론 결과를 얻으려면 해당 항목도 추가해야 하기 때문"
      ],
      "metadata": {
        "id": "k7E5t9fZLu07"
      }
    },
    {
      "cell_type": "code",
      "source": [
        "print(tokenizer.decode(model_inputs[\"input_ids\"]))\n",
        "print(tokenizer.decode(ids))"
      ],
      "metadata": {
        "colab": {
          "base_uri": "https://localhost:8080/"
        },
        "id": "dzNoRcM0Kd5w",
        "outputId": "4360d04a-e92c-43e5-a730-9dbab737c026"
      },
      "execution_count": 75,
      "outputs": [
        {
          "output_type": "stream",
          "name": "stdout",
          "text": [
            "[CLS] i've been waiting for a huggingface course my whole life. [SEP]\n",
            "i've been waiting for a huggingface course my whole life.\n"
          ]
        }
      ]
    },
    {
      "cell_type": "markdown",
      "source": [
        "#### 📌 Wrapping up: From tokenizer to model"
      ],
      "metadata": {
        "id": "tYYbw4jQL1iH"
      }
    },
    {
      "cell_type": "code",
      "source": [
        "import torch\n",
        "from transformers import AutoTokenizer, AutoModelForSequenceClassification\n",
        "\n",
        "checkpoint = \"distilbert-base-uncased-finetuned-sst-2-english\"\n",
        "tokenizer = AutoTokenizer.from_pretrained(checkpoint)\n",
        "model = AutoModelForSequenceClassification.from_pretrained(checkpoint)\n",
        "sequences = [\"I've been waiting for a HuggingFace course my whole life.\", \"So have I!\"]\n",
        "\n",
        "tokens = tokenizer(sequences, padding=True, truncation=True, return_tensors=\"pt\")\n",
        "output = model(**tokens)"
      ],
      "metadata": {
        "id": "i8DbX2FOKe75"
      },
      "execution_count": 76,
      "outputs": []
    }
  ]
}